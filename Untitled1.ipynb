{
 "cells": [
  {
   "cell_type": "code",
   "execution_count": null,
   "metadata": {},
   "outputs": [],
   "source": [
    "for key in upload_keys:\n",
    "    os.environ[\"s3_key\"] = \"s3://wri-public-data/\" + key\n",
    "    os.environ[\"gs_key\"] = \"gs://resource-watch-public/resourcewatch/raster/\" + key.split(\"/\")[-2] + \"/\" + key.split(\"/\")[-1]\n",
    "    !gsutil cp $s3_key $gs_key"
   ]
  }
 ],
 "metadata": {
  "kernelspec": {
   "display_name": "Python 3",
   "language": "python",
   "name": "python3"
  },
  "language_info": {
   "codemirror_mode": {
    "name": "ipython",
    "version": 3
   },
   "file_extension": ".py",
   "mimetype": "text/x-python",
   "name": "python",
   "nbconvert_exporter": "python",
   "pygments_lexer": "ipython3",
   "version": "3.6.2"
  }
 },
 "nbformat": 4,
 "nbformat_minor": 2
}
