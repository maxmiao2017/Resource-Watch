{
 "cells": [
  {
   "cell_type": "markdown",
   "metadata": {},
   "source": [
    "Threat to Coral Reef from Fishing Practices\tbio.024.4 http://www.wri.org/publication/reefs-risk-revisited"
   ]
  },
  {
   "cell_type": "code",
   "execution_count": 13,
   "metadata": {
    "collapsed": true
   },
   "outputs": [],
   "source": [
    "import numpy as np\n",
    "import pandas as pd\n",
    "import rasterio\n",
    "\n",
    "import boto3\n",
    "import requests as req\n",
    "\n",
    "from matplotlib import pyplot as plt\n",
    "%matplotlib inline\n",
    "import os\n",
    "import sys\n",
    "import threading"
   ]
  },
  {
   "cell_type": "markdown",
   "metadata": {},
   "source": [
    "If data already on s3, create a staging key and download to staging folder"
   ]
  },
  {
   "cell_type": "code",
   "execution_count": 14,
   "metadata": {},
   "outputs": [],
   "source": [
    "s3_bucket = \"wri-public-data\"\n",
    "s3_folder = \"resourcewatch/bio_024_4_coral_reef_threat_from_fishing_practices/\"\n",
    "s3_key_orig = s3_folder + \"bio_024_4_coral_reef_threat_from_fishing_practices.tif\"\n",
    "s3_key_edit = s3_key_orig[0:-4] + \"_edit.tif\"\n",
    "\n",
    "temp_folder = \"/Users/nathansuberi/Desktop/WRI_Programming/RW_Data/temp/\"\n",
    "local_orig = temp_folder + \"bio_024_4.tif\"\n",
    "local_edit = local_orig[:-4] + \"_edit.tif\"\n",
    "\n",
    "s3 = boto3.resource('s3')\n",
    "s3.meta.client.download_file(s3_bucket, s3_key_orig, local_orig)\n",
    "#s3.meta.client.download_file(s3_bucket, s3_key_edit, local_edit)"
   ]
  },
  {
   "cell_type": "markdown",
   "metadata": {},
   "source": [
    "<b>Regardless of any needed edits, upload original file</b>\n",
    "\n",
    "<i>Upload tif to S3 folder</i>\n",
    "\n",
    "http://boto3.readthedocs.io/en/latest/guide/s3-example-creating-buckets.html\n",
    "\n",
    "<i>Monitor Progress of Upload</i>\n",
    "\n",
    "http://boto3.readthedocs.io/en/latest/_modules/boto3/s3/transfer.html\n",
    "https://boto3.readthedocs.io/en/latest/guide/s3.html#using-the-transfer-manager"
   ]
  },
  {
   "cell_type": "code",
   "execution_count": 15,
   "metadata": {
    "collapsed": true
   },
   "outputs": [],
   "source": [
    "s3 = boto3.client(\"s3\")\n",
    "\n",
    "class ProgressPercentage(object):\n",
    "        def __init__(self, filename):\n",
    "            self._filename = filename\n",
    "            self._size = float(os.path.getsize(filename))\n",
    "            self._seen_so_far = 0\n",
    "            self._lock = threading.Lock()\n",
    "\n",
    "        def __call__(self, bytes_amount):\n",
    "            # To simplify we'll assume this is hooked up\n",
    "            # to a single filename.\n",
    "            with self._lock:\n",
    "                self._seen_so_far += bytes_amount\n",
    "                percentage = (self._seen_so_far / self._size) * 100\n",
    "                sys.stdout.write(\n",
    "                    \"\\r%s  %s / %s  (%.2f%%)\" % (\n",
    "                        self._filename, self._seen_so_far, self._size,\n",
    "                        percentage))\n",
    "                sys.stdout.flush()"
   ]
  },
  {
   "cell_type": "code",
   "execution_count": 8,
   "metadata": {},
   "outputs": [
    {
     "name": "stdout",
     "output_type": "stream",
     "text": [
      "/Users/nathansuberi/Desktop/WRI_Programming/RW_Data/Biodiversity/rf_ovf_adj1.tif  55644385 / 55644385.0  (100.00%)"
     ]
    }
   ],
   "source": [
    "# Defined above:\n",
    "# s3_bucket\n",
    "# s3_key_orig\n",
    "# s3_key_edit\n",
    "# staging_key_orig\n",
    "# staging_key_edit\n",
    "\n",
    "s3.upload_file(local_key, s3_bucket, s3_key_orig,\n",
    "                         Callback=ProgressPercentage(local_key))"
   ]
  },
  {
   "cell_type": "markdown",
   "metadata": {},
   "source": [
    "Check for compression, projection\n",
    "\n",
    "Create edit file if necessary"
   ]
  },
  {
   "cell_type": "code",
   "execution_count": 16,
   "metadata": {},
   "outputs": [
    {
     "name": "stdout",
     "output_type": "stream",
     "text": [
      "{'driver': 'GTiff', 'dtype': 'int16', 'nodata': -32768.0, 'width': 80150, 'height': 25456, 'count': 1, 'crs': CRS({'proj': 'cea', 'lon_0': -160, 'lat_ts': 0, 'x_0': 0, 'y_0': 0, 'datum': 'WGS84', 'units': 'm', 'no_defs': True}), 'transform': (-20037508.342787746, 500.0, 0.0, 6364114.668074458, 0.0, -500.0), 'affine': Affine(500.0, 0.0, -20037508.342787746,\n",
      "       0.0, -500.0, 6364114.668074458), 'blockxsize': 128, 'blockysize': 128, 'tiled': True, 'compress': 'lzw', 'interleave': 'band'}\n"
     ]
    }
   ],
   "source": [
    "with rasterio.open(local_orig) as src:\n",
    "    print(src.profile)"
   ]
  },
  {
   "cell_type": "code",
   "execution_count": 39,
   "metadata": {},
   "outputs": [],
   "source": [
    "local_edit_tb = local_edit[:-4] + \"_tb.tif\"\n",
    "local_edit_t = local_edit[:-4] + \"_t.tif\"\n",
    "local_edit_b = local_edit[:-4] + \"_b.tif\"\n",
    "\n",
    "with rasterio.open(local_orig) as src:\n",
    "    \n",
    "    data = src.read(1)\n",
    "    \n",
    "    # Return lat info\n",
    "    south_lat = -90\n",
    "    north_lat = 90\n",
    "    # Return lon info\n",
    "    west_lon = -180\n",
    "    east_lon = 180\n",
    "    # Transformation function\n",
    "    transform = rasterio.transform.from_bounds(west_lon, south_lat, east_lon, north_lat, data.shape[1], data.shape[0])\n",
    "    # Profile\n",
    "    \n",
    "    kwargs = src.profile\n",
    "    kwargs.update(\n",
    "        driver = 'GTiff', \n",
    "        dtype = rasterio.int16, \n",
    "        crs = 'EPSG:4326', \n",
    "        compress = 'lzw', \n",
    "        nodata = -9999,\n",
    "        transform = transform,\n",
    "    )\n",
    "    kwargs_tiled_blocked = dict(kwargs)\n",
    "    \n",
    "    kwargs[\"tiled\"] = False\n",
    "    kwargs_blocked = dict(kwargs)\n",
    "    \n",
    "    kwargs.pop(\"blockxsize\", None)\n",
    "    kwargs.pop(\"blockysize\", None)\n",
    "    \n",
    "    kwargs_no_tile_no_block = dict(kwargs)\n",
    "    \n",
    "    kwargs[\"tiled\"] = True\n",
    "    kwargs_tiled = dict(kwargs)\n",
    "    \n",
    "    np.putmask(data, data==-32768, -9999)\n",
    "\n",
    "    with rasterio.open(local_edit_tb, 'w', **kwargs_tiled_blocked) as dst:\n",
    "        dst.write(data.astype(kwargs['dtype']), 1)\n",
    "    with rasterio.open(local_edit_t, 'w', **kwargs_tiled) as dst:\n",
    "        dst.write(data.astype(kwargs['dtype']), 1)\n",
    "    with rasterio.open(local_edit_b, 'w', **kwargs_blocked) as dst:\n",
    "        dst.write(data.astype(kwargs['dtype']), 1)\n",
    "    with rasterio.open(local_edit, 'w', **kwargs_no_tile_no_block) as dst:\n",
    "        dst.write(data.astype(kwargs['dtype']), 1)\n",
    "    \n"
   ]
  },
  {
   "cell_type": "code",
   "execution_count": 24,
   "metadata": {},
   "outputs": [
    {
     "data": {
      "text/plain": [
       "'/Users/nathansuberi/Desktop/WRI_Programming/RW_Data/temp/bio_024_4_edit.tif'"
      ]
     },
     "execution_count": 24,
     "metadata": {},
     "output_type": "execute_result"
    }
   ],
   "source": [
    "local_edit"
   ]
  },
  {
   "cell_type": "code",
   "execution_count": 41,
   "metadata": {},
   "outputs": [
    {
     "name": "stdout",
     "output_type": "stream",
     "text": [
      "{'driver': 'GTiff', 'dtype': 'int16', 'nodata': -9999.0, 'width': 80150, 'height': 25456, 'count': 1, 'crs': CRS({'init': 'epsg:4326'}), 'transform': (-180.0, 0.004491578290704928, 0.0, 90.0, 0.0, -0.007071024512884978), 'affine': Affine(0.004491578290704928, 0.0, -180.0,\n",
      "       0.0, -0.007071024512884978, 90.0), 'compress': 'lzw', 'interleave': 'band', 'tiled': False}\n",
      "((0, 1), (0, 80150))\n"
     ]
    }
   ],
   "source": [
    "with rasterio.open(local_edit) as src:\n",
    "    print(src.profile)\n",
    "    windows = src.block_windows()\n",
    "    for ix, window in windows:\n",
    "        print(window)\n",
    "        break"
   ]
  },
  {
   "cell_type": "code",
   "execution_count": 42,
   "metadata": {},
   "outputs": [
    {
     "name": "stdout",
     "output_type": "stream",
     "text": [
      "{'driver': 'GTiff', 'dtype': 'int16', 'nodata': -9999.0, 'width': 80150, 'height': 25456, 'count': 1, 'crs': CRS({'init': 'epsg:4326'}), 'transform': (-180.0, 0.004491578290704928, 0.0, 90.0, 0.0, -0.007071024512884978), 'affine': Affine(0.004491578290704928, 0.0, -180.0,\n",
      "       0.0, -0.007071024512884978, 90.0), 'compress': 'lzw', 'interleave': 'band', 'tiled': True, 'blockxsize': 256, 'blockysize': 256}\n",
      "((0, 256), (0, 256))\n"
     ]
    }
   ],
   "source": [
    "with rasterio.open(local_edit_t) as src:\n",
    "    print(src.profile)\n",
    "    windows = src.block_windows()\n",
    "    for ix, window in windows:\n",
    "        print(window)\n",
    "        break"
   ]
  },
  {
   "cell_type": "code",
   "execution_count": 43,
   "metadata": {},
   "outputs": [
    {
     "name": "stdout",
     "output_type": "stream",
     "text": [
      "{'driver': 'GTiff', 'dtype': 'int16', 'nodata': -9999.0, 'width': 80150, 'height': 25456, 'count': 1, 'crs': CRS({'init': 'epsg:4326'}), 'transform': (-180.0, 0.004491578290704928, 0.0, 90.0, 0.0, -0.007071024512884978), 'affine': Affine(0.004491578290704928, 0.0, -180.0,\n",
      "       0.0, -0.007071024512884978, 90.0), 'blockxsize': '128', 'blockysize': '128', 'compress': 'lzw', 'interleave': 'band', 'tiled': False}\n",
      "((0, 128), (0, 80150))\n"
     ]
    }
   ],
   "source": [
    "with rasterio.open(local_edit_b) as src:\n",
    "    print(src.profile)\n",
    "    windows = src.block_windows()\n",
    "    for ix, window in windows:\n",
    "        print(window)\n",
    "        break"
   ]
  },
  {
   "cell_type": "code",
   "execution_count": 44,
   "metadata": {},
   "outputs": [
    {
     "name": "stdout",
     "output_type": "stream",
     "text": [
      "{'driver': 'GTiff', 'dtype': 'int16', 'nodata': -9999.0, 'width': 80150, 'height': 25456, 'count': 1, 'crs': CRS({'init': 'epsg:4326'}), 'transform': (-180.0, 0.004491578290704928, 0.0, 90.0, 0.0, -0.007071024512884978), 'affine': Affine(0.004491578290704928, 0.0, -180.0,\n",
      "       0.0, -0.007071024512884978, 90.0), 'blockxsize': 128, 'blockysize': 128, 'compress': 'lzw', 'interleave': 'band', 'tiled': True}\n",
      "((0, 128), (0, 128))\n"
     ]
    }
   ],
   "source": [
    "with rasterio.open(local_edit_tb) as src:\n",
    "    print(src.profile)\n",
    "    windows = src.block_windows()\n",
    "    for ix, window in windows:\n",
    "        print(window)\n",
    "        break"
   ]
  },
  {
   "cell_type": "markdown",
   "metadata": {},
   "source": [
    "Upload edited files to S3"
   ]
  },
  {
   "cell_type": "code",
   "execution_count": 40,
   "metadata": {},
   "outputs": [
    {
     "name": "stdout",
     "output_type": "stream",
     "text": [
      "/Users/nathansuberi/Desktop/WRI_Programming/RW_Data/temp/bio_024_4_edit_tb.tif  54658774 / 54658774.0  (100.00%)"
     ]
    }
   ],
   "source": [
    "# Defined above:\n",
    "# s3_bucket\n",
    "# s3_key_orig\n",
    "# s3_key_edit\n",
    "# staging_key_orig\n",
    "# staging_key_edit\n",
    "\n",
    "s3_key_edit_t = s3_key_edit[:-4] + \"_t.tif\"\n",
    "s3_key_edit_b = s3_key_edit[:-4] + \"_b.tif\"\n",
    "s3_key_edit_tb = s3_key_edit[:-4] + \"_tb.tif\"\n",
    "\n",
    "s3.upload_file(local_edit, s3_bucket, s3_key_edit,\n",
    "                         Callback=ProgressPercentage(local_edit))\n",
    "s3.upload_file(local_edit_t, s3_bucket, s3_key_edit_t,\n",
    "                         Callback=ProgressPercentage(local_edit_t))\n",
    "s3.upload_file(local_edit_b, s3_bucket, s3_key_edit_b,\n",
    "                         Callback=ProgressPercentage(local_edit_b))\n",
    "s3.upload_file(local_edit_tb, s3_bucket, s3_key_edit_tb,\n",
    "                         Callback=ProgressPercentage(local_edit_tb))"
   ]
  },
  {
   "cell_type": "code",
   "execution_count": 22,
   "metadata": {},
   "outputs": [
    {
     "data": {
      "text/plain": [
       "'resourcewatch/bio_024_4_coral_reef_threat_from_fishing_practices/bio_024_4_coral_reef_threat_from_fishing_practices_edit.tif'"
      ]
     },
     "execution_count": 22,
     "metadata": {},
     "output_type": "execute_result"
    }
   ],
   "source": [
    "s3_key_edit"
   ]
  },
  {
   "cell_type": "markdown",
   "metadata": {},
   "source": [
    "Layer definition\n",
    "\n",
    "https://github.com/resource-watch/notebooks/blob/master/ResourceWatch/Api_definition/layer_definition.ipynb"
   ]
  },
  {
   "cell_type": "code",
   "execution_count": null,
   "metadata": {
    "collapsed": true
   },
   "outputs": [],
   "source": []
  },
  {
   "cell_type": "markdown",
   "metadata": {},
   "source": [
    "Upload to server destination"
   ]
  },
  {
   "cell_type": "code",
   "execution_count": null,
   "metadata": {
    "collapsed": true
   },
   "outputs": [],
   "source": [
    "# Too big for ArcGIS Online to upload using their web interface... 1 GB limit"
   ]
  }
 ],
 "metadata": {
  "kernelspec": {
   "display_name": "Python 3",
   "language": "python",
   "name": "python3"
  },
  "language_info": {
   "codemirror_mode": {
    "name": "ipython",
    "version": 3
   },
   "file_extension": ".py",
   "mimetype": "text/x-python",
   "name": "python",
   "nbconvert_exporter": "python",
   "pygments_lexer": "ipython3",
   "version": "3.6.2"
  }
 },
 "nbformat": 4,
 "nbformat_minor": 2
}
