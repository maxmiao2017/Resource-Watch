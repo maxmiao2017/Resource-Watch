{
 "cells": [
  {
   "cell_type": "code",
   "execution_count": 129,
   "metadata": {
    "collapsed": false
   },
   "outputs": [],
   "source": [
    "# Libraries for downloading data from FTP\n",
    "import shutil\n",
    "import urllib.request as req\n",
    "from contextlib import closing\n",
    "\n",
    "# Library for uploading data to S3\n",
    "import boto3\n",
    "\n",
    "# Libraries for handling data\n",
    "import rasterio as rio\n",
    "import pandas as pd\n",
    "import numpy as np\n",
    "\n",
    "# Libraries for various helper functions\n",
    "from datetime import datetime\n",
    "import os\n",
    "import threading\n",
    "import sys"
   ]
  },
  {
   "cell_type": "markdown",
   "metadata": {},
   "source": [
    "cli.005 https://nsidc.org/data/docs/noaa/g02135_seaice_index/#text_summary\n",
    "SRC: ftp://sidads.colorado.edu/DATASETS/NOAA/G02135/north/monthly/geotiff/01_Jan (etc)\n",
    "files look like: N_197901_concentration_v2.1.tif, N_197901_extent_v2.1.tif\n",
    "from Jan 1979\n",
    "File type: tif\n",
    "North Polar Projection\n",
    "\n",
    "cli.006 https://nsidc.org/data/docs/noaa/g02135_seaice_index/#text_summary\n",
    "SRC: ftp://sidads.colorado.edu/DATASETS/NOAA/G02135/south/monthly/geotiff/01_Jan (etc)\n",
    "files look like: S_197901_concentration_v2.1.tif\n",
    "from Jan 1979\n",
    "File type: tif\n",
    "Antarctic Projection"
   ]
  },
  {
   "cell_type": "code",
   "execution_count": null,
   "metadata": {
    "collapsed": true
   },
   "outputs": [],
   "source": [
    "## Need to know - how often do they update?\n",
    "\n",
    "# This could run every day... there won't necessarily be anything to add\n",
    "# In that case perhaps it should return an error to some console\n",
    "# It would be nice for RW staff to see what has been updated\n",
    "# And what updates were attempted but found nothing new\n"
   ]
  },
  {
   "cell_type": "code",
   "execution_count": 116,
   "metadata": {
    "collapsed": true
   },
   "outputs": [
    {
     "data": {
      "text/plain": [
       "[b'drwxrwxr-x   14 500        9474               14 Apr 21 12:04 .',\n",
       " b'drwxrwxr-x    6 500        9474                6 Apr 21 12:04 ..',\n",
       " b'drwxr-sr-x    2 500        9474               78 Sep  1 08:20 01_Jan',\n",
       " b'drwxr-sr-x    2 500        9474               80 Sep  1 08:20 02_Feb',\n",
       " b'drwxrwxr-x    2 500        9474               80 Sep  1 08:20 03_Mar',\n",
       " b'drwxr-sr-x    2 500        9474               80 Sep  1 08:20 04_Apr',\n",
       " b'drwxr-sr-x    2 500        9474               80 Sep  1 08:20 05_May',\n",
       " b'drwxr-sr-x    2 500        9474               80 Sep  1 08:20 06_Jun',\n",
       " b'drwxr-sr-x    2 500        9474               80 Sep  1 08:20 07_Jul',\n",
       " b'drwxr-sr-x    2 500        9474               80 Sep  1 08:20 08_Aug',\n",
       " b'drwxr-sr-x    2 500        9474               78 Sep  1 08:21 09_Sep',\n",
       " b'drwxr-sr-x    2 500        9474               78 Sep  1 08:21 10_Oct',\n",
       " b'drwxr-sr-x    2 500        9474               80 Sep  1 08:21 11_Nov',\n",
       " b'drwxr-sr-x    2 500        9474               78 Sep  1 08:21 12_Dec']"
      ]
     },
     "execution_count": 116,
     "metadata": {},
     "output_type": "execute_result"
    }
   ],
   "source": [
    "# Directions for how to read contents of an FTP directory\n",
    "# https://stackoverflow.com/questions/2289768/python-and-urllib\n",
    "remote_path_north = \"ftp://sidads.colorado.edu/DATASETS/NOAA/G02135/north/monthly/geotiff/\"\n",
    "remote_path_south = \"ftp://sidads.colorado.edu/DATASETS/NOAA/G02135/south/monthly/geotiff/\"\n",
    "file = req.urlopen(remote_path_north).read().splitlines()\n",
    "file"
   ]
  },
  {
   "cell_type": "code",
   "execution_count": 117,
   "metadata": {
    "collapsed": false
   },
   "outputs": [],
   "source": [
    "def format_month(mon):\n",
    "    if mon < 10:\n",
    "        return(\"0\" + str(mon))\n",
    "    else:\n",
    "        return(str(mon))\n",
    "\n",
    "now = datetime.now()\n",
    "year = str(now.year)\n",
    "month = format_month(now.month-1)\n",
    "\n",
    "def create_most_recent_file(year, month, north_or_south=\"N\"):\n",
    "    # file_type in [extent, concentration]\n",
    "    months = [\"Jan\", \"Feb\", \"Mar\", \"Apr\", \"May\", \"Jun\", \n",
    "              \"Jul\", \"Aug\", \"Sep\", \"Oct\", \"Nov\", \"Dec\"]\n",
    "\n",
    "    return(\"{}_{}/{}_{}{}_extent_v2.1.tif\".format(month,months[int(month)-1],north_or_south, year, month))\n",
    "\n",
    "arctic_file = create_most_recent_file(year, month, \"N\")\n",
    "antarctic_file = create_most_recent_file(year, month, \"S\")"
   ]
  },
  {
   "cell_type": "code",
   "execution_count": 118,
   "metadata": {
    "collapsed": false
   },
   "outputs": [
    {
     "data": {
      "text/plain": [
       "'08_Aug/S_201708_extent_v2.1.tif'"
      ]
     },
     "execution_count": 118,
     "metadata": {},
     "output_type": "execute_result"
    }
   ],
   "source": [
    "antarctic_file"
   ]
  },
  {
   "cell_type": "code",
   "execution_count": 119,
   "metadata": {
    "collapsed": false
   },
   "outputs": [
    {
     "name": "stdout",
     "output_type": "stream",
     "text": [
      "ftp://sidads.colorado.edu/DATASETS/NOAA/G02135/north/monthly/geotiff/08_Aug/N_201708_extent_v2.1.tif\n",
      "ftp://sidads.colorado.edu/DATASETS/NOAA/G02135/south/monthly/geotiff/08_Aug/S_201708_extent_v2.1.tif\n"
     ]
    }
   ],
   "source": [
    "ftp_arctic = remote_path_north+arctic_file\n",
    "ftp_antarctic = remote_path_south+antarctic_file\n",
    "print(ftp_arctic)\n",
    "print(ftp_antarctic)\n",
    "\n",
    "local_folder = \"/Users/nathansuberi/Desktop/RW_Data/Rasters/Polar_Sea_Ice/\"\n",
    "# Use 7: to not include the month's folder in the local file name\n",
    "arctic_file_name = arctic_file[7:]\n",
    "antarctic_file_name = antarctic_file[7:]\n",
    "\n",
    "local_arctic = local_folder+arctic_file_name\n",
    "local_antarctic = local_folder+antarctic_file_name\n",
    "\n",
    "local_arctic_edit = local_arctic[:-4] + \"_edit.tif\"\n",
    "local_antarctic_edit = local_antarctic[:-4] + \"_edit.tif\"\n",
    "\n",
    "with closing(req.urlopen(ftp_arctic)) as r:\n",
    "    with open(local_arctic, 'wb') as f:\n",
    "        shutil.copyfileobj(r, f)\n",
    "         \n",
    "with closing(req.urlopen(ftp_antarctic)) as r:\n",
    "    with open(local_antarctic, 'wb') as f:\n",
    "        shutil.copyfileobj(r, f)"
   ]
  },
  {
   "cell_type": "code",
   "execution_count": 131,
   "metadata": {
    "collapsed": false
   },
   "outputs": [
    {
     "name": "stdout",
     "output_type": "stream",
     "text": [
      "{'driver': 'GTiff', 'dtype': 'uint8', 'nodata': None, 'width': 304, 'height': 448, 'count': 1, 'crs': CRS({'init': 'epsg:3411'}), 'transform': (-3850000.0, 25000.0, 0.0, 5850000.0, 0.0, -25000.0), 'affine': Affine(25000.0, 0.0, -3850000.0,\n",
      "       0.0, -25000.0, 5850000.0), 'tiled': False, 'interleave': 'band'}\n",
      "{'driver': 'GTiff', 'dtype': 'uint8', 'nodata': None, 'width': 316, 'height': 332, 'count': 1, 'crs': CRS({'init': 'epsg:3412'}), 'transform': (-3950000.0, 25000.0, 0.0, 4350000.0, 0.0, -25000.0), 'affine': Affine(25000.0, 0.0, -3950000.0,\n",
      "       0.0, -25000.0, 4350000.0), 'tiled': False, 'interleave': 'band'}\n"
     ]
    },
    {
     "name": "stderr",
     "output_type": "stream",
     "text": [
      "/Users/nathansuberi/.pyenv/versions/3.6.0/lib/python3.6/site-packages/rasterio/__init__.py:160: FutureWarning: GDAL-style transforms are deprecated and will not be supported in Rasterio 1.0.\n",
      "  transform = guard_transform(transform)\n"
     ]
    }
   ],
   "source": [
    "with rio.open(local_arctic) as src:\n",
    "    pro = src.profile\n",
    "    print(pro)\n",
    "    data = src.read()\n",
    "    \n",
    "    pro.update(\n",
    "        compress = \"lzw\",\n",
    "        crs = \"EPSG:4326\"\n",
    "    )\n",
    "    \n",
    "    with rio.open(local_arctic_edit, 'w', **pro) as dst:\n",
    "        dst.write(data)\n",
    "        \n",
    "        \n",
    "with rio.open(local_antarctic) as src:\n",
    "    pro = src.profile\n",
    "    print(pro)\n",
    "    data = src.read()\n",
    "    \n",
    "    pro.update(\n",
    "        compress = \"lzw\",\n",
    "        crs = \"EPSG:4326\"\n",
    "    )\n",
    "    \n",
    "    with rio.open(local_antarctic_edit, 'w', **pro) as dst:\n",
    "        dst.write(data)"
   ]
  },
  {
   "cell_type": "code",
   "execution_count": 121,
   "metadata": {
    "collapsed": false
   },
   "outputs": [
    {
     "name": "stdout",
     "output_type": "stream",
     "text": [
      "{'driver': 'GTiff', 'dtype': 'uint8', 'nodata': None, 'width': 304, 'height': 448, 'count': 1, 'crs': CRS({'init': 'epsg:4326'}), 'transform': (-3850000.0, 25000.0, 0.0, 5850000.0, 0.0, -25000.0), 'affine': Affine(25000.0, 0.0, -3850000.0,\n",
      "       0.0, -25000.0, 5850000.0), 'compress': 'lzw', 'interleave': 'band', 'tiled': False}\n",
      "{'driver': 'GTiff', 'dtype': 'uint8', 'nodata': None, 'width': 316, 'height': 332, 'count': 1, 'crs': CRS({'init': 'epsg:4326'}), 'transform': (-3950000.0, 25000.0, 0.0, 4350000.0, 0.0, -25000.0), 'affine': Affine(25000.0, 0.0, -3950000.0,\n",
      "       0.0, -25000.0, 4350000.0), 'compress': 'lzw', 'interleave': 'band', 'tiled': False}\n"
     ]
    }
   ],
   "source": [
    "with rio.open(local_arctic_edit) as src:\n",
    "    pro = src.profile\n",
    "    print(pro)\n",
    "    \n",
    "with rio.open(local_antarctic_edit) as src:\n",
    "    pro = src.profile\n",
    "    print(pro)"
   ]
  },
  {
   "cell_type": "code",
   "execution_count": 127,
   "metadata": {
    "collapsed": true
   },
   "outputs": [],
   "source": [
    "### NOTE = THIS WILL KEEP REPLACING THE FILE WITH THE NEWEST VERSION\n",
    "\n",
    "# S3 destinations\n",
    "s3_bucket = \"wri-public-data\"\n",
    "s3_folder = \"resourcewatch/raster/\"\n",
    "\n",
    "s3_file_antarctic = \"cli_005_antarctic_sea_ice_extent.tif\"\n",
    "s3_key_antarctic_orig = s3_folder + s3_file_antarctic\n",
    "s3_key_antarctic_edit = s3_key_antarctic_orig[:-4] + \"_edit.tif\"\n",
    "\n",
    "s3_file_arctic = \"cli_006_arctic_sea_ice_extent.tif\"\n",
    "s3_key_arctic_orig = s3_folder + s3_file_arctic\n",
    "s3_key_arctic_edit = s3_key_arctic_orig[:-4] + \"_edit.tif\"\n",
    "\n",
    "# S3 services\n",
    "s3_download = boto3.resource(\"s3\")\n",
    "s3_upload = boto3.client(\"s3\")\n",
    "\n",
    "# Helper function to view upload progress\n",
    "class ProgressPercentage(object):\n",
    "        def __init__(self, filename):\n",
    "            self._filename = filename\n",
    "            self._size = float(os.path.getsize(filename))\n",
    "            self._seen_so_far = 0\n",
    "            self._lock = threading.Lock()\n",
    "\n",
    "        def __call__(self, bytes_amount):\n",
    "            # To simplify we'll assume this is hooked up\n",
    "            # to a single filename.\n",
    "            with self._lock:\n",
    "                self._seen_so_far += bytes_amount\n",
    "                percentage = (self._seen_so_far / self._size) * 100\n",
    "                sys.stdout.write(\n",
    "                    \"\\r%s  %s / %s  (%.2f%%)\" % (\n",
    "                        self._filename, self._seen_so_far, self._size,\n",
    "                        percentage))\n",
    "                sys.stdout.flush()"
   ]
  },
  {
   "cell_type": "code",
   "execution_count": 130,
   "metadata": {
    "collapsed": false
   },
   "outputs": [
    {
     "name": "stdout",
     "output_type": "stream",
     "text": [
      "/Users/nathansuberi/Desktop/RW_Data/Rasters/Polar_Sea_Ice/S_201708_extent_v2.1_edit.tif  5005 / 5005.0  (100.00%)"
     ]
    }
   ],
   "source": [
    "# Originals\n",
    "s3_upload.upload_file(local_arctic, s3_bucket, s3_key_arctic_orig,\n",
    "                         Callback=ProgressPercentage(local_arctic))\n",
    "\n",
    "s3_upload.upload_file(local_antarctic, s3_bucket, s3_key_antarctic_orig,\n",
    "                         Callback=ProgressPercentage(local_antarctic))\n",
    "\n",
    "# Edits\n",
    "s3_upload.upload_file(local_arctic_edit, s3_bucket, s3_key_arctic_edit,\n",
    "                         Callback=ProgressPercentage(local_arctic_edit))\n",
    "\n",
    "s3_upload.upload_file(local_antarctic_edit, s3_bucket, s3_key_antarctic_edit,\n",
    "                         Callback=ProgressPercentage(local_antarctic_edit))"
   ]
  }
 ],
 "metadata": {
  "kernelspec": {
   "display_name": "Python 3",
   "language": "python",
   "name": "python3"
  },
  "language_info": {
   "codemirror_mode": {
    "name": "ipython",
    "version": 3
   },
   "file_extension": ".py",
   "mimetype": "text/x-python",
   "name": "python",
   "nbconvert_exporter": "python",
   "pygments_lexer": "ipython3",
   "version": "3.6.0"
  }
 },
 "nbformat": 4,
 "nbformat_minor": 2
}
