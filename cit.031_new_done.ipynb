{
 "cells": [
  {
   "cell_type": "markdown",
   "metadata": {},
   "source": [
    "Surface PM 2.5 Concentrations (Annual) cit.031\tDownload from http://fizz.phys.dal.ca/~atmos/martin/?page_id=140 under All Composition PM2.5 - 0.01° × 0.01° w GWR adjustment file  [.asc.zip] from 1998 - 2015\n",
    "\n",
    "Download to RW_Data/Rasters/cit_031_PM_2_5/ "
   ]
  },
  {
   "cell_type": "code",
   "execution_count": 2,
   "metadata": {},
   "outputs": [],
   "source": [
    "# Libraries for downloading data from remote server (may be ftp)\n",
    "import requests\n",
    "from urllib.request import urlopen\n",
    "from contextlib import closing\n",
    "import shutil\n",
    "\n",
    "# Library for uploading/downloading data to/from S3\n",
    "import boto3\n",
    "\n",
    "# Libraries for handling data\n",
    "import rasterio as rio\n",
    "import numpy as np\n",
    "# from netCDF4 import Dataset\n",
    "# import pandas as pd\n",
    "# import scipy\n",
    "\n",
    "# Libraries for various helper functions\n",
    "# from datetime import datetime\n",
    "import os\n",
    "import threading\n",
    "import sys\n",
    "from glob import glob"
   ]
  },
  {
   "cell_type": "markdown",
   "metadata": {},
   "source": [
    "s3"
   ]
  },
  {
   "cell_type": "code",
   "execution_count": 3,
   "metadata": {},
   "outputs": [],
   "source": [
    "s3_upload = boto3.client(\"s3\")\n",
    "s3_download = boto3.resource(\"s3\")\n",
    "\n",
    "s3_bucket = \"wri-public-data\"\n",
    "s3_folder = \"resourcewatch/raster/cit_031_PM_2_5/\"\n",
    "\n",
    "s3_file1 = \"cit_031_PM_2_5_2015.asc\"\n",
    "\n",
    "\n",
    "s3_key_orig1 = s3_folder + s3_file1\n",
    "s3_key_edit1 = s3_key_orig1[0:-4] + \"_edit.tif\"\n",
    "\n",
    "\n",
    "class ProgressPercentage(object):\n",
    "        def __init__(self, filename):\n",
    "            self._filename = filename\n",
    "            self._size = float(os.path.getsize(filename))\n",
    "            self._seen_so_far = 0\n",
    "            self._lock = threading.Lock()\n",
    "\n",
    "        def __call__(self, bytes_amount):\n",
    "            # To simplify we'll assume this is hooked up\n",
    "            # to a single filename.\n",
    "            with self._lock:\n",
    "                self._seen_so_far += bytes_amount\n",
    "                percentage = (self._seen_so_far / self._size) * 100\n",
    "                sys.stdout.write(\"\\r%s  %s / %s  (%.2f%%)\"%(\n",
    "                        self._filename, self._seen_so_far, self._size,\n",
    "                        percentage))\n",
    "                sys.stdout.flush()"
   ]
  },
  {
   "cell_type": "markdown",
   "metadata": {},
   "source": [
    "Define local file locations"
   ]
  },
  {
   "cell_type": "code",
   "execution_count": 4,
   "metadata": {},
   "outputs": [],
   "source": [
    "local_folder = \"/Users/Max81007/Desktop/Python/Resource_Watch/Raster/cit.031/\"\n",
    "\n",
    "file_name1 = \"GlobalGWR_PM25_GL_201501_201512-RH35-NoNegs.asc\"\n",
    "\n",
    "local_orig1 = local_folder + file_name1\n",
    "\n",
    "orig_extension_length = 4 #4 for each char in .tif\n",
    "\n",
    "local_edit1 = local_orig1[:-orig_extension_length] + \"edit.tif\" \n"
   ]
  },
  {
   "cell_type": "markdown",
   "metadata": {},
   "source": [
    "Use rasterio to reproject and compress"
   ]
  },
  {
   "cell_type": "code",
   "execution_count": 5,
   "metadata": {},
   "outputs": [
    {
     "name": "stdout",
     "output_type": "stream",
     "text": [
      "{'driver': 'AAIGrid', 'dtype': 'float32', 'nodata': -999.9000244140625, 'width': 36000, 'height': 12470, 'count': 1, 'crs': CRS({'init': 'epsg:4326'}), 'transform': Affine(0.01, 0.0, -180.005,\n",
      "       0.0, -0.01, 69.85499999999999), 'tiled': False}\n"
     ]
    }
   ],
   "source": [
    "files = [local_orig1]\n",
    "for file in files:\n",
    "    with rio.open(file, 'r') as src:\n",
    "        profile = src.profile\n",
    "        print(profile)"
   ]
  },
  {
   "cell_type": "code",
   "execution_count": 6,
   "metadata": {},
   "outputs": [],
   "source": [
    "# Note - this is the core of Vizz's netcdf2tif function\n",
    "def reproject(orig_name, edit_name):\n",
    "    with rio.open(orig_name, 'r') as src:\n",
    "        # This assumes data is readable by rasterio\n",
    "        # May need to open instead with netcdf4.Dataset, for example\n",
    "\n",
    "        profile = src.profile\n",
    "        rows = profile[\"height\"]\n",
    "        columns = profile[\"width\"]\n",
    "\n",
    "        print(rows)\n",
    "        print(columns)\n",
    "\n",
    "        # Latitude bounds\n",
    "        south_lat = -90\n",
    "        north_lat = 90\n",
    "\n",
    "        # Longitude bounds\n",
    "        west_lon = -180\n",
    "        east_lon = 180\n",
    "\n",
    "        transform = rio.transform.from_bounds(west_lon, south_lat, east_lon, north_lat, columns, rows)\n",
    "\n",
    "        # Profile\n",
    "\n",
    "        no_data_val = -999.9000244140625\n",
    "        target_projection = 'EPSG:4326'\n",
    "        target_data_type = np.float64\n",
    "\n",
    "        profile = {\n",
    "            'driver':'GTiff', \n",
    "            'height':rows, \n",
    "            'width':columns, \n",
    "            'count':1, \n",
    "            'dtype':target_data_type, \n",
    "            'crs':target_projection, \n",
    "            'transform':transform, \n",
    "            'compress':'lzw', \n",
    "            'nodata': no_data_val\n",
    "        }\n",
    "        \n",
    "        windows = src.block_windows()\n",
    "\n",
    "        with rio.open(edit_name, \"w\", **profile) as dst:\n",
    "            for ix, window in windows:\n",
    "                if(ix[0]%100==0):\n",
    "                    \n",
    "                    print(ix)\n",
    "                data = src.read(1, window=window)\n",
    "                dst.write(data.astype(profile[\"dtype\"]), 1, window=window)"
   ]
  },
  {
   "cell_type": "code",
   "execution_count": 7,
   "metadata": {},
   "outputs": [
    {
     "name": "stdout",
     "output_type": "stream",
     "text": [
      "12470\n",
      "36000\n",
      "(0, 0)\n",
      "(100, 0)\n",
      "(200, 0)\n",
      "(300, 0)\n",
      "(400, 0)\n",
      "(500, 0)\n",
      "(600, 0)\n",
      "(700, 0)\n",
      "(800, 0)\n",
      "(900, 0)\n",
      "(1000, 0)\n",
      "(1100, 0)\n",
      "(1200, 0)\n",
      "(1300, 0)\n",
      "(1400, 0)\n",
      "(1500, 0)\n",
      "(1600, 0)\n",
      "(1700, 0)\n",
      "(1800, 0)\n",
      "(1900, 0)\n",
      "(2000, 0)\n",
      "(2100, 0)\n",
      "(2200, 0)\n",
      "(2300, 0)\n",
      "(2400, 0)\n",
      "(2500, 0)\n",
      "(2600, 0)\n",
      "(2700, 0)\n",
      "(2800, 0)\n",
      "(2900, 0)\n",
      "(3000, 0)\n",
      "(3100, 0)\n",
      "(3200, 0)\n",
      "(3300, 0)\n",
      "(3400, 0)\n",
      "(3500, 0)\n",
      "(3600, 0)\n",
      "(3700, 0)\n",
      "(3800, 0)\n",
      "(3900, 0)\n",
      "(4000, 0)\n",
      "(4100, 0)\n",
      "(4200, 0)\n",
      "(4300, 0)\n",
      "(4400, 0)\n",
      "(4500, 0)\n",
      "(4600, 0)\n",
      "(4700, 0)\n",
      "(4800, 0)\n",
      "(4900, 0)\n",
      "(5000, 0)\n",
      "(5100, 0)\n",
      "(5200, 0)\n",
      "(5300, 0)\n",
      "(5400, 0)\n",
      "(5500, 0)\n",
      "(5600, 0)\n",
      "(5700, 0)\n",
      "(5800, 0)\n",
      "(5900, 0)\n",
      "(6000, 0)\n",
      "(6100, 0)\n",
      "(6200, 0)\n",
      "(6300, 0)\n",
      "(6400, 0)\n",
      "(6500, 0)\n",
      "(6600, 0)\n",
      "(6700, 0)\n",
      "(6800, 0)\n",
      "(6900, 0)\n",
      "(7000, 0)\n",
      "(7100, 0)\n",
      "(7200, 0)\n",
      "(7300, 0)\n",
      "(7400, 0)\n",
      "(7500, 0)\n",
      "(7600, 0)\n",
      "(7700, 0)\n",
      "(7800, 0)\n",
      "(7900, 0)\n",
      "(8000, 0)\n",
      "(8100, 0)\n",
      "(8200, 0)\n",
      "(8300, 0)\n",
      "(8400, 0)\n",
      "(8500, 0)\n",
      "(8600, 0)\n",
      "(8700, 0)\n",
      "(8800, 0)\n",
      "(8900, 0)\n",
      "(9000, 0)\n",
      "(9100, 0)\n",
      "(9200, 0)\n",
      "(9300, 0)\n",
      "(9400, 0)\n",
      "(9500, 0)\n",
      "(9600, 0)\n",
      "(9700, 0)\n",
      "(9800, 0)\n",
      "(9900, 0)\n",
      "(10000, 0)\n",
      "(10100, 0)\n",
      "(10200, 0)\n",
      "(10300, 0)\n",
      "(10400, 0)\n",
      "(10500, 0)\n",
      "(10600, 0)\n",
      "(10700, 0)\n",
      "(10800, 0)\n",
      "(10900, 0)\n",
      "(11000, 0)\n",
      "(11100, 0)\n",
      "(11200, 0)\n",
      "(11300, 0)\n",
      "(11400, 0)\n",
      "(11500, 0)\n",
      "(11600, 0)\n",
      "(11700, 0)\n",
      "(11800, 0)\n",
      "(11900, 0)\n",
      "(12000, 0)\n",
      "(12100, 0)\n",
      "(12200, 0)\n",
      "(12300, 0)\n",
      "(12400, 0)\n"
     ]
    }
   ],
   "source": [
    "reproject(local_orig1, local_edit1)\n"
   ]
  },
  {
   "cell_type": "markdown",
   "metadata": {},
   "source": [
    "Upload orig and edit files to s3"
   ]
  },
  {
   "cell_type": "code",
   "execution_count": 8,
   "metadata": {},
   "outputs": [
    {
     "name": "stdout",
     "output_type": "stream",
     "text": [
      "/Users/Max81007/Desktop/Python/Resource_Watch/Raster/cit.031/GlobalGWR_PM25_GL_201501_201512-RH35-NoNegsedit.tif  284065534 / 284065534.0  (100.00%)"
     ]
    }
   ],
   "source": [
    "# Original\n",
    "s3_upload.upload_file(local_orig1, s3_bucket, s3_key_orig1,\n",
    "                         Callback=ProgressPercentage(local_orig1))\n",
    "\n",
    "# Edit\n",
    "s3_upload.upload_file(local_edit1, s3_bucket, s3_key_edit1,\n",
    "                         Callback=ProgressPercentage(local_edit1))"
   ]
  },
  {
   "cell_type": "code",
   "execution_count": null,
   "metadata": {},
   "outputs": [],
   "source": []
  },
  {
   "cell_type": "code",
   "execution_count": null,
   "metadata": {},
   "outputs": [],
   "source": []
  },
  {
   "cell_type": "code",
   "execution_count": null,
   "metadata": {},
   "outputs": [],
   "source": []
  }
 ],
 "metadata": {
  "kernelspec": {
   "display_name": "Python 3",
   "language": "python",
   "name": "python3"
  },
  "language_info": {
   "codemirror_mode": {
    "name": "ipython",
    "version": 3
   },
   "file_extension": ".py",
   "mimetype": "text/x-python",
   "name": "python",
   "nbconvert_exporter": "python",
   "pygments_lexer": "ipython3",
   "version": "3.6.2"
  }
 },
 "nbformat": 4,
 "nbformat_minor": 2
}
