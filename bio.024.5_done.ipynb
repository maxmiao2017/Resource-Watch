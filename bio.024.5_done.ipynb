{
 "cells": [
  {
   "cell_type": "markdown",
   "metadata": {},
   "source": [
    "Integrated Local Threats to Coral Reefs\tbio.024.5 http://www.wri.org/publication/reefs-risk-revisited"
   ]
  },
  {
   "cell_type": "code",
   "execution_count": 1,
   "metadata": {
    "collapsed": true
   },
   "outputs": [],
   "source": [
    "import numpy as np\n",
    "import pandas as pd\n",
    "import rasterio\n",
    "\n",
    "import boto3\n",
    "import requests as req\n",
    "\n",
    "from matplotlib import pyplot as plt\n",
    "%matplotlib inline\n",
    "import os\n",
    "import sys\n",
    "import threading"
   ]
  },
  {
   "cell_type": "code",
   "execution_count": 9,
   "metadata": {
    "collapsed": false
   },
   "outputs": [],
   "source": [
    "s3_bucket = \"wri-public-data\"\n",
    "s3_key_orig = \"resourcewatch/raster/bio_024_5_coral_reef_integrated_local_threats/bio_024_5_coral_reef_integrated_local_threats.tif\"\n",
    "\n",
    "temp_folder = \"/Users/nathansuberi/Desktop/RW_Data/Rasters/\"\n",
    "local_orig = temp_folder + \"bio_024_5.tif\"\n",
    "\n",
    "s3_upload = boto3.client('s3')\n",
    "s3_download = boto3.resource('s3')\n",
    "\n",
    "#s3.meta.client.download_file(s3_bucket, s3_key_orig, local_orig)"
   ]
  },
  {
   "cell_type": "code",
   "execution_count": 6,
   "metadata": {
    "collapsed": false
   },
   "outputs": [],
   "source": [
    "s3_key_edit = s3_key_orig[:-4] + \"_edit.tif\""
   ]
  },
  {
   "cell_type": "code",
   "execution_count": 8,
   "metadata": {
    "collapsed": false
   },
   "outputs": [
    {
     "name": "stderr",
     "output_type": "stream",
     "text": [
      "/Users/nathansuberi/.pyenv/versions/3.6.0/lib/python3.6/site-packages/rasterio/__init__.py:160: FutureWarning: GDAL-style transforms are deprecated and will not be supported in Rasterio 1.0.\n",
      "  transform = guard_transform(transform)\n"
     ]
    }
   ],
   "source": [
    "local_edit = temp_folder + \"bio_024_5_edit.tif\"\n",
    "\n",
    "with rasterio.open(local_orig) as src:\n",
    "    kwargs = src.profile\n",
    "    kwargs.update(\n",
    "        driver='GTiff',\n",
    "        dtype=rasterio.int16,  #rasterio.int16, rasterio.int32, rasterio.uint8,rasterio.uint16, rasterio.uint32, rasterio.float32, rasterio.float64\n",
    "        count=1,\n",
    "        compress='lzw',\n",
    "        nodata=0,\n",
    "        bigtiff='NO',\n",
    "        crs = 'EPSG:4326', \n",
    "    )\n",
    "    data = src.read()\n",
    "    \n",
    "    with rasterio.open(local_edit, 'w', **kwargs) as dst:\n",
    "        dst.write(data.astype(kwargs[\"dtype\"]))"
   ]
  },
  {
   "cell_type": "code",
   "execution_count": 10,
   "metadata": {
    "collapsed": true
   },
   "outputs": [],
   "source": [
    "# Helper function to view upload progress\n",
    "class ProgressPercentage(object):\n",
    "        def __init__(self, filename):\n",
    "            self._filename = filename\n",
    "            self._size = float(os.path.getsize(filename))\n",
    "            self._seen_so_far = 0\n",
    "            self._lock = threading.Lock()\n",
    "\n",
    "        def __call__(self, bytes_amount):\n",
    "            # To simplify we'll assume this is hooked up\n",
    "            # to a single filename.\n",
    "            with self._lock:\n",
    "                self._seen_so_far += bytes_amount\n",
    "                percentage = (self._seen_so_far / self._size) * 100\n",
    "                sys.stdout.write(\n",
    "                    \"\\r%s  %s / %s  (%.2f%%)\" % (\n",
    "                        self._filename, self._seen_so_far, self._size,\n",
    "                        percentage))\n",
    "                sys.stdout.flush()"
   ]
  },
  {
   "cell_type": "code",
   "execution_count": 11,
   "metadata": {
    "collapsed": false
   },
   "outputs": [
    {
     "name": "stdout",
     "output_type": "stream",
     "text": [
      "/Users/nathansuberi/Desktop/RW_Data/Rasters/bio_024_5_edit.tif  54701542 / 54701542.0  (100.00%)"
     ]
    }
   ],
   "source": [
    "s3_upload.upload_file(local_edit, s3_bucket, s3_key_edit, Callback=ProgressPercentage(local_edit))"
   ]
  }
 ],
 "metadata": {
  "kernelspec": {
   "display_name": "Python 3",
   "language": "python",
   "name": "python3"
  },
  "language_info": {
   "codemirror_mode": {
    "name": "ipython",
    "version": 3
   },
   "file_extension": ".py",
   "mimetype": "text/x-python",
   "name": "python",
   "nbconvert_exporter": "python",
   "pygments_lexer": "ipython3",
   "version": "3.6.0"
  }
 },
 "nbformat": 4,
 "nbformat_minor": 2
}
