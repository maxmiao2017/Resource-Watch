{
 "cells": [
  {
   "cell_type": "markdown",
   "metadata": {},
   "source": [
    "Amphibian and Mammal Habitats Under Threat, Merged\tbio.012"
   ]
  },
  {
   "cell_type": "code",
   "execution_count": 3,
   "metadata": {
    "collapsed": true
   },
   "outputs": [],
   "source": [
    "import boto3\n",
    "\n",
    "import rasterio\n",
    "import numpy as np\n",
    "\n",
    "import os\n",
    "import sys\n",
    "import threading"
   ]
  },
  {
   "cell_type": "markdown",
   "metadata": {},
   "source": [
    "Establish local and s3 file locations"
   ]
  },
  {
   "cell_type": "code",
   "execution_count": 27,
   "metadata": {
    "collapsed": false
   },
   "outputs": [],
   "source": [
    "# Local storage\n",
    "local_tmp_folder = \"/Users/nathansuberi/Desktop/WRI_Programming/RW_Data/temp/\"\n",
    "\n",
    "tmp1 = local_tmp_folder + \"bio_012_1_amphib.tif\"\n",
    "tmp2 = local_tmp_folder + \"bio_012_2_mammal.tif\"\n",
    "merge_files = [tmp1, tmp2]\n",
    "\n",
    "tmp_merge = local_tmp_folder + \"bio_012_merge.tif\"\n",
    "\n",
    "# S3 storage\n",
    "s3_bucket = \"wri-public-data\"\n",
    "s3_folder = \"resourcewatch/bio_012_amphibian_mammalian_species_under_threat_merge/\"\n",
    "\n",
    "s3_file1 = \"resourcewatch/bio_012_1_amphibian_species_under_threat/bio_012_1_amphibian_species_under_threat_edit.tif\"\n",
    "s3_file2 = \"resourcewatch/bio_012_2_mammalian_species_under_threat/bio_012_2_mammalian_species_under_threat_edit.tif\"\n",
    "\n",
    "# Make sure these match the order of the merge_files above\n",
    "s3_files_to_merge = [s3_file1, s3_file2]\n",
    "s3_key_merge = s3_folder + \"bio_012_amphibian_mammalian_species_under_threat_merge.tif\"\n",
    "\n",
    "# S3 services\n",
    "s3_download = boto3.resource(\"s3\")\n",
    "s3_upload = boto3.client(\"s3\")\n",
    "\n",
    "# Helper function to view upload progress\n",
    "class ProgressPercentage(object):\n",
    "        def __init__(self, filename):\n",
    "            self._filename = filename\n",
    "            self._size = float(os.path.getsize(filename))\n",
    "            self._seen_so_far = 0\n",
    "            self._lock = threading.Lock()\n",
    "\n",
    "        def __call__(self, bytes_amount):\n",
    "            # To simplify we'll assume this is hooked up\n",
    "            # to a single filename.\n",
    "            with self._lock:\n",
    "                self._seen_so_far += bytes_amount\n",
    "                percentage = (self._seen_so_far / self._size) * 100\n",
    "                sys.stdout.write(\n",
    "                    \"\\r%s  %s / %s  (%.2f%%)\" % (\n",
    "                        self._filename, self._seen_so_far, self._size,\n",
    "                        percentage))\n",
    "                sys.stdout.flush()"
   ]
  },
  {
   "cell_type": "code",
   "execution_count": 28,
   "metadata": {
    "collapsed": false
   },
   "outputs": [],
   "source": [
    "for ix, s3_file in enumerate(s3_files_to_merge):\n",
    "    s3_download.meta.client.download_file(s3_bucket, s3_file, merge_files[ix])"
   ]
  },
  {
   "cell_type": "markdown",
   "metadata": {},
   "source": [
    "<b>Regardless of any needed edits, upload original file</b>\n",
    "\n",
    "<i>Upload tif to S3 folder</i>\n",
    "\n",
    "http://boto3.readthedocs.io/en/latest/guide/s3-example-creating-buckets.html\n",
    "\n",
    "<i>Monitor Progress of Upload</i>\n",
    "\n",
    "http://boto3.readthedocs.io/en/latest/_modules/boto3/s3/transfer.html\n",
    "https://boto3.readthedocs.io/en/latest/guide/s3.html#using-the-transfer-manager"
   ]
  },
  {
   "cell_type": "markdown",
   "metadata": {},
   "source": [
    "Create a merged tif with both amphibian and mammal threat data, upload to s3"
   ]
  },
  {
   "cell_type": "code",
   "execution_count": 29,
   "metadata": {
    "collapsed": false
   },
   "outputs": [
    {
     "name": "stderr",
     "output_type": "stream",
     "text": [
      "/Users/nathansuberi/.pyenv/versions/3.6.0/lib/python3.6/site-packages/rasterio/__init__.py:160: FutureWarning: GDAL-style transforms are deprecated and will not be supported in Rasterio 1.0.\n",
      "  transform = guard_transform(transform)\n"
     ]
    },
    {
     "name": "stdout",
     "output_type": "stream",
     "text": [
      "0\n",
      "1\n"
     ]
    }
   ],
   "source": [
    "with rasterio.open(merge_files[0]) as src:\n",
    "    kwargs = src.profile\n",
    "    \n",
    "kwargs.update(\n",
    "    count=len(merge_files)\n",
    ")\n",
    "    \n",
    "with rasterio.open(tmp_merge, 'w', **kwargs) as dst:\n",
    "    for idx, file in enumerate(merge_files):\n",
    "        print(idx)\n",
    "        with rasterio.open(file) as src:\n",
    "\n",
    "            band = idx+1\n",
    "            windows = src.block_windows()\n",
    "\n",
    "            for win_id, window in windows:\n",
    "                src_data = src.read(1, window=window)\n",
    "                dst.write_band(band, src_data, window=window)"
   ]
  },
  {
   "cell_type": "code",
   "execution_count": 31,
   "metadata": {
    "collapsed": false
   },
   "outputs": [],
   "source": [
    "with rasterio.open(tmp_merge) as src:\n",
    "    num_bands = src.profile[\"count\"] + 1\n",
    "    data = {}\n",
    "    for i in range(1, num_bands):\n",
    "        data[i] = src.read(i)"
   ]
  },
  {
   "cell_type": "code",
   "execution_count": 32,
   "metadata": {
    "collapsed": false
   },
   "outputs": [
    {
     "data": {
      "text/plain": [
       "(array([ 0,  1,  2,  3,  4,  5,  6,  7,  8,  9, 10, 11, 12, 13, 14, 15, 16,\n",
       "        17, 20, 21, 22, 23, 24, 25, 26, 27, 28, 29, 30, 31, 32, 33, 35], dtype=int32),\n",
       " array([923226633,   6778229,   1875054,    753439,    264679,    136269,\n",
       "            39772,     24785,      9204,      4638,      2271,      1897,\n",
       "             1294,       768,       268,       155,        28,        55,\n",
       "                1,         8,         6,        25,        71,        31,\n",
       "               61,        87,        73,        60,        30,        61,\n",
       "                4,        34,        10]))"
      ]
     },
     "execution_count": 32,
     "metadata": {},
     "output_type": "execute_result"
    }
   ],
   "source": [
    "np.unique(data[1], return_counts=True)"
   ]
  },
  {
   "cell_type": "code",
   "execution_count": 33,
   "metadata": {
    "collapsed": false
   },
   "outputs": [
    {
     "data": {
      "text/plain": [
       "(array([ 0,  1,  2,  3,  4,  5,  6,  7,  8,  9, 10, 11, 12, 13, 14, 15, 16,\n",
       "        17, 18, 19, 20, 21, 22, 23, 24, 25, 26, 27, 28, 29, 30, 31, 32, 33], dtype=int32),\n",
       " array([169243367, 154184574,  53840830, 200040897, 263286993,  57000855,\n",
       "         18392252,   6902183,   2093180,   2953281,   1290368,    607972,\n",
       "           383123,    381171,    352998,    355560,    289393,    224771,\n",
       "           184635,    223244,    242506,    188104,    111229,     88250,\n",
       "            76795,     52540,     45673,     36178,     21961,     14899,\n",
       "             7136,      1993,      1054,        35]))"
      ]
     },
     "execution_count": 33,
     "metadata": {},
     "output_type": "execute_result"
    }
   ],
   "source": [
    "np.unique(data[2], return_counts=True)"
   ]
  },
  {
   "cell_type": "markdown",
   "metadata": {},
   "source": [
    "Upload edited file to s3"
   ]
  },
  {
   "cell_type": "code",
   "execution_count": 34,
   "metadata": {
    "collapsed": false
   },
   "outputs": [
    {
     "name": "stdout",
     "output_type": "stream",
     "text": [
      "/Users/nathansuberi/Desktop/WRI_Programming/RW_Data/temp/bio_012_merge.tif  107597805 / 107597805.0  (100.00%)"
     ]
    }
   ],
   "source": [
    "s3.upload_file(tmp_merge, s3_bucket, s3_key_merge,\n",
    "           Callback=ProgressPercentage(tmp_merge))"
   ]
  },
  {
   "cell_type": "code",
   "execution_count": 35,
   "metadata": {
    "collapsed": false
   },
   "outputs": [
    {
     "data": {
      "text/plain": [
       "'resourcewatch/bio_012_amphibian_mammalian_species_under_threat_merge/bio_012_amphibian_mammalian_species_under_threat_merge.tif'"
      ]
     },
     "execution_count": 35,
     "metadata": {},
     "output_type": "execute_result"
    }
   ],
   "source": [
    "s3_key_merge"
   ]
  }
 ],
 "metadata": {
  "kernelspec": {
   "display_name": "Python 3",
   "language": "python",
   "name": "python3"
  },
  "language_info": {
   "codemirror_mode": {
    "name": "ipython",
    "version": 3
   },
   "file_extension": ".py",
   "mimetype": "text/x-python",
   "name": "python",
   "nbconvert_exporter": "python",
   "pygments_lexer": "ipython3",
   "version": "3.6.0"
  }
 },
 "nbformat": 4,
 "nbformat_minor": 2
}
