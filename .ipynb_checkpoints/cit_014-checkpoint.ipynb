{
 "cells": [
  {
   "cell_type": "markdown",
   "metadata": {},
   "source": [
    "cit.014\tHuman Settlements\n",
    "\n",
    "Description: http://ghsl.jrc.ec.europa.eu/ghs_bu.php \n",
    "Download as http://ghsl.jrc.ec.europa.eu/datasets.php\n",
    "\n",
    "GHS_BUILT_LDS1975_GLOBE_R2016A_54009_250 (215MB)\n",
    "GHS_BUILT_LDS1990_GLOBE_R2016A_3857_38 (854MB) \n",
    "GHS_BUILT_LDS2000_GLOBE_R2016A_3857_38 (892MB) \n",
    "GHS_BUILT_LDS2014_GLOBE_R2016A_3857_38 (900MB)\n",
    "\n",
    "File type: Geotiff"
   ]
  },
  {
   "cell_type": "code",
   "execution_count": 1,
   "metadata": {},
   "outputs": [],
   "source": [
    "# Libraries for downloading data from remote server (may be ftp)\n",
    "import requests\n",
    "from urllib.request import urlopen\n",
    "from contextlib import closing\n",
    "import shutil\n",
    "\n",
    "# Library for uploading/downloading data to/from S3\n",
    "import boto3\n",
    "\n",
    "# Libraries for handling data\n",
    "import rasterio as rio\n",
    "from rasterio.warp import calculate_default_transform, reproject, Resampling\n",
    "from rasterio import crs\n",
    "\n",
    "import numpy as np\n",
    "# from netCDF4 import Dataset\n",
    "# import pandas as pd\n",
    "# import scipy\n",
    "\n",
    "# Libraries for various helper functions\n",
    "# from datetime import datetime\n",
    "import os\n",
    "import threading\n",
    "import sys\n",
    "from glob import glob"
   ]
  },
  {
   "cell_type": "markdown",
   "metadata": {},
   "source": [
    "Define local file locations"
   ]
  },
  {
   "cell_type": "code",
   "execution_count": 2,
   "metadata": {},
   "outputs": [],
   "source": [
    "local_folder = \"/Users/Max81007/Desktop/Python/Resource_Watch/Raster/cit_014/\"\n",
    "\n",
    "file_name1 = \"GHS_1975_1k\"\n",
    "file_name2 = \"GHS_1990_1k\"\n",
    "file_name3 = \"GHS_2000_1k\"\n",
    "file_name4 = \"GHS_2014_1k\"\n",
    "\n",
    "upload_name1 = \"cit_014_1975\"\n",
    "upload_name2 = \"cit_014_1990\"\n",
    "upload_name3 = \"cit_014_2000\"\n",
    "upload_name4 = \"cit_014_2014\"\n",
    "\n",
    "local_orig1 = local_folder + file_name1 + \".tif\"\n",
    "local_orig2 = local_folder + file_name2 + \".tif\" \n",
    "local_orig3 = local_folder + file_name3 + \".tif\"\n",
    "local_orig4 = local_folder + file_name4 + \".tif\"\n",
    "\n",
    "local_inter1 = local_folder + file_name1 + \".vrt\"\n",
    "local_inter2 = local_folder + file_name2 + \".vrt\"\n",
    "local_inter3 = local_folder + file_name3 + \".vrt\"\n",
    "local_inter4 = local_folder + file_name4 + \".vrt\"\n",
    " \n",
    "local_edit1 = local_folder + upload_name1 + \"_edit.tif\"\n",
    "local_edit2 = local_folder + upload_name2 + \"_edit.tif\"\n",
    "local_edit3 = local_folder + upload_name3 + \"_edit.tif\"\n",
    "local_edit4 = local_folder + upload_name4 + \"_edit.tif\""
   ]
  },
  {
   "cell_type": "markdown",
   "metadata": {},
   "source": [
    "s3"
   ]
  },
  {
   "cell_type": "code",
   "execution_count": 3,
   "metadata": {},
   "outputs": [],
   "source": [
    "s3_upload = boto3.client(\"s3\")\n",
    "s3_download = boto3.resource(\"s3\")\n",
    "\n",
    "s3_bucket = \"wri-public-data\"\n",
    "s3_folder = \"resourcewatch/raster/cit_014_human_settlements/\"\n",
    "\n",
    "class ProgressPercentage(object):\n",
    "        def __init__(self, filename):\n",
    "            self._filename = filename\n",
    "            self._size = float(os.path.getsize(filename))\n",
    "            self._seen_so_far = 0\n",
    "            self._lock = threading.Lock()\n",
    "\n",
    "        def __call__(self, bytes_amount):\n",
    "            # To simplify we'll assume this is hooked up\n",
    "            # to a single filename.\n",
    "            with self._lock:\n",
    "                self._seen_so_far += bytes_amount\n",
    "                percentage = (self._seen_so_far / self._size) * 100\n",
    "                sys.stdout.write(\"\\r%s  %s / %s  (%.2f%%)\"%(\n",
    "                        self._filename, self._seen_so_far, self._size,\n",
    "                        percentage))\n",
    "                sys.stdout.flush()"
   ]
  },
  {
   "cell_type": "code",
   "execution_count": null,
   "metadata": {},
   "outputs": [],
   "source": [
    "band_ids = [upload_name1, upload_name2, upload_name3, upload_name4, upload_name5, upload_name6, upload_name7]\n",
    "merge_name = \"cit_014_human_settlements.tif\"\n",
    "s3_key_merge = s3_folder + merge_name"
   ]
  },
  {
   "cell_type": "code",
   "execution_count": 4,
   "metadata": {},
   "outputs": [],
   "source": [
    "os.getcwd()\n",
    "os.chdir(local_folder)\n",
    "os.environ[\"local_orig1\"] = local_orig1\n",
    "os.environ[\"local_edit1\"] = local_edit1\n",
    "os.environ[\"local_orig2\"] = local_orig2\n",
    "os.environ[\"local_edit2\"] = local_edit2\n",
    "os.environ[\"local_orig3\"] = local_orig3\n",
    "os.environ[\"local_edit3\"] = local_edit3\n",
    "os.environ[\"local_orig4\"] = local_orig4\n",
    "os.environ[\"local_edit4\"] = local_edit4\n",
    "os.environ[\"local_inter1\"] = local_inter1\n",
    "os.environ[\"local_inter2\"] = local_inter2\n",
    "os.environ[\"local_inter3\"] = local_inter3\n",
    "os.environ[\"local_inter4\"] = local_inter4\n"
   ]
  },
  {
   "cell_type": "code",
   "execution_count": null,
   "metadata": {},
   "outputs": [],
   "source": [
    "files = [local_orig1, local_orig2, local_orig3, local_orig4]\n",
    "for file in files:\n",
    "    with rio.open(file, 'r') as src:\n",
    "        profile = src.profile\n",
    "        print(profile)"
   ]
  },
  {
   "cell_type": "code",
   "execution_count": 5,
   "metadata": {},
   "outputs": [],
   "source": [
    "!gdalwarp -overwrite -t_srs epsg:4326 -co compress=lzw -co BLOCKXSIZE=256  -co BLOCKYSIZE=256 -of vrt %local_orig2%  %local_inter2%\n",
    "!gdalwarp -overwrite -t_srs epsg:4326 -co compress=lzw -co BLOCKXSIZE=256  -co BLOCKYSIZE=256 -of vrt %local_orig3%  %local_inter32%\n",
    "!gdalwarp -overwrite -t_srs epsg:4326 -co compress=lzw -co BLOCKXSIZE=256  -co BLOCKYSIZE=256 -of vrt %local_orig4%  %local_inter42%\n"
   ]
  },
  {
   "cell_type": "code",
   "execution_count": null,
   "metadata": {},
   "outputs": [],
   "source": [
    "# !gdal_translate -co compress=LZW  -co BLOCKXSIZE=256 -co BLOCKYSIZE=256 -tr 0.000277778 0.000277778 -of GTiff -co TILED=YES %local_orig1%  %local_inter1%\n",
    "!gdal_translate -co compress=LZW  -co BLOCKXSIZE=256 -co BLOCKYSIZE=256 -tr 0.000277778 0.000277778 -of GTiff -co TILED=YES %local_inter2% %local_edit2%\n",
    "!gdal_translate -co compress=LZW  -co BLOCKXSIZE=256 -co BLOCKYSIZE=256 -tr 0.000277778 0.000277778 -of GTiff -co TILED=YES %local_inter3% %local_edit3%\n",
    "!gdal_translate -co compress=LZW  -co BLOCKXSIZE=256 -co BLOCKYSIZE=256 -tr 0.000277778 0.000277778 -of GTiff -co TILED=YES %local_inter4% %local_edit3%\n"
   ]
  },
  {
   "cell_type": "code",
   "execution_count": null,
   "metadata": {},
   "outputs": [],
   "source": [
    "!gdal_translate -co compress=LZW  -co BLOCKXSIZE=256 -co BLOCKYSIZE=256 -tr 0.000277778 0.000277778 -of GTiff -co TILED=YES %local_inter2% %local_edit2%"
   ]
  },
  {
   "cell_type": "code",
   "execution_count": null,
   "metadata": {},
   "outputs": [],
   "source": [
    "gdalwarp -overwrite -t_srs epsg:4326 -co compress=lzw -co BLOCKXSIZE=512 -tr 0.00833333 0.00833333 -co BLOCKYSIZE=512 -of vrt GHS_1990_1k.tif GHS_1990_1k.vrt\n",
    "gdal_translate -co compress=LZW  -co BLOCKXSIZE=512 -co BLOCKYSIZE=512 -tr 0.00833333 0.00833333 -of GTiff -co TILED=YES GHS_1990_1k.vrt cit_014_1990.tif"
   ]
  },
  {
   "cell_type": "code",
   "execution_count": null,
   "metadata": {},
   "outputs": [],
   "source": [
    "!gdalwarp -overwrite -t_srs epsg:4326 -of vrt %local_orig1% %local_edit1%"
   ]
  },
  {
   "cell_type": "code",
   "execution_count": null,
   "metadata": {},
   "outputs": [],
   "source": [
    "!gdal_translate -co compress=LZW %local_edit1% %local_edit2% "
   ]
  },
  {
   "cell_type": "code",
   "execution_count": null,
   "metadata": {},
   "outputs": [],
   "source": [
    "print1 =\"gdalwarp -overwrite -t_srs epsg:4326 -co TILED=YES -co BIGTIFF=YES\" + \" \" +local_orig1 +\" \"+ local_edit1\n",
    "print(print1)"
   ]
  },
  {
   "cell_type": "code",
   "execution_count": null,
   "metadata": {
    "scrolled": true
   },
   "outputs": [],
   "source": [
    "local_orig = [local_orig1, local_orig2, local_orig3, local_orig4, local_orig5, local_orig6, local_orig7]\n",
    "local_edit = [local_edit1, local_edit2, local_edit3, local_edit4, local_edit5, local_edit6, local_edit7]\n",
    "printlist = \"gdalwarp -overwrite -t_srs epsg:4326 -srcnodata none -co compress=lzw\" + \" \" + str(local_orig)+ \" \" +str(local_edit)\n",
    "print(printlist)"
   ]
  },
  {
   "cell_type": "code",
   "execution_count": null,
   "metadata": {},
   "outputs": [],
   "source": [
    "print1 =\"rio warp\" + \" \" +local_orig1 +\" \"+ local_edit1 + \" \"+\"--force-overwrite --dst-crs epsg:4326 --co compress=LZW --co tiled=true --co blockxsize=256 --co blockysize=256\"\n",
    "print(print1)"
   ]
  },
  {
   "cell_type": "code",
   "execution_count": null,
   "metadata": {},
   "outputs": [],
   "source": [
    "!gdalwarp -overwrite -t_srs epsg:4326 -srcnodata none -co compress=lzw %local_orig2% %local_edit2%\n"
   ]
  },
  {
   "cell_type": "code",
   "execution_count": null,
   "metadata": {},
   "outputs": [],
   "source": [
    "!gdalwarp -overwrite -t_srs epsg:4326 -srcnodata none -co compress=lzw %local_orig3% %local_edit3%\n"
   ]
  },
  {
   "cell_type": "code",
   "execution_count": null,
   "metadata": {},
   "outputs": [],
   "source": [
    "!gdalwarp -overwrite -t_srs epsg:4326 -srcnodata none -co compress=lzw %local_orig4% %local_edit4%\n"
   ]
  },
  {
   "cell_type": "code",
   "execution_count": null,
   "metadata": {},
   "outputs": [],
   "source": [
    "!gdalwarp -overwrite -t_srs epsg:4326 -srcnodata none -co compress=lzw %local_orig5% %local_edit5%\n"
   ]
  },
  {
   "cell_type": "code",
   "execution_count": null,
   "metadata": {},
   "outputs": [],
   "source": [
    "!gdalwarp -overwrite -t_srs epsg:4326 -srcnodata none -co compress=lzw %local_orig6% %local_edit6%\n"
   ]
  },
  {
   "cell_type": "code",
   "execution_count": null,
   "metadata": {},
   "outputs": [],
   "source": [
    "!gdalwarp -overwrite -t_srs epsg:4326 -srcnodata none -co compress=lzw %local_orig7% %local_edit7%"
   ]
  },
  {
   "cell_type": "code",
   "execution_count": null,
   "metadata": {},
   "outputs": [],
   "source": [
    "merge_files = [local_edit1, local_edit2, local_edit3, local_edit4, local_edit5, local_edit6, local_edit7]\n",
    "tmp_merge = local_folder + merge_name\n"
   ]
  },
  {
   "cell_type": "code",
   "execution_count": null,
   "metadata": {},
   "outputs": [],
   "source": [
    "gdalwarp -overwrite -t_srs epsg:4326 -co compress=lzw -co BLOCKXSIZE=512 -of vrt GHS_BUILT_LDS1975_GLOBE_R2016A_54009_1k_v1_0.tif GHS_1975_blocksize.vrt\n",
    "gdal_translate -co compress=LZW -co BLOCKXSIZE=128 -of GTiff -co TILED=YES GHS_1975_blocksize.vrt GHS_1975_blocksize.tif"
   ]
  },
  {
   "cell_type": "markdown",
   "metadata": {},
   "source": [
    "Use rasterio to reproject and compress"
   ]
  },
  {
   "cell_type": "code",
   "execution_count": null,
   "metadata": {},
   "outputs": [],
   "source": [
    "with rio.open(merge_files[0]) as src:\n",
    "    kwargs = src.profile\n",
    "    \n",
    "kwargs.update(\n",
    "    count=len(merge_files)\n",
    ")\n",
    "    \n",
    "with rio.open(tmp_merge, 'w', **kwargs) as dst:\n",
    "    for idx, file in enumerate(merge_files):\n",
    "        print(idx)\n",
    "        with rio.open(file) as src:\n",
    "\n",
    "            band = idx+1\n",
    "            windows = src.block_windows()\n",
    "\n",
    "            for win_id, window in windows:\n",
    "                src_data = src.read(1, window=window)\n",
    "                dst.write_band(band, src_data, window=window)\n"
   ]
  },
  {
   "cell_type": "markdown",
   "metadata": {},
   "source": [
    "Upload orig and edit files to s3"
   ]
  },
  {
   "cell_type": "code",
   "execution_count": null,
   "metadata": {},
   "outputs": [],
   "source": [
    "# Original\n",
    "s3_upload.upload_file(local_orig1, s3_bucket, s3_key_orig1,\n",
    "                         Callback=ProgressPercentage(local_orig1))\n",
    "s3_upload.upload_file(local_orig3, s3_bucket, s3_key_orig3,\n",
    "                         Callback=ProgressPercentage(local_orig3))\n",
    "s3_upload.upload_file(local_orig5, s3_bucket, s3_key_orig5,\n",
    "                         Callback=ProgressPercentage(local_orig5))\n",
    "s3_upload.upload_file(local_orig7, s3_bucket, s3_key_orig7,\n",
    "                         Callback=ProgressPercentage(local_orig7))\n",
    "s3_upload.upload_file(local_orig9, s3_bucket, s3_key_orig9,\n",
    "                         Callback=ProgressPercentage(local_orig9))\n",
    "s3_upload.upload_file(local_orig11, s3_bucket, s3_key_orig11,\n",
    "                         Callback=ProgressPercentage(local_orig11))\n",
    "s3_upload.upload_file(local_orig13, s3_bucket, s3_key_orig13,\n",
    "                         Callback=ProgressPercentage(local_orig13))\n",
    "\n",
    "\n",
    "# Edit\n",
    "s3_upload.upload_file(local_edit1, s3_bucket, s3_key_edit1,\n",
    "                         Callback=ProgressPercentage(local_edit1))\n",
    "s3_upload.upload_file(local_edit3, s3_bucket, s3_key_edit3,\n",
    "                         Callback=ProgressPercentage(local_edit3))\n",
    "s3_upload.upload_file(local_edit5, s3_bucket, s3_key_edit5,\n",
    "                         Callback=ProgressPercentage(local_edit5))\n",
    "s3_upload.upload_file(local_edit7, s3_bucket, s3_key_edit7,\n",
    "                         Callback=ProgressPercentage(local_edit7))\n",
    "s3_upload.upload_file(local_edit9, s3_bucket, s3_key_edit9,\n",
    "                         Callback=ProgressPercentage(local_edit9))\n",
    "s3_upload.upload_file(local_edit11, s3_bucket, s3_key_edit11,\n",
    "                         Callback=ProgressPercentage(local_edit11))\n",
    "s3_upload.upload_file(local_edit13, s3_bucket, s3_key_edit13,\n",
    "                         Callback=ProgressPercentage(local_edit13))\n",
    "\n",
    "# Merged \n",
    "\n",
    "s3_upload.upload_file(tmp_merge, s3_bucket, s3_key_merge,\n",
    "           Callback=ProgressPercentage(tmp_merge))"
   ]
  },
  {
   "cell_type": "markdown",
   "metadata": {},
   "source": []
  },
  {
   "cell_type": "markdown",
   "metadata": {},
   "source": []
  },
  {
   "cell_type": "markdown",
   "metadata": {},
   "source": []
  },
  {
   "cell_type": "markdown",
   "metadata": {},
   "source": [
    "\n"
   ]
  },
  {
   "cell_type": "code",
   "execution_count": null,
   "metadata": {},
   "outputs": [],
   "source": [
    "os.environ[\"Zs3_key\"] = \"s3://wri-public-data/\" + s3_key_merge\n",
    "os.environ[\"Zgs_key\"] = \"gs://resource-watch-public/\" + s3_key_merge\n"
   ]
  },
  {
   "cell_type": "code",
   "execution_count": null,
   "metadata": {},
   "outputs": [],
   "source": [
    "!gsutil cp %Zs3_key% %Zgs_key%\n"
   ]
  },
  {
   "cell_type": "code",
   "execution_count": null,
   "metadata": {},
   "outputs": [],
   "source": [
    "os.environ[\"asset_id\"] = \"users/resourcewatch/cit_014_human_settlements\"\n",
    "!earthengine upload image --asset_id=%asset_id% %Zgs_key%\n"
   ]
  },
  {
   "cell_type": "code",
   "execution_count": null,
   "metadata": {},
   "outputs": [],
   "source": [
    "os.environ[\"band_names\"] = str(band_ids)\n",
    "!earthengine asset set -p band_names=\"%band_names%\" %asset_id%\n"
   ]
  },
  {
   "cell_type": "code",
   "execution_count": null,
   "metadata": {},
   "outputs": [],
   "source": []
  },
  {
   "cell_type": "code",
   "execution_count": null,
   "metadata": {},
   "outputs": [],
   "source": []
  }
 ],
 "metadata": {
  "kernelspec": {
   "display_name": "Python 3",
   "language": "python",
   "name": "python3"
  },
  "language_info": {
   "codemirror_mode": {
    "name": "ipython",
    "version": 3
   },
   "file_extension": ".py",
   "mimetype": "text/x-python",
   "name": "python",
   "nbconvert_exporter": "python",
   "pygments_lexer": "ipython3",
   "version": "3.6.2"
  }
 },
 "nbformat": 4,
 "nbformat_minor": 2
}
