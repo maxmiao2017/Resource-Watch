{
 "cells": [
  {
   "cell_type": "markdown",
   "metadata": {},
   "source": [
    "foo.037\tMaize, Rice, Soybeans, and Wheat Yield Trends\n",
    "\n",
    "https://s3-us-west-2.amazonaws.com/earthstat/earthstat/wp-content/uploads/filebase/yieldtrends/yt_geotiff.zip\n",
    "\n",
    "File type:geotiff"
   ]
  },
  {
   "cell_type": "code",
   "execution_count": 21,
   "metadata": {},
   "outputs": [],
   "source": [
    "# Libraries for downloading data from remote server (may be ftp)\n",
    "import requests\n",
    "from urllib.request import urlopen\n",
    "from contextlib import closing\n",
    "import shutil\n",
    "\n",
    "# Library for uploading/downloading data to/from S3\n",
    "import boto3\n",
    "\n",
    "# Libraries for handling data\n",
    "import rasterio as rio\n",
    "import numpy as np\n",
    "# from netCDF4 import Dataset\n",
    "# import pandas as pd\n",
    "# import scipy\n",
    "\n",
    "# Libraries for various helper functions\n",
    "# from datetime import datetime\n",
    "import os\n",
    "import threading\n",
    "import sys\n",
    "from glob import glob"
   ]
  },
  {
   "cell_type": "markdown",
   "metadata": {},
   "source": [
    "s3"
   ]
  },
  {
   "cell_type": "code",
   "execution_count": 22,
   "metadata": {},
   "outputs": [],
   "source": [
    "s3_upload = boto3.client(\"s3\")\n",
    "s3_download = boto3.resource(\"s3\")\n",
    "\n",
    "s3_bucket = \"wri-public-data\"\n",
    "s3_folder = \"resourcewatch/raster/foo_037_crops_Yield_Trends/\"\n",
    "\n",
    "s3_file1 = \"foo_037_crops_Yield_Trends_maize_categorical.tif\"\n",
    "s3_file2 = \"foo_037_crops_Yield_Trends_rice_categorical.tif\"\n",
    "s3_file3 = \"foo_037_crops_Yield_Trends_soybean_categorical.tif\"\n",
    "s3_file4 = \"foo_037_crops_Yield_Trends_wheat_categorical.tif\"\n",
    "s3_file5 = \"foo_037_crops_Yield_Trends_maize_percent.tif\"\n",
    "s3_file6 = \"foo_037_crops_Yield_Trends_rice_percent.tif\"\n",
    "s3_file7 = \"foo_037_crops_Yield_Trends_soybean_percent.tif\"\n",
    "s3_file8 = \"foo_037_crops_Yield_Trends_wheat_percent.tif\"\n",
    "\n",
    "s3_key_orig1 = s3_folder + s3_file1\n",
    "s3_key_edit1 = s3_key_orig1[0:-4] + \"_edit.tif\"\n",
    "\n",
    "s3_key_orig2 = s3_folder + s3_file2\n",
    "s3_key_edit2 = s3_key_orig2[0:-4] + \"_edit.tif\"\n",
    "\n",
    "s3_key_orig3 = s3_folder + s3_file3\n",
    "s3_key_edit3 = s3_key_orig3[0:-4] + \"_edit.tif\"\n",
    "\n",
    "s3_key_orig4 = s3_folder + s3_file4\n",
    "s3_key_edit4 = s3_key_orig4[0:-4] + \"_edit.tif\"\n",
    "\n",
    "s3_key_orig5 = s3_folder + s3_file5\n",
    "s3_key_edit5 = s3_key_orig5[0:-4] + \"_edit.tif\"\n",
    "\n",
    "s3_key_orig6= s3_folder + s3_file6\n",
    "s3_key_edit6 = s3_key_orig6[0:-4] + \"_edit.tif\"\n",
    "\n",
    "s3_key_orig7 = s3_folder + s3_file7\n",
    "s3_key_edit7 = s3_key_orig7[0:-4] + \"_edit.tif\"\n",
    "\n",
    "s3_key_orig8 = s3_folder + s3_file8\n",
    "s3_key_edit8 = s3_key_orig8[0:-4] + \"_edit.tif\"\n",
    "\n",
    "band_ids_category = [\"maize\",\"rice\",\"soybean\", \"wheat\"]\n",
    "band_ids_percent = [\"maize\",\"rice\",\"soybean\", \"wheat\"]\n",
    "merge_name_1 = \"foo_037_crops_Yield_Trends_categorical.tif\"\n",
    "merge_name_2 = \"foo_037_crops_Yield_Trends_percent.tif\"\n",
    "s3_key_merge_1 = s3_folder + merge_name_1\n",
    "s3_key_merge_2 = s3_folder + merge_name_2\n",
    "\n",
    "class ProgressPercentage(object):\n",
    "        def __init__(self, filename):\n",
    "            self._filename = filename\n",
    "            self._size = float(os.path.getsize(filename))\n",
    "            self._seen_so_far = 0\n",
    "            self._lock = threading.Lock()\n",
    "\n",
    "        def __call__(self, bytes_amount):\n",
    "            # To simplify we'll assume this is hooked up\n",
    "            # to a single filename.\n",
    "            with self._lock:\n",
    "                self._seen_so_far += bytes_amount\n",
    "                percentage = (self._seen_so_far / self._size) * 100\n",
    "                sys.stdout.write(\"\\r%s  %s / %s  (%.2f%%)\"%(\n",
    "                        self._filename, self._seen_so_far, self._size,\n",
    "                        percentage))\n",
    "                sys.stdout.flush()"
   ]
  },
  {
   "cell_type": "markdown",
   "metadata": {},
   "source": [
    "Define local file locations"
   ]
  },
  {
   "cell_type": "code",
   "execution_count": 23,
   "metadata": {},
   "outputs": [],
   "source": [
    "local_folder = \"/Users/Max81007/Desktop/Python/Resource_Watch/Raster/foo.037/yt_geotiff/\"\n",
    "\n",
    "file_name1 = \"categorical_maize.tif\"\n",
    "file_name2 = \"categorical_rice.tif\"\n",
    "file_name3 = \"categorical_soybean.tif\"\n",
    "file_name4 = \"categorical_wheat.tif\"\n",
    "file_name5 = \"percentage_maize.tif\"\n",
    "file_name6 = \"percentage_rice.tif\"\n",
    "file_name7 = \"percentage_soy.tif\"\n",
    "file_name8 = \"percentage_wheat.tif\"\n",
    "\n",
    "local_orig1 = local_folder + file_name1\n",
    "local_orig2 = local_folder + file_name2\n",
    "local_orig3 = local_folder + file_name3\n",
    "local_orig4 = local_folder + file_name4\n",
    "local_orig5 = local_folder + file_name5\n",
    "local_orig6 = local_folder + file_name6\n",
    "local_orig7 = local_folder + file_name7\n",
    "local_orig8 = local_folder + file_name8\n",
    "\n",
    "orig_extension_length = 4 #4 for each char in .tif\n",
    "\n",
    "local_edit1 = local_orig1[:-orig_extension_length] + \"edit.tif\" \n",
    "local_edit2 = local_orig2[:-orig_extension_length] + \"edit.tif\" \n",
    "local_edit3 = local_orig3[:-orig_extension_length] + \"edit.tif\" \n",
    "local_edit4 = local_orig4[:-orig_extension_length] + \"edit.tif\" \n",
    "local_edit5 = local_orig5[:-orig_extension_length] + \"edit.tif\" \n",
    "local_edit6 = local_orig6[:-orig_extension_length] + \"edit.tif\" \n",
    "local_edit7 = local_orig7[:-orig_extension_length] + \"edit.tif\" \n",
    "local_edit8 = local_orig8[:-orig_extension_length] + \"edit.tif\" \n",
    "\n",
    "\n",
    "\n",
    "merge_files_1 = [local_edit1, local_edit2, local_edit3, local_edit4]\n",
    "merge_files_2 = [local_edit5, local_edit6, local_edit7, local_edit8]\n",
    "tmp_merge_1 = local_folder + merge_name_1\n",
    "tmp_merge_2 = local_folder + merge_name_2"
   ]
  },
  {
   "cell_type": "markdown",
   "metadata": {},
   "source": [
    "Use rasterio to reproject and compress"
   ]
  },
  {
   "cell_type": "code",
   "execution_count": 24,
   "metadata": {},
   "outputs": [
    {
     "name": "stdout",
     "output_type": "stream",
     "text": [
      "{'driver': 'GTiff', 'dtype': 'float32', 'nodata': None, 'width': 4320, 'height': 2160, 'count': 1, 'crs': CRS({'init': 'epsg:4326'}), 'transform': Affine(0.0833333333333286, 0.0, -180.0,\n",
      "       0.0, -0.0833333333333286, 89.99999999998977), 'blockxsize': 432, 'blockysize': 224, 'tiled': True, 'compress': 'packbits', 'interleave': 'band'}\n",
      "{'driver': 'GTiff', 'dtype': 'float32', 'nodata': None, 'width': 4320, 'height': 2160, 'count': 1, 'crs': CRS({'init': 'epsg:4326'}), 'transform': Affine(0.0833333333333286, 0.0, -180.0,\n",
      "       0.0, -0.0833333333333286, 89.99999999998977), 'blockxsize': 432, 'blockysize': 224, 'tiled': True, 'compress': 'packbits', 'interleave': 'band'}\n",
      "{'driver': 'GTiff', 'dtype': 'float32', 'nodata': None, 'width': 4320, 'height': 2160, 'count': 1, 'crs': CRS({'init': 'epsg:4326'}), 'transform': Affine(0.0833333333333286, 0.0, -180.0,\n",
      "       0.0, -0.0833333333333286, 89.99999999998977), 'blockxsize': 432, 'blockysize': 224, 'tiled': True, 'compress': 'packbits', 'interleave': 'band'}\n",
      "{'driver': 'GTiff', 'dtype': 'float32', 'nodata': None, 'width': 4320, 'height': 2160, 'count': 1, 'crs': CRS({'init': 'epsg:4326'}), 'transform': Affine(0.0833333333333286, 0.0, -180.0,\n",
      "       0.0, -0.0833333333333286, 89.99999999998977), 'blockxsize': 432, 'blockysize': 224, 'tiled': True, 'compress': 'packbits', 'interleave': 'band'}\n",
      "{'driver': 'GTiff', 'dtype': 'float32', 'nodata': None, 'width': 4320, 'height': 2160, 'count': 1, 'crs': CRS({'init': 'epsg:4326'}), 'transform': Affine(0.0833333333333286, 0.0, -180.0,\n",
      "       0.0, -0.0833333333333286, 89.99999999998977), 'blockxsize': 432, 'blockysize': 224, 'tiled': True, 'compress': 'packbits', 'interleave': 'band'}\n",
      "{'driver': 'GTiff', 'dtype': 'float32', 'nodata': None, 'width': 4320, 'height': 2160, 'count': 1, 'crs': CRS({'init': 'epsg:4326'}), 'transform': Affine(0.0833333333333286, 0.0, -180.0,\n",
      "       0.0, -0.0833333333333286, 89.99999999998977), 'blockxsize': 432, 'blockysize': 224, 'tiled': True, 'compress': 'packbits', 'interleave': 'band'}\n",
      "{'driver': 'GTiff', 'dtype': 'float32', 'nodata': None, 'width': 4320, 'height': 2160, 'count': 1, 'crs': CRS({'init': 'epsg:4326'}), 'transform': Affine(0.0833333333333286, 0.0, -180.0,\n",
      "       0.0, -0.0833333333333286, 89.99999999998977), 'blockxsize': 432, 'blockysize': 224, 'tiled': True, 'compress': 'packbits', 'interleave': 'band'}\n",
      "{'driver': 'GTiff', 'dtype': 'float32', 'nodata': None, 'width': 4320, 'height': 2160, 'count': 1, 'crs': CRS({'init': 'epsg:4326'}), 'transform': Affine(0.0833333333333286, 0.0, -180.0,\n",
      "       0.0, -0.0833333333333286, 89.99999999998977), 'blockxsize': 432, 'blockysize': 224, 'tiled': True, 'compress': 'packbits', 'interleave': 'band'}\n"
     ]
    }
   ],
   "source": [
    "files = [local_orig1, local_orig2, local_orig3, local_orig4, local_orig5, local_orig6, local_orig7, local_orig8]\n",
    "for file in files:\n",
    "    with rio.open(file, 'r') as src:\n",
    "        profile = src.profile\n",
    "        print(profile)"
   ]
  },
  {
   "cell_type": "code",
   "execution_count": 25,
   "metadata": {},
   "outputs": [],
   "source": [
    "# Note - this is the core of Vizz's netcdf2tif function\n",
    "def convert_asc_to_tif(orig_name, edit_name):\n",
    "\n",
    "    with rio.open(orig_name, 'r') as src:\n",
    "        # This assumes data is readable by rasterio\n",
    "        # May need to open instead with netcdf4.Dataset, for example\n",
    "\n",
    "        data = src.read()[0]\n",
    "\n",
    "        rows = data.shape[0]\n",
    "        columns = data.shape[1]\n",
    "\n",
    "        print(rows)\n",
    "        print(columns)\n",
    "\n",
    "        # Latitude bounds\n",
    "        south_lat = -90\n",
    "        north_lat = 90\n",
    "\n",
    "        # Longitude bounds\n",
    "        west_lon = -180\n",
    "        east_lon = 180\n",
    "\n",
    "        transform = rio.transform.from_bounds(west_lon, south_lat, east_lon, north_lat, columns, rows)\n",
    "\n",
    "        # Profile\n",
    "\n",
    "        no_data_val = None\n",
    "        target_projection = 'EPSG:4326'\n",
    "        target_data_type = np.float64\n",
    "\n",
    "        profile = {\n",
    "            'driver':'GTiff', \n",
    "            'height':rows, \n",
    "            'width':columns, \n",
    "            'count':1, \n",
    "            'dtype':target_data_type, \n",
    "            'crs':target_projection, \n",
    "            'transform':transform, \n",
    "            'compress':'lzw', \n",
    "            'nodata': no_data_val\n",
    "        }\n",
    "\n",
    "        with rio.open(edit_name, \"w\", **profile) as dst:\n",
    "            dst.write(data.astype(profile[\"dtype\"]), 1)"
   ]
  },
  {
   "cell_type": "code",
   "execution_count": 26,
   "metadata": {},
   "outputs": [
    {
     "name": "stdout",
     "output_type": "stream",
     "text": [
      "2160\n",
      "4320\n",
      "2160\n",
      "4320\n",
      "2160\n",
      "4320\n",
      "2160\n",
      "4320\n",
      "2160\n",
      "4320\n",
      "2160\n",
      "4320\n",
      "2160\n",
      "4320\n",
      "2160\n",
      "4320\n"
     ]
    }
   ],
   "source": [
    "convert_asc_to_tif(local_orig1, local_edit1)\n",
    "convert_asc_to_tif(local_orig2, local_edit2)\n",
    "convert_asc_to_tif(local_orig3, local_edit3)\n",
    "convert_asc_to_tif(local_orig4, local_edit4)\n",
    "convert_asc_to_tif(local_orig5, local_edit5)\n",
    "convert_asc_to_tif(local_orig6, local_edit6)\n",
    "convert_asc_to_tif(local_orig7, local_edit7)\n",
    "convert_asc_to_tif(local_orig8, local_edit8)"
   ]
  },
  {
   "cell_type": "code",
   "execution_count": 27,
   "metadata": {},
   "outputs": [
    {
     "name": "stdout",
     "output_type": "stream",
     "text": [
      "0\n",
      "1\n",
      "2\n",
      "3\n"
     ]
    }
   ],
   "source": [
    "with rio.open(merge_files_1[0]) as src:\n",
    "    kwargs = src.profile\n",
    "    \n",
    "kwargs.update(\n",
    "    count=len(merge_files_1)\n",
    ")\n",
    "    \n",
    "with rio.open(tmp_merge_1, 'w', **kwargs) as dst:\n",
    "    for idx, file in enumerate(merge_files_1):\n",
    "        print(idx)\n",
    "        with rio.open(file) as src:\n",
    "\n",
    "            band = idx+1\n",
    "            windows = src.block_windows()\n",
    "\n",
    "            for win_id, window in windows:\n",
    "                src_data = src.read(1, window=window)\n",
    "                dst.write_band(band, src_data, window=window)\n",
    "                \n",
    "\n",
    "    "
   ]
  },
  {
   "cell_type": "code",
   "execution_count": 30,
   "metadata": {},
   "outputs": [
    {
     "name": "stdout",
     "output_type": "stream",
     "text": [
      "0\n",
      "1\n",
      "2\n",
      "3\n"
     ]
    }
   ],
   "source": [
    "with rio.open(merge_files_2[0]) as src:\n",
    "    kwargs = src.profile\n",
    "    \n",
    "kwargs.update(\n",
    "    count=len(merge_files_2)\n",
    ")\n",
    "    \n",
    "with rio.open(tmp_merge_2, 'w', **kwargs) as dst:\n",
    "    for idx, file in enumerate(merge_files_2):\n",
    "        print(idx)\n",
    "        with rio.open(file) as src:\n",
    "\n",
    "            band = idx+1\n",
    "            windows = src.block_windows()\n",
    "\n",
    "            for win_id, window in windows:\n",
    "                src_data = src.read(1, window=window)\n",
    "                dst.write_band(band, src_data, window=window)\n",
    "                "
   ]
  },
  {
   "cell_type": "markdown",
   "metadata": {},
   "source": []
  },
  {
   "cell_type": "markdown",
   "metadata": {},
   "source": [
    "Upload orig and edit files to s3"
   ]
  },
  {
   "cell_type": "code",
   "execution_count": 28,
   "metadata": {},
   "outputs": [
    {
     "name": "stdout",
     "output_type": "stream",
     "text": [
      "/Users/Max81007/Desktop/Python/Resource_Watch/Raster/foo.037/yt_geotiff/foo_037_crops_Yield_Trends_percent.tif  11841616 / 11841616.0  (100.00%)%)"
     ]
    }
   ],
   "source": [
    "# Original\n",
    "s3_upload.upload_file(local_orig1, s3_bucket, s3_key_orig1,\n",
    "                         Callback=ProgressPercentage(local_orig1))\n",
    "s3_upload.upload_file(local_orig2, s3_bucket, s3_key_orig2,\n",
    "                         Callback=ProgressPercentage(local_orig2))\n",
    "s3_upload.upload_file(local_orig3, s3_bucket, s3_key_orig3,\n",
    "                         Callback=ProgressPercentage(local_orig3))\n",
    "s3_upload.upload_file(local_orig4, s3_bucket, s3_key_orig4,\n",
    "                         Callback=ProgressPercentage(local_orig4))\n",
    "s3_upload.upload_file(local_orig5, s3_bucket, s3_key_orig5,\n",
    "                         Callback=ProgressPercentage(local_orig5))\n",
    "s3_upload.upload_file(local_orig6, s3_bucket, s3_key_orig6,\n",
    "                         Callback=ProgressPercentage(local_orig6))\n",
    "s3_upload.upload_file(local_orig7, s3_bucket, s3_key_orig7,\n",
    "                         Callback=ProgressPercentage(local_orig7))\n",
    "s3_upload.upload_file(local_orig8, s3_bucket, s3_key_orig8,\n",
    "                         Callback=ProgressPercentage(local_orig8))\n",
    "\n",
    "# Edit\n",
    "s3_upload.upload_file(local_edit1, s3_bucket, s3_key_edit1,\n",
    "                         Callback=ProgressPercentage(local_edit1))\n",
    "s3_upload.upload_file(local_edit2, s3_bucket, s3_key_edit2,\n",
    "                         Callback=ProgressPercentage(local_edit2))\n",
    "s3_upload.upload_file(local_edit3, s3_bucket, s3_key_edit3,\n",
    "                         Callback=ProgressPercentage(local_edit3))\n",
    "s3_upload.upload_file(local_edit4, s3_bucket, s3_key_edit4,\n",
    "                         Callback=ProgressPercentage(local_edit4))\n",
    "s3_upload.upload_file(local_edit5, s3_bucket, s3_key_edit5,\n",
    "                         Callback=ProgressPercentage(local_edit5))\n",
    "s3_upload.upload_file(local_edit6, s3_bucket, s3_key_edit6,\n",
    "                         Callback=ProgressPercentage(local_edit6))\n",
    "s3_upload.upload_file(local_edit7, s3_bucket, s3_key_edit7,\n",
    "                         Callback=ProgressPercentage(local_edit7))\n",
    "s3_upload.upload_file(local_edit8, s3_bucket, s3_key_edit8,\n",
    "                         Callback=ProgressPercentage(local_edit8))\n",
    "\n",
    "# Merge Files\n",
    "\n",
    "s3_upload.upload_file(tmp_merge_1, s3_bucket, s3_key_merge_1,\n",
    "           Callback=ProgressPercentage(tmp_merge_1))\n",
    "s3_upload.upload_file(tmp_merge_2, s3_bucket, s3_key_merge_2,\n",
    "           Callback=ProgressPercentage(tmp_merge_2))\n"
   ]
  },
  {
   "cell_type": "code",
   "execution_count": 31,
   "metadata": {},
   "outputs": [],
   "source": [
    "os.environ[\"Zs3_key_1\"] = \"s3://wri-public-data/\" + s3_key_merge_1 \n",
    "os.environ[\"Zs3_key_inspect_1\"] = \"wri-public-data/\" + s3_key_merge_1  \n",
    "\n",
    "os.environ[\"Zs3_key_2\"] = \"s3://wri-public-data/\" + s3_key_merge_2 \n",
    "os.environ[\"Zs3_key_inspect_2\"] = \"wri-public-data/\" + s3_key_merge_2  "
   ]
  },
  {
   "cell_type": "code",
   "execution_count": 32,
   "metadata": {},
   "outputs": [],
   "source": [
    "os.environ[\"Zgs_key_1\"] = \"gs://resource-watch-public/\" + s3_key_merge_1\n",
    "os.environ[\"Zgs_key_2\"] = \"gs://resource-watch-public/\" + s3_key_merge_2"
   ]
  },
  {
   "cell_type": "code",
   "execution_count": 33,
   "metadata": {},
   "outputs": [
    {
     "name": "stdout",
     "output_type": "stream",
     "text": [
      "wri-public-data/resourcewatch/raster/foo_037_crops_Yield_Trends/foo_037_crops_Yield_Trends_categorical.tif\n",
      "2017-09-28 14:27:45    9282505 foo_037_crops_Yield_Trends_categorical.tif\n",
      "wri-public-data/resourcewatch/raster/foo_037_crops_Yield_Trends/foo_037_crops_Yield_Trends_percent.tif\n",
      "2017-09-28 14:27:46   11841616 foo_037_crops_Yield_Trends_percent.tif\n"
     ]
    }
   ],
   "source": [
    "!echo %Zs3_key_inspect_1%\n",
    "!aws s3 ls %Zs3_key_inspect_1%\n",
    "\n",
    "!echo %Zs3_key_inspect_2%\n",
    "!aws s3 ls %Zs3_key_inspect_2%"
   ]
  },
  {
   "cell_type": "code",
   "execution_count": 34,
   "metadata": {},
   "outputs": [
    {
     "name": "stderr",
     "output_type": "stream",
     "text": [
      "Non-MD5 etag (\"2e7eaf019f8da9126269a0f6ad8cab6f-2\") present for key <Key: wri-public-data,resourcewatch/raster/foo_037_crops_Yield_Trends/foo_037_crops_Yield_Trends_categorical.tif>, data integrity checks are not possible.\n",
      "Copying s3://wri-public-data/resourcewatch/raster/foo_037_crops_Yield_Trends/foo_037_crops_Yield_Trends_categorical.tif [Content-Type=binary/octet-stream]...\n",
      "/ [0 files][    0.0 B/  8.9 MiB]                                                \n",
      "-\n",
      "- [0 files][  5.7 MiB/  8.9 MiB]                                                \n",
      "\\\n",
      "WARNING: Found no hashes to validate object downloaded from s3://wri-public-data/resourcewatch/raster/foo_037_crops_Yield_Trends/foo_037_crops_Yield_Trends_categorical.tif and uploaded to gs://resource-watch-public/resourcewatch/raster/foo_037_crops_Yield_Trends/foo_037_crops_Yield_Trends_categorical.tif. Integrity cannot be assured without hashes.\n",
      "\\ [1 files][  8.9 MiB/  8.9 MiB]                                                \n",
      "\n",
      "Operation completed over 1 objects/8.9 MiB.                                      \n",
      "Non-MD5 etag (\"a747243df8768ca7d2f21e9bfa82b85f-2\") present for key <Key: wri-public-data,resourcewatch/raster/foo_037_crops_Yield_Trends/foo_037_crops_Yield_Trends_percent.tif>, data integrity checks are not possible.\n",
      "Copying s3://wri-public-data/resourcewatch/raster/foo_037_crops_Yield_Trends/foo_037_crops_Yield_Trends_percent.tif [Content-Type=binary/octet-stream]...\n",
      "/ [0 files][    0.0 B/ 11.3 MiB]                                                \n",
      "-\n",
      "- [0 files][  6.5 MiB/ 11.3 MiB]                                                \n",
      "\\\n",
      "WARNING: Found no hashes to validate object downloaded from s3://wri-public-data/resourcewatch/raster/foo_037_crops_Yield_Trends/foo_037_crops_Yield_Trends_percent.tif and uploaded to gs://resource-watch-public/resourcewatch/raster/foo_037_crops_Yield_Trends/foo_037_crops_Yield_Trends_percent.tif. Integrity cannot be assured without hashes.\n",
      "\\ [1 files][ 11.3 MiB/ 11.3 MiB]                                                \n",
      "|\n",
      "\n",
      "Operation completed over 1 objects/11.3 MiB.                                     \n"
     ]
    }
   ],
   "source": [
    "!gsutil cp %Zs3_key_1% %Zgs_key_1%\n",
    "!gsutil cp %Zs3_key_2% %Zgs_key_2%"
   ]
  },
  {
   "cell_type": "code",
   "execution_count": 35,
   "metadata": {},
   "outputs": [
    {
     "name": "stdout",
     "output_type": "stream",
     "text": [
      "Started upload task with ID: IQ77CCV6GJZ3GQAEFPQIDEUF\n",
      "Started upload task with ID: RZTZEWHC262U545ZKTF2OSN7\n"
     ]
    }
   ],
   "source": [
    "os.environ[\"asset_id_1\"] = \"users/resourcewatch/foo_037_crops_yield_trends_categorical\"\n",
    "!earthengine upload image --asset_id=%asset_id_1% %Zgs_key_1%\n",
    "\n",
    "os.environ[\"asset_id_2\"] = \"users/resourcewatch/foo_037_crops_yield_trends_percent\"\n",
    "!earthengine upload image --asset_id=%asset_id_2% %Zgs_key_2%"
   ]
  },
  {
   "cell_type": "code",
   "execution_count": 44,
   "metadata": {},
   "outputs": [],
   "source": [
    "os.environ[\"band_names\"] = str(band_ids_category)\n",
    "!earthengine asset set -p band_names=\"%band_names%\" %asset_id_1%\n",
    "\n"
   ]
  },
  {
   "cell_type": "code",
   "execution_count": 45,
   "metadata": {},
   "outputs": [],
   "source": [
    "os.environ[\"band_names\"] = str(band_ids_percent)\n",
    "!earthengine asset set -p band_names=\"%band_names%\" %asset_id_2%"
   ]
  }
 ],
 "metadata": {
  "kernelspec": {
   "display_name": "Python 3",
   "language": "python",
   "name": "python3"
  },
  "language_info": {
   "codemirror_mode": {
    "name": "ipython",
    "version": 3
   },
   "file_extension": ".py",
   "mimetype": "text/x-python",
   "name": "python",
   "nbconvert_exporter": "python",
   "pygments_lexer": "ipython3",
   "version": "3.6.2"
  }
 },
 "nbformat": 4,
 "nbformat_minor": 2
}
