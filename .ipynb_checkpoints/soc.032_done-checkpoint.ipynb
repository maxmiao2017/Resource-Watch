{
 "cells": [
  {
   "cell_type": "markdown",
   "metadata": {},
   "source": [
    "Satellite Estimates of the Extent of Cities\tsoc.032\thttps://ciesin.columbia.edu/data/hrsl/"
   ]
  },
  {
   "cell_type": "markdown",
   "metadata": {},
   "source": [
    "soc.032 https://ciesin.columbia.edu/data/hrsl/\n",
    "Downloaded to RW_Data/Rasters/High_Resolution_Settlement_Layers\n",
    "File type: tif"
   ]
  },
  {
   "cell_type": "markdown",
   "metadata": {},
   "source": [
    "Import libraries"
   ]
  },
  {
   "cell_type": "code",
   "execution_count": 1,
   "metadata": {},
   "outputs": [],
   "source": [
    "# Libraries for downloading data from remote server (may be ftp)\n",
    "import requests\n",
    "from urllib.request import urlopen\n",
    "from contextlib import closing\n",
    "import shutil\n",
    "\n",
    "# Library for uploading/downloading data to/from S3\n",
    "import boto3\n",
    "\n",
    "# Libraries for handling data\n",
    "import rasterio as rio\n",
    "from rasterio.warp import calculate_default_transform, reproject, Resampling\n",
    "from rasterio import crs\n",
    "\n",
    "import numpy as np\n",
    "# from netCDF4 import Dataset\n",
    "# import pandas as pd\n",
    "# import scipy\n",
    "\n",
    "# Libraries for various helper functions\n",
    "# from datetime import datetime\n",
    "import os\n",
    "import threading\n",
    "import sys\n",
    "from glob import glob\n",
    "\n"
   ]
  },
  {
   "cell_type": "code",
   "execution_count": 2,
   "metadata": {},
   "outputs": [],
   "source": [
    "from matplotlib import pyplot\n",
    "%matplotlib inline"
   ]
  },
  {
   "cell_type": "markdown",
   "metadata": {},
   "source": [
    "s3 tools"
   ]
  },
  {
   "cell_type": "code",
   "execution_count": 3,
   "metadata": {},
   "outputs": [],
   "source": [
    "s3_upload = boto3.client(\"s3\")\n",
    "s3_download = boto3.resource(\"s3\")\n",
    "\n",
    "s3_bucket = \"wri-public-data\"\n",
    "s3_folder = \"resourcewatch/raster/soc_032_High_Resolution_Settlement_Layers/\"\n",
    "\n",
    "s3_file1 = \"Satellite_Estimates_bfa.tif\"\n",
    "s3_file2 = \"Satellite_Estimates_civ.tif\"\n",
    "s3_file3 = \"Satellite_Estimates_gha.tif\"\n",
    "s3_file4 = \"Satellite_Estimates_hti.tif\"\n",
    "s3_file5 = \"Satellite_Estimates_lki.tif\"\n",
    "s3_file6 = \"Satellite_Estimates_mdg.tif\"\n",
    "s3_file7 = \"Satellite_Estimates_mwi.tif\"\n",
    "s3_file8 = \"Satellite_Estimates_zaf.tif\"\n",
    "\n",
    "s3_key_orig1 = s3_folder + s3_file1\n",
    "s3_key_edit1 = s3_key_orig1[0:-4] + \"_edit.tif\"\n",
    "\n",
    "s3_key_orig2 = s3_folder + s3_file2\n",
    "s3_key_edit2 = s3_key_orig2[0:-4] + \"_edit.tif\"\n",
    "\n",
    "s3_key_orig3 = s3_folder + s3_file3\n",
    "s3_key_edit3 = s3_key_orig3[0:-4] + \"_edit.tif\"\n",
    "\n",
    "s3_key_orig4 = s3_folder + s3_file4\n",
    "s3_key_edit4 = s3_key_orig4[0:-4] + \"_edit.tif\"\n",
    "\n",
    "s3_key_orig5 = s3_folder + s3_file5\n",
    "s3_key_edit5 = s3_key_orig5[0:-4] + \"_edit.tif\"\n",
    "\n",
    "s3_key_orig6= s3_folder + s3_file6\n",
    "s3_key_edit6 = s3_key_orig6[0:-4] + \"_edit.tif\"\n",
    "\n",
    "s3_key_orig7 = s3_folder + s3_file7\n",
    "s3_key_edit7 = s3_key_orig7[0:-4] + \"_edit.tif\"\n",
    "\n",
    "s3_key_orig8 = s3_folder + s3_file8\n",
    "s3_key_edit8 = s3_key_orig8[0:-4] + \"_edit.tif\"\n",
    "\n",
    "\n",
    "class ProgressPercentage(object):\n",
    "        def __init__(self, filename):\n",
    "            self._filename = filename\n",
    "            self._size = float(os.path.getsize(filename))\n",
    "            self._seen_so_far = 0\n",
    "            self._lock = threading.Lock()\n",
    "\n",
    "        def __call__(self, bytes_amount):\n",
    "            # To simplify we'll assume this is hooked up\n",
    "            # to a single filename.\n",
    "            with self._lock:\n",
    "                self._seen_so_far += bytes_amount\n",
    "                percentage = (self._seen_so_far / self._size) * 100\n",
    "                sys.stdout.write(\"\\r%s  %s / %s  (%.2f%%)\"%(\n",
    "                        self._filename, self._seen_so_far, self._size,\n",
    "                        percentage))\n",
    "                sys.stdout.flush()"
   ]
  },
  {
   "cell_type": "markdown",
   "metadata": {},
   "source": [
    "Potentially useful for online directories"
   ]
  },
  {
   "cell_type": "markdown",
   "metadata": {},
   "source": [
    "Define local file locations"
   ]
  },
  {
   "cell_type": "code",
   "execution_count": 4,
   "metadata": {},
   "outputs": [],
   "source": [
    "local_folder = \"/Users/Max81007/Desktop/Python/Resource_Watch/Raster/soc_032/\"\n",
    "\n",
    "file_name1 = \"hrsl_bfa.tif\"\n",
    "file_name2 = \"hrsl_civ.tif\"\n",
    "file_name3 = \"hrsl_gha.tif\"\n",
    "file_name4 = \"hrsl_hti.tif\"\n",
    "file_name5 = \"hrsl_lka.tif\"\n",
    "file_name6 = \"hrsl_mdg.tif\"\n",
    "file_name7 = \"hrsl_mwi.tif\"\n",
    "file_name8 = \"hrsl_zaf.tif\"\n",
    "\n",
    "local_orig1 = local_folder + file_name1\n",
    "local_orig2 = local_folder + file_name2\n",
    "local_orig3 = local_folder + file_name3\n",
    "local_orig4 = local_folder + file_name4\n",
    "local_orig5 = local_folder + file_name5\n",
    "local_orig6 = local_folder + file_name6\n",
    "local_orig7 = local_folder + file_name7\n",
    "local_orig8 = local_folder + file_name8\n",
    "\n",
    "orig_extension_length = 4 #4 for each char in .tif\n",
    "\n",
    "local_edit1 = local_orig1[:-orig_extension_length] + \"edit.tif\" \n",
    "local_edit2 = local_orig2[:-orig_extension_length] + \"edit.tif\" \n",
    "local_edit3 = local_orig3[:-orig_extension_length] + \"edit.tif\" \n",
    "local_edit4 = local_orig4[:-orig_extension_length] + \"edit.tif\" \n",
    "local_edit5 = local_orig5[:-orig_extension_length] + \"edit.tif\" \n",
    "local_edit6 = local_orig6[:-orig_extension_length] + \"edit.tif\" \n",
    "local_edit7 = local_orig7[:-orig_extension_length] + \"edit.tif\" \n",
    "local_edit8 = local_orig8[:-orig_extension_length] + \"edit.tif\" \n",
    " "
   ]
  },
  {
   "cell_type": "code",
   "execution_count": 30,
   "metadata": {},
   "outputs": [
    {
     "name": "stdout",
     "output_type": "stream",
     "text": [
      "{'driver': 'GTiff', 'dtype': 'float64', 'nodata': -1.797693e+308, 'width': 28521, 'height': 20442, 'count': 3, 'crs': CRS({'init': 'epsg:4326'}), 'transform': Affine(0.00027777778, 0.0, -5.51750159589,\n",
      "       0.0, -0.00027777777999999997, 15.08085328887), 'blockxsize': 128, 'blockysize': 128, 'tiled': True, 'compress': 'lzw', 'interleave': 'pixel'}\n",
      "{'driver': 'GTiff', 'dtype': 'float64', 'nodata': -1.797693e+308, 'width': 23663, 'height': 23147, 'count': 3, 'crs': CRS({'init': 'epsg:4326'}), 'transform': Affine(0.00027777778, 0.0, -8.699786940029828,\n",
      "       0.0, -0.00027777778, 10.776650824770048), 'blockxsize': 128, 'blockysize': 128, 'tiled': True, 'compress': 'lzw', 'interleave': 'pixel'}\n",
      "{'driver': 'GTiff', 'dtype': 'float64', 'nodata': -1.797693e+308, 'width': 23663, 'height': 23147, 'count': 3, 'crs': CRS({'init': 'epsg:4326'}), 'transform': Affine(0.00027777778, 0.0, -8.699786940029828,\n",
      "       0.0, -0.00027777778, 10.776650824770048), 'blockxsize': 128, 'blockysize': 128, 'tiled': True, 'compress': 'lzw', 'interleave': 'pixel'}\n",
      "{'driver': 'GTiff', 'dtype': 'float64', 'nodata': -1.797693e+308, 'width': 12473, 'height': 7513, 'count': 3, 'crs': CRS({'init': 'epsg:4326'}), 'transform': Affine(0.000277777780000804, 0.0, -74.4806944449,\n",
      "       0.0, -0.00027777778000080385, 20.091805572250053), 'blockxsize': 128, 'blockysize': 128, 'tiled': True, 'compress': 'lzw', 'interleave': 'pixel'}\n",
      "{'driver': 'GTiff', 'dtype': 'float64', 'nodata': -1.797693e+308, 'width': 8757, 'height': 14103, 'count': 3, 'crs': CRS({'init': 'epsg:4326'}), 'transform': Affine(0.0002777777800000009, 0.0, 79.4531386991,\n",
      "       0.0, -0.0002777777800000016, 9.835976147450015), 'blockxsize': 128, 'blockysize': 128, 'tiled': True, 'compress': 'lzw', 'interleave': 'pixel'}\n",
      "{'driver': 'GTiff', 'dtype': 'float64', 'nodata': -1.797693e+308, 'width': 28311, 'height': 49159, 'count': 3, 'crs': CRS({'init': 'epsg:4326'}), 'transform': Affine(0.0002777777800002045, 0.0, 42.8957414171,\n",
      "       0.0, -0.0002777777800002046, -11.950733660869941), 'blockxsize': 128, 'blockysize': 128, 'tiled': True, 'compress': 'lzw', 'interleave': 'pixel'}\n",
      "{'driver': 'GTiff', 'dtype': 'float64', 'nodata': -1.797693e+308, 'width': 11606, 'height': 27931, 'count': 3, 'crs': CRS({'init': 'epsg:4326'}), 'transform': Affine(0.00027777778000178554, 0.0, 32.6793147693,\n",
      "       0.0, -0.0002777777800017853, -9.368671278719994), 'blockxsize': 128, 'blockysize': 128, 'tiled': True, 'compress': 'lzw', 'interleave': 'pixel'}\n",
      "{'driver': 'GTiff', 'dtype': 'float64', 'nodata': -1.797693e+308, 'width': 66612, 'height': 45748, 'count': 3, 'crs': CRS({'init': 'epsg:4326'}), 'transform': Affine(0.0002777777800001498, 0.0, 14.4002176281,\n",
      "       0.0, -0.00027777778000014975, -22.129693342449833), 'blockxsize': 128, 'blockysize': 128, 'tiled': True, 'compress': 'lzw', 'interleave': 'pixel'}\n"
     ]
    }
   ],
   "source": [
    "files = [local_orig1, local_orig2, local_orig2, local_orig4, local_orig5, local_orig6, local_orig7, local_orig8]\n",
    "for file in files:\n",
    "    with rio.open(file, 'r') as src:\n",
    "        profile = src.profile\n",
    "        print(profile)"
   ]
  },
  {
   "cell_type": "code",
   "execution_count": 24,
   "metadata": {},
   "outputs": [
    {
     "name": "stdout",
     "output_type": "stream",
     "text": [
      "{'driver': 'GTiff', 'dtype': 'float64', 'nodata': -1.797693e+308, 'width': 28521, 'height': 20442, 'count': 3, 'crs': CRS({'init': 'epsg:4326'}), 'transform': Affine(0.00027777778, 0.0, -5.51750159589,\n",
      "       0.0, -0.00027777777999999997, 15.08085328887), 'blockxsize': 128, 'blockysize': 128, 'tiled': True, 'compress': 'lzw', 'interleave': 'pixel'}\n",
      "{'driver': 'GTiff', 'dtype': 'float64', 'nodata': -1.797693e+308, 'width': 28521, 'height': 20442, 'count': 3, 'crs': CRS({'init': 'epsg:4326'}), 'transform': Affine(0.00027777778, 0.0, -5.51750159589,\n",
      "       0.0, -0.00027777777999999997, 15.08085328887), 'blockxsize': 128, 'blockysize': 128, 'compress': 'lzw', 'interleave': 'pixel', 'tiled': True}\n"
     ]
    }
   ],
   "source": [
    "files = [local_orig1, local_edit1]\n",
    "for file in files:\n",
    "    with rio.open(file, 'r') as src:\n",
    "        profile = src.profile\n",
    "        print(profile)"
   ]
  },
  {
   "cell_type": "markdown",
   "metadata": {},
   "source": [
    "Use rasterio to reproject and compress"
   ]
  },
  {
   "cell_type": "code",
   "execution_count": null,
   "metadata": {},
   "outputs": [],
   "source": [
    "# Note - this is the core of Vizz's netcdf2tif function\n",
    "def reprojection(orig_name, edit_name):\n",
    "    with rio.open(orig_name, 'r') as src:\n",
    "        # This assumes data is readable by rasterio\n",
    "        # May need to open instead with netcdf4.Dataset, for example\n",
    "\n",
    "        profile = src.profile\n",
    "        dst_crs = crs.CRS({\"init\":\"EPSG:4326\"})\n",
    "        target_data_type = np.float64 \n",
    "        no_data_val = none \n",
    "       \n",
    "        dst_affine, dst_width, dst_height = calculate_default_transform(\n",
    "                src.crs, dst_crs, src.width, src.height, *src.bounds)\n",
    "\n",
    "        # Profile\n",
    "\n",
    "        profile = {\n",
    "            'driver':'GTiff', \n",
    "            'height':dst_height, \n",
    "            'width':dst_width, \n",
    "            'count':1, \n",
    "            'dtype':target_data_type, \n",
    "            'crs':dst_crs, \n",
    "            'transform':dst_affine, \n",
    "            'compress':'lzw', \n",
    "            'nodata': no_data_val\n",
    "        }\n",
    "        \n",
    "        windows = src.block_windows()\n",
    "\n",
    "        with rio.open(edit_name, \"w\", **profile) as dst:\n",
    "#             for ix, window in windows:\n",
    "#                 if(ix[0]%100==0):\n",
    "#                     print(ix)\n",
    "                \n",
    "#             src_array = src.read(1, window=window)\n",
    "            src_array = src.read(1)\n",
    "            dst_array = np.empty((dst_height, dst_width), dtype='uint8')\n",
    "\n",
    "            reproject(\n",
    "                # Source parameters\n",
    "                source=src_array,\n",
    "                src_crs=src.crs,\n",
    "                src_transform=src.affine,\n",
    "                # Destination paramaters\n",
    "                destination=dst_array,\n",
    "                dst_transform=dst_affine,\n",
    "                dst_crs=dst_crs,\n",
    "                # Configuration\n",
    "                resampling=Resampling.nearest,\n",
    "                num_threads=2)                \n",
    "\n",
    "#             dst.write(data.astype(profile[\"dtype\"]), 1, window=window)\n",
    "            dst.write(src_array.astype(profile[\"dtype\"]), 1)\n",
    "    \n",
    "    "
   ]
  },
  {
   "cell_type": "code",
   "execution_count": 20,
   "metadata": {},
   "outputs": [
    {
     "name": "stderr",
     "output_type": "stream",
     "text": [
      "ERROR:rasterio._gdal:CPLE_OpenFailed in `C:\\Users\\Max81007\\Desktop\\Py_Scripts\\RW_Raster_Getters\\hrsl_bfa.tif' does not exist in the file system,\n",
      "and is not recognized as a supported dataset name.\n",
      "\n",
      "Traceback (most recent call last):\n",
      "  File \"rasterio\\_base.pyx\", line 146, in rasterio._base.DatasetBase.start (rasterio/_base.c:3979)\n",
      "  File \"rasterio\\_err.pyx\", line 189, in rasterio._err.exc_wrap_pointer (rasterio/_err.c:2199)\n",
      "rasterio._err.CPLE_OpenFailedError: 'C:\\Users\\Max81007\\Desktop\\Py_Scripts\\RW_Raster_Getters\\hrsl_bfa.tif' does not exist in the file system, and is not recognized as a supported dataset name. \n",
      "\n",
      "During handling of the above exception, another exception occurred:\n",
      "\n",
      "Traceback (most recent call last):\n",
      "  File \"c:\\users\\max81007\\appdata\\local\\programs\\python\\python36-32\\lib\\runpy.py\", line 193, in _run_module_as_main\n",
      "    \"__main__\", mod_spec)\n",
      "  File \"c:\\users\\max81007\\appdata\\local\\programs\\python\\python36-32\\lib\\runpy.py\", line 85, in _run_code\n",
      "    exec(code, run_globals)\n",
      "  File \"C:\\Users\\Max81007\\AppData\\Local\\Programs\\Python\\Python36-32\\Scripts\\rio.exe\\__main__.py\", line 9, in <module>\n",
      "  File \"c:\\users\\max81007\\appdata\\local\\programs\\python\\python36-32\\lib\\site-packages\\click\\core.py\", line 722, in __call__\n",
      "    return self.main(*args, **kwargs)\n",
      "  File \"c:\\users\\max81007\\appdata\\local\\programs\\python\\python36-32\\lib\\site-packages\\click\\core.py\", line 697, in main\n",
      "    rv = self.invoke(ctx)\n",
      "  File \"c:\\users\\max81007\\appdata\\local\\programs\\python\\python36-32\\lib\\site-packages\\click\\core.py\", line 1066, in invoke\n",
      "    return _process_result(sub_ctx.command.invoke(sub_ctx))\n",
      "  File \"c:\\users\\max81007\\appdata\\local\\programs\\python\\python36-32\\lib\\site-packages\\click\\core.py\", line 895, in invoke\n",
      "    return ctx.invoke(self.callback, **ctx.params)\n",
      "  File \"c:\\users\\max81007\\appdata\\local\\programs\\python\\python36-32\\lib\\site-packages\\click\\core.py\", line 535, in invoke\n",
      "    return callback(*args, **kwargs)\n",
      "  File \"c:\\users\\max81007\\appdata\\local\\programs\\python\\python36-32\\lib\\site-packages\\click\\decorators.py\", line 17, in new_func\n",
      "    return f(get_current_context(), *args, **kwargs)\n",
      "  File \"c:\\users\\max81007\\appdata\\local\\programs\\python\\python36-32\\lib\\site-packages\\rasterio\\rio\\warp.py\", line 150, in warp\n",
      "    with rasterio.open(files[0]) as src:\n",
      "  File \"c:\\users\\max81007\\appdata\\local\\programs\\python\\python36-32\\lib\\site-packages\\rasterio\\__init__.py\", line 290, in open\n",
      "    s.start()\n",
      "  File \"rasterio\\_base.pyx\", line 148, in rasterio._base.DatasetBase.start (rasterio/_base.c:4081)\n",
      "rasterio.errors.RasterioIOError: 'C:\\Users\\Max81007\\Desktop\\Py_Scripts\\RW_Raster_Getters\\hrsl_bfa.tif' does not exist in the file system, and is not recognized as a supported dataset name. \n"
     ]
    }
   ],
   "source": [
    "!cd /Users/Max81007/Desktop/Python/Resource_Watch/Raster/soc_032/ \n",
    "!rio warp hrsl_bfa.tif hrsl_bfaedit.tif --dst-crs EPSG:4326\n",
    "   "
   ]
  },
  {
   "cell_type": "code",
   "execution_count": null,
   "metadata": {},
   "outputs": [],
   "source": [
    "reprojection(local_orig1, local_edit1)"
   ]
  },
  {
   "cell_type": "code",
   "execution_count": null,
   "metadata": {},
   "outputs": [],
   "source": [
    "reprojection(local_orig2, local_edit2)"
   ]
  },
  {
   "cell_type": "code",
   "execution_count": null,
   "metadata": {},
   "outputs": [],
   "source": [
    "reprojection(local_orig3, local_edit3)"
   ]
  },
  {
   "cell_type": "code",
   "execution_count": null,
   "metadata": {},
   "outputs": [],
   "source": [
    "reprojection(local_orig4, local_edit4)"
   ]
  },
  {
   "cell_type": "code",
   "execution_count": null,
   "metadata": {},
   "outputs": [],
   "source": [
    "reprojection(local_orig5, local_edit5)"
   ]
  },
  {
   "cell_type": "code",
   "execution_count": null,
   "metadata": {},
   "outputs": [],
   "source": [
    "reprojection(local_orig6, local_edit6)"
   ]
  },
  {
   "cell_type": "code",
   "execution_count": null,
   "metadata": {},
   "outputs": [],
   "source": [
    "reprojection(local_orig7, local_edit7)"
   ]
  },
  {
   "cell_type": "code",
   "execution_count": null,
   "metadata": {},
   "outputs": [],
   "source": [
    "reprojection(local_orig8, local_edit8)"
   ]
  },
  {
   "cell_type": "markdown",
   "metadata": {},
   "source": [
    "Upload orig and edit files to s3"
   ]
  },
  {
   "cell_type": "code",
   "execution_count": 31,
   "metadata": {},
   "outputs": [
    {
     "name": "stdout",
     "output_type": "stream",
     "text": [
      "/Users/Max81007/Desktop/Python/Resource_Watch/Raster/soc_032/hrsl_zaf.tif  712450094 / 712450094.0  (100.00%)"
     ]
    }
   ],
   "source": [
    "# Original\n",
    "s3_upload.upload_file(local_orig1, s3_bucket, s3_key_orig1,\n",
    "                         Callback=ProgressPercentage(local_orig1))\n",
    "s3_upload.upload_file(local_orig2, s3_bucket, s3_key_orig2,\n",
    "                         Callback=ProgressPercentage(local_orig2))\n",
    "s3_upload.upload_file(local_orig3, s3_bucket, s3_key_orig3,\n",
    "                         Callback=ProgressPercentage(local_orig3))\n",
    "s3_upload.upload_file(local_orig4, s3_bucket, s3_key_orig4,\n",
    "                         Callback=ProgressPercentage(local_orig4))\n",
    "s3_upload.upload_file(local_orig5, s3_bucket, s3_key_orig5,\n",
    "                         Callback=ProgressPercentage(local_orig5))\n",
    "s3_upload.upload_file(local_orig6, s3_bucket, s3_key_orig6,\n",
    "                         Callback=ProgressPercentage(local_orig6))\n",
    "s3_upload.upload_file(local_orig7, s3_bucket, s3_key_orig7,\n",
    "                         Callback=ProgressPercentage(local_orig7))\n",
    "s3_upload.upload_file(local_orig8, s3_bucket, s3_key_orig8,\n",
    "                         Callback=ProgressPercentage(local_orig8))\n",
    "\n",
    "# # Edit\n",
    "# s3_upload.upload_file(local_edit1, s3_bucket, s3_key_edit1,\n",
    "#                          Callback=ProgressPercentage(local_edit1))\n",
    "# s3_upload.upload_file(local_edit2, s3_bucket, s3_key_edit2,\n",
    "#                          Callback=ProgressPercentage(local_edit2))\n",
    "# s3_upload.upload_file(local_edit3, s3_bucket, s3_key_edit3,\n",
    "#                          Callback=ProgressPercentage(local_edit3))\n",
    "# s3_upload.upload_file(local_edit4, s3_bucket, s3_key_edit4,\n",
    "#                          Callback=ProgressPercentage(local_edit4))\n",
    "# s3_upload.upload_file(local_edit5, s3_bucket, s3_key_edit5,\n",
    "#                          Callback=ProgressPercentage(local_edit5))\n",
    "# s3_upload.upload_file(local_edit6, s3_bucket, s3_key_edit6,\n",
    "#                          Callback=ProgressPercentage(local_edit6))\n",
    "# s3_upload.upload_file(local_edit7, s3_bucket, s3_key_edit7,\n",
    "#                          Callback=ProgressPercentage(local_edit7))\n",
    "# s3_upload.upload_file(local_edit8, s3_bucket, s3_key_edit8,\n",
    "#                          Callback=ProgressPercentage(local_edit8))"
   ]
  },
  {
   "cell_type": "code",
   "execution_count": null,
   "metadata": {},
   "outputs": [],
   "source": [
    "s3_upload.upload_file(local_edit1, s3_bucket, s3_key_edit1,\n",
    "                         Callback=ProgressPercentage(local_edit1))"
   ]
  },
  {
   "cell_type": "code",
   "execution_count": null,
   "metadata": {},
   "outputs": [],
   "source": [
    "os.environ[\"Zs3_key1\"] = \"s3://wri-public-data/\" + s3_key_orig1\n",
    "os.environ[\"Zgs_key1\"] = \"gs://resource-watch-public/\" + s3_key_orig1\n",
    "!gsutil cp %Zs3_key1% %Zgs_key1%\n",
    "os.environ[\"asset_id1\"] = \"users/resourcewatch/soc_032_high_resolution_settlement_layers_bfa_orig\"\n",
    "!earthengine upload image --asset_id=%asset_id1% %Zgs_key1%"
   ]
  },
  {
   "cell_type": "code",
   "execution_count": null,
   "metadata": {},
   "outputs": [],
   "source": [
    "band_ids = [\"bfa\",\"civ\",\"gha\",\"hti\", \"lka\", \"mdg\",\"mwi\", \"zaf\"]\n",
    "merge_name = \"soc_032_high_resolution_settlement_layers_merge.tif\"\n",
    "s3_key_merge = s3_folder + merge_name"
   ]
  },
  {
   "cell_type": "code",
   "execution_count": null,
   "metadata": {},
   "outputs": [],
   "source": [
    "merge_files = [local_edit1, local_edit2, local_edit3, local_edit4, local_edit5, local_edit6, local_edit7, local_edit8]\n",
    "tmp_merge = local_folder + merge_name"
   ]
  },
  {
   "cell_type": "code",
   "execution_count": null,
   "metadata": {},
   "outputs": [],
   "source": [
    "with rio.open(merge_files[0]) as src:\n",
    "    kwargs = src.profile\n",
    "    \n",
    "kwargs.update(\n",
    "    count=len(merge_files)\n",
    ")\n",
    "    \n",
    "with rio.open(tmp_merge, 'w', **kwargs) as dst:\n",
    "    for idx, file in enumerate(merge_files):\n",
    "        print(idx)\n",
    "        with rio.open(file) as src:\n",
    "\n",
    "            band = idx+1\n",
    "            windows = src.block_windows()\n",
    "\n",
    "            for win_id, window in windows:\n",
    "                src_data = src.read(1, window=window)\n",
    "                dst.write_band(band, src_data, window=window)\n"
   ]
  },
  {
   "cell_type": "code",
   "execution_count": null,
   "metadata": {},
   "outputs": [],
   "source": [
    "!echo %Zs3_key_inspect%\n",
    "!aws s3 ls %Zs3_key_inspect%\n",
    "os.environ[\"Zs3_key_inspect\"] = \"wri-public-data/\" + s3_key_merge"
   ]
  },
  {
   "cell_type": "code",
   "execution_count": 32,
   "metadata": {},
   "outputs": [
    {
     "name": "stderr",
     "output_type": "stream",
     "text": [
      "Non-MD5 etag (\"312b8eb4475a2883d6125e0283859bd4-17\") present for key <Key: wri-public-data,resourcewatch/raster/soc_032_High_Resolution_Settlement_Layers/Satellite_Estimates_bfa.tif>, data integrity checks are not possible.\n",
      "Copying s3://wri-public-data/resourcewatch/raster/soc_032_High_Resolution_Settlement_Layers/Satellite_Estimates_bfa.tif [Content-Type=binary/octet-stream]...\n",
      "/ [0 files][    0.0 B/132.3 MiB]                                                \n",
      "-\n",
      "- [0 files][  4.4 MiB/132.3 MiB]                                                \n",
      "\\\n",
      "|\n",
      "| [0 files][ 12.1 MiB/132.3 MiB]                                                \n",
      "/\n",
      "/ [0 files][ 21.7 MiB/132.3 MiB]                                                \n",
      "-\n",
      "\\\n",
      "\\ [0 files][ 30.7 MiB/132.3 MiB]                                                \n",
      "|\n",
      "/\n",
      "/ [0 files][ 40.0 MiB/132.3 MiB]                                                \n",
      "-\n",
      "- [0 files][ 49.8 MiB/132.3 MiB]                                                \n",
      "\\\n",
      "|\n",
      "| [0 files][ 59.3 MiB/132.3 MiB]                                                \n",
      "/\n",
      "-\n",
      "- [0 files][ 69.4 MiB/132.3 MiB]                                                \n",
      "\\\n",
      "\\ [0 files][ 79.2 MiB/132.3 MiB]                                                \n",
      "|\n",
      "/\n",
      "/ [0 files][ 87.9 MiB/132.3 MiB]                                                \n",
      "-\n",
      "- [0 files][ 97.7 MiB/132.3 MiB]    9.5 MiB/s                                   \n",
      "\\\n",
      "|\n",
      "| [0 files][104.2 MiB/132.3 MiB]    8.9 MiB/s                                   \n",
      "/\n",
      "-\n",
      "- [0 files][110.6 MiB/132.3 MiB]    8.2 MiB/s                                   \n",
      "\\\n",
      "\\ [0 files][119.6 MiB/132.3 MiB]    8.0 MiB/s                                   \n",
      "|\n",
      "/\n",
      "/ [0 files][129.7 MiB/132.3 MiB]    8.3 MiB/s                                   \n",
      "-\n",
      "WARNING: Found no hashes to validate object downloaded from s3://wri-public-data/resourcewatch/raster/soc_032_High_Resolution_Settlement_Layers/Satellite_Estimates_bfa.tif and uploaded to gs://resource-watch-public/resourcewatch/raster/soc_032_High_Resolution_Settlement_Layers/Satellite_Estimates_bfa.tif. Integrity cannot be assured without hashes.\n",
      "- [1 files][132.3 MiB/132.3 MiB]    7.4 MiB/s                                   \n",
      "\n",
      "Operation completed over 1 objects/132.3 MiB.                                    \n"
     ]
    },
    {
     "name": "stdout",
     "output_type": "stream",
     "text": [
      "Started upload task with ID: CDIVLSGYSAKFQTESP7BRPI7A\n"
     ]
    }
   ],
   "source": [
    "os.environ[\"Zs3_key1\"] = \"s3://wri-public-data/\" + s3_key_orig1\n",
    "os.environ[\"Zgs_key1\"] = \"gs://resource-watch-public/\" + s3_key_orig1\n",
    "!gsutil cp %Zs3_key1% %Zgs_key1%\n",
    "os.environ[\"asset_id1\"] = \"users/resourcewatch/soc_032_high_resolution_settlement_layers_bfa\"\n",
    "!earthengine upload image --asset_id=%asset_id1% %Zgs_key1%"
   ]
  },
  {
   "cell_type": "code",
   "execution_count": 33,
   "metadata": {},
   "outputs": [
    {
     "name": "stderr",
     "output_type": "stream",
     "text": [
      "Non-MD5 etag (\"cbcff872824938d45d9a5044a07f361e-17\") present for key <Key: wri-public-data,resourcewatch/raster/soc_032_High_Resolution_Settlement_Layers/Satellite_Estimates_civ.tif>, data integrity checks are not possible.\n",
      "Copying s3://wri-public-data/resourcewatch/raster/soc_032_High_Resolution_Settlement_Layers/Satellite_Estimates_civ.tif [Content-Type=binary/octet-stream]...\n",
      "/ [0 files][    0.0 B/134.6 MiB]                                                \n",
      "-\n",
      "- [0 files][  6.5 MiB/134.6 MiB]                                                \n",
      "\\\n",
      "|\n",
      "| [0 files][ 13.9 MiB/134.6 MiB]                                                \n",
      "/\n",
      "/ [0 files][ 22.7 MiB/134.6 MiB]                                                \n",
      "-\n",
      "\\\n",
      "\\ [0 files][ 31.5 MiB/134.6 MiB]                                                \n",
      "|\n",
      "/\n",
      "/ [0 files][ 40.7 MiB/134.6 MiB]                                                \n",
      "-\n",
      "- [0 files][ 48.2 MiB/134.6 MiB]                                                \n",
      "\\\n",
      "|\n",
      "| [0 files][ 56.2 MiB/134.6 MiB]                                                \n",
      "/\n",
      "-\n",
      "- [0 files][ 65.0 MiB/134.6 MiB]                                                \n",
      "\\\n",
      "\\ [0 files][ 74.0 MiB/134.6 MiB]                                                \n",
      "|\n",
      "/\n",
      "/ [0 files][ 82.8 MiB/134.6 MiB]                                                \n",
      "-\n",
      "\\\n",
      "\\ [0 files][ 90.8 MiB/134.6 MiB]    8.4 MiB/s                                   \n",
      "|\n",
      "| [0 files][101.1 MiB/134.6 MiB]    8.8 MiB/s                                   \n",
      "/\n",
      "-\n",
      "- [0 files][108.3 MiB/134.6 MiB]    8.4 MiB/s                                   \n",
      "\\\n",
      "|\n",
      "| [0 files][116.3 MiB/134.6 MiB]    8.2 MiB/s                                   \n",
      "/\n",
      "/ [0 files][125.0 MiB/134.6 MiB]    8.2 MiB/s                                   \n",
      "-\n",
      "\\\n",
      "WARNING: Found no hashes to validate object downloaded from s3://wri-public-data/resourcewatch/raster/soc_032_High_Resolution_Settlement_Layers/Satellite_Estimates_civ.tif and uploaded to gs://resource-watch-public/resourcewatch/raster/soc_032_High_Resolution_Settlement_Layers/Satellite_Estimates_civ.tif. Integrity cannot be assured without hashes.\n",
      "\\ [1 files][134.6 MiB/134.6 MiB]    7.8 MiB/s                                   \n",
      "|\n",
      "\n",
      "Operation completed over 1 objects/134.6 MiB.                                    \n"
     ]
    },
    {
     "name": "stdout",
     "output_type": "stream",
     "text": [
      "Started upload task with ID: HQCCZ7BQPA6SEZGT4HN3TZYC\n"
     ]
    }
   ],
   "source": [
    "os.environ[\"Zs3_key2\"] = \"s3://wri-public-data/\" + s3_key_orig2\n",
    "os.environ[\"Zgs_key2\"] = \"gs://resource-watch-public/\" + s3_key_orig2\n",
    "!gsutil cp %Zs3_key2% %Zgs_key2%\n",
    "os.environ[\"asset_id2\"] = \"users/resourcewatch/soc_032_high_resolution_settlement_layers_civ\"\n",
    "!earthengine upload image --asset_id=%asset_id2% %Zgs_key2%"
   ]
  },
  {
   "cell_type": "code",
   "execution_count": 35,
   "metadata": {},
   "outputs": [
    {
     "name": "stderr",
     "output_type": "stream",
     "text": [
      "Non-MD5 etag (\"39ddfbf634e80fa19941f2366cecdbfb-13\") present for key <Key: wri-public-data,resourcewatch/raster/soc_032_High_Resolution_Settlement_Layers/Satellite_Estimates_gha.tif>, data integrity checks are not possible.\n",
      "Copying s3://wri-public-data/resourcewatch/raster/soc_032_High_Resolution_Settlement_Layers/Satellite_Estimates_gha.tif [Content-Type=binary/octet-stream]...\n",
      "/ [0 files][    0.0 B/ 98.3 MiB]                                                \n",
      "-\n",
      "- [0 files][  4.6 MiB/ 98.3 MiB]                                                \n",
      "\\\n",
      "|\n",
      "| [0 files][ 12.6 MiB/ 98.3 MiB]                                                \n",
      "/\n",
      "/ [0 files][ 19.3 MiB/ 98.3 MiB]                                                \n",
      "-\n",
      "\\\n",
      "\\ [0 files][ 27.1 MiB/ 98.3 MiB]                                                \n",
      "|\n",
      "/\n",
      "/ [0 files][ 35.3 MiB/ 98.3 MiB]                                                \n",
      "-\n",
      "- [0 files][ 43.6 MiB/ 98.3 MiB]                                                \n",
      "\\\n",
      "|\n",
      "| [0 files][ 52.3 MiB/ 98.3 MiB]                                                \n",
      "/\n",
      "-\n",
      "- [0 files][ 60.6 MiB/ 98.3 MiB]                                                \n",
      "\\\n",
      "\\ [0 files][ 68.1 MiB/ 98.3 MiB]                                                \n",
      "|\n",
      "/\n",
      "/ [0 files][ 76.6 MiB/ 98.3 MiB]                                                \n",
      "-\n",
      "\\\n",
      "\\ [0 files][ 84.3 MiB/ 98.3 MiB]    8.0 MiB/s                                   \n",
      "|\n",
      "| [0 files][ 92.0 MiB/ 98.3 MiB]    7.8 MiB/s                                   \n",
      "/\n",
      "WARNING: Found no hashes to validate object downloaded from s3://wri-public-data/resourcewatch/raster/soc_032_High_Resolution_Settlement_Layers/Satellite_Estimates_gha.tif and uploaded to gs://resource-watch-public/resourcewatch/raster/soc_032_High_Resolution_Settlement_Layers/Satellite_Estimates_gha.tif. Integrity cannot be assured without hashes.\n",
      "/ [1 files][ 98.3 MiB/ 98.3 MiB]    7.2 MiB/s                                   \n",
      "-\n",
      "\n",
      "Operation completed over 1 objects/98.3 MiB.                                     \n"
     ]
    },
    {
     "name": "stdout",
     "output_type": "stream",
     "text": [
      "Started upload task with ID: IFXY7P6LIIYMLP3T3LTZ7RQX\n"
     ]
    }
   ],
   "source": [
    "os.environ[\"Zs3_key3\"] = \"s3://wri-public-data/\" + s3_key_orig3\n",
    "os.environ[\"Zgs_key3\"] = \"gs://resource-watch-public/\" + s3_key_orig3\n",
    "!gsutil cp %Zs3_key3% %Zgs_key3%\n",
    "os.environ[\"asset_id3\"] = \"users/resourcewatch/soc_032_high_resolution_settlement_layers_gha\"\n",
    "!earthengine upload image --asset_id=%asset_id3% %Zgs_key3%"
   ]
  },
  {
   "cell_type": "code",
   "execution_count": 36,
   "metadata": {},
   "outputs": [
    {
     "name": "stderr",
     "output_type": "stream",
     "text": [
      "Non-MD5 etag (\"e13b778f8e2cad080dcbc6e682beebfc-3\") present for key <Key: wri-public-data,resourcewatch/raster/soc_032_High_Resolution_Settlement_Layers/Satellite_Estimates_hti.tif>, data integrity checks are not possible.\n",
      "Copying s3://wri-public-data/resourcewatch/raster/soc_032_High_Resolution_Settlement_Layers/Satellite_Estimates_hti.tif [Content-Type=binary/octet-stream]...\n",
      "/ [0 files][    0.0 B/ 23.7 MiB]                                                \n",
      "-\n",
      "- [0 files][  7.2 MiB/ 23.7 MiB]                                                \n",
      "\\\n",
      "|\n",
      "| [0 files][ 15.0 MiB/ 23.7 MiB]                                                \n",
      "/\n",
      "/ [0 files][ 22.7 MiB/ 23.7 MiB]                                                \n",
      "-\n",
      "WARNING: Found no hashes to validate object downloaded from s3://wri-public-data/resourcewatch/raster/soc_032_High_Resolution_Settlement_Layers/Satellite_Estimates_hti.tif and uploaded to gs://resource-watch-public/resourcewatch/raster/soc_032_High_Resolution_Settlement_Layers/Satellite_Estimates_hti.tif. Integrity cannot be assured without hashes.\n",
      "- [1 files][ 23.7 MiB/ 23.7 MiB]                                                \n",
      "\n",
      "Operation completed over 1 objects/23.7 MiB.                                     \n"
     ]
    },
    {
     "name": "stdout",
     "output_type": "stream",
     "text": [
      "Started upload task with ID: UE4LH2DTGYO2OWP7NNYGEXDG\n"
     ]
    }
   ],
   "source": [
    "os.environ[\"Zs3_key4\"] = \"s3://wri-public-data/\" + s3_key_orig4\n",
    "os.environ[\"Zgs_key4\"] = \"gs://resource-watch-public/\" + s3_key_orig4\n",
    "!gsutil cp %Zs3_key4% %Zgs_key4%\n",
    "os.environ[\"asset_id4\"] = \"users/resourcewatch/soc_032_high_resolution_settlement_layers_hti\"\n",
    "!earthengine upload image --asset_id=%asset_id4% %Zgs_key4%"
   ]
  },
  {
   "cell_type": "code",
   "execution_count": null,
   "metadata": {},
   "outputs": [
    {
     "name": "stderr",
     "output_type": "stream",
     "text": [
      "Non-MD5 etag (\"617a8faf4b03eb7b837f8b468f02133e-5\") present for key <Key: wri-public-data,resourcewatch/raster/soc_032_High_Resolution_Settlement_Layers/Satellite_Estimates_lki.tif>, data integrity checks are not possible.\n",
      "Copying s3://wri-public-data/resourcewatch/raster/soc_032_High_Resolution_Settlement_Layers/Satellite_Estimates_lki.tif [Content-Type=binary/octet-stream]...\n",
      "/ [0 files][    0.0 B/ 39.4 MiB]                                                \n",
      "-\n",
      "- [0 files][  5.7 MiB/ 39.4 MiB]                                                \n",
      "\\\n",
      "|\n",
      "| [0 files][ 11.6 MiB/ 39.4 MiB]                                                \n",
      "/\n",
      "/ [0 files][ 19.9 MiB/ 39.4 MiB]                                                \n",
      "-\n",
      "\\\n",
      "\\ [0 files][ 27.3 MiB/ 39.4 MiB]                                                \n",
      "|\n",
      "/\n",
      "/ [0 files][ 32.7 MiB/ 39.4 MiB]                                                \n",
      "-\n",
      "WARNING: Found no hashes to validate object downloaded from s3://wri-public-data/resourcewatch/raster/soc_032_High_Resolution_Settlement_Layers/Satellite_Estimates_lki.tif and uploaded to gs://resource-watch-public/resourcewatch/raster/soc_032_High_Resolution_Settlement_Layers/Satellite_Estimates_lki.tif. Integrity cannot be assured without hashes.\n",
      "- [1 files][ 39.4 MiB/ 39.4 MiB]                                                \n",
      "\\\n",
      "\n",
      "Operation completed over 1 objects/39.4 MiB.                                     \n"
     ]
    },
    {
     "name": "stdout",
     "output_type": "stream",
     "text": [
      "Started upload task with ID: 3ITBPG2DWLPFQYRCLNGWZBA7\n"
     ]
    }
   ],
   "source": [
    "os.environ[\"Zs3_key5\"] = \"s3://wri-public-data/\" + s3_key_orig5\n",
    "os.environ[\"Zgs_key5\"] = \"gs://resource-watch-public/\" + s3_key_orig5\n",
    "!gsutil cp %Zs3_key5% %Zgs_key5%\n",
    "os.environ[\"asset_id5\"] = \"users/resourcewatch/soc_032_high_resolution_settlement_layers_lka\"\n",
    "!earthengine upload image --asset_id=%asset_id5% %Zgs_key5%"
   ]
  },
  {
   "cell_type": "code",
   "execution_count": 5,
   "metadata": {
    "scrolled": true
   },
   "outputs": [
    {
     "name": "stderr",
     "output_type": "stream",
     "text": [
      "Non-MD5 etag (\"a371093676b59ac0dd970c13b4822744-38\") present for key <Key: wri-public-data,resourcewatch/raster/soc_032_High_Resolution_Settlement_Layers/Satellite_Estimates_mdg.tif>, data integrity checks are not possible.\n",
      "Copying s3://wri-public-data/resourcewatch/raster/soc_032_High_Resolution_Settlement_Layers/Satellite_Estimates_mdg.tif [Content-Type=binary/octet-stream]...\n",
      "/ [0 files][    0.0 B/298.2 MiB]                                                \n",
      "-\n",
      "- [0 files][  5.9 MiB/298.2 MiB]                                                \n",
      "\\\n",
      "|\n",
      "| [0 files][ 14.4 MiB/298.2 MiB]                                                \n",
      "/\n",
      "/ [0 files][ 24.5 MiB/298.2 MiB]                                                \n",
      "-\n",
      "\\\n",
      "\\ [0 files][ 34.3 MiB/298.2 MiB]                                                \n",
      "|\n",
      "/\n",
      "/ [0 files][ 43.3 MiB/298.2 MiB]                                                \n",
      "-\n",
      "- [0 files][ 52.6 MiB/298.2 MiB]                                                \n",
      "\\\n",
      "|\n",
      "| [0 files][ 62.1 MiB/298.2 MiB]                                                \n",
      "/\n",
      "-\n",
      "- [0 files][ 71.4 MiB/298.2 MiB]                                                \n",
      "\\\n",
      "\\ [0 files][ 81.0 MiB/298.2 MiB]                                                \n",
      "|\n",
      "/\n",
      "/ [0 files][ 91.0 MiB/298.2 MiB]                                                \n",
      "-\n",
      "\\\n",
      "\\ [0 files][100.8 MiB/298.2 MiB]    9.6 MiB/s                                   \n",
      "|\n",
      "| [0 files][109.6 MiB/298.2 MiB]    9.4 MiB/s                                   \n",
      "/\n",
      "-\n",
      "- [0 files][117.6 MiB/298.2 MiB]    9.0 MiB/s                                   \n",
      "\\\n",
      "|\n",
      "| [0 files][125.3 MiB/298.2 MiB]    8.6 MiB/s                                   \n",
      "/\n",
      "/ [0 files][133.8 MiB/298.2 MiB]    8.3 MiB/s                                   \n",
      "-\n",
      "\\\n",
      "\\ [0 files][142.6 MiB/298.2 MiB]    8.1 MiB/s                                   \n",
      "|\n",
      "/\n",
      "/ [0 files][151.6 MiB/298.2 MiB]    8.2 MiB/s                                   \n",
      "-\n",
      "- [0 files][161.1 MiB/298.2 MiB]    8.6 MiB/s                                   \n",
      "\\\n",
      "|\n",
      "| [0 files][169.1 MiB/298.2 MiB]    8.6 MiB/s                                   \n",
      "/\n",
      "/ [0 files][177.4 MiB/298.2 MiB]    8.5 MiB/s                                   \n",
      "-\n",
      "\\\n",
      "\\ [0 files][186.4 MiB/298.2 MiB]    8.7 MiB/s                                   \n",
      "|\n",
      "/\n",
      "/ [0 files][195.2 MiB/298.2 MiB]    8.6 MiB/s                                   \n",
      "-\n",
      "- [0 files][203.2 MiB/298.2 MiB]    8.3 MiB/s                                   \n",
      "\\\n",
      "|\n",
      "| [0 files][211.2 MiB/298.2 MiB]    8.3 MiB/s                                   \n",
      "/\n",
      "-\n",
      "- [0 files][220.2 MiB/298.2 MiB]    8.4 MiB/s                                   \n",
      "\\\n",
      "\\ [0 files][228.2 MiB/298.2 MiB]    8.2 MiB/s                                   \n",
      "|\n",
      "/\n",
      "/ [0 files][236.9 MiB/298.2 MiB]    8.1 MiB/s                                   \n",
      "-\n",
      "- [0 files][245.7 MiB/298.2 MiB]    8.4 MiB/s                                   \n",
      "\\\n",
      "|\n",
      "| [0 files][254.7 MiB/298.2 MiB]    8.5 MiB/s                                   \n",
      "/\n",
      "-\n",
      "- [0 files][263.5 MiB/298.2 MiB]    8.5 MiB/s                                   \n",
      "\\\n",
      "\\ [0 files][272.3 MiB/298.2 MiB]    8.7 MiB/s                                   \n",
      "|\n",
      "/\n",
      "/ [0 files][280.2 MiB/298.2 MiB]    8.6 MiB/s                                   \n",
      "-\n",
      "\\\n",
      "\\ [0 files][288.2 MiB/298.2 MiB]    8.4 MiB/s                                   \n",
      "|\n",
      "WARNING: Found no hashes to validate object downloaded from s3://wri-public-data/resourcewatch/raster/soc_032_High_Resolution_Settlement_Layers/Satellite_Estimates_mdg.tif and uploaded to gs://resource-watch-public/resourcewatch/raster/soc_032_High_Resolution_Settlement_Layers/Satellite_Estimates_mdg.tif. Integrity cannot be assured without hashes.\n",
      "| [1 files][298.2 MiB/298.2 MiB]    8.0 MiB/s                                   \n",
      "/\n",
      "\n",
      "Operation completed over 1 objects/298.2 MiB.                                    \n"
     ]
    },
    {
     "name": "stdout",
     "output_type": "stream",
     "text": [
      "Started upload task with ID: 5AD2PBFR3E2JPJIQMDIM4PON\n"
     ]
    }
   ],
   "source": [
    "os.environ[\"Zs3_key6\"] = \"s3://wri-public-data/\" + s3_key_orig6\n",
    "os.environ[\"Zgs_key6\"] = \"gs://resource-watch-public/\" + s3_key_orig6\n",
    "!gsutil cp %Zs3_key6% %Zgs_key6%\n",
    "\n",
    "os.environ[\"asset_id6\"] = \"users/resourcewatch/soc_032_high_resolution_settlement_layers_mdg\"\n",
    "!earthengine upload image --asset_id=%asset_id6% %Zgs_key6%\n"
   ]
  },
  {
   "cell_type": "code",
   "execution_count": 6,
   "metadata": {},
   "outputs": [
    {
     "name": "stderr",
     "output_type": "stream",
     "text": [
      "Non-MD5 etag (\"485ea358eb4a98ad49b88e8b45ccb72a-10\") present for key <Key: wri-public-data,resourcewatch/raster/soc_032_High_Resolution_Settlement_Layers/Satellite_Estimates_mwi.tif>, data integrity checks are not possible.\n",
      "Copying s3://wri-public-data/resourcewatch/raster/soc_032_High_Resolution_Settlement_Layers/Satellite_Estimates_mwi.tif [Content-Type=binary/octet-stream]...\n",
      "/ [0 files][    0.0 B/ 79.1 MiB]                                                \n",
      "-\n",
      "- [0 files][  4.6 MiB/ 79.1 MiB]                                                \n",
      "\\\n",
      "|\n",
      "| [0 files][ 11.9 MiB/ 79.1 MiB]                                                \n",
      "/\n",
      "/ [0 files][ 19.9 MiB/ 79.1 MiB]                                                \n",
      "-\n",
      "\\\n",
      "\\ [0 files][ 28.1 MiB/ 79.1 MiB]                                                \n",
      "|\n",
      "/\n",
      "/ [0 files][ 35.3 MiB/ 79.1 MiB]                                                \n",
      "-\n",
      "- [0 files][ 43.1 MiB/ 79.1 MiB]                                                \n",
      "\\\n",
      "|\n",
      "| [0 files][ 51.1 MiB/ 79.1 MiB]                                                \n",
      "/\n",
      "-\n",
      "- [0 files][ 58.5 MiB/ 79.1 MiB]                                                \n",
      "\\\n",
      "\\ [0 files][ 66.5 MiB/ 79.1 MiB]                                                \n",
      "|\n",
      "/\n",
      "/ [0 files][ 73.7 MiB/ 79.1 MiB]                                                \n",
      "-\n",
      "WARNING: Found no hashes to validate object downloaded from s3://wri-public-data/resourcewatch/raster/soc_032_High_Resolution_Settlement_Layers/Satellite_Estimates_mwi.tif and uploaded to gs://resource-watch-public/resourcewatch/raster/soc_032_High_Resolution_Settlement_Layers/Satellite_Estimates_mwi.tif. Integrity cannot be assured without hashes.\n",
      "- [1 files][ 79.1 MiB/ 79.1 MiB]    7.1 MiB/s                                   \n",
      "\\\n",
      "\n",
      "Operation completed over 1 objects/79.1 MiB.                                     \n"
     ]
    },
    {
     "name": "stdout",
     "output_type": "stream",
     "text": [
      "Started upload task with ID: ACREVQJSQP6NOGRHORFGYUWS\n"
     ]
    }
   ],
   "source": [
    "os.environ[\"Zs3_key7\"] = \"s3://wri-public-data/\" + s3_key_orig7\n",
    "os.environ[\"Zgs_key7\"] = \"gs://resource-watch-public/\" + s3_key_orig7\n",
    "!gsutil cp %Zs3_key7% %Zgs_key7%\n",
    "os.environ[\"asset_id7\"] = \"users/resourcewatch/soc_032_high_resolution_settlement_layers_mwi\"\n",
    "!earthengine upload image --asset_id=%asset_id7% %Zgs_key7%"
   ]
  },
  {
   "cell_type": "code",
   "execution_count": null,
   "metadata": {},
   "outputs": [],
   "source": [
    "os.environ[\"Zs3_key8\"] = \"s3://wri-public-data/\" + s3_key_orig8\n",
    "os.environ[\"Zgs_key8\"] = \"gs://resource-watch-public/\" + s3_key_orig8\n",
    "!gsutil cp %Zs3_key8% %Zgs_key8%\n",
    "\n",
    "os.environ[\"asset_id8\"] = \"users/resourcewatch/soc_032_high_resolution_settlement_layers_zaf\"\n",
    "!earthengine upload image --asset_id=%asset_id8% %Zgs_key8%\n"
   ]
  },
  {
   "cell_type": "code",
   "execution_count": null,
   "metadata": {},
   "outputs": [],
   "source": [
    "with rio.open (s3_key_orig3) as src\n",
    "data=src.read(indexes=1)\n",
    "pypot.imshow(data)"
   ]
  },
  {
   "cell_type": "code",
   "execution_count": null,
   "metadata": {},
   "outputs": [],
   "source": []
  }
 ],
 "metadata": {
  "kernelspec": {
   "display_name": "Python 3",
   "language": "python",
   "name": "python3"
  },
  "language_info": {
   "codemirror_mode": {
    "name": "ipython",
    "version": 3
   },
   "file_extension": ".py",
   "mimetype": "text/x-python",
   "name": "python",
   "nbconvert_exporter": "python",
   "pygments_lexer": "ipython3",
   "version": "3.6.2"
  }
 },
 "nbformat": 4,
 "nbformat_minor": 2
}
