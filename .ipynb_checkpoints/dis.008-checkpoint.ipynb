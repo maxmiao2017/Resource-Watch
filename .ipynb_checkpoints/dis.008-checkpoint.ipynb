{
 "cells": [
  {
   "cell_type": "markdown",
   "metadata": {},
   "source": [
    "    dis.008"
   ]
  },
  {
   "cell_type": "markdown",
   "metadata": {},
   "source": [
    "Import libraries"
   ]
  },
  {
   "cell_type": "code",
   "execution_count": 15,
   "metadata": {},
   "outputs": [],
   "source": [
    "# Libraries for downloading data from remote server (may be ftp)\n",
    "import requests\n",
    "from urllib.request import urlopen\n",
    "from contextlib import closing\n",
    "import shutil\n",
    "\n",
    "# Library for uploading/downloading data to/from S3\n",
    "import boto3\n",
    "\n",
    "# Libraries for handling data\n",
    "import rasterio as rio\n",
    "import numpy as np\n",
    "# from netCDF4 import Dataset\n",
    "# import pandas as pd\n",
    "# import scipy\n",
    "\n",
    "# Libraries for various helper functions\n",
    "# from datetime import datetime\n",
    "import os\n",
    "import threading\n",
    "import sys\n",
    "from glob import glob\n",
    "from matplotlib import pyplot\n",
    "%matplotlib inline"
   ]
  },
  {
   "cell_type": "markdown",
   "metadata": {},
   "source": [
    "s3 tools"
   ]
  },
  {
   "cell_type": "code",
   "execution_count": 16,
   "metadata": {},
   "outputs": [],
   "source": [
    "s3_upload = boto3.client(\"s3\")\n",
    "s3_download = boto3.resource(\"s3\")\n",
    "\n",
    "s3_bucket = \"wri-public-data\"\n",
    "s3_folder = \"resourcewatch/raster/ene_019_wind_energy_potential/\"\n",
    "\n",
    "s3_file = \"ene_018_wind_energy_potential.tif\"\n",
    "\n",
    "s3_key_orig = s3_folder + s3_file\n",
    "s3_key_edit = s3_key_orig[0:-4] + \"_edit.tif\"\n",
    "\n",
    "os.environ[\"Zs3_key1\"] = \"s3://wri-public-data/\" + s3_key_orig\n",
    "os.environ[\"Zs3_key2\"] = \"s3://wri-public-data/\" + s3_key_edit\n",
    "\n",
    "class ProgressPercentage(object):\n",
    "        def __init__(self, filename):\n",
    "            self._filename = filename\n",
    "            self._size = float(os.path.getsize(filename))\n",
    "            self._seen_so_far = 0\n",
    "            self._lock = threading.Lock()\n",
    "\n",
    "        def __call__(self, bytes_amount):\n",
    "            # To simplify we'll assume this is hooked up\n",
    "            # to a single filename.\n",
    "            with self._lock:\n",
    "                self._seen_so_far += bytes_amount\n",
    "                percentage = (self._seen_so_far / self._size) * 100\n",
    "                sys.stdout.write(\"\\r%s  %s / %s  (%.2f%%)\"%(\n",
    "                        self._filename, self._seen_so_far, self._size,\n",
    "                        percentage))\n",
    "                sys.stdout.flush()"
   ]
  },
  {
   "cell_type": "markdown",
   "metadata": {},
   "source": [
    "Define local file locations"
   ]
  },
  {
   "cell_type": "code",
   "execution_count": 17,
   "metadata": {},
   "outputs": [],
   "source": [
    "local_folder = \"C:/Users/Max81007/Desktop/Python/Resource_Watch/Raster/cit.018/\"\n",
    "file_name = \"cit_018_monthly_no2_concentrations_in_atmosphere_201701.tif\"\n",
    "\n",
    "local_orig = local_folder + file_name\n",
    "\n",
    "orig_extension_length = 4 #4 for each char in .tif\n",
    "local_edit = local_orig[:-orig_extension_length] + \"_edit.tif\" "
   ]
  },
  {
   "cell_type": "code",
   "execution_count": 18,
   "metadata": {},
   "outputs": [
    {
     "name": "stdout",
     "output_type": "stream",
     "text": [
      "{'driver': 'AAIGrid', 'dtype': 'float32', 'nodata': -1.2676499957653196e+30, 'width': 3600, 'height': 1800, 'count': 1, 'crs': None, 'transform': Affine(0.1, 0.0, -180.0,\n",
      "       0.0, -0.1, 90.0), 'tiled': False}\n"
     ]
    },
    {
     "ename": "RasterioIOError",
     "evalue": "'C:/Users/Max81007/Desktop/Python/Resource_Watch/Raster/cit.018/cit_018_monthly_no2_concentrations_in_atmosphere_201701_edit.tif' does not exist in the file system, and is not recognized as a supported dataset name. ",
     "output_type": "error",
     "traceback": [
      "\u001b[1;31m---------------------------------------------------------------------------\u001b[0m",
      "\u001b[1;31mCPLE_OpenFailedError\u001b[0m                      Traceback (most recent call last)",
      "\u001b[1;32mrasterio\\_base.pyx\u001b[0m in \u001b[0;36mrasterio._base.DatasetBase.start (rasterio/_base.c:3979)\u001b[1;34m()\u001b[0m\n",
      "\u001b[1;32mrasterio\\_err.pyx\u001b[0m in \u001b[0;36mrasterio._err.exc_wrap_pointer (rasterio/_err.c:2199)\u001b[1;34m()\u001b[0m\n",
      "\u001b[1;31mCPLE_OpenFailedError\u001b[0m: 'C:/Users/Max81007/Desktop/Python/Resource_Watch/Raster/cit.018/cit_018_monthly_no2_concentrations_in_atmosphere_201701_edit.tif' does not exist in the file system, and is not recognized as a supported dataset name. ",
      "\nDuring handling of the above exception, another exception occurred:\n",
      "\u001b[1;31mRasterioIOError\u001b[0m                           Traceback (most recent call last)",
      "\u001b[1;32m<ipython-input-18-dc21a7e540f5>\u001b[0m in \u001b[0;36m<module>\u001b[1;34m()\u001b[0m\n\u001b[0;32m      1\u001b[0m \u001b[0mfiles\u001b[0m \u001b[1;33m=\u001b[0m \u001b[1;33m[\u001b[0m\u001b[0mlocal_orig\u001b[0m\u001b[1;33m,\u001b[0m \u001b[0mlocal_edit\u001b[0m\u001b[1;33m]\u001b[0m\u001b[1;33m\u001b[0m\u001b[0m\n\u001b[0;32m      2\u001b[0m \u001b[1;32mfor\u001b[0m \u001b[0mfile\u001b[0m \u001b[1;32min\u001b[0m \u001b[0mfiles\u001b[0m\u001b[1;33m:\u001b[0m\u001b[1;33m\u001b[0m\u001b[0m\n\u001b[1;32m----> 3\u001b[1;33m     \u001b[1;32mwith\u001b[0m \u001b[0mrio\u001b[0m\u001b[1;33m.\u001b[0m\u001b[0mopen\u001b[0m\u001b[1;33m(\u001b[0m\u001b[0mfile\u001b[0m\u001b[1;33m,\u001b[0m \u001b[1;34m'r'\u001b[0m\u001b[1;33m)\u001b[0m \u001b[1;32mas\u001b[0m \u001b[0msrc\u001b[0m\u001b[1;33m:\u001b[0m\u001b[1;33m\u001b[0m\u001b[0m\n\u001b[0m\u001b[0;32m      4\u001b[0m         \u001b[0mprofile\u001b[0m \u001b[1;33m=\u001b[0m \u001b[0msrc\u001b[0m\u001b[1;33m.\u001b[0m\u001b[0mprofile\u001b[0m\u001b[1;33m\u001b[0m\u001b[0m\n\u001b[0;32m      5\u001b[0m         \u001b[0mprint\u001b[0m\u001b[1;33m(\u001b[0m\u001b[0mprofile\u001b[0m\u001b[1;33m)\u001b[0m\u001b[1;33m\u001b[0m\u001b[0m\n",
      "\u001b[1;32mc:\\users\\max81007\\appdata\\local\\programs\\python\\python36-32\\lib\\site-packages\\rasterio\\__init__.py\u001b[0m in \u001b[0;36mopen\u001b[1;34m(fp, mode, driver, width, height, count, crs, transform, dtype, nodata, **kwargs)\u001b[0m\n\u001b[0;32m    288\u001b[0m                 raise ValueError(\n\u001b[0;32m    289\u001b[0m                     \"mode must be one of 'r', 'r+', or 'w', not %s\" % mode)\n\u001b[1;32m--> 290\u001b[1;33m             \u001b[0ms\u001b[0m\u001b[1;33m.\u001b[0m\u001b[0mstart\u001b[0m\u001b[1;33m(\u001b[0m\u001b[1;33m)\u001b[0m\u001b[1;33m\u001b[0m\u001b[0m\n\u001b[0m\u001b[0;32m    291\u001b[0m             \u001b[1;32mreturn\u001b[0m \u001b[0ms\u001b[0m\u001b[1;33m\u001b[0m\u001b[0m\n\u001b[0;32m    292\u001b[0m \u001b[1;33m\u001b[0m\u001b[0m\n",
      "\u001b[1;32mrasterio\\_base.pyx\u001b[0m in \u001b[0;36mrasterio._base.DatasetBase.start (rasterio/_base.c:4081)\u001b[1;34m()\u001b[0m\n",
      "\u001b[1;31mRasterioIOError\u001b[0m: 'C:/Users/Max81007/Desktop/Python/Resource_Watch/Raster/cit.018/cit_018_monthly_no2_concentrations_in_atmosphere_201701_edit.tif' does not exist in the file system, and is not recognized as a supported dataset name. "
     ]
    }
   ],
   "source": [
    "files = [local_orig, local_edit]\n",
    "for file in files:\n",
    "    with rio.open(file, 'r') as src:\n",
    "        profile = src.profile\n",
    "        print(profile)"
   ]
  },
  {
   "cell_type": "markdown",
   "metadata": {},
   "source": [
    "Use rasterio to reproject and compress"
   ]
  },
  {
   "cell_type": "code",
   "execution_count": 19,
   "metadata": {},
   "outputs": [],
   "source": [
    "os.getcwd()\n",
    "os.chdir(local_folder)\n",
    "os.environ[\"local_orig\"] =local_orig\n",
    "os.environ[\"local_edit\"] =local_edit"
   ]
  },
  {
   "cell_type": "code",
   "execution_count": 20,
   "metadata": {},
   "outputs": [
    {
     "name": "stdout",
     "output_type": "stream",
     "text": [
      "0...10...20...30...40...50...60...70...80...90...100 - done.\n"
     ]
    }
   ],
   "source": [
    "!gdalwarp -overwrite -t_srs epsg:4326 -srcnodata none -co compress=lzw %local_orig% %local_edit%"
   ]
  },
  {
   "cell_type": "code",
   "execution_count": 21,
   "metadata": {},
   "outputs": [
    {
     "name": "stdout",
     "output_type": "stream",
     "text": [
      "{'driver': 'AAIGrid', 'dtype': 'float32', 'nodata': -1.2676499957653196e+30, 'width': 3600, 'height': 1800, 'count': 1, 'crs': None, 'transform': Affine(0.1, 0.0, -180.0,\n",
      "       0.0, -0.1, 90.0), 'tiled': False}\n",
      "{'driver': 'GTiff', 'dtype': 'float32', 'nodata': None, 'width': 3600, 'height': 1800, 'count': 1, 'crs': CRS({'init': 'epsg:4326'}), 'transform': Affine(0.1, 0.0, -180.0,\n",
      "       0.0, -0.1, 90.0), 'tiled': False, 'compress': 'lzw', 'interleave': 'band'}\n"
     ]
    }
   ],
   "source": [
    "files = [local_orig, local_edit]\n",
    "for file in files:\n",
    "    with rio.open(file, 'r') as src:\n",
    "        profile = src.profile\n",
    "        print(profile)"
   ]
  },
  {
   "cell_type": "code",
   "execution_count": null,
   "metadata": {},
   "outputs": [],
   "source": []
  },
  {
   "cell_type": "markdown",
   "metadata": {},
   "source": [
    "Upload orig and edit files to s3"
   ]
  },
  {
   "cell_type": "code",
   "execution_count": 22,
   "metadata": {},
   "outputs": [
    {
     "name": "stdout",
     "output_type": "stream",
     "text": [
      "C:/Users/Max81007/Desktop/Python/Resource_Watch/Raster/cit.018/cit_018_monthly_no2_concentrations_in_atmosphere_201701_edit.tif  20434335 / 20434335.0  (100.00%)"
     ]
    }
   ],
   "source": [
    "# Original\n",
    "s3_upload.upload_file(local_orig, s3_bucket, s3_key_orig,\n",
    "                         Callback=ProgressPercentage(local_orig))\n",
    "\n",
    "# Edit\n",
    "s3_upload.upload_file(local_edit, s3_bucket, s3_key_edit,\n",
    "                         Callback=ProgressPercentage(local_edit))"
   ]
  },
  {
   "cell_type": "code",
   "execution_count": 10,
   "metadata": {},
   "outputs": [],
   "source": [
    "os.environ[\"Zgs_key\"] = \"gs://resource-watch-public/\" + s3_key_orig"
   ]
  },
  {
   "cell_type": "code",
   "execution_count": 11,
   "metadata": {},
   "outputs": [
    {
     "name": "stdout",
     "output_type": "stream",
     "text": [
      "s3://wri-public-data/resourcewatch/raster/ene_019_wind_energy_potential/ene_018_wind_energy_potential_edit.tif\n",
      "gs://resource-watch-public/resourcewatch/raster/ene_019_wind_energy_potential/ene_018_wind_energy_potential.tif\n"
     ]
    }
   ],
   "source": [
    "!echo %Zs3_key2%\n",
    "!echo %Zgs_key%"
   ]
  },
  {
   "cell_type": "code",
   "execution_count": 12,
   "metadata": {},
   "outputs": [
    {
     "name": "stderr",
     "output_type": "stream",
     "text": [
      "Non-MD5 etag (\"0ad5aeeefba42c8eafff6238d47b512f-17\") present for key <Key: wri-public-data,resourcewatch/raster/ene_019_wind_energy_potential/ene_018_wind_energy_potential_edit.tif>, data integrity checks are not possible.\n",
      "Copying s3://wri-public-data/resourcewatch/raster/ene_019_wind_energy_potential/ene_018_wind_energy_potential_edit.tif [Content-Type=binary/octet-stream]...\n",
      "/ [0 files][    0.0 B/134.6 MiB]                                                \n",
      "-\n",
      "- [0 files][  2.8 MiB/134.6 MiB]                                                \n",
      "\\\n",
      "|\n",
      "| [0 files][  5.9 MiB/134.6 MiB]                                                \n",
      "/\n",
      "/ [0 files][  9.8 MiB/134.6 MiB]                                                \n",
      "-\n",
      "\\\n",
      "\\ [0 files][ 13.4 MiB/134.6 MiB]                                                \n",
      "|\n",
      "/\n",
      "/ [0 files][ 17.8 MiB/134.6 MiB]                                                \n",
      "-\n",
      "- [0 files][ 22.4 MiB/134.6 MiB]                                                \n",
      "\\\n",
      "|\n",
      "| [0 files][ 26.8 MiB/134.6 MiB]                                                \n",
      "/\n",
      "/ [0 files][ 29.7 MiB/134.6 MiB]                                                \n",
      "-\n",
      "\\\n",
      "\\ [0 files][ 34.0 MiB/134.6 MiB]                                                \n",
      "|\n",
      "/\n",
      "/ [0 files][ 38.2 MiB/134.6 MiB]                                                \n",
      "-\n",
      "- [0 files][ 41.5 MiB/134.6 MiB]    3.7 MiB/s                                   \n",
      "\\\n",
      "|\n",
      "| [0 files][ 45.1 MiB/134.6 MiB]    3.6 MiB/s                                   \n",
      "/\n",
      "-\n",
      "- [0 files][ 48.7 MiB/134.6 MiB]    3.6 MiB/s                                   \n",
      "\\\n",
      "\\ [0 files][ 52.9 MiB/134.6 MiB]    3.5 MiB/s                                   \n",
      "|\n",
      "/\n",
      "/ [0 files][ 57.0 MiB/134.6 MiB]    3.6 MiB/s                                   \n",
      "-\n",
      "\\\n",
      "\\ [0 files][ 61.1 MiB/134.6 MiB]    3.8 MiB/s                                   \n",
      "|\n",
      "| [0 files][ 65.5 MiB/134.6 MiB]    4.0 MiB/s                                   \n",
      "/\n",
      "-\n",
      "- [0 files][ 70.4 MiB/134.6 MiB]    4.2 MiB/s                                   \n",
      "\\\n",
      "\\ [0 files][ 74.3 MiB/134.6 MiB]    4.2 MiB/s                                   \n",
      "|\n",
      "/\n",
      "/ [0 files][ 78.4 MiB/134.6 MiB]    4.1 MiB/s                                   \n",
      "-\n",
      "\\\n",
      "\\ [0 files][ 82.0 MiB/134.6 MiB]    4.1 MiB/s                                   \n",
      "|\n",
      "| [0 files][ 86.1 MiB/134.6 MiB]    4.0 MiB/s                                   \n",
      "/\n",
      "-\n",
      "- [0 files][ 89.5 MiB/134.6 MiB]    3.6 MiB/s                                   \n",
      "\\\n",
      "\\ [0 files][ 93.6 MiB/134.6 MiB]    3.7 MiB/s                                   \n",
      "|\n",
      "/\n",
      "/ [0 files][ 98.0 MiB/134.6 MiB]    3.9 MiB/s                                   \n",
      "-\n",
      "\\\n",
      "\\ [0 files][102.6 MiB/134.6 MiB]    4.0 MiB/s                                   \n",
      "|\n",
      "| [0 files][106.7 MiB/134.6 MiB]    3.9 MiB/s                                   \n",
      "/\n",
      "-\n",
      "- [0 files][111.9 MiB/134.6 MiB]    4.3 MiB/s                                   \n",
      "\\\n",
      "|\n",
      "| [0 files][116.0 MiB/134.6 MiB]    4.3 MiB/s                                   \n",
      "/\n",
      "/ [0 files][120.1 MiB/134.6 MiB]    4.2 MiB/s                                   \n",
      "-\n",
      "\\\n",
      "\\ [0 files][123.2 MiB/134.6 MiB]    4.0 MiB/s                                   \n",
      "|\n",
      "| [0 files][128.1 MiB/134.6 MiB]    4.2 MiB/s                                   \n",
      "/\n",
      "-\n",
      "- [0 files][133.0 MiB/134.6 MiB]    4.1 MiB/s                                   \n",
      "\\\n",
      "WARNING: Found no hashes to validate object downloaded from s3://wri-public-data/resourcewatch/raster/ene_019_wind_energy_potential/ene_018_wind_energy_potential_edit.tif and uploaded to gs://resource-watch-public/resourcewatch/raster/ene_019_wind_energy_potential/ene_018_wind_energy_potential.tif. Integrity cannot be assured without hashes.\n",
      "\\ [1 files][134.6 MiB/134.6 MiB]    3.6 MiB/s                                   \n",
      "|\n",
      "\n",
      "Operation completed over 1 objects/134.6 MiB.                                    \n"
     ]
    }
   ],
   "source": [
    "!gsutil cp %Zs3_key2% %Zgs_key%"
   ]
  },
  {
   "cell_type": "code",
   "execution_count": 23,
   "metadata": {},
   "outputs": [
    {
     "data": {
      "image/png": "[encoded data removed]",
      "text/plain": [
       "<matplotlib.figure.Figure at 0xfaf9f50>"
      ]
     },
     "metadata": {},
     "output_type": "display_data"
    }
   ],
   "source": [
    "with rio.open(local_orig) as src:\n",
    "    data = src.read(indexes=1)\n",
    "    pyplot.imshow(data)"
   ]
  },
  {
   "cell_type": "code",
   "execution_count": 24,
   "metadata": {},
   "outputs": [
    {
     "data": {
      "image/png": "[encoded data removed]",
      "text/plain": [
       "<matplotlib.figure.Figure at 0x1030eb0>"
      ]
     },
     "metadata": {},
     "output_type": "display_data"
    }
   ],
   "source": [
    "with rio.open(local_edit) as src:\n",
    "    data = src.read(indexes=1)\n",
    "    pyplot.imshow(data)"
   ]
  },
  {
   "cell_type": "code",
   "execution_count": 25,
   "metadata": {},
   "outputs": [
    {
     "name": "stdout",
     "output_type": "stream",
     "text": [
      "Started upload task with ID: IOBBJLSF2FLO4LWWH3SMTDFC\n"
     ]
    }
   ],
   "source": [
    "os.environ[\"asset_id\"] = \"users/resourcewatch/cit_018_monthly_no2_concentrations_in_atmosphere_201701\"\n",
    "!earthengine upload image --asset_id=%asset_id% %Zgs_key%"
   ]
  },
  {
   "cell_type": "code",
   "execution_count": 26,
   "metadata": {},
   "outputs": [
    {
     "name": "stdout",
     "output_type": "stream",
     "text": [
      "F7ZP3YOHXBMERJK2KRG4C5M2:\n",
      "  State: COMPLETED\n",
      "  Type: Upload\n",
      "  Description: Asset ingestion: users/resourcewatch/ene_018_wind_energy_potential\n",
      "  Created: 2017-10-05 16:37:23.361000\n",
      "  Started: 2017-10-05 16:37:26.531000\n",
      "  Updated: 2017-10-05 16:39:03.039000\n"
     ]
    }
   ],
   "source": [
    "!earthengine task info F7ZP3YOHXBMERJK2KRG4C5M2"
   ]
  },
  {
   "cell_type": "code",
   "execution_count": null,
   "metadata": {},
   "outputs": [],
   "source": []
  }
 ],
 "metadata": {
  "kernelspec": {
   "display_name": "Python 3",
   "language": "python",
   "name": "python3"
  },
  "language_info": {
   "codemirror_mode": {
    "name": "ipython",
    "version": 3
   },
   "file_extension": ".py",
   "mimetype": "text/x-python",
   "name": "python",
   "nbconvert_exporter": "python",
   "pygments_lexer": "ipython3",
   "version": "3.6.2"
  }
 },
 "nbformat": 4,
 "nbformat_minor": 2
}
