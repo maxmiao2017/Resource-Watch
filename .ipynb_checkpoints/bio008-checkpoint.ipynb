{
 "cells": [
  {
   "cell_type": "markdown",
   "metadata": {},
   "source": [
    "    dis.007"
   ]
  },
  {
   "cell_type": "markdown",
   "metadata": {},
   "source": [
    "Import libraries"
   ]
  },
  {
   "cell_type": "code",
   "execution_count": 1,
   "metadata": {},
   "outputs": [],
   "source": [
    "# Libraries for downloading data from remote server (may be ftp)\n",
    "import requests\n",
    "from urllib.request import urlopen\n",
    "from contextlib import closing\n",
    "import shutil\n",
    "\n",
    "# Library for uploading/downloading data to/from S3\n",
    "import boto3\n",
    "\n",
    "# Libraries for handling data\n",
    "import rasterio as rio\n",
    "import numpy as np\n",
    "# from netCDF4 import Dataset\n",
    "# import pandas as pd\n",
    "# import scipy\n",
    "\n",
    "# Libraries for various helper functions\n",
    "# from datetime import datetime\n",
    "import os\n",
    "import threading\n",
    "import sys\n",
    "from glob import glob\n",
    "from matplotlib import pyplot\n",
    "%matplotlib inline"
   ]
  },
  {
   "cell_type": "markdown",
   "metadata": {},
   "source": [
    "Define local file locations"
   ]
  },
  {
   "cell_type": "code",
   "execution_count": 3,
   "metadata": {},
   "outputs": [],
   "source": [
    "local_folder = \"C:/Users/Max81007/Desktop/Python/Resource_Watch/Raster/bio.008/\"\n",
    "file_name = \"impact.asc\"\n",
    "file_name2 = \"sp_richness.asc\"\n",
    "\n",
    "local_orig = local_folder + file_name\n",
    "local_orig2 = local_folder + file_name2\n",
    "\n",
    "orig_extension_length = 4 #4 for each char in .tif\n",
    "local_edit = local_orig[:-orig_extension_length] + \"_edit.tif\" \n",
    "local_edit2 = local_orig2[:-orig_extension_length] + \"_edit.tif\" "
   ]
  },
  {
   "cell_type": "markdown",
   "metadata": {},
   "source": [
    "s3 tools"
   ]
  },
  {
   "cell_type": "code",
   "execution_count": 5,
   "metadata": {},
   "outputs": [],
   "source": [
    "s3_upload = boto3.client(\"s3\")\n",
    "s3_download = boto3.resource(\"s3\")\n",
    "\n",
    "s3_bucket = \"wri-public-data\"\n",
    "s3_folder = \"resourcewatch/raster/bio_008_cumulative_climate_impacts_on_marine_ecosystems/\"\n",
    "\n",
    "s3_file = \"bio_008_impact.tif\"\n",
    "s3_file2 = \"bio_008_sp_richness.tif\"\n",
    "\n",
    "s3_key_orig = s3_folder + s3_file\n",
    "s3_key_edit = s3_key_orig[0:-4] + \"_edit.tif\"\n",
    "\n",
    "s3_key_orig2 = s3_folder + s3_file2\n",
    "s3_key_edit2 = s3_key_orig2[0:-4] + \"_edit.tif\"\n",
    "\n",
    "class ProgressPercentage(object):\n",
    "        def __init__(self, filename):\n",
    "            self._filename = filename\n",
    "            self._size = float(os.path.getsize(filename))\n",
    "            self._seen_so_far = 0\n",
    "            self._lock = threading.Lock()\n",
    "\n",
    "        def __call__(self, bytes_amount):\n",
    "            # To simplify we'll assume this is hooked up\n",
    "            # to a single filename.\n",
    "            with self._lock:\n",
    "                self._seen_so_far += bytes_amount\n",
    "                percentage = (self._seen_so_far / self._size) * 100\n",
    "                sys.stdout.write(\"\\r%s  %s / %s  (%.2f%%)\"%(\n",
    "                        self._filename, self._seen_so_far, self._size,\n",
    "                        percentage))\n",
    "                sys.stdout.flush()"
   ]
  },
  {
   "cell_type": "code",
   "execution_count": 6,
   "metadata": {},
   "outputs": [
    {
     "name": "stdout",
     "output_type": "stream",
     "text": [
      "{'driver': 'AAIGrid', 'dtype': 'float32', 'nodata': -9999.0, 'width': 360, 'height': 180, 'count': 1, 'crs': None, 'transform': Affine(1.0, 0.0, -180.0,\n",
      "       0.0, -1.0, 90.0), 'tiled': False}\n",
      "{'driver': 'AAIGrid', 'dtype': 'float32', 'nodata': -9999.0, 'width': 720, 'height': 341, 'count': 1, 'crs': None, 'transform': Affine(0.5, 0.0, -180.0,\n",
      "       0.0, -0.5, 84.917235592), 'tiled': False}\n"
     ]
    }
   ],
   "source": [
    "files = [local_orig, local_orig2]\n",
    "for file in files:\n",
    "    with rio.open(file, 'r') as src:\n",
    "        profile = src.profile\n",
    "        print(profile)"
   ]
  },
  {
   "cell_type": "markdown",
   "metadata": {},
   "source": [
    "Use rasterio to reproject and compress"
   ]
  },
  {
   "cell_type": "code",
   "execution_count": 7,
   "metadata": {},
   "outputs": [],
   "source": [
    "os.getcwd()\n",
    "os.chdir(local_folder)\n",
    "os.environ[\"local_orig\"] =local_orig\n",
    "os.environ[\"local_edit\"] =local_edit\n",
    "os.environ[\"local_orig2\"] =local_orig2\n",
    "os.environ[\"local_edit2\"] =local_edit2"
   ]
  },
  {
   "cell_type": "code",
   "execution_count": 8,
   "metadata": {},
   "outputs": [
    {
     "name": "stdout",
     "output_type": "stream",
     "text": [
      "0...10...20...30...40...50...60...70...80...90...100 - done.\n"
     ]
    }
   ],
   "source": [
    "!gdalwarp -overwrite -t_srs epsg:4326 -srcnodata none -co compress=lzw %local_orig% %local_edit%"
   ]
  },
  {
   "cell_type": "code",
   "execution_count": 9,
   "metadata": {},
   "outputs": [
    {
     "name": "stdout",
     "output_type": "stream",
     "text": [
      "0...10...20...30...40...50...60...70...80...90...100 - done.\n"
     ]
    }
   ],
   "source": [
    "!gdalwarp -overwrite -t_srs epsg:4326 -srcnodata none -co compress=lzw %local_orig2% %local_edit2%"
   ]
  },
  {
   "cell_type": "code",
   "execution_count": 10,
   "metadata": {},
   "outputs": [
    {
     "name": "stdout",
     "output_type": "stream",
     "text": [
      "{'driver': 'AAIGrid', 'dtype': 'float32', 'nodata': -9999.0, 'width': 360, 'height': 180, 'count': 1, 'crs': None, 'transform': Affine(1.0, 0.0, -180.0,\n",
      "       0.0, -1.0, 90.0), 'tiled': False}\n",
      "{'driver': 'GTiff', 'dtype': 'float32', 'nodata': None, 'width': 360, 'height': 180, 'count': 1, 'crs': CRS({'init': 'epsg:4326'}), 'transform': Affine(1.0, 0.0, -180.0,\n",
      "       0.0, -1.0, 90.0), 'tiled': False, 'compress': 'lzw', 'interleave': 'band'}\n"
     ]
    }
   ],
   "source": [
    "files = [local_orig, local_edit]\n",
    "for file in files:\n",
    "    with rio.open(file, 'r') as src:\n",
    "        profile = src.profile\n",
    "        print(profile)"
   ]
  },
  {
   "cell_type": "code",
   "execution_count": null,
   "metadata": {},
   "outputs": [],
   "source": []
  },
  {
   "cell_type": "markdown",
   "metadata": {},
   "source": [
    "Upload orig and edit files to s3"
   ]
  },
  {
   "cell_type": "code",
   "execution_count": 18,
   "metadata": {},
   "outputs": [
    {
     "name": "stdout",
     "output_type": "stream",
     "text": [
      "C:/Users/Max81007/Desktop/Python/Resource_Watch/Raster/bio.008/sp_richness_edit.tif  308228 / 308228.0  (100.00%)"
     ]
    }
   ],
   "source": [
    "# Original\n",
    "s3_upload.upload_file(local_orig, s3_bucket, s3_key_orig,\n",
    "                         Callback=ProgressPercentage(local_orig))\n",
    "s3_upload.upload_file(local_orig2, s3_bucket, s3_key_orig2,\n",
    "                         Callback=ProgressPercentage(local_orig2))\n",
    "# Edit\n",
    "s3_upload.upload_file(local_edit, s3_bucket, s3_key_edit,\n",
    "                         Callback=ProgressPercentage(local_edit))\n",
    "s3_upload.upload_file(local_edit2, s3_bucket, s3_key_edit2,\n",
    "                         Callback=ProgressPercentage(local_edit2))"
   ]
  },
  {
   "cell_type": "code",
   "execution_count": 12,
   "metadata": {},
   "outputs": [],
   "source": [
    "os.environ[\"Zgs_key\"] = \"gs://resource-watch-public/\" + s3_key_edit\n",
    "os.environ[\"Zs3_key\"] = \"s3://wri-public-data/\" + s3_key_edit\n",
    "os.environ[\"Zgs_key2\"] = \"gs://resource-watch-public/\" + s3_key_edit2\n",
    "os.environ[\"Zs3_key2\"] = \"s3://wri-public-data/\" + s3_key_edit2"
   ]
  },
  {
   "cell_type": "code",
   "execution_count": 8,
   "metadata": {},
   "outputs": [
    {
     "name": "stdout",
     "output_type": "stream",
     "text": [
      "s3://wri-public-data/resourcewatch/raster/dis_007_landslide_susceptibility_map/dis_007_landslide_susceptibility_map_edit.tif\n",
      "gs://resource-watch-public/resourcewatch/raster/dis_007_landslide_susceptibility_map/dis_007_landslide_susceptibility_map_edit.tif\n"
     ]
    }
   ],
   "source": [
    "!echo %Zs3_key%\n",
    "!echo %Zgs_key%\n",
    "!echo %Zs3_key%\n",
    "!echo %Zgs_key%"
   ]
  },
  {
   "cell_type": "code",
   "execution_count": 13,
   "metadata": {},
   "outputs": [
    {
     "name": "stderr",
     "output_type": "stream",
     "text": [
      "Copying s3://wri-public-data/resourcewatch/raster/bio_008_cumulative_climate_impacts_on_marine_ecosystems/bio_008_impact_edit.tif [Content-Type=binary/octet-stream]...\n",
      "/ [0 files][    0.0 B/144.9 KiB]                                                \n",
      "/ [1 files][144.9 KiB/144.9 KiB]                                                \n",
      "-\n",
      "\n",
      "Operation completed over 1 objects/144.9 KiB.                                    \n",
      "Copying s3://wri-public-data/resourcewatch/raster/bio_008_cumulative_climate_impacts_on_marine_ecosystems/bio_008_sp_richness_edit.tif [Content-Type=binary/octet-stream]...\n",
      "/ [0 files][    0.0 B/301.0 KiB]                                                \n",
      "/ [1 files][301.0 KiB/301.0 KiB]                                                \n",
      "-\n",
      "\n",
      "Operation completed over 1 objects/301.0 KiB.                                    \n"
     ]
    }
   ],
   "source": [
    "!gsutil cp %Zs3_key% %Zgs_key%\n",
    "!gsutil cp %Zs3_key2% %Zgs_key2%"
   ]
  },
  {
   "cell_type": "code",
   "execution_count": null,
   "metadata": {},
   "outputs": [],
   "source": [
    "gsutil cp s3://wri-public-data/resourcewatch/raster/dis_007_landslide_susceptibility_map/dis_007_landslide_susceptibility_map_edit.tif gs://resource-watch-public/resourcewatch/raster/dis_007_landslide_susceptibility_map/dis_007_landslide_susceptibility_map_edit.tif"
   ]
  },
  {
   "cell_type": "code",
   "execution_count": null,
   "metadata": {},
   "outputs": [],
   "source": [
    "# # with rio.open(local_orig) as src:\n",
    "#     data = src.read(indexes=1)\n",
    "#     pyplot.imshow(data)"
   ]
  },
  {
   "cell_type": "code",
   "execution_count": null,
   "metadata": {},
   "outputs": [],
   "source": [
    "# with rio.open(local_edit) as src:\n",
    "#     data = src.read(indexes=1)\n",
    "#     pyplot.imshow(data)"
   ]
  },
  {
   "cell_type": "code",
   "execution_count": 17,
   "metadata": {},
   "outputs": [
    {
     "name": "stdout",
     "output_type": "stream",
     "text": [
      "Started upload task with ID: N6FTRJEMZRXVGB44IACUIJDG\n",
      "Started upload task with ID: OQLVUFSOHFQK5OQGDRPZXFCJ\n"
     ]
    }
   ],
   "source": [
    "os.environ[\"asset_id\"] = \"users/resourcewatch/bio_008_cumulative_climate_impacts\"\n",
    "!earthengine upload image --asset_id=%asset_id% %Zgs_key%\n",
    "os.environ[\"asset_id2\"] = \"users/resourcewatch/bio_008_species_richness\"\n",
    "!earthengine upload image --asset_id=%asset_id2% %Zgs_key2%"
   ]
  },
  {
   "cell_type": "code",
   "execution_count": 14,
   "metadata": {},
   "outputs": [
    {
     "name": "stdout",
     "output_type": "stream",
     "text": [
      "3QFYIBV2XBJCHZK4ZQJQECAR:\n",
      "  State: FAILED\n",
      "  Type: Upload\n",
      "  Description: Asset ingestion: users/resourcewatch/dis_007_landslide_susceptibility_map\n",
      "  Created: 2017-10-06 15:19:45.257000\n",
      "  Started: 2017-10-06 15:19:46.971000\n",
      "  Updated: 2017-10-06 15:19:47.625000\n",
      "  Error: Cannot overwrite asset 'users/resourcewatch/dis_007_landslide_susceptibility_map'.\n"
     ]
    }
   ],
   "source": [
    "!earthengine task info 3QFYIBV2XBJCHZK4ZQJQECAR"
   ]
  }
 ],
 "metadata": {
  "kernelspec": {
   "display_name": "Python 3",
   "language": "python",
   "name": "python3"
  },
  "language_info": {
   "codemirror_mode": {
    "name": "ipython",
    "version": 3
   },
   "file_extension": ".py",
   "mimetype": "text/x-python",
   "name": "python",
   "nbconvert_exporter": "python",
   "pygments_lexer": "ipython3",
   "version": "3.6.2"
  }
 },
 "nbformat": 4,
 "nbformat_minor": 2
}
