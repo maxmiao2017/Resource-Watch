{
 "cells": [
  {
   "cell_type": "code",
   "execution_count": 29,
   "metadata": {},
   "outputs": [],
   "source": [
    "import numpy as np\n",
    "import xarray as xr\n",
    "import matplotlib.pyplot as plot\n",
    "from contextlib import closing\n",
    "from matplotlib.pyplot import cm\n",
    "import matplotlib.image as mpimg\n",
    "import rasterio\n",
    "import os\n",
    "import shutil\n",
    "import netCDF4\n",
    "%matplotlib inline"
   ]
  },
  {
   "cell_type": "code",
   "execution_count": 18,
   "metadata": {},
   "outputs": [],
   "source": [
    "prcp_2015 = \"/Users/Max81007/Desktop/Python/Prep/NA_prep/daymet_v3_prcp_2015_na.nc4\""
   ]
  },
  {
   "cell_type": "code",
   "execution_count": 19,
   "metadata": {},
   "outputs": [
    {
     "name": "stdout",
     "output_type": "stream",
     "text": [
      "xarray.Dataset {\n",
      "dimensions:\n",
      "\tnv = 2 ;\n",
      "\ttime = 365 ;\n",
      "\tx = 7814 ;\n",
      "\ty = 8075 ;\n",
      "\n",
      "variables:\n",
      "\tfloat32 x(x) ;\n",
      "\t\tx:units = m ;\n",
      "\t\tx:long_name = x coordinate of projection ;\n",
      "\t\tx:standard_name = projection_x_coordinate ;\n",
      "\tfloat32 y(y) ;\n",
      "\t\ty:units = m ;\n",
      "\t\ty:long_name = y coordinate of projection ;\n",
      "\t\ty:standard_name = projection_y_coordinate ;\n",
      "\tfloat32 lat(y, x) ;\n",
      "\t\tlat:units = degrees_north ;\n",
      "\t\tlat:long_name = latitude coordinate ;\n",
      "\t\tlat:standard_name = latitude ;\n",
      "\tfloat32 lon(y, x) ;\n",
      "\t\tlon:units = degrees_east ;\n",
      "\t\tlon:long_name = longitude coordinate ;\n",
      "\t\tlon:standard_name = longitude ;\n",
      "\tdatetime64[ns] time(time) ;\n",
      "\t\ttime:long_name = time ;\n",
      "\t\ttime:bounds = time_bnds ;\n",
      "\tint16 yearday(time) ;\n",
      "\t\tyearday:long_name = yearday ;\n",
      "\tfloat32 time_bnds(time, nv) ;\n",
      "\tint16 lambert_conformal_conic() ;\n",
      "\t\tlambert_conformal_conic:grid_mapping_name = lambert_conformal_conic ;\n",
      "\t\tlambert_conformal_conic:longitude_of_central_meridian = -100.0 ;\n",
      "\t\tlambert_conformal_conic:latitude_of_projection_origin = 42.5 ;\n",
      "\t\tlambert_conformal_conic:false_easting = 0.0 ;\n",
      "\t\tlambert_conformal_conic:false_northing = 0.0 ;\n",
      "\t\tlambert_conformal_conic:standard_parallel = [ 25.  60.] ;\n",
      "\t\tlambert_conformal_conic:semi_major_axis = 6378137.0 ;\n",
      "\t\tlambert_conformal_conic:inverse_flattening = 298.257223563 ;\n",
      "\tfloat64 prcp(time, y, x) ;\n",
      "\t\tprcp:long_name = daily total precipitation ;\n",
      "\t\tprcp:units = mm/day ;\n",
      "\t\tprcp:grid_mapping = lambert_conformal_conic ;\n",
      "\t\tprcp:cell_methods = area: mean time: sum ;\n",
      "\n",
      "// global attributes:\n",
      "\t:start_year = 2015 ;\n",
      "\t:source = Daymet Software Version 3.0 ;\n",
      "\t:Version_software = Daymet Software Version 3.0 ;\n",
      "\t:Version_data = Daymet Data Version 3.0 ;\n",
      "\t:Conventions = CF-1.6 ;\n",
      "\t:citation = Please see http://daymet.ornl.gov/ for current Daymet data citation information ;\n",
      "\t:references = Please see http://daymet.ornl.gov/ for current information on Daymet references ;\n",
      "}"
     ]
    }
   ],
   "source": [
    "ncfile = xr.open_dataset(prcp_2015)\n",
    "ncfile.info()"
   ]
  },
  {
   "cell_type": "code",
   "execution_count": 20,
   "metadata": {},
   "outputs": [
    {
     "name": "stdout",
     "output_type": "stream",
     "text": [
      "variables\n",
      "x\n",
      "y\n",
      "lat\n",
      "lon\n",
      "time\n",
      "yearday\n",
      "time_bnds\n",
      "lambert_conformal_conic\n",
      "prcp\n"
     ]
    }
   ],
   "source": [
    "print('variables')\n",
    "for v in ncfile.variables:\n",
    "    print(v)"
   ]
  },
  {
   "cell_type": "code",
   "execution_count": 21,
   "metadata": {},
   "outputs": [
    {
     "data": {
      "text/plain": [
       "<xarray.Variable (time: 365, y: 8075, x: 7814)>\n",
       "[1555951770 values with dtype=float64]\n",
       "Attributes:\n",
       "    long_name:     daily total precipitation\n",
       "    units:         mm/day\n",
       "    grid_mapping:  lambert_conformal_conic\n",
       "    cell_methods:  area: mean time: sum"
      ]
     },
     "execution_count": 21,
     "metadata": {},
     "output_type": "execute_result"
    }
   ],
   "source": [
    "ncfile.variables['prcp'][:]"
   ]
  },
  {
   "cell_type": "code",
   "execution_count": 64,
   "metadata": {},
   "outputs": [
    {
     "name": "stdout",
     "output_type": "stream",
     "text": [
      "<class 'netCDF4._netCDF4.Dataset'>\n",
      "root group (NETCDF4_CLASSIC data model, file format HDF5):\n",
      "    start_year: 2015\n",
      "    source: Daymet Software Version 3.0\n",
      "    Version_software: Daymet Software Version 3.0\n",
      "    Version_data: Daymet Data Version 3.0\n",
      "    Conventions: CF-1.6\n",
      "    citation: Please see http://daymet.ornl.gov/ for current Daymet data citation information\n",
      "    references: Please see http://daymet.ornl.gov/ for current information on Daymet references\n",
      "    dimensions(sizes): x(7814), y(8075), time(365), nv(2)\n",
      "    variables(dimensions): float32 \u001b[4mx\u001b[0m(x), float32 \u001b[4my\u001b[0m(y), float32 \u001b[4mlat\u001b[0m(y,x), float32 \u001b[4mlon\u001b[0m(y,x), float32 \u001b[4mtime\u001b[0m(time), int16 \u001b[4myearday\u001b[0m(time), float32 \u001b[4mtime_bnds\u001b[0m(time,nv), int16 \u001b[4mlambert_conformal_conic\u001b[0m(), float32 \u001b[4mprcp\u001b[0m(time,y,x)\n",
      "    groups: \n",
      "\n"
     ]
    }
   ],
   "source": [
    "prcp_2015 = \"/Users/Max81007/Desktop/Python/Prep/NA_prep/daymet_v3_prcp_2015_na.nc4\"\n",
    "abc = netCDF4.Dataset(prcp_2015,\"r\",format='NETCDF4')\n",
    "print(abc)"
   ]
  },
  {
   "cell_type": "code",
   "execution_count": 67,
   "metadata": {},
   "outputs": [
    {
     "name": "stdout",
     "output_type": "stream",
     "text": [
      "odict_keys(['x', 'y', 'lat', 'lon', 'time', 'yearday', 'time_bnds', 'lambert_conformal_conic', 'prcp'])\n",
      "<class 'netCDF4._netCDF4.Variable'>\n",
      "float32 prcp(time, y, x)\n",
      "    _FillValue: -9999.0\n",
      "    long_name: daily total precipitation\n",
      "    units: mm/day\n",
      "    missing_value: -9999.0\n",
      "    coordinates: lat lon\n",
      "    grid_mapping: lambert_conformal_conic\n",
      "    cell_methods: area: mean time: sum\n",
      "unlimited dimensions: time\n",
      "current shape = (365, 8075, 7814)\n",
      "filling on\n"
     ]
    }
   ],
   "source": [
    "print (abc.variables.keys())\n",
    "print (abc.variables['prcp'])"
   ]
  },
  {
   "cell_type": "code",
   "execution_count": 76,
   "metadata": {},
   "outputs": [
    {
     "ename": "SyntaxError",
     "evalue": "invalid syntax (<ipython-input-76-2241b9ad8caa>, line 2)",
     "output_type": "error",
     "traceback": [
      "\u001b[1;36m  File \u001b[1;32m\"<ipython-input-76-2241b9ad8caa>\"\u001b[1;36m, line \u001b[1;32m2\u001b[0m\n\u001b[1;33m    plot.figure(t(1,21:40),m(1,21:40))\u001b[0m\n\u001b[1;37m                      ^\u001b[0m\n\u001b[1;31mSyntaxError\u001b[0m\u001b[1;31m:\u001b[0m invalid syntax\n"
     ]
    }
   ],
   "source": [
    "topo = ncfile[\"prcp\"][1,:-100,:-100]\n",
    "plot.figure(t(1,21:40),m(1,21:40))\n",
    "plot.imshow(topo)"
   ]
  },
  {
   "cell_type": "code",
   "execution_count": 38,
   "metadata": {},
   "outputs": [
    {
     "ename": "IndexError",
     "evalue": "too many indices",
     "output_type": "error",
     "traceback": [
      "\u001b[1;31m---------------------------------------------------------------------------\u001b[0m",
      "\u001b[1;31mIndexError\u001b[0m                                Traceback (most recent call last)",
      "\u001b[1;32m<ipython-input-38-f71f20fa7e98>\u001b[0m in \u001b[0;36m<module>\u001b[1;34m()\u001b[0m\n\u001b[1;32m----> 1\u001b[1;33m \u001b[0mncfile\u001b[0m\u001b[1;33m.\u001b[0m\u001b[0mlambert_conformal_conic\u001b[0m\u001b[1;33m.\u001b[0m\u001b[0mloc\u001b[0m\u001b[1;33m[\u001b[0m\u001b[1;36m1\u001b[0m\u001b[1;33m]\u001b[0m\u001b[1;33m.\u001b[0m\u001b[0mplot\u001b[0m\u001b[1;33m(\u001b[0m\u001b[1;33m)\u001b[0m\u001b[1;33m\u001b[0m\u001b[0m\n\u001b[0m",
      "\u001b[1;32mc:\\users\\max81007\\appdata\\local\\programs\\python\\python36-32\\lib\\site-packages\\xarray\\core\\dataarray.py\u001b[0m in \u001b[0;36m__getitem__\u001b[1;34m(self, key)\u001b[0m\n\u001b[0;32m    104\u001b[0m \u001b[1;33m\u001b[0m\u001b[0m\n\u001b[0;32m    105\u001b[0m     \u001b[1;32mdef\u001b[0m \u001b[0m__getitem__\u001b[0m\u001b[1;33m(\u001b[0m\u001b[0mself\u001b[0m\u001b[1;33m,\u001b[0m \u001b[0mkey\u001b[0m\u001b[1;33m)\u001b[0m\u001b[1;33m:\u001b[0m\u001b[1;33m\u001b[0m\u001b[0m\n\u001b[1;32m--> 106\u001b[1;33m         \u001b[0mpos_indexers\u001b[0m\u001b[1;33m,\u001b[0m \u001b[0mnew_indexes\u001b[0m \u001b[1;33m=\u001b[0m \u001b[0mself\u001b[0m\u001b[1;33m.\u001b[0m\u001b[0m_remap_key\u001b[0m\u001b[1;33m(\u001b[0m\u001b[0mkey\u001b[0m\u001b[1;33m)\u001b[0m\u001b[1;33m\u001b[0m\u001b[0m\n\u001b[0m\u001b[0;32m    107\u001b[0m         \u001b[1;32mreturn\u001b[0m \u001b[0mself\u001b[0m\u001b[1;33m.\u001b[0m\u001b[0mdata_array\u001b[0m\u001b[1;33m[\u001b[0m\u001b[0mpos_indexers\u001b[0m\u001b[1;33m]\u001b[0m\u001b[1;33m.\u001b[0m\u001b[0m_replace_indexes\u001b[0m\u001b[1;33m(\u001b[0m\u001b[0mnew_indexes\u001b[0m\u001b[1;33m)\u001b[0m\u001b[1;33m\u001b[0m\u001b[0m\n\u001b[0;32m    108\u001b[0m \u001b[1;33m\u001b[0m\u001b[0m\n",
      "\u001b[1;32mc:\\users\\max81007\\appdata\\local\\programs\\python\\python36-32\\lib\\site-packages\\xarray\\core\\dataarray.py\u001b[0m in \u001b[0;36m_remap_key\u001b[1;34m(self, key)\u001b[0m\n\u001b[0;32m     99\u001b[0m         \u001b[1;32mif\u001b[0m \u001b[1;32mnot\u001b[0m \u001b[0mutils\u001b[0m\u001b[1;33m.\u001b[0m\u001b[0mis_dict_like\u001b[0m\u001b[1;33m(\u001b[0m\u001b[0mkey\u001b[0m\u001b[1;33m)\u001b[0m\u001b[1;33m:\u001b[0m\u001b[1;33m\u001b[0m\u001b[0m\n\u001b[0;32m    100\u001b[0m             \u001b[1;31m# expand the indexer so we can handle Ellipsis\u001b[0m\u001b[1;33m\u001b[0m\u001b[1;33m\u001b[0m\u001b[0m\n\u001b[1;32m--> 101\u001b[1;33m             \u001b[0mlabels\u001b[0m \u001b[1;33m=\u001b[0m \u001b[0mindexing\u001b[0m\u001b[1;33m.\u001b[0m\u001b[0mexpanded_indexer\u001b[0m\u001b[1;33m(\u001b[0m\u001b[0mkey\u001b[0m\u001b[1;33m,\u001b[0m \u001b[0mself\u001b[0m\u001b[1;33m.\u001b[0m\u001b[0mdata_array\u001b[0m\u001b[1;33m.\u001b[0m\u001b[0mndim\u001b[0m\u001b[1;33m)\u001b[0m\u001b[1;33m\u001b[0m\u001b[0m\n\u001b[0m\u001b[0;32m    102\u001b[0m             \u001b[0mkey\u001b[0m \u001b[1;33m=\u001b[0m \u001b[0mdict\u001b[0m\u001b[1;33m(\u001b[0m\u001b[0mzip\u001b[0m\u001b[1;33m(\u001b[0m\u001b[0mself\u001b[0m\u001b[1;33m.\u001b[0m\u001b[0mdata_array\u001b[0m\u001b[1;33m.\u001b[0m\u001b[0mdims\u001b[0m\u001b[1;33m,\u001b[0m \u001b[0mlabels\u001b[0m\u001b[1;33m)\u001b[0m\u001b[1;33m)\u001b[0m\u001b[1;33m\u001b[0m\u001b[0m\n\u001b[0;32m    103\u001b[0m         \u001b[1;32mreturn\u001b[0m \u001b[0mindexing\u001b[0m\u001b[1;33m.\u001b[0m\u001b[0mremap_label_indexers\u001b[0m\u001b[1;33m(\u001b[0m\u001b[0mself\u001b[0m\u001b[1;33m.\u001b[0m\u001b[0mdata_array\u001b[0m\u001b[1;33m,\u001b[0m \u001b[0mkey\u001b[0m\u001b[1;33m)\u001b[0m\u001b[1;33m\u001b[0m\u001b[0m\n",
      "\u001b[1;32mc:\\users\\max81007\\appdata\\local\\programs\\python\\python36-32\\lib\\site-packages\\xarray\\core\\indexing.py\u001b[0m in \u001b[0;36mexpanded_indexer\u001b[1;34m(key, ndim)\u001b[0m\n\u001b[0;32m     38\u001b[0m             \u001b[0mnew_key\u001b[0m\u001b[1;33m.\u001b[0m\u001b[0mappend\u001b[0m\u001b[1;33m(\u001b[0m\u001b[0mk\u001b[0m\u001b[1;33m)\u001b[0m\u001b[1;33m\u001b[0m\u001b[0m\n\u001b[0;32m     39\u001b[0m     \u001b[1;32mif\u001b[0m \u001b[0mlen\u001b[0m\u001b[1;33m(\u001b[0m\u001b[0mnew_key\u001b[0m\u001b[1;33m)\u001b[0m \u001b[1;33m>\u001b[0m \u001b[0mndim\u001b[0m\u001b[1;33m:\u001b[0m\u001b[1;33m\u001b[0m\u001b[0m\n\u001b[1;32m---> 40\u001b[1;33m         \u001b[1;32mraise\u001b[0m \u001b[0mIndexError\u001b[0m\u001b[1;33m(\u001b[0m\u001b[1;34m'too many indices'\u001b[0m\u001b[1;33m)\u001b[0m\u001b[1;33m\u001b[0m\u001b[0m\n\u001b[0m\u001b[0;32m     41\u001b[0m     \u001b[0mnew_key\u001b[0m\u001b[1;33m.\u001b[0m\u001b[0mextend\u001b[0m\u001b[1;33m(\u001b[0m\u001b[1;33m(\u001b[0m\u001b[0mndim\u001b[0m \u001b[1;33m-\u001b[0m \u001b[0mlen\u001b[0m\u001b[1;33m(\u001b[0m\u001b[0mnew_key\u001b[0m\u001b[1;33m)\u001b[0m\u001b[1;33m)\u001b[0m \u001b[1;33m*\u001b[0m \u001b[1;33m[\u001b[0m\u001b[0mslice\u001b[0m\u001b[1;33m(\u001b[0m\u001b[1;32mNone\u001b[0m\u001b[1;33m)\u001b[0m\u001b[1;33m]\u001b[0m\u001b[1;33m)\u001b[0m\u001b[1;33m\u001b[0m\u001b[0m\n\u001b[0;32m     42\u001b[0m     \u001b[1;32mreturn\u001b[0m \u001b[0mtuple\u001b[0m\u001b[1;33m(\u001b[0m\u001b[0mnew_key\u001b[0m\u001b[1;33m)\u001b[0m\u001b[1;33m\u001b[0m\u001b[0m\n",
      "\u001b[1;31mIndexError\u001b[0m: too many indices"
     ]
    }
   ],
   "source": [
    "ncfile.lambert_conformal_conic.loc[1].plot()"
   ]
  },
  {
   "cell_type": "code",
   "execution_count": null,
   "metadata": {},
   "outputs": [],
   "source": [
    "ncfile.lambert_conformal_conic[].plot(cmap=cm.gist_gray)"
   ]
  },
  {
   "cell_type": "code",
   "execution_count": null,
   "metadata": {},
   "outputs": [],
   "source": []
  },
  {
   "cell_type": "code",
   "execution_count": null,
   "metadata": {},
   "outputs": [],
   "source": [
    "prcp_2015 = \"/Users/Max81007/Desktop/Python/Prep/NA_prep/daymet_v3_prcp_2015_na.nc4\""
   ]
  },
  {
   "cell_type": "code",
   "execution_count": null,
   "metadata": {},
   "outputs": [],
   "source": [
    "nc = Dataset(prcp_2015)"
   ]
  },
  {
   "cell_type": "code",
   "execution_count": null,
   "metadata": {},
   "outputs": [],
   "source": [
    " data = nc['prcp'][1,:,:]"
   ]
  }
 ],
 "metadata": {
  "kernelspec": {
   "display_name": "Python 3",
   "language": "python",
   "name": "python3"
  },
  "language_info": {
   "codemirror_mode": {
    "name": "ipython",
    "version": 3
   },
   "file_extension": ".py",
   "mimetype": "text/x-python",
   "name": "python",
   "nbconvert_exporter": "python",
   "pygments_lexer": "ipython3",
   "version": "3.6.2"
  }
 },
 "nbformat": 4,
 "nbformat_minor": 2
}
