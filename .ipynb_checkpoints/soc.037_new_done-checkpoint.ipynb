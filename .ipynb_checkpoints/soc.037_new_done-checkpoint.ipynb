{
 "cells": [
  {
   "cell_type": "markdown",
   "metadata": {},
   "source": [
    "soc.037 Download linik:http://www.map.ox.ac.uk/static/africa-now/data_downloads/prevalence/rasters/Prevalence_annual_means_rasters.zip\n",
    "description http://www.map.ox.ac.uk/  PfPR2-10 - Plasmodium falciparum parasite rate in 2-10 year olds\n",
    "File type: tiff\n",
    "\n",
    "downloaded 2000-2015 uploaded 2010-2015"
   ]
  },
  {
   "cell_type": "code",
   "execution_count": 31,
   "metadata": {},
   "outputs": [],
   "source": [
    "# Libraries for downloading data from remote server (may be ftp)\n",
    "import requests\n",
    "from urllib.request import urlopen\n",
    "from contextlib import closing\n",
    "import shutil\n",
    "\n",
    "# Library for uploading/downloading data to/from S3\n",
    "import boto3\n",
    "\n",
    "# Libraries for handling data\n",
    "import rasterio as rio\n",
    "import numpy as np\n",
    "# from netCDF4 import Dataset\n",
    "# import pandas as pd\n",
    "# import scipy\n",
    "\n",
    "# Libraries for various helper functions\n",
    "# from datetime import datetime\n",
    "import os\n",
    "import threading\n",
    "import sys\n",
    "from glob import glob\n",
    "from matplotlib import pyplot\n",
    "%matplotlib inline"
   ]
  },
  {
   "cell_type": "markdown",
   "metadata": {},
   "source": [
    "s3"
   ]
  },
  {
   "cell_type": "code",
   "execution_count": 36,
   "metadata": {},
   "outputs": [],
   "source": [
    "s3_upload = boto3.client(\"s3\")\n",
    "s3_download = boto3.resource(\"s3\")\n",
    "\n",
    "s3_bucket = \"wri-public-data\"\n",
    "s3_folder = \"resourcewatch/raster/soc_037_Malaria_Extent/\"\n",
    "\n",
    "s3_file1 = \"soc_037_Malaria_Extent_2015.tif\"\n",
    "s3_file2 = \"soc_037_Malaria_Extent_2014.tif\"\n",
    "s3_file3 = \"soc_037_Malaria_Extent_2013.tif\"\n",
    "s3_file4 = \"soc_037_Malaria_Extent_2012.tif\"\n",
    "s3_file5 = \"soc_037_Malaria_Extent_2011.tif\"\n",
    "s3_file6 = \"soc_037_Malaria_Extent_2010.tif\"\n",
    "\n",
    "s3_key_orig1 = s3_folder + s3_file1\n",
    "s3_key_edit1 = s3_key_orig1[0:-4] + \"_edit.tif\"\n",
    "\n",
    "s3_key_orig2 = s3_folder + s3_file2\n",
    "s3_key_edit2 = s3_key_orig2[0:-4] + \"_edit.tif\"\n",
    "\n",
    "s3_key_orig3 = s3_folder + s3_file3\n",
    "s3_key_edit3 = s3_key_orig3[0:-4] + \"_edit.tif\"\n",
    "\n",
    "s3_key_orig4 = s3_folder + s3_file4\n",
    "s3_key_edit4 = s3_key_orig4[0:-4] + \"_edit.tif\"\n",
    "\n",
    "s3_key_orig5 = s3_folder + s3_file5\n",
    "s3_key_edit5 = s3_key_orig5[0:-4] + \"_edit.tif\"\n",
    "\n",
    "s3_key_orig6= s3_folder + s3_file6\n",
    "s3_key_edit6 = s3_key_orig6[0:-4] + \"_edit.tif\"\n",
    "\n",
    "s3_files_to_merge = [s3_key_orig1, s3_key_orig2, s3_key_orig3, s3_key_orig4, s3_key_orig5,s3_key_orig6 ]\n",
    "\n",
    "band_ids = [\"2015\",\"2014\",\"2013\", \"2012\", \"2011\", \"2010\"]\n",
    "merge_name = \"soc_037_Malaria_Extent_2010_to_2015.tif\"\n",
    "s3_key_merge = s3_folder + merge_name\n",
    "\n",
    "class ProgressPercentage(object):\n",
    "        def __init__(self, filename):\n",
    "            self._filename = filename\n",
    "            self._size = float(os.path.getsize(filename))\n",
    "            self._seen_so_far = 0\n",
    "            self._lock = threading.Lock()\n",
    "\n",
    "        def __call__(self, bytes_amount):\n",
    "            # To simplify we'll assume this is hooked up\n",
    "            # to a single filename.\n",
    "            with self._lock:\n",
    "                self._seen_so_far += bytes_amount\n",
    "                percentage = (self._seen_so_far / self._size) * 100\n",
    "                sys.stdout.write(\"\\r%s  %s / %s  (%.2f%%)\"%(\n",
    "                        self._filename, self._seen_so_far, self._size,\n",
    "                        percentage))\n",
    "                sys.stdout.flush()"
   ]
  },
  {
   "cell_type": "markdown",
   "metadata": {},
   "source": [
    "Define local file locations"
   ]
  },
  {
   "cell_type": "code",
   "execution_count": 37,
   "metadata": {},
   "outputs": [],
   "source": [
    "local_folder = \"/Users/Max81007/Desktop/Python/Resource_Watch/Raster/soc.037/rasters/\"\n",
    "\n",
    "file_name1 = \"MODEL43.2015.PR.rmean.stable.tif\"\n",
    "file_name2 = \"MODEL43.2014.PR.rmean.stable.tif\"\n",
    "file_name3 = \"MODEL43.2013.PR.rmean.stable.tif\"\n",
    "file_name4 = \"MODEL43.2012.PR.rmean.stable.tif\"\n",
    "file_name5 = \"MODEL43.2011.PR.rmean.stable.tif\"\n",
    "file_name6 = \"MODEL43.2010.PR.rmean.stable.tif\"\n",
    "\n",
    "local_orig1 = local_folder + file_name1\n",
    "local_orig2 = local_folder + file_name2\n",
    "local_orig3 = local_folder + file_name3\n",
    "local_orig4 = local_folder + file_name4\n",
    "local_orig5 = local_folder + file_name5\n",
    "local_orig6 = local_folder + file_name6\n",
    "\n",
    "orig_extension_length = 4 #4 for each char in .tif\n",
    "\n",
    "local_edit1 = local_orig1[:-orig_extension_length] + \"edit.tif\" \n",
    "local_edit2 = local_orig2[:-orig_extension_length] + \"edit.tif\" \n",
    "local_edit3 = local_orig3[:-orig_extension_length] + \"edit.tif\" \n",
    "local_edit4 = local_orig4[:-orig_extension_length] + \"edit.tif\" \n",
    "local_edit5 = local_orig5[:-orig_extension_length] + \"edit.tif\" \n",
    "local_edit6 = local_orig6[:-orig_extension_length] + \"edit.tif\" \n",
    "\n",
    "merge_files = [local_orig1, local_orig2, local_orig3, local_orig4, local_orig5, local_orig6]\n",
    "tmp_merge = local_folder + merge_name\n"
   ]
  },
  {
   "cell_type": "markdown",
   "metadata": {},
   "source": [
    "Use rasterio to reproject and compress"
   ]
  },
  {
   "cell_type": "code",
   "execution_count": 5,
   "metadata": {
    "scrolled": false
   },
   "outputs": [
    {
     "name": "stdout",
     "output_type": "stream",
     "text": [
      "{'driver': 'GTiff', 'dtype': 'float32', 'nodata': -9999.0, 'width': 1681, 'height': 1741, 'count': 1, 'crs': CRS({'init': 'epsg:4326'}), 'transform': Affine(0.04166665, 0.0, -18.00006479999999,\n",
      "       0.0, -0.04166665, 37.54162765), 'blockxsize': 256, 'blockysize': 256, 'tiled': True, 'compress': 'lzw', 'interleave': 'band'}\n",
      "{'driver': 'GTiff', 'dtype': 'float32', 'nodata': -9999.0, 'width': 1681, 'height': 1741, 'count': 1, 'crs': CRS({'init': 'epsg:4326'}), 'transform': Affine(0.04166665, 0.0, -18.00006479999999,\n",
      "       0.0, -0.04166665, 37.54162765), 'blockxsize': 256, 'blockysize': 256, 'tiled': True, 'compress': 'lzw', 'interleave': 'band'}\n",
      "{'driver': 'GTiff', 'dtype': 'float32', 'nodata': -9999.0, 'width': 1681, 'height': 1741, 'count': 1, 'crs': CRS({'init': 'epsg:4326'}), 'transform': Affine(0.04166665, 0.0, -18.00006479999999,\n",
      "       0.0, -0.04166665, 37.54162765), 'blockxsize': 256, 'blockysize': 256, 'tiled': True, 'compress': 'lzw', 'interleave': 'band'}\n",
      "{'driver': 'GTiff', 'dtype': 'float32', 'nodata': -9999.0, 'width': 1681, 'height': 1741, 'count': 1, 'crs': CRS({'init': 'epsg:4326'}), 'transform': Affine(0.04166665, 0.0, -18.00006479999999,\n",
      "       0.0, -0.04166665, 37.54162765), 'blockxsize': 256, 'blockysize': 256, 'tiled': True, 'compress': 'lzw', 'interleave': 'band'}\n",
      "{'driver': 'GTiff', 'dtype': 'float32', 'nodata': -9999.0, 'width': 1681, 'height': 1741, 'count': 1, 'crs': CRS({'init': 'epsg:4326'}), 'transform': Affine(0.04166665, 0.0, -18.00006479999999,\n",
      "       0.0, -0.04166665, 37.54162765), 'blockxsize': 256, 'blockysize': 256, 'tiled': True, 'compress': 'lzw', 'interleave': 'band'}\n",
      "{'driver': 'GTiff', 'dtype': 'float32', 'nodata': -9999.0, 'width': 1681, 'height': 1741, 'count': 1, 'crs': CRS({'init': 'epsg:4326'}), 'transform': Affine(0.04166665, 0.0, -18.00006479999999,\n",
      "       0.0, -0.04166665, 37.54162765), 'blockxsize': 256, 'blockysize': 256, 'tiled': True, 'compress': 'lzw', 'interleave': 'band'}\n"
     ]
    }
   ],
   "source": [
    "files = [local_orig1, local_orig2, local_orig3, local_orig4, local_orig5, local_orig6]\n",
    "for file in files:\n",
    "    with rio.open(file, 'r') as src:\n",
    "        profile = src.profile\n",
    "        print(profile)"
   ]
  },
  {
   "cell_type": "code",
   "execution_count": 6,
   "metadata": {},
   "outputs": [],
   "source": [
    "# Note - this is the core of Vizz's netcdf2tif function\n",
    "def convert_asc_to_tif(orig_name, edit_name):\n",
    "\n",
    "    with rio.open(orig_name, 'r') as src:\n",
    "        # This assumes data is readable by rasterio\n",
    "        # May need to open instead with netcdf4.Dataset, for example\n",
    "\n",
    "        data = src.read()[0]\n",
    "\n",
    "        rows = data.shape[0]\n",
    "        columns = data.shape[1]\n",
    "\n",
    "        print(rows)\n",
    "        print(columns)\n",
    "\n",
    "        # Latitude bounds\n",
    "        south_lat = -90\n",
    "        north_lat = 90\n",
    "\n",
    "        # Longitude bounds\n",
    "        west_lon = -180\n",
    "        east_lon = 180\n",
    "\n",
    "        transform = rio.transform.from_bounds(west_lon, south_lat, east_lon, north_lat, columns, rows)\n",
    "\n",
    "        # Profile\n",
    "\n",
    "        no_data_val = -9999.0\n",
    "        target_projection = 'EPSG:4326'\n",
    "        target_data_type = np.float64\n",
    "\n",
    "        profile = {\n",
    "            'driver':'GTiff', \n",
    "            'height':rows, \n",
    "            'width':columns, \n",
    "            'count':1, \n",
    "            'dtype':target_data_type, \n",
    "            'crs':target_projection, \n",
    "            'transform':transform, \n",
    "            'compress':'lzw', \n",
    "            'nodata': no_data_val\n",
    "        }\n",
    "\n",
    "        with rio.open(edit_name, \"w\", **profile) as dst:\n",
    "            dst.write(data.astype(profile[\"dtype\"]), 1)"
   ]
  },
  {
   "cell_type": "code",
   "execution_count": null,
   "metadata": {},
   "outputs": [],
   "source": [
    "convert_asc_to_tif(local_orig1, local_edit1)\n",
    "convert_asc_to_tif(local_orig2, local_edit2)\n",
    "convert_asc_to_tif(local_orig3, local_edit3)\n",
    "convert_asc_to_tif(local_orig4, local_edit4)\n",
    "convert_asc_to_tif(local_orig5, local_edit5)\n",
    "convert_asc_to_tif(local_orig6, local_edit6)\n"
   ]
  },
  {
   "cell_type": "code",
   "execution_count": 16,
   "metadata": {},
   "outputs": [],
   "source": [
    "os.getcwd()\n",
    "os.chdir(local_folder)\n",
    "os.environ[\"local_orig1\"] =local_orig1\n",
    "os.environ[\"local_edit1\"] =local_edit1"
   ]
  },
  {
   "cell_type": "code",
   "execution_count": 17,
   "metadata": {},
   "outputs": [
    {
     "name": "stdout",
     "output_type": "stream",
     "text": [
      "0...10...20...30...40...50...60...70...80...90...100 - done.\n"
     ]
    }
   ],
   "source": [
    "!gdalwarp -overwrite -t_srs epsg:4326 -srcnodata none %local_orig1% %local_edit1%"
   ]
  },
  {
   "cell_type": "code",
   "execution_count": 18,
   "metadata": {},
   "outputs": [
    {
     "name": "stdout",
     "output_type": "stream",
     "text": [
      "{'driver': 'GTiff', 'dtype': 'float32', 'nodata': -9999.0, 'width': 1681, 'height': 1741, 'count': 1, 'crs': CRS({'init': 'epsg:4326'}), 'transform': Affine(0.04166665, 0.0, -18.00006479999999,\n",
      "       0.0, -0.04166665, 37.54162765), 'blockxsize': 256, 'blockysize': 256, 'tiled': True, 'compress': 'lzw', 'interleave': 'band'}\n",
      "{'driver': 'GTiff', 'dtype': 'float32', 'nodata': None, 'width': 1681, 'height': 1741, 'count': 1, 'crs': CRS({'init': 'epsg:4326'}), 'transform': Affine(0.04166664999999999, 0.0, -18.00006479999999,\n",
      "       0.0, -0.04166664999999999, 37.54162765), 'tiled': False, 'interleave': 'band'}\n"
     ]
    }
   ],
   "source": [
    "files = [local_orig1, local_edit1]\n",
    "for file in files:\n",
    "    with rio.open(file, 'r') as src:\n",
    "        profile = src.profile\n",
    "        print(profile)"
   ]
  },
  {
   "cell_type": "code",
   "execution_count": null,
   "metadata": {},
   "outputs": [],
   "source": []
  },
  {
   "cell_type": "code",
   "execution_count": 27,
   "metadata": {},
   "outputs": [],
   "source": [
    "files = [local_orig1, local_edit1]\n",
    "data = {}\n",
    "\n",
    "for file in files:\n",
    "    with rio.open(file, 'r') as src:\n",
    "        data[file]=src.read(indexes=1)\n"
   ]
  },
  {
   "cell_type": "code",
   "execution_count": 29,
   "metadata": {},
   "outputs": [
    {
     "data": {
      "text/plain": [
       "<matplotlib.image.AxesImage at 0x1092710>"
      ]
     },
     "execution_count": 29,
     "metadata": {},
     "output_type": "execute_result"
    },
    {
     "data": {
      "image/png": "[encoded data removed]",
      "text/plain": [
       "<matplotlib.figure.Figure at 0xcd1d30>"
      ]
     },
     "metadata": {},
     "output_type": "display_data"
    }
   ],
   "source": [
    "pyplot.imshow(data[local_orig1])"
   ]
  },
  {
   "cell_type": "code",
   "execution_count": 30,
   "metadata": {},
   "outputs": [
    {
     "data": {
      "text/plain": [
       "<matplotlib.image.AxesImage at 0x10e8a30>"
      ]
     },
     "execution_count": 30,
     "metadata": {},
     "output_type": "execute_result"
    },
    {
     "data": {
      "image/png": "[encoded data removed]",
      "text/plain": [
       "<matplotlib.figure.Figure at 0x10a7b70>"
      ]
     },
     "metadata": {},
     "output_type": "display_data"
    }
   ],
   "source": [
    "pyplot.imshow(data[local_edit1])"
   ]
  },
  {
   "cell_type": "code",
   "execution_count": 26,
   "metadata": {},
   "outputs": [
    {
     "data": {
      "text/plain": [
       "(array([ -9.99900000e+03,   0.00000000e+00,   6.49901456e-04, ...,\n",
       "          8.44602048e-01,   8.46592784e-01,   8.47348452e-01], dtype=float32),\n",
       " array([2035857,     536,       1, ...,       1,       1,       1]))"
      ]
     },
     "execution_count": 26,
     "metadata": {},
     "output_type": "execute_result"
    }
   ],
   "source": [
    "np.unique(data, return_counts=True)\n",
    "pyplot.imshow(data)"
   ]
  },
  {
   "cell_type": "code",
   "execution_count": 38,
   "metadata": {},
   "outputs": [
    {
     "name": "stdout",
     "output_type": "stream",
     "text": [
      "0\n",
      "1\n",
      "2\n",
      "3\n",
      "4\n",
      "5\n"
     ]
    }
   ],
   "source": [
    "with rio.open(merge_files[0]) as src:\n",
    "    kwargs = src.profile\n",
    "    \n",
    "kwargs.update(\n",
    "    count=len(merge_files)\n",
    ")\n",
    "    \n",
    "with rio.open(tmp_merge, 'w', **kwargs) as dst:\n",
    "    for idx, file in enumerate(merge_files):\n",
    "        print(idx)\n",
    "        with rio.open(file) as src:\n",
    "\n",
    "            band = idx+1\n",
    "            windows = src.block_windows()\n",
    "\n",
    "            for win_id, window in windows:\n",
    "                src_data = src.read(1, window=window)\n",
    "                dst.write_band(band, src_data, window=window)"
   ]
  },
  {
   "cell_type": "code",
   "execution_count": 39,
   "metadata": {},
   "outputs": [
    {
     "name": "stdout",
     "output_type": "stream",
     "text": [
      "{'driver': 'GTiff', 'dtype': 'float32', 'nodata': -9999.0, 'width': 1681, 'height': 1741, 'count': 6, 'crs': CRS({'init': 'epsg:4326'}), 'transform': Affine(0.04166665, 0.0, -18.00006479999999,\n",
      "       0.0, -0.04166665, 37.54162765), 'blockxsize': 256, 'blockysize': 256, 'compress': 'lzw', 'interleave': 'band', 'tiled': True}\n"
     ]
    }
   ],
   "source": [
    "files = [tmp_merge]\n",
    "for file in files:\n",
    "    with rio.open(file, 'r') as src:\n",
    "        profile = src.profile\n",
    "        print(profile)"
   ]
  },
  {
   "cell_type": "code",
   "execution_count": null,
   "metadata": {},
   "outputs": [],
   "source": []
  },
  {
   "cell_type": "markdown",
   "metadata": {},
   "source": [
    "Upload orig and edit files to s3"
   ]
  },
  {
   "cell_type": "code",
   "execution_count": null,
   "metadata": {},
   "outputs": [],
   "source": [
    "# Original\n",
    "s3_upload.upload_file(local_orig1, s3_bucket, s3_key_orig1,\n",
    "                         Callback=ProgressPercentage(local_orig1))\n",
    "s3_upload.upload_file(local_orig2, s3_bucket, s3_key_orig2,\n",
    "                         Callback=ProgressPercentage(local_orig2))\n",
    "s3_upload.upload_file(local_orig3, s3_bucket, s3_key_orig3,\n",
    "                         Callback=ProgressPercentage(local_orig3))\n",
    "s3_upload.upload_file(local_orig4, s3_bucket, s3_key_orig4,\n",
    "                         Callback=ProgressPercentage(local_orig4))\n",
    "s3_upload.upload_file(local_orig5, s3_bucket, s3_key_orig5,\n",
    "                         Callback=ProgressPercentage(local_orig5))\n",
    "s3_upload.upload_file(local_orig6, s3_bucket, s3_key_orig6,\n",
    "                         Callback=ProgressPercentage(local_orig6))\n",
    "\n",
    "# Edit\n",
    "s3_upload.upload_file(local_edit1, s3_bucket, s3_key_edit1,\n",
    "                         Callback=ProgressPercentage(local_edit1))\n",
    "s3_upload.upload_file(local_edit2, s3_bucket, s3_key_edit2,\n",
    "                         Callback=ProgressPercentage(local_edit2))\n",
    "s3_upload.upload_file(local_edit3, s3_bucket, s3_key_edit3,\n",
    "                         Callback=ProgressPercentage(local_edit3))\n",
    "s3_upload.upload_file(local_edit4, s3_bucket, s3_key_edit4,\n",
    "                         Callback=ProgressPercentage(local_edit4))\n",
    "s3_upload.upload_file(local_edit5, s3_bucket, s3_key_edit5,\n",
    "                         Callback=ProgressPercentage(local_edit5))\n",
    "s3_upload.upload_file(local_edit6, s3_bucket, s3_key_edit6,\n",
    "                         Callback=ProgressPercentage(local_edit6))\n",
    "\n"
   ]
  },
  {
   "cell_type": "code",
   "execution_count": 40,
   "metadata": {},
   "outputs": [
    {
     "name": "stdout",
     "output_type": "stream",
     "text": [
      "/Users/Max81007/Desktop/Python/Resource_Watch/Raster/soc.037/rasters/soc_037_Malaria_Extent_2010_to_2015.tif  24710396 / 24710396.0  (100.00%)"
     ]
    }
   ],
   "source": [
    "s3_upload.upload_file(tmp_merge, s3_bucket, s3_key_merge,\n",
    "           Callback=ProgressPercentage(tmp_merge))"
   ]
  },
  {
   "cell_type": "code",
   "execution_count": 41,
   "metadata": {},
   "outputs": [],
   "source": [
    "os.environ[\"Zs3_key\"] = \"s3://wri-public-data/\" + s3_key_merge\n",
    "os.environ[\"Zs3_key_inspect\"] = \"wri-public-data/\" + s3_key_merge \n"
   ]
  },
  {
   "cell_type": "code",
   "execution_count": 42,
   "metadata": {},
   "outputs": [],
   "source": [
    "os.environ[\"Zgs_key\"] = \"gs://resource-watch-public/\" + s3_key_merge"
   ]
  },
  {
   "cell_type": "code",
   "execution_count": 43,
   "metadata": {},
   "outputs": [
    {
     "name": "stdout",
     "output_type": "stream",
     "text": [
      "wri-public-data/resourcewatch/raster/soc_037_Malaria_Extent/soc_037_Malaria_Extent_2010_to_2015.tif\n",
      "2017-10-04 15:15:53   24710396 soc_037_Malaria_Extent_2010_to_2015.tif\n"
     ]
    }
   ],
   "source": [
    "!echo %Zs3_key_inspect%\n",
    "!aws s3 ls %Zs3_key_inspect%\n"
   ]
  },
  {
   "cell_type": "code",
   "execution_count": 44,
   "metadata": {},
   "outputs": [
    {
     "name": "stderr",
     "output_type": "stream",
     "text": [
      "Non-MD5 etag (\"4a73ef7c121bd5cb598ec54833879b12-3\") present for key <Key: wri-public-data,resourcewatch/raster/soc_037_Malaria_Extent/soc_037_Malaria_Extent_2010_to_2015.tif>, data integrity checks are not possible.\n",
      "Copying s3://wri-public-data/resourcewatch/raster/soc_037_Malaria_Extent/soc_037_Malaria_Extent_2010_to_2015.tif [Content-Type=binary/octet-stream]...\n",
      "/ [0 files][    0.0 B/ 23.6 MiB]                                                \n",
      "-\n",
      "- [0 files][  6.2 MiB/ 23.6 MiB]                                                \n",
      "\\\n",
      "|\n",
      "| [0 files][ 14.4 MiB/ 23.6 MiB]                                                \n",
      "/\n",
      "/ [0 files][ 23.5 MiB/ 23.6 MiB]                                                \n",
      "-\n",
      "WARNING: Found no hashes to validate object downloaded from s3://wri-public-data/resourcewatch/raster/soc_037_Malaria_Extent/soc_037_Malaria_Extent_2010_to_2015.tif and uploaded to gs://resource-watch-public/resourcewatch/raster/soc_037_Malaria_Extent/soc_037_Malaria_Extent_2010_to_2015.tif. Integrity cannot be assured without hashes.\n",
      "- [1 files][ 23.6 MiB/ 23.6 MiB]                                                \n",
      "\n",
      "Operation completed over 1 objects/23.6 MiB.                                     \n"
     ]
    }
   ],
   "source": [
    "!gsutil cp %Zs3_key% %Zgs_key%\n"
   ]
  },
  {
   "cell_type": "code",
   "execution_count": 45,
   "metadata": {},
   "outputs": [
    {
     "name": "stdout",
     "output_type": "stream",
     "text": [
      "Started upload task with ID: OMAGB65WVOO3GTVI4PRXPQTB\n"
     ]
    }
   ],
   "source": [
    "os.environ[\"asset_id\"] = \"users/resourcewatch/soc_037_malaria_extent\"\n",
    "!earthengine upload image --asset_id=%asset_id% %Zgs_key%\n"
   ]
  },
  {
   "cell_type": "code",
   "execution_count": 49,
   "metadata": {},
   "outputs": [],
   "source": [
    "os.environ[\"band_names\"] = str(band_ids)\n",
    "!earthengine asset set -p band_names=\"%band_names%\" %asset_id%\n"
   ]
  }
 ],
 "metadata": {
  "kernelspec": {
   "display_name": "Python 3",
   "language": "python",
   "name": "python3"
  },
  "language_info": {
   "codemirror_mode": {
    "name": "ipython",
    "version": 3
   },
   "file_extension": ".py",
   "mimetype": "text/x-python",
   "name": "python",
   "nbconvert_exporter": "python",
   "pygments_lexer": "ipython3",
   "version": "3.6.2"
  }
 },
 "nbformat": 4,
 "nbformat_minor": 2
}
