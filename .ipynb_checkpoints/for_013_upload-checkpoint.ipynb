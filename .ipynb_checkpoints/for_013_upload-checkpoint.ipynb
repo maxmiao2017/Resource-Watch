{
 "cells": [
  {
   "cell_type": "markdown",
   "metadata": {},
   "source": [
    "foo.027\t- Observed and Potential Crop Yields\n",
    "\n",
    "Description: http://www.earthstat.org/data-download/\n",
    "Download as Yield Gaps and Climate Bins for Major Crops - Geotiff format :http://www.earthstat.org/data-download/\n",
    "\n",
    "File type: Geotiff"
   ]
  },
  {
   "cell_type": "code",
   "execution_count": 14,
   "metadata": {},
   "outputs": [],
   "source": [
    "# Libraries for downloading data from remote server (may be ftp)\n",
    "import requests\n",
    "from urllib.request import urlopen\n",
    "from contextlib import closing\n",
    "import shutil\n",
    "\n",
    "# Library for uploading/downloading data to/from S3\n",
    "import boto3\n",
    "\n",
    "# Libraries for handling data\n",
    "import rasterio as rio\n",
    "from rasterio.warp import calculate_default_transform, reproject, Resampling\n",
    "from rasterio import crs\n",
    "\n",
    "import numpy as np\n",
    "# from netCDF4 import Dataset\n",
    "# import pandas as pd\n",
    "# import scipy\n",
    "\n",
    "# Libraries for various helper functions\n",
    "# from datetime import datetime\n",
    "import os\n",
    "import threading\n",
    "import sys\n",
    "from glob import glob"
   ]
  },
  {
   "cell_type": "markdown",
   "metadata": {},
   "source": [
    "local folder"
   ]
  },
  {
   "cell_type": "code",
   "execution_count": 16,
   "metadata": {},
   "outputs": [
    {
     "name": "stdout",
     "output_type": "stream",
     "text": [
      "{'driver': 'GTiff', 'dtype': 'uint8', 'nodata': 255.0, 'width': 43200, 'height': 21600, 'count': 1, 'crs': CRS({'init': 'epsg:4326'}), 'transform': Affine(0.00833333333333333, 0.0, -180.00000000000003,\n",
      "       0.0, -0.00833333333333333, 90.00000000000001), 'blockxsize': 128, 'blockysize': 128, 'tiled': True, 'interleave': 'band'}\n",
      "{'driver': 'GTiff', 'dtype': 'uint8', 'nodata': 255.0, 'width': 43200, 'height': 21600, 'count': 1, 'crs': CRS({'init': 'epsg:4326'}), 'transform': Affine(0.00833333333333333, 0.0, -180.00000000000003,\n",
      "       0.0, -0.00833333333333333, 90.00000000000001), 'blockxsize': 128, 'blockysize': 128, 'tiled': True, 'interleave': 'band'}\n"
     ]
    }
   ],
   "source": [
    "local_folder = \"/Users/Max81007/Desktop/Python/Resource_Watch/Raster/for.013/\"\n",
    "\n",
    "#this is the updated version from Susan\n",
    "file_name1 = \"restoration.tif\"\n",
    "local_orig1 = local_folder + file_name1\n",
    "\n",
    "orig_extension_length = 4 #4 for each char in .tif\n",
    "local_edit1 = local_orig1[:-orig_extension_length] + \"edit.tif\" \n",
    "\n",
    "#version found on s3\n",
    "file_name2 = \"for_013_forest_landscape_restoration_opportunity.tif\"\n",
    "local_orig2 = local_folder + file_name2\n",
    "\n",
    "files = [local_orig1, local_orig2]\n",
    "for file in files:\n",
    "    with rio.open(file, 'r') as src:\n",
    "        profile = src.profile\n",
    "        print(profile)"
   ]
  },
  {
   "cell_type": "markdown",
   "metadata": {},
   "source": [
    "s3"
   ]
  },
  {
   "cell_type": "code",
   "execution_count": 17,
   "metadata": {},
   "outputs": [],
   "source": [
    "s3_upload = boto3.client(\"s3\")\n",
    "s3_download = boto3.resource(\"s3\")\n",
    "\n",
    "s3_bucket = \"wri-public-data\"\n",
    "s3_folder = \"resourcewatch/raster/for_013_forest_landscape_restoration_opportunity/\"\n",
    "\n",
    "s3_key_orig1 = s3_folder + \"for_013_forest_landscape_restoration_opportunity1.tif\" \n",
    "\n",
    "class ProgressPercentage(object):\n",
    "        def __init__(self, filename):\n",
    "            self._filename = filename\n",
    "            self._size = float(os.path.getsize(filename))\n",
    "            self._seen_so_far = 0\n",
    "            self._lock = threading.Lock()\n",
    "\n",
    "        def __call__(self, bytes_amount):\n",
    "            # To simplify we'll assume this is hooked up\n",
    "            # to a single filename.\n",
    "            with self._lock:\n",
    "                self._seen_so_far += bytes_amount\n",
    "                percentage = (self._seen_so_far / self._size) * 100\n",
    "                sys.stdout.write(\"\\r%s  %s / %s  (%.2f%%)\"%(\n",
    "                        self._filename, self._seen_so_far, self._size,\n",
    "                        percentage))\n",
    "                sys.stdout.flush()"
   ]
  },
  {
   "cell_type": "code",
   "execution_count": 7,
   "metadata": {},
   "outputs": [
    {
     "name": "stdout",
     "output_type": "stream",
     "text": [
      "/Users/Max81007/Desktop/Python/Resource_Watch/Raster/for.013/restoration.tif  936801865 / 936801865.0  (100.00%)"
     ]
    }
   ],
   "source": [
    "s3_upload.upload_file(local_orig1, s3_bucket, s3_key_orig1,\n",
    "                         Callback=ProgressPercentage(local_orig1))"
   ]
  },
  {
   "cell_type": "markdown",
   "metadata": {},
   "source": [
    "\n"
   ]
  },
  {
   "cell_type": "code",
   "execution_count": 8,
   "metadata": {},
   "outputs": [],
   "source": [
    "os.environ[\"Zs3_key\"] = \"s3://wri-public-data/\" + s3_key_orig1\n",
    "os.environ[\"Zs3_key_inspect\"] = \"wri-public-data/\" + s3_key_orig1\n",
    "os.environ[\"Zgs_key\"] = \"gs://resource-watch-public/\" + s3_key_orig1\n"
   ]
  },
  {
   "cell_type": "code",
   "execution_count": 9,
   "metadata": {},
   "outputs": [
    {
     "name": "stdout",
     "output_type": "stream",
     "text": [
      "wri-public-data/resourcewatch/raster/for_013_forest_landscape_restoration_opportunity/for_013_forest_landscape_restoration_opportunity2.tif \n",
      "2017-10-04 11:51:05  936801865 for_013_forest_landscape_restoration_opportunity2.tif\n"
     ]
    }
   ],
   "source": [
    "!echo %Zs3_key_inspect% \n",
    "!aws s3 ls %Zs3_key_inspect%"
   ]
  },
  {
   "cell_type": "code",
   "execution_count": 10,
   "metadata": {},
   "outputs": [
    {
     "name": "stdout",
     "output_type": "stream",
     "text": [
      "s3://wri-public-data/resourcewatch/raster/for_013_forest_landscape_restoration_opportunity/for_013_forest_landscape_restoration_opportunity2.tif\n",
      "gs://resource-watch-public/resourcewatch/raster/for_013_forest_landscape_restoration_opportunity/for_013_forest_landscape_restoration_opportunity2.tif\n"
     ]
    }
   ],
   "source": [
    "!echo %Zs3_key%\n",
    "!echo %Zgs_key%"
   ]
  },
  {
   "cell_type": "code",
   "execution_count": null,
   "metadata": {},
   "outputs": [],
   "source": [
    "# print out destination and run the terminal \n",
    "gsutil cp s3://wri-public-data/resourcewatch/raster/for_013_forest_landscape_restoration_opportunity/for_013_forest_landscape_restoration_opportunity2.tif gs://resource-watch-public/resourcewatch/raster/for_013_forest_landscape_restoration_opportunity/for_013_forest_landscape_restoration_opportunity2.tif"
   ]
  },
  {
   "cell_type": "code",
   "execution_count": null,
   "metadata": {},
   "outputs": [],
   "source": [
    "!gsutil cp %Zs3_key% %Zgs_key%\n"
   ]
  },
  {
   "cell_type": "code",
   "execution_count": 11,
   "metadata": {},
   "outputs": [
    {
     "name": "stdout",
     "output_type": "stream",
     "text": [
      "Started upload task with ID: EZK4Q2IEE7NTXJMPMN6MCLPM\n"
     ]
    }
   ],
   "source": [
    "os.environ[\"asset_id\"] = \"users/resourcewatch/for_013_forest_landscape_restoration_opportunity1\"\n",
    "!earthengine upload image --asset_id=%asset_id% %Zgs_key%\n"
   ]
  },
  {
   "cell_type": "code",
   "execution_count": 9,
   "metadata": {},
   "outputs": [
    {
     "name": "stdout",
     "output_type": "stream",
     "text": [
      "2017-10-02 21:13:41  936344624 for_013_forest_landscape_restoration_opportunity.tif\n"
     ]
    }
   ],
   "source": [
    "!aws s3 ls s3://wri-public-data/resourcewatch/raster/for_013_forest_landscape_restoration_opportunity/for_013_forest_landscape_restoration_opportunity.tif"
   ]
  }
 ],
 "metadata": {
  "kernelspec": {
   "display_name": "Python 3",
   "language": "python",
   "name": "python3"
  },
  "language_info": {
   "codemirror_mode": {
    "name": "ipython",
    "version": 3
   },
   "file_extension": ".py",
   "mimetype": "text/x-python",
   "name": "python",
   "nbconvert_exporter": "python",
   "pygments_lexer": "ipython3",
   "version": "3.6.2"
  }
 },
 "nbformat": 4,
 "nbformat_minor": 2
}
