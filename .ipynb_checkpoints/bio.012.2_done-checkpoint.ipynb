{
 "cells": [
  {
   "cell_type": "markdown",
   "metadata": {},
   "source": [
    "Mammal Habitats Under Threat\tbio.012.2\thttp://sedac.ciesin.columbia.edu/data/set/species-global-mammal-richness-2015"
   ]
  },
  {
   "cell_type": "code",
   "execution_count": 19,
   "metadata": {
    "collapsed": true
   },
   "outputs": [],
   "source": [
    "### Not sure why this is bigger than the Amphibian data... all signs point to identical methods\n",
    "\n",
    "import boto3\n",
    "\n",
    "import rasterio\n",
    "import numpy as np\n",
    "\n",
    "import os\n",
    "import sys\n",
    "import threading"
   ]
  },
  {
   "cell_type": "markdown",
   "metadata": {},
   "source": [
    "Establish local and s3 file locations"
   ]
  },
  {
   "cell_type": "code",
   "execution_count": 35,
   "metadata": {
    "collapsed": false
   },
   "outputs": [],
   "source": [
    "# Local storage\n",
    "local_folder = \"/Users/nathansuberi/Desktop/WRI_Programming/RW_Data/\"\n",
    "rw_data_type = local_folder + \"Biodiversity/\"\n",
    "\n",
    "local_orig = rw_data_type + \"mammals_all_threats.tif\"\n",
    "local_edit = local_orig[:-4] + \"_edit.tif\"\n",
    "\n",
    "# S3 storage\n",
    "s3_bucket = \"wri-public-data\"\n",
    "s3_folder = \"resourcewatch/bio_012_2_mammalian_species_under_threat/\"\n",
    "\n",
    "s3_key_orig = s3_folder + \"bio_012_2_mammalian_species_under_threat.tif\"\n",
    "s3_key_edit = s3_key_orig[0:-4] + \"_edit.tif\"\n",
    "\n",
    "# S3 services\n",
    "s3_download = boto3.resource(\"s3\")\n",
    "s3_upload = boto3.client(\"s3\")\n",
    "\n",
    "# Helper function to view upload progress\n",
    "class ProgressPercentage(object):\n",
    "        def __init__(self, filename):\n",
    "            self._filename = filename\n",
    "            self._size = float(os.path.getsize(filename))\n",
    "            self._seen_so_far = 0\n",
    "            self._lock = threading.Lock()\n",
    "\n",
    "        def __call__(self, bytes_amount):\n",
    "            # To simplify we'll assume this is hooked up\n",
    "            # to a single filename.\n",
    "            with self._lock:\n",
    "                self._seen_so_far += bytes_amount\n",
    "                percentage = (self._seen_so_far / self._size) * 100\n",
    "                sys.stdout.write(\n",
    "                    \"\\r%s  %s / %s  (%.2f%%)\" % (\n",
    "                        self._filename, self._seen_so_far, self._size,\n",
    "                        percentage))\n",
    "                sys.stdout.flush()"
   ]
  },
  {
   "cell_type": "code",
   "execution_count": 36,
   "metadata": {
    "collapsed": false
   },
   "outputs": [],
   "source": [
    "s3_download.meta.client.download_file(s3_bucket, s3_key_orig, local_orig)"
   ]
  },
  {
   "cell_type": "markdown",
   "metadata": {},
   "source": [
    "<b>Regardless of any needed edits, upload original file</b>\n",
    "\n",
    "<i>Upload tif to S3 folder</i>\n",
    "\n",
    "http://boto3.readthedocs.io/en/latest/guide/s3-example-creating-buckets.html\n",
    "\n",
    "<i>Monitor Progress of Upload</i>\n",
    "\n",
    "http://boto3.readthedocs.io/en/latest/_modules/boto3/s3/transfer.html\n",
    "https://boto3.readthedocs.io/en/latest/guide/s3.html#using-the-transfer-manager"
   ]
  },
  {
   "cell_type": "code",
   "execution_count": 14,
   "metadata": {
    "collapsed": true
   },
   "outputs": [],
   "source": [
    "s3_upload.upload_file(local_orig, s3_bucket, s3_key_orig,\n",
    "                         Callback=ProgressPercentage(local_orig))"
   ]
  },
  {
   "cell_type": "markdown",
   "metadata": {},
   "source": [
    "Create edit file"
   ]
  },
  {
   "cell_type": "code",
   "execution_count": 37,
   "metadata": {
    "collapsed": false
   },
   "outputs": [
    {
     "name": "stdout",
     "output_type": "stream",
     "text": [
      "{'driver': 'GTiff', 'dtype': 'int32', 'nodata': 2147483647.0, 'width': 43200, 'height': 21600, 'count': 1, 'crs': CRS({'init': 'epsg:4326'}), 'transform': (-180.0, 0.00833330000000387, 0.0, 89.99928000008359, 0.0, -0.00833330000000387), 'affine': Affine(0.00833330000000387, 0.0, -180.0,\n",
      "       0.0, -0.00833330000000387, 89.99928000008359), 'tiled': False, 'interleave': 'band'}\n",
      "{'driver': 'GTiff', 'dtype': 'int32', 'nodata': 0, 'width': 43200, 'height': 21600, 'count': 1, 'crs': 'EPSG:4326', 'transform': (-180.0, 0.00833330000000387, 0.0, 89.99928000008359, 0.0, -0.00833330000000387), 'affine': Affine(0.00833330000000387, 0.0, -180.0,\n",
      "       0.0, -0.00833330000000387, 89.99928000008359), 'tiled': False, 'interleave': 'band', 'old_nodata': 2147483647.0, 'compress': 'lzw', 'bigtiff': 'NO'}\n"
     ]
    }
   ],
   "source": [
    "# Adjust kwargs\n",
    "\n",
    "with rasterio.open(local_orig) as src:\n",
    "    kwargs = src.profile\n",
    "\n",
    "print(kwargs)\n",
    "\n",
    "nodata_val = 0\n",
    "data_type = rasterio.int32\n",
    "t_crs = 'EPSG:4326'\n",
    "\n",
    "kwargs.update(\n",
    "    old_nodata = kwargs[\"nodata\"],\n",
    "    driver='GTiff',\n",
    "    dtype=data_type,  #rasterio.int16, rasterio.int32, rasterio.uint8,rasterio.uint16, rasterio.uint32, rasterio.float32, rasterio.float64\n",
    "    count=1,\n",
    "    compress='lzw',\n",
    "    nodata=nodata_val,\n",
    "    bigtiff='NO',\n",
    "    crs = t_crs,\n",
    "    tiled = False\n",
    ")\n",
    "\n",
    "kwargs.pop(\"blockxsize\", None)\n",
    "kwargs.pop(\"blockysize\", None)\n",
    "\n",
    "print(kwargs)"
   ]
  },
  {
   "cell_type": "code",
   "execution_count": 38,
   "metadata": {
    "collapsed": false
   },
   "outputs": [
    {
     "name": "stderr",
     "output_type": "stream",
     "text": [
      "/Users/nathansuberi/.pyenv/versions/3.6.0/lib/python3.6/site-packages/rasterio/__init__.py:160: FutureWarning: GDAL-style transforms are deprecated and will not be supported in Rasterio 1.0.\n",
      "  transform = guard_transform(transform)\n"
     ]
    }
   ],
   "source": [
    "with rasterio.open(local_orig) as src:\n",
    "    windows = src.block_windows()\n",
    "    with rasterio.open(local_edit, 'w', **kwargs) as dst:\n",
    "        for win_id, window in windows:\n",
    "            src_data = src.read(1, window=window).astype(kwargs[\"dtype\"])\n",
    "            np.putmask(src_data, src_data==kwargs[\"old_nodata\"], kwargs[\"nodata\"])\n",
    "            dst.write_band(1, src_data, window=window)"
   ]
  },
  {
   "cell_type": "code",
   "execution_count": 28,
   "metadata": {
    "collapsed": false
   },
   "outputs": [
    {
     "data": {
      "text/plain": [
       "(array([ 0,  1,  2,  3,  4,  5,  6,  7,  8,  9, 10, 11, 12, 13, 14, 15, 16,\n",
       "        17, 18, 19, 20, 21, 22, 23, 24, 25, 26, 27, 28, 29, 30, 31, 32, 33], dtype=int32),\n",
       " array([169243367, 154184574,  53840830, 200040897, 263286993,  57000855,\n",
       "         18392252,   6902183,   2093180,   2953281,   1290368,    607972,\n",
       "           383123,    381171,    352998,    355560,    289393,    224771,\n",
       "           184635,    223244,    242506,    188104,    111229,     88250,\n",
       "            76795,     52540,     45673,     36178,     21961,     14899,\n",
       "             7136,      1993,      1054,        35]))"
      ]
     },
     "execution_count": 28,
     "metadata": {},
     "output_type": "execute_result"
    }
   ],
   "source": [
    "with rasterio.open(local_edit) as src:\n",
    "    data = src.read(1)\n",
    "    \n",
    "np.unique(data, return_counts=True)"
   ]
  },
  {
   "cell_type": "markdown",
   "metadata": {},
   "source": [
    "Upload edited files to S3"
   ]
  },
  {
   "cell_type": "code",
   "execution_count": 39,
   "metadata": {
    "collapsed": false
   },
   "outputs": [
    {
     "name": "stdout",
     "output_type": "stream",
     "text": [
      "/Users/nathansuberi/Desktop/WRI_Programming/RW_Data/Biodiversity/mammals_all_threats_edit.tif  84103091 / 84103091.0  (100.00%)"
     ]
    }
   ],
   "source": [
    "s3_upload.upload_file(local_edit, s3_bucket, s3_key_edit,\n",
    "           Callback=ProgressPercentage(local_edit))"
   ]
  }
 ],
 "metadata": {
  "kernelspec": {
   "display_name": "Python 3",
   "language": "python",
   "name": "python3"
  },
  "language_info": {
   "codemirror_mode": {
    "name": "ipython",
    "version": 3
   },
   "file_extension": ".py",
   "mimetype": "text/x-python",
   "name": "python",
   "nbconvert_exporter": "python",
   "pygments_lexer": "ipython3",
   "version": "3.6.0"
  }
 },
 "nbformat": 4,
 "nbformat_minor": 2
}
