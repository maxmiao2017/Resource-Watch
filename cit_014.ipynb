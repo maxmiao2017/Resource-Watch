{
 "cells": [
  {
   "cell_type": "markdown",
   "metadata": {},
   "source": [
    "cit.014\tHuman Settlements\n",
    "\n",
    "Description: http://ghsl.jrc.ec.europa.eu/ghs_bu.php \n",
    "Download as http://ghsl.jrc.ec.europa.eu/datasets.php\n",
    "\n",
    "GHS_BUILT_LDS1975_GLOBE_R2016A_54009_250 (215MB)\n",
    "GHS_BUILT_LDS1990_GLOBE_R2016A_3857_38 (854MB) \n",
    "GHS_BUILT_LDS2000_GLOBE_R2016A_3857_38 (892MB) \n",
    "GHS_BUILT_LDS2014_GLOBE_R2016A_3857_38 (900MB)\n",
    "\n",
    "File type: Geotiff"
   ]
  },
  {
   "cell_type": "code",
   "execution_count": 1,
   "metadata": {},
   "outputs": [],
   "source": [
    "# Libraries for downloading data from remote server (may be ftp)\n",
    "import requests\n",
    "from urllib.request import urlopen\n",
    "from contextlib import closing\n",
    "import shutil\n",
    "\n",
    "# Library for uploading/downloading data to/from S3\n",
    "import boto3\n",
    "\n",
    "# Libraries for handling data\n",
    "import rasterio as rio\n",
    "from rasterio.warp import calculate_default_transform, reproject, Resampling\n",
    "from rasterio import crs\n",
    "\n",
    "import numpy as np\n",
    "# from netCDF4 import Dataset\n",
    "# import pandas as pd\n",
    "# import scipy\n",
    "\n",
    "# Libraries for various helper functions\n",
    "# from datetime import datetime\n",
    "import os\n",
    "import threading\n",
    "import sys\n",
    "from glob import glob"
   ]
  },
  {
   "cell_type": "markdown",
   "metadata": {},
   "source": [
    "Define local file locations"
   ]
  },
  {
   "cell_type": "code",
   "execution_count": 2,
   "metadata": {},
   "outputs": [],
   "source": [
    "local_folder = \"/Users/Max81007/Desktop/Python/Resource_Watch/Raster/cit_014/\"\n",
    "\n",
    "sub_folder1 = \"GHS_BUILT_LDS1975_GLOBE_R2016A_54009_250_v1_0/\"\n",
    "sub_folder2 = \"GHS_BUILT_LDS2000_GLOBE_R2016A_3857_38_v1_0/\"\n",
    "sub_folder3 = \"GHS_BUILT_LDS2014_GLOBE_R2016A_3857_38_v1_0/\"\n",
    "sub_folder4 = \"GHS_BUILT_LDS1990_GLOBE_R2016A_3857_38_v1_0/\"\n",
    "\n",
    "file_name1 = \"GHS_BUILT_LDS1975_GLOBE_R2016A_54009_250_v1_0\"\n",
    "file_name2 = \"GHS_BUILT_LDS2000_GLOBE_R2016A_3857_38_v1_0_p1\"\n",
    "file_name3 = \"GHS_BUILT_LDS2000_GLOBE_R2016A_3857_38_v1_0_p2\"\n",
    "file_name4 = \"GHS_BUILT_LDS2014_GLOBE_R2016A_3857_38_v1_0_p1\"\n",
    "file_name5 = \"GHS_BUILT_LDS2014_GLOBE_R2016A_3857_38_v1_0_p2\"\n",
    "file_name6 = \"GHS_BUILT_LDS1990_GLOBE_R2016A_3857_38_v1_0_p1\"\n",
    "file_name7 = \"GHS_BUILT_LDS1990_GLOBE_R2016A_3857_38_v1_0_p2\"\n",
    "\n",
    "\n",
    "local_orig1 = local_folder+ sub_folder1 + file_name1 + \".tif\" \n",
    "local_orig2 = local_folder+ sub_folder2 + file_name2 + \".tif\"  \n",
    "local_orig3 = local_folder+ sub_folder2 + file_name3 + \".tif\"  \n",
    "local_orig4 = local_folder+ sub_folder3 + file_name4 + \".tif\"  \n",
    "local_orig5 = local_folder+ sub_folder3 + file_name5 + \".tif\"  \n",
    "local_orig6 = local_folder+ sub_folder4 + file_name6 + \".tif\"  \n",
    "local_orig7 = local_folder+ sub_folder4 + file_name7 + \".tif\" \n",
    "# local_orig8 = local_folder+ sub_folder4 + file_name8 + \".tif\" \n",
    "\n",
    "orig_extension_length = 4 #4 for each char in .tif\n",
    "\n",
    "local_edit1 = local_orig1[:-orig_extension_length] + \"edit.tif\" \n",
    "local_edit2 = local_orig2[:-orig_extension_length] + \"edit.tif\" \n",
    "local_edit3 = local_orig3[:-orig_extension_length] + \"edit.tif\" \n",
    "local_edit4 = local_orig4[:-orig_extension_length] + \"edit.tif\" \n",
    "local_edit5 = local_orig5[:-orig_extension_length] + \"edit.tif\" \n",
    "local_edit6 = local_orig6[:-orig_extension_length] + \"edit.tif\" \n",
    "local_edit7 = local_orig7[:-orig_extension_length] + \"edit.tif\" \n",
    "\n",
    "# upload_name1 = \"maize2_tot_days\"\n",
    "# upload_name2 = \"maize2_plant_start\"\n",
    "# upload_name3 = \"maize_tot_days\"\n",
    "# upload_name4 = \"maize_plant_start\"\n",
    "# upload_name5 = \"rice2_tot_days\"\n",
    "# upload_name6 = \"rice2_plant_start\"\n",
    "# upload_name7 = \"rice_tot_days\"\n",
    "# upload_name8 = \"rice_plant_start\"\n",
    "# upload_name9 = \"soybeans_tot_days\"\n",
    "# upload_name10 = \"soybeans_plant_start\"\n",
    "# upload_name11 = \"wheat_tot_days\"\n",
    "# upload_name12 = \"wheat_plant_start\"\n",
    "# upload_name13 = \"wheat_winter_tot_days\"\n",
    "# upload_name14 = \"wheat_winter_plant_start\"\n",
    "\n",
    "upload_name1 = \"cit_014_1975_builtup_grid\"\n",
    "upload_name2 = \"cit_014_2000_builtup_grid_p1\"\n",
    "upload_name3 = \"cit_014_2000_builtup_grid_p2\"\n",
    "upload_name4 = \"cit_014_2014_builtup_grid_p1\"\n",
    "upload_name5 = \"cit_014_2014_builtup_grid_p2\"\n",
    "upload_name6 = \"cit_014_1990_builtup_grid_p1\"\n",
    "upload_name7 = \"cit_014_1990_builtup_grid_p2\"\n"
   ]
  },
  {
   "cell_type": "markdown",
   "metadata": {},
   "source": [
    "s3"
   ]
  },
  {
   "cell_type": "code",
   "execution_count": 3,
   "metadata": {},
   "outputs": [],
   "source": [
    "s3_upload = boto3.client(\"s3\")\n",
    "s3_download = boto3.resource(\"s3\")\n",
    "\n",
    "s3_bucket = \"wri-public-data\"\n",
    "s3_folder = \"resourcewatch/raster/cit_014_human_settlements/\"\n",
    "\n",
    "s3_key_orig1 = s3_folder + upload_name1 + \".tif\" \n",
    "s3_key_edit1 = s3_key_orig1[0:-4] + \"_edit.tif\"\n",
    "\n",
    "s3_key_orig2 = s3_folder + upload_name2 + \".tif\" \n",
    "s3_key_edit2 = s3_key_orig2[0:-4] + \"_edit.tif\"\n",
    "\n",
    "s3_key_orig3 = s3_folder + upload_name3 + \".tif\" \n",
    "s3_key_edit3 = s3_key_orig3[0:-4] + \"_edit.tif\"\n",
    "\n",
    "s3_key_orig4 = s3_folder + upload_name4 + \".tif\" \n",
    "s3_key_edit4 = s3_key_orig4[0:-4] + \"_edit.tif\"\n",
    "\n",
    "s3_key_orig5 = s3_folder + upload_name5 + \".tif\" \n",
    "s3_key_edit5 = s3_key_orig5[0:-4] + \"_edit.tif\"\n",
    "\n",
    "s3_key_orig6= s3_folder + upload_name6 + \".tif\" \n",
    "s3_key_edit6 = s3_key_orig6[0:-4] + \"_edit.tif\"\n",
    "\n",
    "s3_key_orig7 = s3_folder + upload_name7 + \".tif\" \n",
    "s3_key_edit7 = s3_key_orig7[0:-4] + \"_edit.tif\"\n",
    "\n",
    "# s3_key_orig8 = s3_folder + upload_name8 + \".tif\" \n",
    "# s3_key_edit8 = s3_key_orig8[0:-4] + \"_edit.tif\"\n",
    "\n",
    "# s3_key_orig9 = s3_folder + upload_name9 + \".tif\" \n",
    "# s3_key_edit9 = s3_key_orig9[0:-4] + \"_edit.tif\"\n",
    "\n",
    "# s3_key_orig10 = s3_folder + upload_name10 + \".tif\" \n",
    "# s3_key_edit10 = s3_key_orig10[0:-4] + \"_edit.tif\"\n",
    "\n",
    "# s3_key_orig11 = s3_folder + upload_name11 + \".tif\" \n",
    "# s3_key_edit11 = s3_key_orig11[0:-4] + \"_edit.tif\"\n",
    "\n",
    "# s3_key_orig12 = s3_folder + upload_name12 + \".tif\" \n",
    "# s3_key_edit12 = s3_key_orig12[0:-4] + \"_edit.tif\"\n",
    "\n",
    "# s3_key_orig13 = s3_folder + upload_name13 + \".tif\" \n",
    "# s3_key_edit13 = s3_key_orig13[0:-4] + \"_edit.tif\"\n",
    "\n",
    "# s3_key_orig14= s3_folder + upload_name14 + \".tif\" \n",
    "# s3_key_edit14 = s3_key_orig14[0:-4] + \"_edit.tif\"\n",
    "\n",
    "class ProgressPercentage(object):\n",
    "        def __init__(self, filename):\n",
    "            self._filename = filename\n",
    "            self._size = float(os.path.getsize(filename))\n",
    "            self._seen_so_far = 0\n",
    "            self._lock = threading.Lock()\n",
    "\n",
    "        def __call__(self, bytes_amount):\n",
    "            # To simplify we'll assume this is hooked up\n",
    "            # to a single filename.\n",
    "            with self._lock:\n",
    "                self._seen_so_far += bytes_amount\n",
    "                percentage = (self._seen_so_far / self._size) * 100\n",
    "                sys.stdout.write(\"\\r%s  %s / %s  (%.2f%%)\"%(\n",
    "                        self._filename, self._seen_so_far, self._size,\n",
    "                        percentage))\n",
    "                sys.stdout.flush()"
   ]
  },
  {
   "cell_type": "code",
   "execution_count": 4,
   "metadata": {},
   "outputs": [],
   "source": [
    "band_ids = [upload_name1, upload_name2, upload_name3, upload_name4, upload_name5, upload_name6, upload_name7]\n",
    "merge_name = \"cit_014_human_settlements.tif\"\n",
    "s3_key_merge = s3_folder + merge_name"
   ]
  },
  {
   "cell_type": "code",
   "execution_count": 5,
   "metadata": {},
   "outputs": [],
   "source": [
    "os.getcwd()\n",
    "os.chdir(local_folder)\n",
    "os.environ[\"local_orig1\"] = local_orig1\n",
    "os.environ[\"local_edit1\"] = local_edit1\n",
    "os.environ[\"local_orig2\"] = local_orig2\n",
    "os.environ[\"local_edit2\"] = local_edit2\n",
    "os.environ[\"local_orig3\"] = local_orig3\n",
    "os.environ[\"local_edit3\"] = local_edit3\n",
    "os.environ[\"local_orig4\"] = local_orig4\n",
    "os.environ[\"local_edit4\"] = local_edit4\n",
    "os.environ[\"local_orig5\"] = local_orig5\n",
    "os.environ[\"local_edit5\"] = local_edit5\n",
    "os.environ[\"local_orig6\"] = local_orig6\n",
    "os.environ[\"local_edit6\"] = local_edit6\n",
    "os.environ[\"local_orig7\"] = local_orig7\n",
    "os.environ[\"local_edit7\"] = local_edit7"
   ]
  },
  {
   "cell_type": "code",
   "execution_count": 6,
   "metadata": {},
   "outputs": [
    {
     "name": "stdout",
     "output_type": "stream",
     "text": [
      "/Users/Max81007/Desktop/Python/Resource_Watch/Raster/cit_014/GHS_BUILT_LDS1975_GLOBE_R2016A_54009_250_v1_0/GHS_BUILT_LDS1975_GLOBE_R2016A_54009_250_v1_0.tif\n",
      "/Users/Max81007/Desktop/Python/Resource_Watch/Raster/cit_014/GHS_BUILT_LDS1975_GLOBE_R2016A_54009_250_v1_0/GHS_BUILT_LDS1975_GLOBE_R2016A_54009_250_v1_0edit.tif\n"
     ]
    }
   ],
   "source": [
    "!echo %local_orig1%\n",
    "!echo %local_edit1%"
   ]
  },
  {
   "cell_type": "code",
   "execution_count": 12,
   "metadata": {},
   "outputs": [
    {
     "name": "stdout",
     "output_type": "stream",
     "text": [
      "gdalwarp -overwrite -t_srs epsg:4326 -srcnodata none -co compress=lzw -co TILED=YES -co BIGTIFF=YES /Users/Max81007/Desktop/Python/Resource_Watch/Raster/cit_014/GHS_BUILT_LDS1975_GLOBE_R2016A_54009_250_v1_0/GHS_BUILT_LDS1975_GLOBE_R2016A_54009_250_v1_0.tif /Users/Max81007/Desktop/Python/Resource_Watch/Raster/cit_014/GHS_BUILT_LDS1975_GLOBE_R2016A_54009_250_v1_0/GHS_BUILT_LDS1975_GLOBE_R2016A_54009_250_v1_0edit.tif\n"
     ]
    }
   ],
   "source": [
    "print1 =\"gdalwarp -overwrite -t_srs epsg:4326 -srcnodata none -co compress=lzw -co TILED=YES -co BIGTIFF=YES\" + \" \" +local_orig1 +\" \"+ local_edit1\n",
    "print(print1)"
   ]
  },
  {
   "cell_type": "code",
   "execution_count": 10,
   "metadata": {
    "scrolled": true
   },
   "outputs": [
    {
     "name": "stdout",
     "output_type": "stream",
     "text": [
      "gdalwarp -overwrite -t_srs epsg:4326 -srcnodata none -co compress=lzw ['/Users/Max81007/Desktop/Python/Resource_Watch/Raster/cit_014/GHS_BUILT_LDS1975_GLOBE_R2016A_54009_250_v1_0/GHS_BUILT_LDS1975_GLOBE_R2016A_54009_250_v1_0.tif', '/Users/Max81007/Desktop/Python/Resource_Watch/Raster/cit_014/GHS_BUILT_LDS2000_GLOBE_R2016A_3857_38_v1_0/GHS_BUILT_LDS2000_GLOBE_R2016A_3857_38_v1_0_p1.tif', '/Users/Max81007/Desktop/Python/Resource_Watch/Raster/cit_014/GHS_BUILT_LDS2000_GLOBE_R2016A_3857_38_v1_0/GHS_BUILT_LDS2000_GLOBE_R2016A_3857_38_v1_0_p2.tif', '/Users/Max81007/Desktop/Python/Resource_Watch/Raster/cit_014/GHS_BUILT_LDS2014_GLOBE_R2016A_3857_38_v1_0/GHS_BUILT_LDS2014_GLOBE_R2016A_3857_38_v1_0_p1.tif', '/Users/Max81007/Desktop/Python/Resource_Watch/Raster/cit_014/GHS_BUILT_LDS2014_GLOBE_R2016A_3857_38_v1_0/GHS_BUILT_LDS2014_GLOBE_R2016A_3857_38_v1_0_p2.tif', '/Users/Max81007/Desktop/Python/Resource_Watch/Raster/cit_014/GHS_BUILT_LDS1990_GLOBE_R2016A_3857_38_v1_0/GHS_BUILT_LDS1990_GLOBE_R2016A_3857_38_v1_0_p1.tif', '/Users/Max81007/Desktop/Python/Resource_Watch/Raster/cit_014/GHS_BUILT_LDS1990_GLOBE_R2016A_3857_38_v1_0/GHS_BUILT_LDS1990_GLOBE_R2016A_3857_38_v1_0_p2.tif'] ['/Users/Max81007/Desktop/Python/Resource_Watch/Raster/cit_014/GHS_BUILT_LDS1975_GLOBE_R2016A_54009_250_v1_0/GHS_BUILT_LDS1975_GLOBE_R2016A_54009_250_v1_0edit.tif', '/Users/Max81007/Desktop/Python/Resource_Watch/Raster/cit_014/GHS_BUILT_LDS2000_GLOBE_R2016A_3857_38_v1_0/GHS_BUILT_LDS2000_GLOBE_R2016A_3857_38_v1_0_p1edit.tif', '/Users/Max81007/Desktop/Python/Resource_Watch/Raster/cit_014/GHS_BUILT_LDS2000_GLOBE_R2016A_3857_38_v1_0/GHS_BUILT_LDS2000_GLOBE_R2016A_3857_38_v1_0_p2edit.tif', '/Users/Max81007/Desktop/Python/Resource_Watch/Raster/cit_014/GHS_BUILT_LDS2014_GLOBE_R2016A_3857_38_v1_0/GHS_BUILT_LDS2014_GLOBE_R2016A_3857_38_v1_0_p1edit.tif', '/Users/Max81007/Desktop/Python/Resource_Watch/Raster/cit_014/GHS_BUILT_LDS2014_GLOBE_R2016A_3857_38_v1_0/GHS_BUILT_LDS2014_GLOBE_R2016A_3857_38_v1_0_p2edit.tif', '/Users/Max81007/Desktop/Python/Resource_Watch/Raster/cit_014/GHS_BUILT_LDS1990_GLOBE_R2016A_3857_38_v1_0/GHS_BUILT_LDS1990_GLOBE_R2016A_3857_38_v1_0_p1edit.tif', '/Users/Max81007/Desktop/Python/Resource_Watch/Raster/cit_014/GHS_BUILT_LDS1990_GLOBE_R2016A_3857_38_v1_0/GHS_BUILT_LDS1990_GLOBE_R2016A_3857_38_v1_0_p2edit.tif']\n"
     ]
    }
   ],
   "source": [
    "local_orig = [local_orig1, local_orig2, local_orig3, local_orig4, local_orig5, local_orig6, local_orig7]\n",
    "local_edit = [local_edit1, local_edit2, local_edit3, local_edit4, local_edit5, local_edit6, local_edit7]\n",
    "printlist = \"gdalwarp -overwrite -t_srs epsg:4326 -srcnodata none -co compress=lzw\" + \" \" + str(local_orig)+ \" \" +str(local_edit)\n",
    "print(printlist)"
   ]
  },
  {
   "cell_type": "code",
   "execution_count": 15,
   "metadata": {},
   "outputs": [
    {
     "name": "stdout",
     "output_type": "stream",
     "text": [
      "rio warp /Users/Max81007/Desktop/Python/Resource_Watch/Raster/cit_014/GHS_BUILT_LDS1975_GLOBE_R2016A_54009_250_v1_0/GHS_BUILT_LDS1975_GLOBE_R2016A_54009_250_v1_0.tif /Users/Max81007/Desktop/Python/Resource_Watch/Raster/cit_014/GHS_BUILT_LDS1975_GLOBE_R2016A_54009_250_v1_0/GHS_BUILT_LDS1975_GLOBE_R2016A_54009_250_v1_0edit.tif --force-overwrite --dst-crs epsg:4326 --co compress=LZW --co tiled=true --co blockxsize=256 --co blockysize=256\n"
     ]
    }
   ],
   "source": [
    "print1 =\"rio warp\" + \" \" +local_orig1 +\" \"+ local_edit1 + \" \"+\"--force-overwrite --dst-crs epsg:4326 --co compress=LZW --co tiled=true --co blockxsize=256 --co blockysize=256\"\n",
    "print(print1)"
   ]
  },
  {
   "cell_type": "code",
   "execution_count": null,
   "metadata": {},
   "outputs": [],
   "source": [
    "!gdalwarp -overwrite -t_srs epsg:4326 -srcnodata none -co compress=lzw %local_orig2% %local_edit2%\n"
   ]
  },
  {
   "cell_type": "code",
   "execution_count": null,
   "metadata": {},
   "outputs": [],
   "source": [
    "!gdalwarp -overwrite -t_srs epsg:4326 -srcnodata none -co compress=lzw %local_orig3% %local_edit3%\n"
   ]
  },
  {
   "cell_type": "code",
   "execution_count": null,
   "metadata": {},
   "outputs": [],
   "source": [
    "!gdalwarp -overwrite -t_srs epsg:4326 -srcnodata none -co compress=lzw %local_orig4% %local_edit4%\n"
   ]
  },
  {
   "cell_type": "code",
   "execution_count": null,
   "metadata": {},
   "outputs": [],
   "source": [
    "!gdalwarp -overwrite -t_srs epsg:4326 -srcnodata none -co compress=lzw %local_orig5% %local_edit5%\n"
   ]
  },
  {
   "cell_type": "code",
   "execution_count": null,
   "metadata": {},
   "outputs": [],
   "source": [
    "!gdalwarp -overwrite -t_srs epsg:4326 -srcnodata none -co compress=lzw %local_orig6% %local_edit6%\n"
   ]
  },
  {
   "cell_type": "code",
   "execution_count": null,
   "metadata": {},
   "outputs": [],
   "source": [
    "!gdalwarp -overwrite -t_srs epsg:4326 -srcnodata none -co compress=lzw %local_orig7% %local_edit7%"
   ]
  },
  {
   "cell_type": "code",
   "execution_count": null,
   "metadata": {},
   "outputs": [],
   "source": [
    "merge_files = [local_edit1, local_edit2, local_edit3, local_edit4, local_edit5, local_edit6, local_edit7]\n",
    "tmp_merge = local_folder + merge_name\n"
   ]
  },
  {
   "cell_type": "markdown",
   "metadata": {},
   "source": [
    "Use rasterio to reproject and compress"
   ]
  },
  {
   "cell_type": "code",
   "execution_count": 11,
   "metadata": {},
   "outputs": [
    {
     "name": "stdout",
     "output_type": "stream",
     "text": [
      "{'driver': 'GTiff', 'dtype': 'float32', 'nodata': -3.402823e+38, 'width': 141988, 'height': 60942, 'count': 1, 'crs': CRS({'proj': 'moll', 'lon_0': 0, 'x_0': 0, 'y_0': 0, 'ellps': 'WGS84', 'units': 'm', 'no_defs': True}), 'transform': Affine(250.0, 0.0, -17619594.54744353,\n",
      "       0.0, -250.0, 8750529.46186849), 'blockxsize': 512, 'blockysize': 512, 'tiled': True, 'compress': 'lzw', 'interleave': 'band'}\n",
      "{'driver': 'GTiff', 'dtype': 'uint8', 'nodata': 0.0, 'width': 507904, 'height': 647168, 'count': 1, 'crs': CRS({'proj': 'merc', 'a': 6378137, 'b': 6378137, 'lat_ts': 0, 'lon_0': 0, 'x_0': 0, 'y_0': 0, 'k': 1, 'units': 'm', 'nadgrids': '@null', 'wktext': True, 'no_defs': True}), 'transform': Affine(38.21851414259241, 0.0, -20037508.342789244,\n",
      "       0.0, -38.21851414259243, 16906647.664228424), 'blockxsize': 4096, 'blockysize': 4096, 'tiled': True, 'compress': 'lzw', 'interleave': 'band'}\n",
      "{'driver': 'GTiff', 'dtype': 'uint8', 'nodata': 0.0, 'width': 581632, 'height': 593920, 'count': 1, 'crs': CRS({'proj': 'merc', 'a': 6378137, 'b': 6378137, 'lat_ts': 0, 'lon_0': 0, 'x_0': 0, 'y_0': 0, 'k': 1, 'units': 'm', 'nadgrids': '@null', 'wktext': True, 'no_defs': True}), 'transform': Affine(38.21851414259847, 0.0, -2191602.4749925733,\n",
      "       0.0, -38.21851414259847, 15184674.291019976), 'blockxsize': 4096, 'blockysize': 4096, 'tiled': True, 'compress': 'lzw', 'interleave': 'band'}\n",
      "{'driver': 'GTiff', 'dtype': 'uint8', 'nodata': 0.0, 'width': 507904, 'height': 647168, 'count': 1, 'crs': CRS({'proj': 'merc', 'a': 6378137, 'b': 6378137, 'lat_ts': 0, 'lon_0': 0, 'x_0': 0, 'y_0': 0, 'k': 1, 'units': 'm', 'nadgrids': '@null', 'wktext': True, 'no_defs': True}), 'transform': Affine(38.21851414259241, 0.0, -20037508.342789244,\n",
      "       0.0, -38.21851414259243, 16906647.664228424), 'blockxsize': 4096, 'blockysize': 4096, 'tiled': True, 'compress': 'lzw', 'interleave': 'band'}\n",
      "{'driver': 'GTiff', 'dtype': 'uint8', 'nodata': 0.0, 'width': 581632, 'height': 593920, 'count': 1, 'crs': CRS({'proj': 'merc', 'a': 6378137, 'b': 6378137, 'lat_ts': 0, 'lon_0': 0, 'x_0': 0, 'y_0': 0, 'k': 1, 'units': 'm', 'nadgrids': '@null', 'wktext': True, 'no_defs': True}), 'transform': Affine(38.21851414259847, 0.0, -2191602.4749925733,\n",
      "       0.0, -38.21851414259847, 15184674.291019976), 'blockxsize': 4096, 'blockysize': 4096, 'tiled': True, 'compress': 'lzw', 'interleave': 'band'}\n",
      "{'driver': 'GTiff', 'dtype': 'uint8', 'nodata': 0.0, 'width': 507904, 'height': 647168, 'count': 1, 'crs': CRS({'proj': 'merc', 'a': 6378137, 'b': 6378137, 'lat_ts': 0, 'lon_0': 0, 'x_0': 0, 'y_0': 0, 'k': 1, 'units': 'm', 'nadgrids': '@null', 'wktext': True, 'no_defs': True}), 'transform': Affine(38.21851414259241, 0.0, -20037508.342789244,\n",
      "       0.0, -38.21851414259243, 16906647.664228424), 'blockxsize': 4096, 'blockysize': 4096, 'tiled': True, 'compress': 'lzw', 'interleave': 'band'}\n",
      "{'driver': 'GTiff', 'dtype': 'uint8', 'nodata': 0.0, 'width': 581632, 'height': 593920, 'count': 1, 'crs': CRS({'proj': 'merc', 'a': 6378137, 'b': 6378137, 'lat_ts': 0, 'lon_0': 0, 'x_0': 0, 'y_0': 0, 'k': 1, 'units': 'm', 'nadgrids': '@null', 'wktext': True, 'no_defs': True}), 'transform': Affine(38.21851414259847, 0.0, -2191602.4749925733,\n",
      "       0.0, -38.21851414259847, 15184674.291019976), 'blockxsize': 4096, 'blockysize': 4096, 'tiled': True, 'compress': 'lzw', 'interleave': 'band'}\n"
     ]
    }
   ],
   "source": [
    "files = [local_orig1, local_orig2, local_orig3, local_orig4, local_orig5, local_orig6, local_orig7]\n",
    "for file in files:\n",
    "    with rio.open(file, 'r') as src:\n",
    "        profile = src.profile\n",
    "        print(profile)"
   ]
  },
  {
   "cell_type": "code",
   "execution_count": null,
   "metadata": {},
   "outputs": [],
   "source": [
    "with rio.open(merge_files[0]) as src:\n",
    "    kwargs = src.profile\n",
    "    \n",
    "kwargs.update(\n",
    "    count=len(merge_files)\n",
    ")\n",
    "    \n",
    "with rio.open(tmp_merge, 'w', **kwargs) as dst:\n",
    "    for idx, file in enumerate(merge_files):\n",
    "        print(idx)\n",
    "        with rio.open(file) as src:\n",
    "\n",
    "            band = idx+1\n",
    "            windows = src.block_windows()\n",
    "\n",
    "            for win_id, window in windows:\n",
    "                src_data = src.read(1, window=window)\n",
    "                dst.write_band(band, src_data, window=window)\n"
   ]
  },
  {
   "cell_type": "markdown",
   "metadata": {},
   "source": [
    "Upload orig and edit files to s3"
   ]
  },
  {
   "cell_type": "code",
   "execution_count": null,
   "metadata": {},
   "outputs": [],
   "source": [
    "# Original\n",
    "s3_upload.upload_file(local_orig1, s3_bucket, s3_key_orig1,\n",
    "                         Callback=ProgressPercentage(local_orig1))\n",
    "s3_upload.upload_file(local_orig3, s3_bucket, s3_key_orig3,\n",
    "                         Callback=ProgressPercentage(local_orig3))\n",
    "s3_upload.upload_file(local_orig5, s3_bucket, s3_key_orig5,\n",
    "                         Callback=ProgressPercentage(local_orig5))\n",
    "s3_upload.upload_file(local_orig7, s3_bucket, s3_key_orig7,\n",
    "                         Callback=ProgressPercentage(local_orig7))\n",
    "s3_upload.upload_file(local_orig9, s3_bucket, s3_key_orig9,\n",
    "                         Callback=ProgressPercentage(local_orig9))\n",
    "s3_upload.upload_file(local_orig11, s3_bucket, s3_key_orig11,\n",
    "                         Callback=ProgressPercentage(local_orig11))\n",
    "s3_upload.upload_file(local_orig13, s3_bucket, s3_key_orig13,\n",
    "                         Callback=ProgressPercentage(local_orig13))\n",
    "\n",
    "\n",
    "# Edit\n",
    "s3_upload.upload_file(local_edit1, s3_bucket, s3_key_edit1,\n",
    "                         Callback=ProgressPercentage(local_edit1))\n",
    "s3_upload.upload_file(local_edit3, s3_bucket, s3_key_edit3,\n",
    "                         Callback=ProgressPercentage(local_edit3))\n",
    "s3_upload.upload_file(local_edit5, s3_bucket, s3_key_edit5,\n",
    "                         Callback=ProgressPercentage(local_edit5))\n",
    "s3_upload.upload_file(local_edit7, s3_bucket, s3_key_edit7,\n",
    "                         Callback=ProgressPercentage(local_edit7))\n",
    "s3_upload.upload_file(local_edit9, s3_bucket, s3_key_edit9,\n",
    "                         Callback=ProgressPercentage(local_edit9))\n",
    "s3_upload.upload_file(local_edit11, s3_bucket, s3_key_edit11,\n",
    "                         Callback=ProgressPercentage(local_edit11))\n",
    "s3_upload.upload_file(local_edit13, s3_bucket, s3_key_edit13,\n",
    "                         Callback=ProgressPercentage(local_edit13))\n",
    "\n",
    "# Merged \n",
    "\n",
    "s3_upload.upload_file(tmp_merge, s3_bucket, s3_key_merge,\n",
    "           Callback=ProgressPercentage(tmp_merge))"
   ]
  },
  {
   "cell_type": "markdown",
   "metadata": {},
   "source": []
  },
  {
   "cell_type": "markdown",
   "metadata": {},
   "source": []
  },
  {
   "cell_type": "markdown",
   "metadata": {},
   "source": []
  },
  {
   "cell_type": "markdown",
   "metadata": {},
   "source": [
    "\n"
   ]
  },
  {
   "cell_type": "code",
   "execution_count": null,
   "metadata": {},
   "outputs": [],
   "source": [
    "os.environ[\"Zs3_key\"] = \"s3://wri-public-data/\" + s3_key_merge\n",
    "os.environ[\"Zgs_key\"] = \"gs://resource-watch-public/\" + s3_key_merge\n"
   ]
  },
  {
   "cell_type": "code",
   "execution_count": null,
   "metadata": {},
   "outputs": [],
   "source": [
    "!gsutil cp %Zs3_key% %Zgs_key%\n"
   ]
  },
  {
   "cell_type": "code",
   "execution_count": null,
   "metadata": {},
   "outputs": [],
   "source": [
    "os.environ[\"asset_id\"] = \"users/resourcewatch/cit_014_human_settlements\"\n",
    "!earthengine upload image --asset_id=%asset_id% %Zgs_key%\n"
   ]
  },
  {
   "cell_type": "code",
   "execution_count": null,
   "metadata": {},
   "outputs": [],
   "source": [
    "os.environ[\"band_names\"] = str(band_ids)\n",
    "!earthengine asset set -p band_names=\"%band_names%\" %asset_id%\n"
   ]
  },
  {
   "cell_type": "code",
   "execution_count": null,
   "metadata": {},
   "outputs": [],
   "source": []
  },
  {
   "cell_type": "code",
   "execution_count": null,
   "metadata": {},
   "outputs": [],
   "source": []
  }
 ],
 "metadata": {
  "kernelspec": {
   "display_name": "Python 3",
   "language": "python",
   "name": "python3"
  },
  "language_info": {
   "codemirror_mode": {
    "name": "ipython",
    "version": 3
   },
   "file_extension": ".py",
   "mimetype": "text/x-python",
   "name": "python",
   "nbconvert_exporter": "python",
   "pygments_lexer": "ipython3",
   "version": "3.6.2"
  }
 },
 "nbformat": 4,
 "nbformat_minor": 2
}
