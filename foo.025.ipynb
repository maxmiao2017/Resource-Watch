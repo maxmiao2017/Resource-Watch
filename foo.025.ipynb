{
 "cells": [
  {
   "cell_type": "markdown",
   "metadata": {},
   "source": [
    "foo. 025"
   ]
  },
  {
   "cell_type": "code",
   "execution_count": 1,
   "metadata": {},
   "outputs": [],
   "source": [
    "# Libraries for downloading data from remote server (may be ftp)\n",
    "import requests\n",
    "from urllib.request import urlopen\n",
    "from contextlib import closing\n",
    "import shutil\n",
    "\n",
    "# Library for uploading/downloading data to/from S3\n",
    "import boto3\n",
    "\n",
    "# Libraries for handling data\n",
    "import rasterio as rio\n",
    "from rasterio.warp import calculate_default_transform, reproject, Resampling\n",
    "from rasterio import crs\n",
    "\n",
    "import numpy as np\n",
    "# from netCDF4 import Dataset\n",
    "# import pandas as pd\n",
    "# import scipy\n",
    "\n",
    "# Libraries for various helper functions\n",
    "# from datetime import datetime\n",
    "import os\n",
    "import threading\n",
    "import sys\n",
    "from glob import glob"
   ]
  },
  {
   "cell_type": "markdown",
   "metadata": {},
   "source": [
    "Define local file locations"
   ]
  },
  {
   "cell_type": "code",
   "execution_count": 6,
   "metadata": {},
   "outputs": [],
   "source": [
    "local_folder = \"/Users/Max81007/Desktop/Python/Resource_Watch/Raster/cli.030/\"\n",
    "\n",
    "file_name1 = \"ai_yr.tif\"\n",
    "file_name2 = \"pet_he_yr1\"\n",
    "\n",
    "local_orig1 = local_folder+ file_name1\n",
    "local_orig2 = local_folder+ file_name2 + \".tif\"  \n",
    "\n",
    "orig_extension_length = 4 #4 for each char in .tif\n",
    "\n",
    "local_edit1 = local_orig1[:-orig_extension_length] + \"edit.tif\" \n",
    "# local_edit2 = local_orig2[:-orig_extension_length] + \"edit.tif\" \n",
    "\n",
    "upload_name1 = \"cli_030_global_aridity\"\n",
    "upload_name2 = \"for_025_global_PET\"\n"
   ]
  },
  {
   "cell_type": "markdown",
   "metadata": {},
   "source": [
    "s3"
   ]
  },
  {
   "cell_type": "code",
   "execution_count": 7,
   "metadata": {},
   "outputs": [],
   "source": [
    "s3_upload = boto3.client(\"s3\")\n",
    "s3_download = boto3.resource(\"s3\")\n",
    "\n",
    "s3_bucket = \"wri-public-data\"\n",
    "s3_folder = \"resourcewatch/raster/cli_030_global_land_aridity/\"\n",
    "\n",
    "s3_key_orig1 = s3_folder + upload_name1 + \".tif\" \n",
    "s3_key_edit1 = s3_key_orig1[0:-4] + \"_edit.tif\"\n",
    "\n",
    "s3_key_orig2 = s3_folder + upload_name2 + \".tif\" \n",
    "s3_key_edit2 = s3_key_orig2[0:-4] + \"_edit.tif\"\n",
    "\n",
    "\n",
    "class ProgressPercentage(object):\n",
    "        def __init__(self, filename):\n",
    "            self._filename = filename\n",
    "            self._size = float(os.path.getsize(filename))\n",
    "            self._seen_so_far = 0\n",
    "            self._lock = threading.Lock()\n",
    "\n",
    "        def __call__(self, bytes_amount):\n",
    "            # To simplify we'll assume this is hooked up\n",
    "            # to a single filename.\n",
    "            with self._lock:\n",
    "                self._seen_so_far += bytes_amount\n",
    "                percentage = (self._seen_so_far / self._size) * 100\n",
    "                sys.stdout.write(\"\\r%s  %s / %s  (%.2f%%)\"%(\n",
    "                        self._filename, self._seen_so_far, self._size,\n",
    "                        percentage))\n",
    "                sys.stdout.flush()"
   ]
  },
  {
   "cell_type": "code",
   "execution_count": 8,
   "metadata": {},
   "outputs": [
    {
     "ename": "RasterioIOError",
     "evalue": "'/Users/Max81007/Desktop/Python/Resource_Watch/Raster/cli.030/ai_yr.tif' does not exist in the file system, and is not recognized as a supported dataset name. ",
     "output_type": "error",
     "traceback": [
      "\u001b[1;31m---------------------------------------------------------------------------\u001b[0m",
      "\u001b[1;31mCPLE_OpenFailedError\u001b[0m                      Traceback (most recent call last)",
      "\u001b[1;32mrasterio\\_base.pyx\u001b[0m in \u001b[0;36mrasterio._base.DatasetBase.start (rasterio/_base.c:3979)\u001b[1;34m()\u001b[0m\n",
      "\u001b[1;32mrasterio\\_err.pyx\u001b[0m in \u001b[0;36mrasterio._err.exc_wrap_pointer (rasterio/_err.c:2199)\u001b[1;34m()\u001b[0m\n",
      "\u001b[1;31mCPLE_OpenFailedError\u001b[0m: '/Users/Max81007/Desktop/Python/Resource_Watch/Raster/cli.030/ai_yr.tif' does not exist in the file system, and is not recognized as a supported dataset name. ",
      "\nDuring handling of the above exception, another exception occurred:\n",
      "\u001b[1;31mRasterioIOError\u001b[0m                           Traceback (most recent call last)",
      "\u001b[1;32m<ipython-input-8-51044022f75a>\u001b[0m in \u001b[0;36m<module>\u001b[1;34m()\u001b[0m\n\u001b[0;32m      1\u001b[0m \u001b[0mfiles\u001b[0m \u001b[1;33m=\u001b[0m \u001b[1;33m[\u001b[0m\u001b[0mlocal_orig1\u001b[0m\u001b[1;33m,\u001b[0m \u001b[0mlocal_orig2\u001b[0m\u001b[1;33m]\u001b[0m\u001b[1;33m\u001b[0m\u001b[0m\n\u001b[0;32m      2\u001b[0m \u001b[1;32mfor\u001b[0m \u001b[0mfile\u001b[0m \u001b[1;32min\u001b[0m \u001b[0mfiles\u001b[0m\u001b[1;33m:\u001b[0m\u001b[1;33m\u001b[0m\u001b[0m\n\u001b[1;32m----> 3\u001b[1;33m     \u001b[1;32mwith\u001b[0m \u001b[0mrio\u001b[0m\u001b[1;33m.\u001b[0m\u001b[0mopen\u001b[0m\u001b[1;33m(\u001b[0m\u001b[0mfile\u001b[0m\u001b[1;33m,\u001b[0m \u001b[1;34m'r'\u001b[0m\u001b[1;33m)\u001b[0m \u001b[1;32mas\u001b[0m \u001b[0msrc\u001b[0m\u001b[1;33m:\u001b[0m\u001b[1;33m\u001b[0m\u001b[0m\n\u001b[0m\u001b[0;32m      4\u001b[0m         \u001b[0mprofile\u001b[0m \u001b[1;33m=\u001b[0m \u001b[0msrc\u001b[0m\u001b[1;33m.\u001b[0m\u001b[0mprofile\u001b[0m\u001b[1;33m\u001b[0m\u001b[0m\n\u001b[0;32m      5\u001b[0m         \u001b[0mprint\u001b[0m\u001b[1;33m(\u001b[0m\u001b[0mprofile\u001b[0m\u001b[1;33m)\u001b[0m\u001b[1;33m\u001b[0m\u001b[0m\n",
      "\u001b[1;32mc:\\users\\max81007\\appdata\\local\\programs\\python\\python36-32\\lib\\site-packages\\rasterio\\__init__.py\u001b[0m in \u001b[0;36mopen\u001b[1;34m(fp, mode, driver, width, height, count, crs, transform, dtype, nodata, **kwargs)\u001b[0m\n\u001b[0;32m    288\u001b[0m                 raise ValueError(\n\u001b[0;32m    289\u001b[0m                     \"mode must be one of 'r', 'r+', or 'w', not %s\" % mode)\n\u001b[1;32m--> 290\u001b[1;33m             \u001b[0ms\u001b[0m\u001b[1;33m.\u001b[0m\u001b[0mstart\u001b[0m\u001b[1;33m(\u001b[0m\u001b[1;33m)\u001b[0m\u001b[1;33m\u001b[0m\u001b[0m\n\u001b[0m\u001b[0;32m    291\u001b[0m             \u001b[1;32mreturn\u001b[0m \u001b[0ms\u001b[0m\u001b[1;33m\u001b[0m\u001b[0m\n\u001b[0;32m    292\u001b[0m \u001b[1;33m\u001b[0m\u001b[0m\n",
      "\u001b[1;32mrasterio\\_base.pyx\u001b[0m in \u001b[0;36mrasterio._base.DatasetBase.start (rasterio/_base.c:4081)\u001b[1;34m()\u001b[0m\n",
      "\u001b[1;31mRasterioIOError\u001b[0m: '/Users/Max81007/Desktop/Python/Resource_Watch/Raster/cli.030/ai_yr.tif' does not exist in the file system, and is not recognized as a supported dataset name. "
     ]
    }
   ],
   "source": [
    "files = [local_orig1, local_orig2]\n",
    "for file in files:\n",
    "    with rio.open(file, 'r') as src:\n",
    "        profile = src.profile\n",
    "        print(profile)"
   ]
  },
  {
   "cell_type": "markdown",
   "metadata": {},
   "source": [
    "Upload orig and edit files to s3"
   ]
  },
  {
   "cell_type": "code",
   "execution_count": 9,
   "metadata": {},
   "outputs": [
    {
     "ename": "FileNotFoundError",
     "evalue": "[WinError 2] The system cannot find the file specified: '/Users/Max81007/Desktop/Python/Resource_Watch/Raster/cli.030/ai_yr.tif'",
     "output_type": "error",
     "traceback": [
      "\u001b[1;31m---------------------------------------------------------------------------\u001b[0m",
      "\u001b[1;31mFileNotFoundError\u001b[0m                         Traceback (most recent call last)",
      "\u001b[1;32m<ipython-input-9-d73e9651a996>\u001b[0m in \u001b[0;36m<module>\u001b[1;34m()\u001b[0m\n\u001b[0;32m      1\u001b[0m \u001b[1;31m# Original\u001b[0m\u001b[1;33m\u001b[0m\u001b[1;33m\u001b[0m\u001b[0m\n\u001b[0;32m      2\u001b[0m s3_upload.upload_file(local_orig1, s3_bucket, s3_key_orig1,\n\u001b[1;32m----> 3\u001b[1;33m                          Callback=ProgressPercentage(local_orig1))\n\u001b[0m\u001b[0;32m      4\u001b[0m s3_upload.upload_file(local_orig2, s3_bucket, s3_key_orig2,\n\u001b[0;32m      5\u001b[0m                          Callback=ProgressPercentage(local_orig2))\n",
      "\u001b[1;32m<ipython-input-7-157557ff07c4>\u001b[0m in \u001b[0;36m__init__\u001b[1;34m(self, filename)\u001b[0m\n\u001b[0;32m     15\u001b[0m         \u001b[1;32mdef\u001b[0m \u001b[0m__init__\u001b[0m\u001b[1;33m(\u001b[0m\u001b[0mself\u001b[0m\u001b[1;33m,\u001b[0m \u001b[0mfilename\u001b[0m\u001b[1;33m)\u001b[0m\u001b[1;33m:\u001b[0m\u001b[1;33m\u001b[0m\u001b[0m\n\u001b[0;32m     16\u001b[0m             \u001b[0mself\u001b[0m\u001b[1;33m.\u001b[0m\u001b[0m_filename\u001b[0m \u001b[1;33m=\u001b[0m \u001b[0mfilename\u001b[0m\u001b[1;33m\u001b[0m\u001b[0m\n\u001b[1;32m---> 17\u001b[1;33m             \u001b[0mself\u001b[0m\u001b[1;33m.\u001b[0m\u001b[0m_size\u001b[0m \u001b[1;33m=\u001b[0m \u001b[0mfloat\u001b[0m\u001b[1;33m(\u001b[0m\u001b[0mos\u001b[0m\u001b[1;33m.\u001b[0m\u001b[0mpath\u001b[0m\u001b[1;33m.\u001b[0m\u001b[0mgetsize\u001b[0m\u001b[1;33m(\u001b[0m\u001b[0mfilename\u001b[0m\u001b[1;33m)\u001b[0m\u001b[1;33m)\u001b[0m\u001b[1;33m\u001b[0m\u001b[0m\n\u001b[0m\u001b[0;32m     18\u001b[0m             \u001b[0mself\u001b[0m\u001b[1;33m.\u001b[0m\u001b[0m_seen_so_far\u001b[0m \u001b[1;33m=\u001b[0m \u001b[1;36m0\u001b[0m\u001b[1;33m\u001b[0m\u001b[0m\n\u001b[0;32m     19\u001b[0m             \u001b[0mself\u001b[0m\u001b[1;33m.\u001b[0m\u001b[0m_lock\u001b[0m \u001b[1;33m=\u001b[0m \u001b[0mthreading\u001b[0m\u001b[1;33m.\u001b[0m\u001b[0mLock\u001b[0m\u001b[1;33m(\u001b[0m\u001b[1;33m)\u001b[0m\u001b[1;33m\u001b[0m\u001b[0m\n",
      "\u001b[1;32mc:\\users\\max81007\\appdata\\local\\programs\\python\\python36-32\\lib\\genericpath.py\u001b[0m in \u001b[0;36mgetsize\u001b[1;34m(filename)\u001b[0m\n\u001b[0;32m     48\u001b[0m \u001b[1;32mdef\u001b[0m \u001b[0mgetsize\u001b[0m\u001b[1;33m(\u001b[0m\u001b[0mfilename\u001b[0m\u001b[1;33m)\u001b[0m\u001b[1;33m:\u001b[0m\u001b[1;33m\u001b[0m\u001b[0m\n\u001b[0;32m     49\u001b[0m     \u001b[1;34m\"\"\"Return the size of a file, reported by os.stat().\"\"\"\u001b[0m\u001b[1;33m\u001b[0m\u001b[0m\n\u001b[1;32m---> 50\u001b[1;33m     \u001b[1;32mreturn\u001b[0m \u001b[0mos\u001b[0m\u001b[1;33m.\u001b[0m\u001b[0mstat\u001b[0m\u001b[1;33m(\u001b[0m\u001b[0mfilename\u001b[0m\u001b[1;33m)\u001b[0m\u001b[1;33m.\u001b[0m\u001b[0mst_size\u001b[0m\u001b[1;33m\u001b[0m\u001b[0m\n\u001b[0m\u001b[0;32m     51\u001b[0m \u001b[1;33m\u001b[0m\u001b[0m\n\u001b[0;32m     52\u001b[0m \u001b[1;33m\u001b[0m\u001b[0m\n",
      "\u001b[1;31mFileNotFoundError\u001b[0m: [WinError 2] The system cannot find the file specified: '/Users/Max81007/Desktop/Python/Resource_Watch/Raster/cli.030/ai_yr.tif'"
     ]
    }
   ],
   "source": [
    "# Original\n",
    "s3_upload.upload_file(local_orig1, s3_bucket, s3_key_orig1,\n",
    "                         Callback=ProgressPercentage(local_orig1))\n",
    "s3_upload.upload_file(local_orig2, s3_bucket, s3_key_orig2,\n",
    "                         Callback=ProgressPercentage(local_orig2))\n",
    "\n",
    "# # Edit\n",
    "# s3_upload.upload_file(local_edit1, s3_bucket, s3_key_edit1,\n",
    "#                          Callback=ProgressPercentage(local_edit1))"
   ]
  },
  {
   "cell_type": "markdown",
   "metadata": {},
   "source": [
    "\n"
   ]
  },
  {
   "cell_type": "code",
   "execution_count": 18,
   "metadata": {},
   "outputs": [],
   "source": [
    "os.environ[\"Zs3_key\"] = \"s3://wri-public-data/\" + s3_key_orig1\n",
    "os.environ[\"Zgs_key\"] = \"gs://resource-watch-public/\" + s3_key_orig1\n",
    "os.environ[\"Zs3_key2\"] = \"s3://wri-public-data/resourcewatch/raster/foo_025_global_PET/foo_025_global_PET.tif\"\n",
    "os.environ[\"Zgs_key2\"] = \"gs://resource-watch-public/resourcewatch/raster/foo_025_global_PET/foo_025_global_PET.tif\""
   ]
  },
  {
   "cell_type": "code",
   "execution_count": 19,
   "metadata": {},
   "outputs": [
    {
     "name": "stdout",
     "output_type": "stream",
     "text": [
      "s3://wri-public-data/resourcewatch/raster/cli_030_global_land_aridity/cli_030_global_aridity.tif\n",
      "gs://resource-watch-public/resourcewatch/raster/cli_030_global_land_aridity/cli_030_global_aridity.tif\n",
      "s3://wri-public-data/resourcewatch/raster/foo_025_global_PET/foo_025_global_PET.tif\n",
      "gs://resource-watch-public/resourcewatch/raster/foo_025_global_PET/foo_025_global_PET.tif\n"
     ]
    }
   ],
   "source": [
    "!echo %Zs3_key%\n",
    "!echo %Zgs_key%\n",
    "!echo %Zs3_key2%\n",
    "!echo %Zgs_key2%"
   ]
  },
  {
   "cell_type": "code",
   "execution_count": 20,
   "metadata": {},
   "outputs": [
    {
     "name": "stderr",
     "output_type": "stream",
     "text": [
      "Copying s3://wri-public-data/resourcewatch/raster/foo_025_global_PET/foo_025_global_PET.tif [Content-Type=image/tiff]...\n",
      "/ [0 files][    0.0 B/193.2 MiB]                                                \n",
      "-\n",
      "- [0 files][  4.4 MiB/193.2 MiB]                                                \n",
      "\\\n",
      "|\n",
      "| [0 files][ 12.6 MiB/193.2 MiB]                                                \n",
      "/\n",
      "/ [0 files][ 21.1 MiB/193.2 MiB]                                                \n",
      "-\n",
      "\\\n",
      "\\ [0 files][ 28.6 MiB/193.2 MiB]                                                \n",
      "|\n",
      "/\n",
      "/ [0 files][ 37.6 MiB/193.2 MiB]                                                \n",
      "-\n",
      "- [0 files][ 46.2 MiB/193.2 MiB]                                                \n",
      "\\\n",
      "|\n",
      "| [0 files][ 53.6 MiB/193.2 MiB]                                                \n",
      "/\n",
      "-\n",
      "- [0 files][ 61.6 MiB/193.2 MiB]                                                \n",
      "\\\n",
      "\\ [0 files][ 70.1 MiB/193.2 MiB]                                                \n",
      "|\n",
      "/\n",
      "/ [0 files][ 78.9 MiB/193.2 MiB]                                                \n",
      "-\n",
      "\\\n",
      "\\ [0 files][ 87.4 MiB/193.2 MiB]    8.1 MiB/s                                   \n",
      "|\n",
      "| [0 files][ 97.5 MiB/193.2 MiB]    8.7 MiB/s                                   \n",
      "/\n",
      "-\n",
      "- [0 files][104.9 MiB/193.2 MiB]    8.5 MiB/s                                   \n",
      "\\\n",
      "\\ [0 files][112.7 MiB/193.2 MiB]    8.4 MiB/s                                   \n",
      "|\n",
      "/\n",
      "/ [0 files][120.9 MiB/193.2 MiB]    8.3 MiB/s                                   \n",
      "-\n",
      "\\\n",
      "\\ [0 files][129.4 MiB/193.2 MiB]    8.4 MiB/s                                   \n",
      "|\n",
      "| [0 files][139.0 MiB/193.2 MiB]    8.2 MiB/s                                   \n",
      "/\n",
      "-\n",
      "- [0 files][146.7 MiB/193.2 MiB]    8.3 MiB/s                                   \n",
      "\\\n",
      "|\n",
      "| [0 files][155.0 MiB/193.2 MiB]    8.3 MiB/s                                   \n",
      "/\n",
      "/ [0 files][163.7 MiB/193.2 MiB]    8.4 MiB/s                                   \n",
      "-\n",
      "\\\n",
      "\\ [0 files][173.3 MiB/193.2 MiB]    8.5 MiB/s                                   \n",
      "|\n",
      "/\n",
      "/ [0 files][181.8 MiB/193.2 MiB]    8.3 MiB/s                                   \n",
      "-\n",
      "- [1 files][193.2 MiB/193.2 MiB]    8.1 MiB/s                                   \n",
      "\\\n",
      "\n",
      "Operation completed over 1 objects/193.2 MiB.                                    \n"
     ]
    }
   ],
   "source": [
    "!gsutil cp %Zs3_key2% %Zgs_key2%\n"
   ]
  },
  {
   "cell_type": "code",
   "execution_count": null,
   "metadata": {},
   "outputs": [],
   "source": [
    "os.environ[\"asset_id\"] = \"users/resourcewatch/cli_030_global_aridity\"\n",
    "!earthengine upload image --asset_id=%asset_id% %Zgs_key%"
   ]
  },
  {
   "cell_type": "code",
   "execution_count": 21,
   "metadata": {},
   "outputs": [
    {
     "name": "stdout",
     "output_type": "stream",
     "text": [
      "Started upload task with ID: ZCIFSOQC2ZB6QONECABBRLX7\n"
     ]
    }
   ],
   "source": [
    "os.environ[\"asset_id2\"] = \"users/resourcewatch/foo_025_global_PET\"\n",
    "!earthengine upload image --nodata_value=-32768 --asset_id=%asset_id2% %Zgs_key2% -p Stats=\"Minimum=24.000, Maximum=2383.000, Mean=1062.422, StdDev=617.488\"\n"
   ]
  },
  {
   "cell_type": "code",
   "execution_count": 26,
   "metadata": {},
   "outputs": [
    {
     "name": "stdout",
     "output_type": "stream",
     "text": [
      "ZCIFSOQC2ZB6QONECABBRLX7:\n",
      "  State: RUNNING\n",
      "  Type: Upload\n",
      "  Description: Asset ingestion: users/resourcewatch/foo_025_global_PET\n",
      "  Created: 2017-11-20 13:42:16.191000\n",
      "  Started: 2017-11-20 13:42:20.426000\n",
      "  Updated: 2017-11-20 13:52:20.570000\n"
     ]
    }
   ],
   "source": [
    "!earthengine task info ZCIFSOQC2ZB6QONECABBRLX7"
   ]
  },
  {
   "cell_type": "code",
   "execution_count": 25,
   "metadata": {},
   "outputs": [
    {
     "name": "stdout",
     "output_type": "stream",
     "text": [
      "Asset 'users/resourcewatch/foo_025_global_PET' does not exist or doesn't allow this operation.\n"
     ]
    }
   ],
   "source": [
    "!earthengine acl set public users/resourcewatch/foo_025_global_PET "
   ]
  }
 ],
 "metadata": {
  "kernelspec": {
   "display_name": "Python 3",
   "language": "python",
   "name": "python3"
  },
  "language_info": {
   "codemirror_mode": {
    "name": "ipython",
    "version": 3
   },
   "file_extension": ".py",
   "mimetype": "text/x-python",
   "name": "python",
   "nbconvert_exporter": "python",
   "pygments_lexer": "ipython3",
   "version": "3.6.2"
  }
 },
 "nbformat": 4,
 "nbformat_minor": 2
}
