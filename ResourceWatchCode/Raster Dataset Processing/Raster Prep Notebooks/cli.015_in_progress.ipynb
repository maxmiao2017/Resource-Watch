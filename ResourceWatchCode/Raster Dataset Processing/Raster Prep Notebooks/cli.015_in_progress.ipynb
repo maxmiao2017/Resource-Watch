{
 "cells": [
  {
   "cell_type": "code",
   "execution_count": 62,
   "metadata": {
    "collapsed": false
   },
   "outputs": [],
   "source": [
    "# Libraries for downloading data from FTP\n",
    "import shutil\n",
    "import urllib.request as req\n",
    "from contextlib import closing\n",
    "\n",
    "# Library for uploading data to S3\n",
    "import boto3\n",
    "\n",
    "# Libraries for handling data\n",
    "import rasterio as rio\n",
    "import pandas as pd\n",
    "import numpy as np\n",
    "import scipy\n",
    "\n",
    "# Libraries for various helper functions\n",
    "from datetime import datetime\n",
    "import os\n",
    "import threading\n",
    "import sys\n",
    "from glob import glob\n",
    "from netCDF4 import Dataset"
   ]
  },
  {
   "cell_type": "markdown",
   "metadata": {},
   "source": [
    "cli.015 http://edgar.jrc.ec.europa.eu/methodology.php\n",
    "SRC: ftp://cidportal.jrc.ec.europa.eu/jrc-opendata/EDGAR/datasets/v431_v2/\n",
    "Have data for BC, CO, NH3, NMVOC_bio, NMVOC_fossil, NOx, OC, PM2.5, PM10, SO2\n",
    "These are broken down by (may be more) AGR, ENE, IND, OTH, PPA, PRO, RCO, REF, SWD, TNR_Aviation_CDS, TNR_Aviation_CRS, TNR_Aviation_LTO, TNR_Aviation_SPS, TNR_Other, TNR_Ship, TOTALS, TRF, TRO\n",
    "File type: netcdf"
   ]
  },
  {
   "cell_type": "code",
   "execution_count": 105,
   "metadata": {
    "collapsed": false
   },
   "outputs": [
    {
     "data": {
      "text/plain": [
       "[b'copyright.txt',\n",
       " b'v431_v2_REFERENCE_BC_1970-2010_nc.zip',\n",
       " b'v431_v2_REFERENCE_BC_1970-2010_txt.zip',\n",
       " b'v431_v2_REFERENCE_BC_1970.0.1x0.1.zip',\n",
       " b'v431_v2_REFERENCE_BC_1970.zip',\n",
       " b'v431_v2_REFERENCE_BC_1971.0.1x0.1.zip',\n",
       " b'v431_v2_REFERENCE_BC_1971.zip',\n",
       " b'v431_v2_REFERENCE_BC_1972.0.1x0.1.zip',\n",
       " b'v431_v2_REFERENCE_BC_1972.zip',\n",
       " b'v431_v2_REFERENCE_BC_1973.0.1x0.1.zip',\n",
       " b'v431_v2_REFERENCE_BC_1973.zip',\n",
       " b'v431_v2_REFERENCE_BC_1974.0.1x0.1.zip',\n",
       " b'v431_v2_REFERENCE_BC_1974.zip',\n",
       " b'v431_v2_REFERENCE_BC_1975.0.1x0.1.zip',\n",
       " b'v431_v2_REFERENCE_BC_1975.zip',\n",
       " b'v431_v2_REFERENCE_BC_1976.0.1x0.1.zip',\n",
       " b'v431_v2_REFERENCE_BC_1976.zip',\n",
       " b'v431_v2_REFERENCE_BC_1977.0.1x0.1.zip',\n",
       " b'v431_v2_REFERENCE_BC_1977.zip',\n",
       " b'v431_v2_REFERENCE_BC_1978.0.1x0.1.zip',\n",
       " b'v431_v2_REFERENCE_BC_1978.zip',\n",
       " b'v431_v2_REFERENCE_BC_1979.0.1x0.1.zip',\n",
       " b'v431_v2_REFERENCE_BC_1979.zip',\n",
       " b'v431_v2_REFERENCE_BC_1980.0.1x0.1.zip',\n",
       " b'v431_v2_REFERENCE_BC_1980.zip',\n",
       " b'v431_v2_REFERENCE_BC_1981.0.1x0.1.zip',\n",
       " b'v431_v2_REFERENCE_BC_1981.zip',\n",
       " b'v431_v2_REFERENCE_BC_1982.0.1x0.1.zip',\n",
       " b'v431_v2_REFERENCE_BC_1982.zip',\n",
       " b'v431_v2_REFERENCE_BC_1983.0.1x0.1.zip',\n",
       " b'v431_v2_REFERENCE_BC_1983.zip',\n",
       " b'v431_v2_REFERENCE_BC_1984.0.1x0.1.zip',\n",
       " b'v431_v2_REFERENCE_BC_1984.zip',\n",
       " b'v431_v2_REFERENCE_BC_1985.0.1x0.1.zip',\n",
       " b'v431_v2_REFERENCE_BC_1985.zip',\n",
       " b'v431_v2_REFERENCE_BC_1986.0.1x0.1.zip',\n",
       " b'v431_v2_REFERENCE_BC_1986.zip',\n",
       " b'v431_v2_REFERENCE_BC_1987.0.1x0.1.zip',\n",
       " b'v431_v2_REFERENCE_BC_1987.zip',\n",
       " b'v431_v2_REFERENCE_BC_1988.0.1x0.1.zip',\n",
       " b'v431_v2_REFERENCE_BC_1988.zip',\n",
       " b'v431_v2_REFERENCE_BC_1989.0.1x0.1.zip',\n",
       " b'v431_v2_REFERENCE_BC_1989.zip',\n",
       " b'v431_v2_REFERENCE_BC_1990.0.1x0.1.zip',\n",
       " b'v431_v2_REFERENCE_BC_1990.zip',\n",
       " b'v431_v2_REFERENCE_BC_1991.0.1x0.1.zip',\n",
       " b'v431_v2_REFERENCE_BC_1991.zip',\n",
       " b'v431_v2_REFERENCE_BC_1992.0.1x0.1.zip',\n",
       " b'v431_v2_REFERENCE_BC_1992.zip',\n",
       " b'v431_v2_REFERENCE_BC_1993.0.1x0.1.zip',\n",
       " b'v431_v2_REFERENCE_BC_1993.zip',\n",
       " b'v431_v2_REFERENCE_BC_1994.0.1x0.1.zip',\n",
       " b'v431_v2_REFERENCE_BC_1994.zip',\n",
       " b'v431_v2_REFERENCE_BC_1995.0.1x0.1.zip',\n",
       " b'v431_v2_REFERENCE_BC_1995.zip',\n",
       " b'v431_v2_REFERENCE_BC_1996.0.1x0.1.zip',\n",
       " b'v431_v2_REFERENCE_BC_1996.zip',\n",
       " b'v431_v2_REFERENCE_BC_1997.0.1x0.1.zip',\n",
       " b'v431_v2_REFERENCE_BC_1997.zip',\n",
       " b'v431_v2_REFERENCE_BC_1998.0.1x0.1.zip',\n",
       " b'v431_v2_REFERENCE_BC_1998.zip',\n",
       " b'v431_v2_REFERENCE_BC_1999.0.1x0.1.zip',\n",
       " b'v431_v2_REFERENCE_BC_1999.zip',\n",
       " b'v431_v2_REFERENCE_BC_2000.0.1x0.1.zip',\n",
       " b'v431_v2_REFERENCE_BC_2000.zip',\n",
       " b'v431_v2_REFERENCE_BC_2001.0.1x0.1.zip',\n",
       " b'v431_v2_REFERENCE_BC_2001.zip',\n",
       " b'v431_v2_REFERENCE_BC_2002.0.1x0.1.zip',\n",
       " b'v431_v2_REFERENCE_BC_2002.zip',\n",
       " b'v431_v2_REFERENCE_BC_2003.0.1x0.1.zip',\n",
       " b'v431_v2_REFERENCE_BC_2003.zip',\n",
       " b'v431_v2_REFERENCE_BC_2004.0.1x0.1.zip',\n",
       " b'v431_v2_REFERENCE_BC_2004.zip',\n",
       " b'v431_v2_REFERENCE_BC_2005.0.1x0.1.zip',\n",
       " b'v431_v2_REFERENCE_BC_2005.zip',\n",
       " b'v431_v2_REFERENCE_BC_2006.0.1x0.1.zip',\n",
       " b'v431_v2_REFERENCE_BC_2006.zip',\n",
       " b'v431_v2_REFERENCE_BC_2007.0.1x0.1.zip',\n",
       " b'v431_v2_REFERENCE_BC_2007.zip',\n",
       " b'v431_v2_REFERENCE_BC_2008.0.1x0.1.zip',\n",
       " b'v431_v2_REFERENCE_BC_2008.zip',\n",
       " b'v431_v2_REFERENCE_BC_2009.0.1x0.1.zip',\n",
       " b'v431_v2_REFERENCE_BC_2009.zip',\n",
       " b'v431_v2_REFERENCE_BC_2010.0.1x0.1.zip',\n",
       " b'v431_v2_REFERENCE_BC_2010.zip']"
      ]
     },
     "execution_count": 105,
     "metadata": {},
     "output_type": "execute_result"
    }
   ],
   "source": [
    "# Directions for how to read contents of an FTP directory\n",
    "# https://stackoverflow.com/questions/2289768/python-and-urllib\n",
    "remote_path = \"ftp://cidportal.jrc.ec.europa.eu/jrc-opendata/EDGAR/datasets/v431_v2\"\n",
    "remote_path_BC = remote_path + \"/BC/TOTALS/\"\n",
    "file = req.urlopen(remote_path_BC).read().splitlines()\n",
    "[name.split()[-1] for name in file]"
   ]
  },
  {
   "cell_type": "code",
   "execution_count": null,
   "metadata": {
    "collapsed": true
   },
   "outputs": [],
   "source": [
    "# Files are zipped... will need to download and unzip"
   ]
  },
  {
   "cell_type": "code",
   "execution_count": 3,
   "metadata": {
    "collapsed": false
   },
   "outputs": [],
   "source": [
    "particular = \"v431_v2_REFERENCE_BC_1970-2010_nc.zip\"\n",
    "dl_path = remote_path_BC + particular\n",
    "\n",
    "local_folder = \"/Users/nathansuberi/Desktop/RW_Data/Rasters/EDGAR/\"\n",
    "file_name = \"nc_test.zip\"\n",
    "local_file = local_folder + file_name\n",
    "\n",
    "with closing(req.urlopen(dl_path)) as r:\n",
    "    with open(local_file, 'wb') as f:\n",
    "        shutil.copyfileobj(r, f)"
   ]
  },
  {
   "cell_type": "code",
   "execution_count": 107,
   "metadata": {
    "collapsed": false
   },
   "outputs": [],
   "source": [
    "particulars = ['v431_v2_REFERENCE_BC_2010.0.1x0.1.zip','v431_v2_REFERENCE_BC_2010.zip']\n",
    "dl_path = [remote_path_BC + particular for particular in particulars]\n",
    "\n",
    "local_folder = \"/Users/nathansuberi/Desktop/RW_Data/Rasters/EDGAR/\"\n",
    "\n",
    "for ix, path in enumerate(dl_path):\n",
    "    file_name = particulars[ix]\n",
    "    local_file = local_folder + file_name\n",
    "    with closing(req.urlopen(path)) as r:\n",
    "        with open(local_file, 'wb') as f:\n",
    "             shutil.copyfileobj(r, f)\n"
   ]
  },
  {
   "cell_type": "code",
   "execution_count": 115,
   "metadata": {
    "collapsed": true
   },
   "outputs": [
    {
     "data": {
      "text/plain": [
       "['/Users/nathansuberi/Desktop/RW_Data/Rasters/EDGAR/nc_test/_readme.txt',\n",
       " '/Users/nathansuberi/Desktop/RW_Data/Rasters/EDGAR/nc_test/v431_v2_REFERENCE_BC_1970.0.1x0.1.nc',\n",
       " '/Users/nathansuberi/Desktop/RW_Data/Rasters/EDGAR/nc_test/v431_v2_REFERENCE_BC_1971.0.1x0.1.nc',\n",
       " '/Users/nathansuberi/Desktop/RW_Data/Rasters/EDGAR/nc_test/v431_v2_REFERENCE_BC_1972.0.1x0.1.nc',\n",
       " '/Users/nathansuberi/Desktop/RW_Data/Rasters/EDGAR/nc_test/v431_v2_REFERENCE_BC_1973.0.1x0.1.nc',\n",
       " '/Users/nathansuberi/Desktop/RW_Data/Rasters/EDGAR/nc_test/v431_v2_REFERENCE_BC_1974.0.1x0.1.nc',\n",
       " '/Users/nathansuberi/Desktop/RW_Data/Rasters/EDGAR/nc_test/v431_v2_REFERENCE_BC_1975.0.1x0.1.nc',\n",
       " '/Users/nathansuberi/Desktop/RW_Data/Rasters/EDGAR/nc_test/v431_v2_REFERENCE_BC_1976.0.1x0.1.nc',\n",
       " '/Users/nathansuberi/Desktop/RW_Data/Rasters/EDGAR/nc_test/v431_v2_REFERENCE_BC_1977.0.1x0.1.nc',\n",
       " '/Users/nathansuberi/Desktop/RW_Data/Rasters/EDGAR/nc_test/v431_v2_REFERENCE_BC_1978.0.1x0.1.nc',\n",
       " '/Users/nathansuberi/Desktop/RW_Data/Rasters/EDGAR/nc_test/v431_v2_REFERENCE_BC_1979.0.1x0.1.nc',\n",
       " '/Users/nathansuberi/Desktop/RW_Data/Rasters/EDGAR/nc_test/v431_v2_REFERENCE_BC_1980.0.1x0.1.nc',\n",
       " '/Users/nathansuberi/Desktop/RW_Data/Rasters/EDGAR/nc_test/v431_v2_REFERENCE_BC_1981.0.1x0.1.nc',\n",
       " '/Users/nathansuberi/Desktop/RW_Data/Rasters/EDGAR/nc_test/v431_v2_REFERENCE_BC_1982.0.1x0.1.nc',\n",
       " '/Users/nathansuberi/Desktop/RW_Data/Rasters/EDGAR/nc_test/v431_v2_REFERENCE_BC_1983.0.1x0.1.nc',\n",
       " '/Users/nathansuberi/Desktop/RW_Data/Rasters/EDGAR/nc_test/v431_v2_REFERENCE_BC_1984.0.1x0.1.nc',\n",
       " '/Users/nathansuberi/Desktop/RW_Data/Rasters/EDGAR/nc_test/v431_v2_REFERENCE_BC_1985.0.1x0.1.nc',\n",
       " '/Users/nathansuberi/Desktop/RW_Data/Rasters/EDGAR/nc_test/v431_v2_REFERENCE_BC_1986.0.1x0.1.nc',\n",
       " '/Users/nathansuberi/Desktop/RW_Data/Rasters/EDGAR/nc_test/v431_v2_REFERENCE_BC_1987.0.1x0.1.nc',\n",
       " '/Users/nathansuberi/Desktop/RW_Data/Rasters/EDGAR/nc_test/v431_v2_REFERENCE_BC_1988.0.1x0.1.nc',\n",
       " '/Users/nathansuberi/Desktop/RW_Data/Rasters/EDGAR/nc_test/v431_v2_REFERENCE_BC_1989.0.1x0.1.nc',\n",
       " '/Users/nathansuberi/Desktop/RW_Data/Rasters/EDGAR/nc_test/v431_v2_REFERENCE_BC_1990.0.1x0.1.nc',\n",
       " '/Users/nathansuberi/Desktop/RW_Data/Rasters/EDGAR/nc_test/v431_v2_REFERENCE_BC_1991.0.1x0.1.nc',\n",
       " '/Users/nathansuberi/Desktop/RW_Data/Rasters/EDGAR/nc_test/v431_v2_REFERENCE_BC_1992.0.1x0.1.nc',\n",
       " '/Users/nathansuberi/Desktop/RW_Data/Rasters/EDGAR/nc_test/v431_v2_REFERENCE_BC_1993.0.1x0.1.nc',\n",
       " '/Users/nathansuberi/Desktop/RW_Data/Rasters/EDGAR/nc_test/v431_v2_REFERENCE_BC_1994.0.1x0.1.nc',\n",
       " '/Users/nathansuberi/Desktop/RW_Data/Rasters/EDGAR/nc_test/v431_v2_REFERENCE_BC_1995.0.1x0.1.nc',\n",
       " '/Users/nathansuberi/Desktop/RW_Data/Rasters/EDGAR/nc_test/v431_v2_REFERENCE_BC_1996.0.1x0.1.nc',\n",
       " '/Users/nathansuberi/Desktop/RW_Data/Rasters/EDGAR/nc_test/v431_v2_REFERENCE_BC_1997.0.1x0.1.nc',\n",
       " '/Users/nathansuberi/Desktop/RW_Data/Rasters/EDGAR/nc_test/v431_v2_REFERENCE_BC_1998.0.1x0.1.nc',\n",
       " '/Users/nathansuberi/Desktop/RW_Data/Rasters/EDGAR/nc_test/v431_v2_REFERENCE_BC_1999.0.1x0.1.nc',\n",
       " '/Users/nathansuberi/Desktop/RW_Data/Rasters/EDGAR/nc_test/v431_v2_REFERENCE_BC_2000.0.1x0.1.nc',\n",
       " '/Users/nathansuberi/Desktop/RW_Data/Rasters/EDGAR/nc_test/v431_v2_REFERENCE_BC_2001.0.1x0.1.nc',\n",
       " '/Users/nathansuberi/Desktop/RW_Data/Rasters/EDGAR/nc_test/v431_v2_REFERENCE_BC_2002.0.1x0.1.nc',\n",
       " '/Users/nathansuberi/Desktop/RW_Data/Rasters/EDGAR/nc_test/v431_v2_REFERENCE_BC_2003.0.1x0.1.nc',\n",
       " '/Users/nathansuberi/Desktop/RW_Data/Rasters/EDGAR/nc_test/v431_v2_REFERENCE_BC_2004.0.1x0.1.nc',\n",
       " '/Users/nathansuberi/Desktop/RW_Data/Rasters/EDGAR/nc_test/v431_v2_REFERENCE_BC_2005.0.1x0.1.nc',\n",
       " '/Users/nathansuberi/Desktop/RW_Data/Rasters/EDGAR/nc_test/v431_v2_REFERENCE_BC_2006.0.1x0.1.nc',\n",
       " '/Users/nathansuberi/Desktop/RW_Data/Rasters/EDGAR/nc_test/v431_v2_REFERENCE_BC_2007.0.1x0.1.nc',\n",
       " '/Users/nathansuberi/Desktop/RW_Data/Rasters/EDGAR/nc_test/v431_v2_REFERENCE_BC_2008.0.1x0.1.nc',\n",
       " '/Users/nathansuberi/Desktop/RW_Data/Rasters/EDGAR/nc_test/v431_v2_REFERENCE_BC_2009.0.1x0.1.nc',\n",
       " '/Users/nathansuberi/Desktop/RW_Data/Rasters/EDGAR/nc_test/v431_v2_REFERENCE_BC_2009.0.1x0.1_edit.tif',\n",
       " '/Users/nathansuberi/Desktop/RW_Data/Rasters/EDGAR/nc_test/v431_v2_REFERENCE_BC_2010.0.1x0.1.nc',\n",
       " '/Users/nathansuberi/Desktop/RW_Data/Rasters/EDGAR/nc_test/v431_v2_REFERENCE_BC_2010.0.1x0.1_edit.tif']"
      ]
     },
     "execution_count": 115,
     "metadata": {},
     "output_type": "execute_result"
    }
   ],
   "source": [
    "glob(local_folder + \"nc_test/*\")"
   ]
  },
  {
   "cell_type": "code",
   "execution_count": 88,
   "metadata": {
    "collapsed": true
   },
   "outputs": [
    {
     "data": {
      "text/plain": [
       "['/Users/nathansuberi/Desktop/RW_Data/Rasters/EDGAR/nc_test/v431_v2_REFERENCE_BC_1970.0.1x0.1.nc',\n",
       " '/Users/nathansuberi/Desktop/RW_Data/Rasters/EDGAR/nc_test/v431_v2_REFERENCE_BC_1971.0.1x0.1.nc',\n",
       " '/Users/nathansuberi/Desktop/RW_Data/Rasters/EDGAR/nc_test/v431_v2_REFERENCE_BC_1972.0.1x0.1.nc',\n",
       " '/Users/nathansuberi/Desktop/RW_Data/Rasters/EDGAR/nc_test/v431_v2_REFERENCE_BC_1973.0.1x0.1.nc',\n",
       " '/Users/nathansuberi/Desktop/RW_Data/Rasters/EDGAR/nc_test/v431_v2_REFERENCE_BC_1974.0.1x0.1.nc',\n",
       " '/Users/nathansuberi/Desktop/RW_Data/Rasters/EDGAR/nc_test/v431_v2_REFERENCE_BC_1975.0.1x0.1.nc',\n",
       " '/Users/nathansuberi/Desktop/RW_Data/Rasters/EDGAR/nc_test/v431_v2_REFERENCE_BC_1976.0.1x0.1.nc',\n",
       " '/Users/nathansuberi/Desktop/RW_Data/Rasters/EDGAR/nc_test/v431_v2_REFERENCE_BC_1977.0.1x0.1.nc',\n",
       " '/Users/nathansuberi/Desktop/RW_Data/Rasters/EDGAR/nc_test/v431_v2_REFERENCE_BC_1978.0.1x0.1.nc',\n",
       " '/Users/nathansuberi/Desktop/RW_Data/Rasters/EDGAR/nc_test/v431_v2_REFERENCE_BC_1979.0.1x0.1.nc',\n",
       " '/Users/nathansuberi/Desktop/RW_Data/Rasters/EDGAR/nc_test/v431_v2_REFERENCE_BC_1980.0.1x0.1.nc',\n",
       " '/Users/nathansuberi/Desktop/RW_Data/Rasters/EDGAR/nc_test/v431_v2_REFERENCE_BC_1981.0.1x0.1.nc',\n",
       " '/Users/nathansuberi/Desktop/RW_Data/Rasters/EDGAR/nc_test/v431_v2_REFERENCE_BC_1982.0.1x0.1.nc',\n",
       " '/Users/nathansuberi/Desktop/RW_Data/Rasters/EDGAR/nc_test/v431_v2_REFERENCE_BC_1983.0.1x0.1.nc',\n",
       " '/Users/nathansuberi/Desktop/RW_Data/Rasters/EDGAR/nc_test/v431_v2_REFERENCE_BC_1984.0.1x0.1.nc',\n",
       " '/Users/nathansuberi/Desktop/RW_Data/Rasters/EDGAR/nc_test/v431_v2_REFERENCE_BC_1985.0.1x0.1.nc',\n",
       " '/Users/nathansuberi/Desktop/RW_Data/Rasters/EDGAR/nc_test/v431_v2_REFERENCE_BC_1986.0.1x0.1.nc',\n",
       " '/Users/nathansuberi/Desktop/RW_Data/Rasters/EDGAR/nc_test/v431_v2_REFERENCE_BC_1987.0.1x0.1.nc',\n",
       " '/Users/nathansuberi/Desktop/RW_Data/Rasters/EDGAR/nc_test/v431_v2_REFERENCE_BC_1988.0.1x0.1.nc',\n",
       " '/Users/nathansuberi/Desktop/RW_Data/Rasters/EDGAR/nc_test/v431_v2_REFERENCE_BC_1989.0.1x0.1.nc',\n",
       " '/Users/nathansuberi/Desktop/RW_Data/Rasters/EDGAR/nc_test/v431_v2_REFERENCE_BC_1990.0.1x0.1.nc',\n",
       " '/Users/nathansuberi/Desktop/RW_Data/Rasters/EDGAR/nc_test/v431_v2_REFERENCE_BC_1991.0.1x0.1.nc',\n",
       " '/Users/nathansuberi/Desktop/RW_Data/Rasters/EDGAR/nc_test/v431_v2_REFERENCE_BC_1992.0.1x0.1.nc',\n",
       " '/Users/nathansuberi/Desktop/RW_Data/Rasters/EDGAR/nc_test/v431_v2_REFERENCE_BC_1993.0.1x0.1.nc',\n",
       " '/Users/nathansuberi/Desktop/RW_Data/Rasters/EDGAR/nc_test/v431_v2_REFERENCE_BC_1994.0.1x0.1.nc',\n",
       " '/Users/nathansuberi/Desktop/RW_Data/Rasters/EDGAR/nc_test/v431_v2_REFERENCE_BC_1995.0.1x0.1.nc',\n",
       " '/Users/nathansuberi/Desktop/RW_Data/Rasters/EDGAR/nc_test/v431_v2_REFERENCE_BC_1996.0.1x0.1.nc',\n",
       " '/Users/nathansuberi/Desktop/RW_Data/Rasters/EDGAR/nc_test/v431_v2_REFERENCE_BC_1997.0.1x0.1.nc',\n",
       " '/Users/nathansuberi/Desktop/RW_Data/Rasters/EDGAR/nc_test/v431_v2_REFERENCE_BC_1998.0.1x0.1.nc',\n",
       " '/Users/nathansuberi/Desktop/RW_Data/Rasters/EDGAR/nc_test/v431_v2_REFERENCE_BC_1999.0.1x0.1.nc',\n",
       " '/Users/nathansuberi/Desktop/RW_Data/Rasters/EDGAR/nc_test/v431_v2_REFERENCE_BC_2000.0.1x0.1.nc',\n",
       " '/Users/nathansuberi/Desktop/RW_Data/Rasters/EDGAR/nc_test/v431_v2_REFERENCE_BC_2001.0.1x0.1.nc',\n",
       " '/Users/nathansuberi/Desktop/RW_Data/Rasters/EDGAR/nc_test/v431_v2_REFERENCE_BC_2002.0.1x0.1.nc',\n",
       " '/Users/nathansuberi/Desktop/RW_Data/Rasters/EDGAR/nc_test/v431_v2_REFERENCE_BC_2003.0.1x0.1.nc',\n",
       " '/Users/nathansuberi/Desktop/RW_Data/Rasters/EDGAR/nc_test/v431_v2_REFERENCE_BC_2004.0.1x0.1.nc',\n",
       " '/Users/nathansuberi/Desktop/RW_Data/Rasters/EDGAR/nc_test/v431_v2_REFERENCE_BC_2005.0.1x0.1.nc',\n",
       " '/Users/nathansuberi/Desktop/RW_Data/Rasters/EDGAR/nc_test/v431_v2_REFERENCE_BC_2006.0.1x0.1.nc',\n",
       " '/Users/nathansuberi/Desktop/RW_Data/Rasters/EDGAR/nc_test/v431_v2_REFERENCE_BC_2007.0.1x0.1.nc',\n",
       " '/Users/nathansuberi/Desktop/RW_Data/Rasters/EDGAR/nc_test/v431_v2_REFERENCE_BC_2008.0.1x0.1.nc',\n",
       " '/Users/nathansuberi/Desktop/RW_Data/Rasters/EDGAR/nc_test/v431_v2_REFERENCE_BC_2009.0.1x0.1.nc',\n",
       " '/Users/nathansuberi/Desktop/RW_Data/Rasters/EDGAR/nc_test/v431_v2_REFERENCE_BC_2010.0.1x0.1.nc']"
      ]
     },
     "execution_count": 88,
     "metadata": {},
     "output_type": "execute_result"
    }
   ],
   "source": [
    "glob(local_data_folder + \"/*.nc\")"
   ]
  },
  {
   "cell_type": "code",
   "execution_count": 89,
   "metadata": {
    "collapsed": false
   },
   "outputs": [
    {
     "data": {
      "text/plain": [
       "6480000"
      ]
     },
     "execution_count": 89,
     "metadata": {},
     "output_type": "execute_result"
    }
   ],
   "source": [
    "local_data_folder = \"/Users/nathansuberi/Desktop/RW_Data/Rasters/EDGAR/nc_test\"\n",
    "\n",
    "most_recent = glob(local_data_folder + \"/*.nc\")[-2]\n",
    "\n",
    "# Explore .nc file\n",
    "recent_data = netCDF4.Dataset(most_recent)\n",
    "\n",
    "recent_data.variables\n",
    "\n",
    "recent_data.variables['lat'][:]\n",
    "\n",
    "len(recent_data.variables['lat'][:])\n",
    "\n",
    "recent_data.variables['lon'][:]\n",
    "\n",
    "len(recent_data.variables['lon'][:])\n",
    "\n",
    "recent_data.variables['emi_bc']\n",
    "\n",
    "recent_data.variables['emi_bc'][:, :]\n",
    "\n",
    "recent_data.variables['emi_bc'].ncattrs()\n",
    "\n",
    "repr(recent_data.variables['emi_bc'].getncattr('total_emi_bc'))\n",
    "\n",
    "recent_data.ncattrs()\n",
    "\n",
    "recent_data.dimensions\n",
    "\n",
    "recent_data.dimensions['lat']\n",
    "\n",
    "# recent_data.dimensions['lat'][:] =/ not subscriptable\n",
    "\n",
    "len(recent_data.dimensions['lat'])\n",
    "\n",
    "recent_data.variables['emi_bc'].dimensions\n",
    "\n",
    "recent_data.variables['emi_bc'].size\n",
    "\n",
    "# No time variable because all years are stored in separate files.\n",
    "# Can use Rutger's function as a means of stacking them & adding the time dimension"
   ]
  },
  {
   "cell_type": "code",
   "execution_count": 90,
   "metadata": {
    "collapsed": false
   },
   "outputs": [
    {
     "data": {
      "text/plain": [
       "'/Users/nathansuberi/Desktop/RW_Data/Rasters/EDGAR/nc_test/v431_v2_REFERENCE_BC_2009.0.1x0.1_edit.tif'"
      ]
     },
     "execution_count": 90,
     "metadata": {},
     "output_type": "execute_result"
    }
   ],
   "source": [
    "most_recent[:-3] + \"_edit.tif\""
   ]
  },
  {
   "cell_type": "code",
   "execution_count": 102,
   "metadata": {
    "collapsed": false
   },
   "outputs": [],
   "source": [
    "# Can read to a geotiff with rasterio, or GDAL\n",
    "\n",
    "# Vizzuality uses rasterio below\n",
    "\n",
    "def netcdf2tif(dst,variable,outFile):\n",
    "    nc = Dataset(dst)\n",
    "    data = nc[variable][:,:]\n",
    "    print(np.max(data))\n",
    "            \n",
    "#     data[data < 0] = -1\n",
    "#     data[data == 32767.0] = -1\n",
    "    \n",
    "    print(data)\n",
    "    \n",
    "    # Return lat info\n",
    "    south_lat = -90\n",
    "    north_lat = 90\n",
    "\n",
    "    # Return lon info\n",
    "    west_lon = -180\n",
    "    east_lon = 180\n",
    "    \n",
    "    rows, columns = data.shape              # get sizes\n",
    "\n",
    "    # Reverse the array\n",
    "#    flipped_array = np.fliplr(data) \n",
    "\n",
    "#     left_side = data[:,int(columns/2):]     # split the array... \n",
    "#     right_side = data[:,:int(columns/2)]    # ...into two halves. Then recombine.\n",
    "#     wsg84_array = np.concatenate((left_side,right_side), axis=1)\n",
    "\n",
    "    #reverse again\n",
    "#    a = scipy.ndimage.interpolation.rotate(wsg84_array, 180)\n",
    "#    fliped = np.fliplr(a)\n",
    "    #plt.figure(figsize=(10,10))\n",
    "    #plt.imshow(fliped, cmap=cm.jet)  \n",
    "    \n",
    "    print('transformation.......')\n",
    "    # Transformation function\n",
    "    transform = rio.transform.from_bounds(west_lon, south_lat, east_lon, north_lat, columns, rows)\n",
    "    # Profile\n",
    "    profile = {\n",
    "        'driver':'GTiff', \n",
    "        'height':rows, \n",
    "        'width':columns, \n",
    "        'count':1, \n",
    "        'dtype':np.float64, \n",
    "        'crs':'EPSG:4326', \n",
    "        'transform':transform, \n",
    "        'compress':'lzw'\n",
    "    }\n",
    "    with rio.open(outFile, 'w', **profile) as dst:\n",
    "        dst.write(data.astype(profile['dtype']), 1)\n",
    "    \n",
    "    print('Data Shape: ',columns)\n",
    "    print('Data Shape: ',rows)\n",
    "    #os.remove('./'+file)"
   ]
  },
  {
   "cell_type": "code",
   "execution_count": 103,
   "metadata": {
    "collapsed": false
   },
   "outputs": [
    {
     "name": "stdout",
     "output_type": "stream",
     "text": [
      "1.3469e-08\n",
      "[[ 0.  0.  0. ...,  0.  0.  0.]\n",
      " [ 0.  0.  0. ...,  0.  0.  0.]\n",
      " [ 0.  0.  0. ...,  0.  0.  0.]\n",
      " ..., \n",
      " [ 0.  0.  0. ...,  0.  0.  0.]\n",
      " [ 0.  0.  0. ...,  0.  0.  0.]\n",
      " [ 0.  0.  0. ...,  0.  0.  0.]]\n",
      "transformation.......\n",
      "Data Shape:  3600\n",
      "Data Shape:  1800\n"
     ]
    }
   ],
   "source": [
    "netcdf2tif(most_recent,\"emi_bc\", most_recent[:-3] + \"_edit.tif\")"
   ]
  },
  {
   "cell_type": "code",
   "execution_count": 92,
   "metadata": {
    "collapsed": false
   },
   "outputs": [
    {
     "name": "stdout",
     "output_type": "stream",
     "text": [
      "{'driver': 'GTiff', 'dtype': 'float64', 'nodata': -1.0, 'width': 3600, 'height': 1800, 'count': 1, 'crs': CRS({'init': 'epsg:4326'}), 'transform': (-180.0, 0.1, 0.0, 90.0, 0.0, -0.1), 'affine': Affine(0.1, 0.0, -180.0,\n",
      "       0.0, -0.1, 90.0), 'compress': 'lzw', 'tiled': False, 'interleave': 'band'}\n"
     ]
    }
   ],
   "source": [
    "with rio.open(most_recent[:-3] + \"_edit.tif\", 'r') as src:\n",
    "    print(src.profile)\n",
    "    data = src.read()"
   ]
  },
  {
   "cell_type": "code",
   "execution_count": 96,
   "metadata": {
    "collapsed": false
   },
   "outputs": [
    {
     "data": {
      "text/plain": [
       "1.3469004578325894e-08"
      ]
     },
     "execution_count": 96,
     "metadata": {},
     "output_type": "execute_result"
    }
   ],
   "source": [
    "# Emissions gridmaps in ton substance / 0.1degree x 0.1degree / year for the .txt files \n",
    "# and in kg substance /m2 /s for the .nc files. \n",
    "\n",
    "np.max(data[0])"
   ]
  },
  {
   "cell_type": "code",
   "execution_count": null,
   "metadata": {
    "collapsed": true
   },
   "outputs": [],
   "source": []
  },
  {
   "cell_type": "code",
   "execution_count": null,
   "metadata": {
    "collapsed": true
   },
   "outputs": [],
   "source": []
  },
  {
   "cell_type": "code",
   "execution_count": 119,
   "metadata": {
    "collapsed": false
   },
   "outputs": [
    {
     "name": "stdout",
     "output_type": "stream",
     "text": [
      "ftp://sidads.colorado.edu/DATASETS/NOAA/G02135/north/monthly/geotiff/08_Aug/N_201708_extent_v2.1.tif\n",
      "ftp://sidads.colorado.edu/DATASETS/NOAA/G02135/south/monthly/geotiff/08_Aug/S_201708_extent_v2.1.tif\n"
     ]
    }
   ],
   "source": [
    "ftp_arctic = remote_path_north+arctic_file\n",
    "ftp_antarctic = remote_path_south+antarctic_file\n",
    "print(ftp_arctic)\n",
    "print(ftp_antarctic)\n",
    "\n",
    "local_folder = \"/Users/nathansuberi/Desktop/RW_Data/Rasters/Polar_Sea_Ice/\"\n",
    "# Use 7: to not include the month's folder in the local file name\n",
    "arctic_file_name = arctic_file[7:]\n",
    "antarctic_file_name = antarctic_file[7:]\n",
    "\n",
    "local_arctic = local_folder+arctic_file_name\n",
    "local_antarctic = local_folder+antarctic_file_name\n",
    "\n",
    "local_arctic_edit = local_arctic[:-4] + \"_edit.tif\"\n",
    "local_antarctic_edit = local_antarctic[:-4] + \"_edit.tif\"\n",
    "\n",
    "with closing(req.urlopen(ftp_arctic)) as r:\n",
    "    with open(local_arctic, 'wb') as f:\n",
    "        shutil.copyfileobj(r, f)\n",
    "         \n",
    "with closing(req.urlopen(ftp_antarctic)) as r:\n",
    "    with open(local_antarctic, 'wb') as f:\n",
    "        shutil.copyfileobj(r, f)"
   ]
  },
  {
   "cell_type": "code",
   "execution_count": 131,
   "metadata": {
    "collapsed": false
   },
   "outputs": [
    {
     "name": "stdout",
     "output_type": "stream",
     "text": [
      "{'driver': 'GTiff', 'dtype': 'uint8', 'nodata': None, 'width': 304, 'height': 448, 'count': 1, 'crs': CRS({'init': 'epsg:3411'}), 'transform': (-3850000.0, 25000.0, 0.0, 5850000.0, 0.0, -25000.0), 'affine': Affine(25000.0, 0.0, -3850000.0,\n",
      "       0.0, -25000.0, 5850000.0), 'tiled': False, 'interleave': 'band'}\n",
      "{'driver': 'GTiff', 'dtype': 'uint8', 'nodata': None, 'width': 316, 'height': 332, 'count': 1, 'crs': CRS({'init': 'epsg:3412'}), 'transform': (-3950000.0, 25000.0, 0.0, 4350000.0, 0.0, -25000.0), 'affine': Affine(25000.0, 0.0, -3950000.0,\n",
      "       0.0, -25000.0, 4350000.0), 'tiled': False, 'interleave': 'band'}\n"
     ]
    },
    {
     "name": "stderr",
     "output_type": "stream",
     "text": [
      "/Users/nathansuberi/.pyenv/versions/3.6.0/lib/python3.6/site-packages/rasterio/__init__.py:160: FutureWarning: GDAL-style transforms are deprecated and will not be supported in Rasterio 1.0.\n",
      "  transform = guard_transform(transform)\n"
     ]
    }
   ],
   "source": [
    "with rio.open(local_arctic) as src:\n",
    "    pro = src.profile\n",
    "    print(pro)\n",
    "    data = src.read()\n",
    "    \n",
    "    pro.update(\n",
    "        compress = \"lzw\",\n",
    "        crs = \"EPSG:4326\"\n",
    "    )\n",
    "    \n",
    "    with rio.open(local_arctic_edit, 'w', **pro) as dst:\n",
    "        dst.write(data)\n",
    "        \n",
    "        \n",
    "with rio.open(local_antarctic) as src:\n",
    "    pro = src.profile\n",
    "    print(pro)\n",
    "    data = src.read()\n",
    "    \n",
    "    pro.update(\n",
    "        compress = \"lzw\",\n",
    "        crs = \"EPSG:4326\"\n",
    "    )\n",
    "    \n",
    "    with rio.open(local_antarctic_edit, 'w', **pro) as dst:\n",
    "        dst.write(data)"
   ]
  },
  {
   "cell_type": "code",
   "execution_count": 121,
   "metadata": {
    "collapsed": false
   },
   "outputs": [
    {
     "name": "stdout",
     "output_type": "stream",
     "text": [
      "{'driver': 'GTiff', 'dtype': 'uint8', 'nodata': None, 'width': 304, 'height': 448, 'count': 1, 'crs': CRS({'init': 'epsg:4326'}), 'transform': (-3850000.0, 25000.0, 0.0, 5850000.0, 0.0, -25000.0), 'affine': Affine(25000.0, 0.0, -3850000.0,\n",
      "       0.0, -25000.0, 5850000.0), 'compress': 'lzw', 'interleave': 'band', 'tiled': False}\n",
      "{'driver': 'GTiff', 'dtype': 'uint8', 'nodata': None, 'width': 316, 'height': 332, 'count': 1, 'crs': CRS({'init': 'epsg:4326'}), 'transform': (-3950000.0, 25000.0, 0.0, 4350000.0, 0.0, -25000.0), 'affine': Affine(25000.0, 0.0, -3950000.0,\n",
      "       0.0, -25000.0, 4350000.0), 'compress': 'lzw', 'interleave': 'band', 'tiled': False}\n"
     ]
    }
   ],
   "source": [
    "with rio.open(local_arctic_edit) as src:\n",
    "    pro = src.profile\n",
    "    print(pro)\n",
    "    \n",
    "with rio.open(local_antarctic_edit) as src:\n",
    "    pro = src.profile\n",
    "    print(pro)"
   ]
  },
  {
   "cell_type": "code",
   "execution_count": 127,
   "metadata": {
    "collapsed": true
   },
   "outputs": [],
   "source": [
    "### NOTE = THIS WILL KEEP REPLACING THE FILE WITH THE NEWEST VERSION\n",
    "\n",
    "# S3 destinations\n",
    "s3_bucket = \"wri-public-data\"\n",
    "s3_folder = \"resourcewatch/raster/\"\n",
    "\n",
    "s3_file_antarctic = \"cli_005_antarctic_sea_ice_extent.tif\"\n",
    "s3_key_antarctic_orig = s3_folder + s3_file_antarctic\n",
    "s3_key_antarctic_edit = s3_key_antarctic_orig[:-4] + \"_edit.tif\"\n",
    "\n",
    "s3_file_arctic = \"cli_006_arctic_sea_ice_extent.tif\"\n",
    "s3_key_arctic_orig = s3_folder + s3_file_arctic\n",
    "s3_key_arctic_edit = s3_key_arctic_orig[:-4] + \"_edit.tif\"\n",
    "\n",
    "# S3 services\n",
    "s3_download = boto3.resource(\"s3\")\n",
    "s3_upload = boto3.client(\"s3\")\n",
    "\n",
    "# Helper function to view upload progress\n",
    "class ProgressPercentage(object):\n",
    "        def __init__(self, filename):\n",
    "            self._filename = filename\n",
    "            self._size = float(os.path.getsize(filename))\n",
    "            self._seen_so_far = 0\n",
    "            self._lock = threading.Lock()\n",
    "\n",
    "        def __call__(self, bytes_amount):\n",
    "            # To simplify we'll assume this is hooked up\n",
    "            # to a single filename.\n",
    "            with self._lock:\n",
    "                self._seen_so_far += bytes_amount\n",
    "                percentage = (self._seen_so_far / self._size) * 100\n",
    "                sys.stdout.write(\n",
    "                    \"\\r%s  %s / %s  (%.2f%%)\" % (\n",
    "                        self._filename, self._seen_so_far, self._size,\n",
    "                        percentage))\n",
    "                sys.stdout.flush()"
   ]
  },
  {
   "cell_type": "code",
   "execution_count": 130,
   "metadata": {
    "collapsed": false
   },
   "outputs": [
    {
     "name": "stdout",
     "output_type": "stream",
     "text": [
      "/Users/nathansuberi/Desktop/RW_Data/Rasters/Polar_Sea_Ice/S_201708_extent_v2.1_edit.tif  5005 / 5005.0  (100.00%)"
     ]
    }
   ],
   "source": [
    "# Originals\n",
    "s3_upload.upload_file(local_arctic, s3_bucket, s3_key_arctic_orig,\n",
    "                         Callback=ProgressPercentage(local_arctic))\n",
    "\n",
    "s3_upload.upload_file(local_antarctic, s3_bucket, s3_key_antarctic_orig,\n",
    "                         Callback=ProgressPercentage(local_antarctic))\n",
    "\n",
    "# Edits\n",
    "s3_upload.upload_file(local_arctic_edit, s3_bucket, s3_key_arctic_edit,\n",
    "                         Callback=ProgressPercentage(local_arctic_edit))\n",
    "\n",
    "s3_upload.upload_file(local_antarctic_edit, s3_bucket, s3_key_antarctic_edit,\n",
    "                         Callback=ProgressPercentage(local_antarctic_edit))"
   ]
  },
  {
   "cell_type": "code",
   "execution_count": null,
   "metadata": {
    "collapsed": true
   },
   "outputs": [],
   "source": []
  },
  {
   "cell_type": "code",
   "execution_count": null,
   "metadata": {
    "collapsed": true
   },
   "outputs": [],
   "source": [
    "# Experimentation"
   ]
  },
  {
   "cell_type": "code",
   "execution_count": null,
   "metadata": {
    "collapsed": true
   },
   "outputs": [],
   "source": []
  },
  {
   "cell_type": "code",
   "execution_count": null,
   "metadata": {
    "collapsed": true
   },
   "outputs": [],
   "source": [
    "# Convert .nc to .tif\n",
    "\n",
    "# Code from Rutger Hofste\n",
    "\n",
    "def netCDF4toGeotiff(fileName,fileLocation, lat_var, lon_var):\n",
    "    netCDFInputBaseName = fileName.split('.')[0]\n",
    "    nc_fid = Dataset(fileLocation, 'r')\n",
    "    nc_attrs, nc_dims, nc_vars = ncdump(nc_fid, PRINT_METADATA)\n",
    "    parameter = nc_vars[3]\n",
    "    lats = nc_fid.variables[lat_var][:]  # extract/copy the data\n",
    "    lons = nc_fid.variables[lon_var][:]\n",
    "    times = nc_fid.variables['time'][:]\n",
    "    timeUnit = nc_fid.variables[\"time\"].getncattr(\"units\")\n",
    "    timeNormal =[]\n",
    "    for time in times:\n",
    "        if timeUnit == (\"days since 1900-01-01 00:00:00\") or (timeUnit ==\"Days since 1900-01-01\"):\n",
    "            timeNormal.append(datetime.datetime(1900,1,1) + datetime.timedelta(days=time))\n",
    "        elif timeUnit == \"days since 1901-01-01 00:00:00\":\n",
    "            timeNormal.append(datetime.datetime(1901,1,1) + datetime.timedelta(days=time))\n",
    "        else:\n",
    "            print \"Error\"\n",
    "            timeNormal.append(-9999)\n",
    "            \n",
    "    for i in range(0,len(timeNormal)):\n",
    "        #print timeNormal[i].year\n",
    "        Z = nc_fid.variables[parameter][i, :, :]\n",
    "        Z[Z<-9990]= -9999\n",
    "        Z[Z>1e19] = -9999\n",
    "        outputFilename = netCDFInputBaseName + \"I%0.3dY%0.2dM%0.2d.tif\" %(i,timeNormal[i].year,timeNormal[i].month)\n",
    "        writefilename = os.path.join(EC2_OUTPUTPATH,outputFilename)\n",
    "        writeFile(writefilename,geotransform,geoproj,Z)\n",
    "    \n",
    "    return time, timeUnit, timeNormal\n",
    "\n",
    "def readFile(filename):\n",
    "    filehandle = gdal.Open(filename)\n",
    "    band1 = filehandle.GetRasterBand(1)\n",
    "    geotransform = filehandle.GetGeoTransform()\n",
    "    geoproj = filehandle.GetProjection()\n",
    "    Z = band1.ReadAsArray()\n",
    "    xsize = filehandle.RasterXSize\n",
    "    ysize = filehandle.RasterYSize\n",
    "    filehandle = None\n",
    "    return xsize,ysize,geotransform,geoproj,Z\n",
    "\n",
    "def writeFile(filename,geotransform,geoprojection,data):\n",
    "    (x,y) = data.shape\n",
    "    format = \"GTiff\"\n",
    "    driver = gdal.GetDriverByName(format)\n",
    "    # you can change the dataformat but be sure to be able to store negative values including -9999\n",
    "    dst_datatype = gdal.GDT_Float32\n",
    "    dst_ds = driver.Create(filename,y,x,1,dst_datatype, [ 'COMPRESS=LZW' ])\n",
    "    dst_ds.GetRasterBand(1).SetNoDataValue(-9999)\n",
    "    dst_ds.GetRasterBand(1).WriteArray(data)\n",
    "    dst_ds.SetGeoTransform(geotransform)\n",
    "    dst_ds.SetProjection(geoprojection)\n",
    "    dst_ds = None\n",
    "    return 1\n",
    "\n",
    "def ncdump(nc_fid, verb=True):\n",
    "    '''\n",
    "    ncdump outputs dimensions, variables and their attribute information.\n",
    "    The information is similar to that of NCAR's ncdump utility.\n",
    "    ncdump requires a valid instance of Dataset.\n",
    "\n",
    "    Parameters\n",
    "    ----------\n",
    "    nc_fid : netCDF4.Dataset\n",
    "        A netCDF4 dateset object\n",
    "    verb : Boolean\n",
    "        whether or not nc_attrs, nc_dims, and nc_vars are printed\n",
    "\n",
    "    Returns\n",
    "    -------\n",
    "    nc_attrs : list\n",
    "        A Python list of the NetCDF file global attributes\n",
    "    nc_dims : list\n",
    "        A Python list of the NetCDF file dimensions\n",
    "    nc_vars : list\n",
    "        A Python list of the NetCDF file variables\n",
    "    '''\n",
    "    def print_ncattr(key):\n",
    "        \"\"\"\n",
    "        Prints the NetCDF file attributes for a given key\n",
    "\n",
    "        Parameters\n",
    "        ----------\n",
    "        key : unicode\n",
    "            a valid netCDF4.Dataset.variables key\n",
    "        \"\"\"\n",
    "        try:\n",
    "            print \"\\t\\ttype:\", repr(nc_fid.variables[key].dtype)\n",
    "            for ncattr in nc_fid.variables[key].ncattrs():\n",
    "                print '\\t\\t%s:' % ncattr,\\\n",
    "                      repr(nc_fid.variables[key].getncattr(ncattr))\n",
    "        except KeyError:\n",
    "            print \"\\t\\tWARNING: %s does not contain variable attributes\" % key\n",
    "\n",
    "    # NetCDF global attributes\n",
    "    nc_attrs = nc_fid.ncattrs()\n",
    "    if verb:\n",
    "        print \"NetCDF Global Attributes:\"\n",
    "        for nc_attr in nc_attrs:\n",
    "            print '\\t%s:' % nc_attr, repr(nc_fid.getncattr(nc_attr))\n",
    "    nc_dims = [dim for dim in nc_fid.dimensions]  # list of nc dimensions\n",
    "    # Dimension shape information.\n",
    "    if verb:\n",
    "        print \"NetCDF dimension information:\"\n",
    "        for dim in nc_dims:\n",
    "            print \"\\tName:\", dim\n",
    "            print \"\\t\\tsize:\", len(nc_fid.dimensions[dim])\n",
    "            print_ncattr(dim)\n",
    "    # Variable information.\n",
    "    nc_vars = [var for var in nc_fid.variables]  # list of nc variables\n",
    "    if verb:\n",
    "        print \"NetCDF variable information:\"\n",
    "        for var in nc_vars:\n",
    "            if var not in nc_dims:\n",
    "                print '\\tName:', var\n",
    "                print \"\\t\\tdimensions:\", nc_fid.variables[var].dimensions\n",
    "                print \"\\t\\tsize:\", nc_fid.variables[var].size\n",
    "                print_ncattr(var)\n",
    "    return nc_attrs, nc_dims, nc_vars"
   ]
  }
 ],
 "metadata": {
  "kernelspec": {
   "display_name": "Python 3",
   "language": "python",
   "name": "python3"
  },
  "language_info": {
   "codemirror_mode": {
    "name": "ipython",
    "version": 3
   },
   "file_extension": ".py",
   "mimetype": "text/x-python",
   "name": "python",
   "nbconvert_exporter": "python",
   "pygments_lexer": "ipython3",
   "version": "3.6.0"
  }
 },
 "nbformat": 4,
 "nbformat_minor": 2
}
