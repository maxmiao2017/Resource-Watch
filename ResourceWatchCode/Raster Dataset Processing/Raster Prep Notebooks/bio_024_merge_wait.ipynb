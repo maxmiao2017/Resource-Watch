{
 "cells": [
  {
   "cell_type": "code",
   "execution_count": 1,
   "metadata": {
    "collapsed": true
   },
   "outputs": [],
   "source": [
    "import numpy as np\n",
    "import pandas as pd\n",
    "import rasterio\n",
    "\n",
    "import boto3\n",
    "import requests as req\n",
    "\n",
    "from matplotlib import pyplot as plt\n",
    "%matplotlib inline\n",
    "import os\n",
    "import sys\n",
    "import threading"
   ]
  },
  {
   "cell_type": "markdown",
   "metadata": {},
   "source": [
    "Download all necessary files from s3 to local"
   ]
  },
  {
   "cell_type": "code",
   "execution_count": 29,
   "metadata": {
    "collapsed": false
   },
   "outputs": [
    {
     "name": "stdout",
     "output_type": "stream",
     "text": [
      "mkdir: staging: File exists\r\n"
     ]
    }
   ],
   "source": [
    "!mkdir staging\n",
    "os.chdir(\"staging\")\n",
    "\n",
    "s3 = boto3.resource(\"s3\")\n",
    "\n",
    "list_of_files = [\n",
    "    'bio_024_1_coral_reef_threat_from_coastal_development/bio_024_1_coral_reef_threat_from_coastal_development_edit.tif',\n",
    "    'bio_024_2_coral_reef_threat_from_marine_pollution/bio_024_2_coral_reef_threat_from_marine_pollution_edit.tif',\n",
    "    'bio_024_3_coral_reef_threat_from_watershed_pollution/bio_024_3_coral_reef_threat_from_watershed_pollution_edit.tif',\n",
    "    'bio_024_4_coral_reef_threat_from_fishing_practices/bio_024_4_coral_reef_threat_from_fishing_practices_edit.tif',\n",
    "    'bio_024_5_coral_reef_integrated_local_threats/bio_024_5_coral_reef_integrated_local_threats_edit.tif'\n",
    "]\n",
    "\n",
    "s3_bucket = \"wri-public-data\"\n",
    "s3_folder = \"resourcewatch/\"\n",
    "\n",
    "# for file in list_of_files:\n",
    "#     s3.meta.client.download_file(s3_bucket, s3_folder + file, file.split('/')[1]"
   ]
  },
  {
   "cell_type": "code",
   "execution_count": 2,
   "metadata": {
    "collapsed": true
   },
   "outputs": [],
   "source": [
    "s3_bucket = \"wri-public-data\"\n",
    "s3_folder = \"resourcewatch/bio_024_local_threats_to_coral_reefs_merge/\"\n",
    "s3_file = \"bio_024_local_threats_to_coral_reefs_merge.tif\"\n",
    "\n",
    "s3_key_orig = s3_folder + s3_file"
   ]
  },
  {
   "cell_type": "code",
   "execution_count": null,
   "metadata": {
    "collapsed": true
   },
   "outputs": [],
   "source": [
    "local_threats_to_coral_reefs_merge = \"./local_threats_to_coral_reefs_merge.tif\"\n",
    "\n",
    "for band, file in enumerate(list_of_files):\n",
    "    with rasterio.open('./' + file.split('/')[1]) as local_threat:\n",
    "        kwargs = local_threat.meta\n",
    "        kwargs.update(\n",
    "            driver='GTiff',\n",
    "            count=len(list_of_files),\n",
    "            compress='lzw',\n",
    "            nodata=-1,\n",
    "            bigtiff='NO' \n",
    "        )\n",
    "\n",
    "        windows = amphib_src.block_windows(1)\n",
    "        \n",
    "        with rasterio.open(merged_amphib_mammal_threats,'w',**kwargs) as dst:\n",
    "            for idx, window in windows:\n",
    "                local_threat_data = local_threat.read(1, window=window)\n",
    "                np.putmask(local_threat_data, local_threat_data > 2000000.0, -1)\n",
    "                dst.write_band(band, local_threat_data, window=window)\n"
   ]
  },
  {
   "cell_type": "code",
   "execution_count": null,
   "metadata": {
    "collapsed": true
   },
   "outputs": [],
   "source": [
    "# Upload to S3"
   ]
  }
 ],
 "metadata": {
  "kernelspec": {
   "display_name": "Python 3",
   "language": "python",
   "name": "python3"
  },
  "language_info": {
   "codemirror_mode": {
    "name": "ipython",
    "version": 3
   },
   "file_extension": ".py",
   "mimetype": "text/x-python",
   "name": "python",
   "nbconvert_exporter": "python",
   "pygments_lexer": "ipython3",
   "version": "3.6.0"
  }
 },
 "nbformat": 4,
 "nbformat_minor": 2
}
