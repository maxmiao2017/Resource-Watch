{
 "cells": [
  {
   "cell_type": "code",
   "execution_count": 30,
   "metadata": {
    "collapsed": true
   },
   "outputs": [],
   "source": [
    "import rasterio as rio\n",
    "import os\n",
    "\n",
    "import boto3\n",
    "import threading\n",
    "import sys"
   ]
  },
  {
   "cell_type": "code",
   "execution_count": 9,
   "metadata": {
    "collapsed": false
   },
   "outputs": [],
   "source": [
    "root = \"/Users/nathansuberi/Desktop/RW_Data/CHIRPS\"\n",
    "os.chdir(root)"
   ]
  },
  {
   "cell_type": "code",
   "execution_count": 48,
   "metadata": {
    "collapsed": false
   },
   "outputs": [
    {
     "data": {
      "text/plain": [
       "['CHIRPS_spi_2006-01-01_2006-12-31_vs_1981-2006_-50p0000to50p0000N_180p0000to-180p0000E',\n",
       " 'CHIRPS_spi_2007-01-01_2007-12-31_vs_1981-2006_-50p0000to50p0000N_180p0000to-180p0000E',\n",
       " 'CHIRPS_spi_2008-01-01_2008-12-31_vs_1981-2006_-50p0000to50p0000N_180p0000to-180p0000E',\n",
       " 'CHIRPS_spi_2009-01-01_2009-12-31_vs_1981-2006_-50p0000to50p0000N_180p0000to-180p0000E',\n",
       " 'CHIRPS_spi_2010-01-01_2010-12-31_vs_1981-2006_-50p0000to50p0000N_180p0000to-180p0000E',\n",
       " 'CHIRPS_spi_2011-01-01_2011-12-31_vs_1981-2006_-50p0000to50p0000N_180p0000to-180p0000E',\n",
       " 'CHIRPS_spi_2012-01-01_2012-12-31_vs_1981-2006_-50p0000to50p0000N_180p0000to-180p0000E',\n",
       " 'CHIRPS_spi_2013-01-01_2013-12-31_vs_1981-2006_-50p0000to50p0000N_180p0000to-180p0000E',\n",
       " 'CHIRPS_spi_2014-01-01_2014-12-31_vs_1981-2006_-50p0000to50p0000N_180p0000to-180p0000E',\n",
       " 'CHIRPS_spi_2015-01-01_2015-12-31_vs_1981-2006_-50p0000to50p0000N_180p0000to-180p0000E',\n",
       " 'merged_SPI_data.tif']"
      ]
     },
     "execution_count": 48,
     "metadata": {},
     "output_type": "execute_result"
    }
   ],
   "source": [
    "folders = os.listdir()[1:]\n",
    "folders"
   ]
  },
  {
   "cell_type": "code",
   "execution_count": 10,
   "metadata": {
    "collapsed": false
   },
   "outputs": [],
   "source": [
    "files = [root + '/' + file + '/' + file + \".precipitation.tif\" for file in folders]\n"
   ]
  },
  {
   "cell_type": "code",
   "execution_count": 49,
   "metadata": {
    "collapsed": true
   },
   "outputs": [
    {
     "data": {
      "text/plain": [
       "['/Users/nathansuberi/Desktop/RW_Data/CHIRPS/CHIRPS_spi_2006-01-01_2006-12-31_vs_1981-2006_-50p0000to50p0000N_180p0000to-180p0000E/CHIRPS_spi_2006-01-01_2006-12-31_vs_1981-2006_-50p0000to50p0000N_180p0000to-180p0000E.precipitation.tif',\n",
       " '/Users/nathansuberi/Desktop/RW_Data/CHIRPS/CHIRPS_spi_2007-01-01_2007-12-31_vs_1981-2006_-50p0000to50p0000N_180p0000to-180p0000E/CHIRPS_spi_2007-01-01_2007-12-31_vs_1981-2006_-50p0000to50p0000N_180p0000to-180p0000E.precipitation.tif',\n",
       " '/Users/nathansuberi/Desktop/RW_Data/CHIRPS/CHIRPS_spi_2008-01-01_2008-12-31_vs_1981-2006_-50p0000to50p0000N_180p0000to-180p0000E/CHIRPS_spi_2008-01-01_2008-12-31_vs_1981-2006_-50p0000to50p0000N_180p0000to-180p0000E.precipitation.tif',\n",
       " '/Users/nathansuberi/Desktop/RW_Data/CHIRPS/CHIRPS_spi_2009-01-01_2009-12-31_vs_1981-2006_-50p0000to50p0000N_180p0000to-180p0000E/CHIRPS_spi_2009-01-01_2009-12-31_vs_1981-2006_-50p0000to50p0000N_180p0000to-180p0000E.precipitation.tif',\n",
       " '/Users/nathansuberi/Desktop/RW_Data/CHIRPS/CHIRPS_spi_2010-01-01_2010-12-31_vs_1981-2006_-50p0000to50p0000N_180p0000to-180p0000E/CHIRPS_spi_2010-01-01_2010-12-31_vs_1981-2006_-50p0000to50p0000N_180p0000to-180p0000E.precipitation.tif',\n",
       " '/Users/nathansuberi/Desktop/RW_Data/CHIRPS/CHIRPS_spi_2011-01-01_2011-12-31_vs_1981-2006_-50p0000to50p0000N_180p0000to-180p0000E/CHIRPS_spi_2011-01-01_2011-12-31_vs_1981-2006_-50p0000to50p0000N_180p0000to-180p0000E.precipitation.tif',\n",
       " '/Users/nathansuberi/Desktop/RW_Data/CHIRPS/CHIRPS_spi_2012-01-01_2012-12-31_vs_1981-2006_-50p0000to50p0000N_180p0000to-180p0000E/CHIRPS_spi_2012-01-01_2012-12-31_vs_1981-2006_-50p0000to50p0000N_180p0000to-180p0000E.precipitation.tif',\n",
       " '/Users/nathansuberi/Desktop/RW_Data/CHIRPS/CHIRPS_spi_2013-01-01_2013-12-31_vs_1981-2006_-50p0000to50p0000N_180p0000to-180p0000E/CHIRPS_spi_2013-01-01_2013-12-31_vs_1981-2006_-50p0000to50p0000N_180p0000to-180p0000E.precipitation.tif',\n",
       " '/Users/nathansuberi/Desktop/RW_Data/CHIRPS/CHIRPS_spi_2014-01-01_2014-12-31_vs_1981-2006_-50p0000to50p0000N_180p0000to-180p0000E/CHIRPS_spi_2014-01-01_2014-12-31_vs_1981-2006_-50p0000to50p0000N_180p0000to-180p0000E.precipitation.tif',\n",
       " '/Users/nathansuberi/Desktop/RW_Data/CHIRPS/CHIRPS_spi_2015-01-01_2015-12-31_vs_1981-2006_-50p0000to50p0000N_180p0000to-180p0000E/CHIRPS_spi_2015-01-01_2015-12-31_vs_1981-2006_-50p0000to50p0000N_180p0000to-180p0000E.precipitation.tif']"
      ]
     },
     "execution_count": 49,
     "metadata": {},
     "output_type": "execute_result"
    }
   ],
   "source": [
    "files"
   ]
  },
  {
   "cell_type": "code",
   "execution_count": 23,
   "metadata": {
    "collapsed": false
   },
   "outputs": [
    {
     "name": "stdout",
     "output_type": "stream",
     "text": [
      "{'driver': 'GTiff', 'dtype': 'float64', 'nodata': None, 'width': 8350, 'height': 2320, 'count': 1, 'crs': CRS({'init': 'epsg:4326'}), 'transform': Affine(0.043119133637737034, 0.0, -180.02238293755212,\n",
      "       0.0, -0.043119133637737034, 50.01819501977496), 'tiled': False, 'interleave': 'band'}\n"
     ]
    }
   ],
   "source": [
    "with rio.open(files[0], 'r') as src:\n",
    "    profile = src.profile\n",
    "    print(profile)"
   ]
  },
  {
   "cell_type": "code",
   "execution_count": 19,
   "metadata": {
    "collapsed": true
   },
   "outputs": [],
   "source": [
    "file_edits = [file[:-4] + \"_edit.tif\" for file in files]\n",
    "merge_file = root + '/merged_SPI_data.tif'\n",
    "band_names = list(range(2006, 2016))"
   ]
  },
  {
   "cell_type": "code",
   "execution_count": 27,
   "metadata": {
    "collapsed": false
   },
   "outputs": [
    {
     "name": "stdout",
     "output_type": "stream",
     "text": [
      "/Users/nathansuberi/Desktop/RW_Data/CHIRPS/CHIRPS_spi_2006-01-01_2006-12-31_vs_1981-2006_-50p0000to50p0000N_180p0000to-180p0000E/CHIRPS_spi_2006-01-01_2006-12-31_vs_1981-2006_-50p0000to50p0000N_180p0000to-180p0000E.precipitation.tif\n",
      "/Users/nathansuberi/Desktop/RW_Data/CHIRPS/CHIRPS_spi_2007-01-01_2007-12-31_vs_1981-2006_-50p0000to50p0000N_180p0000to-180p0000E/CHIRPS_spi_2007-01-01_2007-12-31_vs_1981-2006_-50p0000to50p0000N_180p0000to-180p0000E.precipitation.tif\n",
      "/Users/nathansuberi/Desktop/RW_Data/CHIRPS/CHIRPS_spi_2008-01-01_2008-12-31_vs_1981-2006_-50p0000to50p0000N_180p0000to-180p0000E/CHIRPS_spi_2008-01-01_2008-12-31_vs_1981-2006_-50p0000to50p0000N_180p0000to-180p0000E.precipitation.tif\n",
      "/Users/nathansuberi/Desktop/RW_Data/CHIRPS/CHIRPS_spi_2009-01-01_2009-12-31_vs_1981-2006_-50p0000to50p0000N_180p0000to-180p0000E/CHIRPS_spi_2009-01-01_2009-12-31_vs_1981-2006_-50p0000to50p0000N_180p0000to-180p0000E.precipitation.tif\n",
      "/Users/nathansuberi/Desktop/RW_Data/CHIRPS/CHIRPS_spi_2010-01-01_2010-12-31_vs_1981-2006_-50p0000to50p0000N_180p0000to-180p0000E/CHIRPS_spi_2010-01-01_2010-12-31_vs_1981-2006_-50p0000to50p0000N_180p0000to-180p0000E.precipitation.tif\n",
      "/Users/nathansuberi/Desktop/RW_Data/CHIRPS/CHIRPS_spi_2011-01-01_2011-12-31_vs_1981-2006_-50p0000to50p0000N_180p0000to-180p0000E/CHIRPS_spi_2011-01-01_2011-12-31_vs_1981-2006_-50p0000to50p0000N_180p0000to-180p0000E.precipitation.tif\n",
      "/Users/nathansuberi/Desktop/RW_Data/CHIRPS/CHIRPS_spi_2012-01-01_2012-12-31_vs_1981-2006_-50p0000to50p0000N_180p0000to-180p0000E/CHIRPS_spi_2012-01-01_2012-12-31_vs_1981-2006_-50p0000to50p0000N_180p0000to-180p0000E.precipitation.tif\n",
      "/Users/nathansuberi/Desktop/RW_Data/CHIRPS/CHIRPS_spi_2013-01-01_2013-12-31_vs_1981-2006_-50p0000to50p0000N_180p0000to-180p0000E/CHIRPS_spi_2013-01-01_2013-12-31_vs_1981-2006_-50p0000to50p0000N_180p0000to-180p0000E.precipitation.tif\n",
      "/Users/nathansuberi/Desktop/RW_Data/CHIRPS/CHIRPS_spi_2014-01-01_2014-12-31_vs_1981-2006_-50p0000to50p0000N_180p0000to-180p0000E/CHIRPS_spi_2014-01-01_2014-12-31_vs_1981-2006_-50p0000to50p0000N_180p0000to-180p0000E.precipitation.tif\n",
      "/Users/nathansuberi/Desktop/RW_Data/CHIRPS/CHIRPS_spi_2015-01-01_2015-12-31_vs_1981-2006_-50p0000to50p0000N_180p0000to-180p0000E/CHIRPS_spi_2015-01-01_2015-12-31_vs_1981-2006_-50p0000to50p0000N_180p0000to-180p0000E.precipitation.tif\n"
     ]
    }
   ],
   "source": [
    "profile_edit = profile.copy()\n",
    "profile_edit.update(compress=\"lzw\")\n",
    "\n",
    "# Create compressed edit files\n",
    "for ix, file in enumerate(files):\n",
    "    print(file)\n",
    "    with rio.open(file, \"r\") as src:\n",
    "        with rio.open(file_edits[ix], \"w\", **profile_edit) as dst:\n",
    "            src_data = src.read(indexes=1)\n",
    "            dst.write(src_data, indexes=1)"
   ]
  },
  {
   "cell_type": "code",
   "execution_count": 28,
   "metadata": {
    "collapsed": false
   },
   "outputs": [
    {
     "name": "stdout",
     "output_type": "stream",
     "text": [
      "/Users/nathansuberi/Desktop/RW_Data/CHIRPS/CHIRPS_spi_2006-01-01_2006-12-31_vs_1981-2006_-50p0000to50p0000N_180p0000to-180p0000E/CHIRPS_spi_2006-01-01_2006-12-31_vs_1981-2006_-50p0000to50p0000N_180p0000to-180p0000E.precipitation_edit.tif\n",
      "/Users/nathansuberi/Desktop/RW_Data/CHIRPS/CHIRPS_spi_2007-01-01_2007-12-31_vs_1981-2006_-50p0000to50p0000N_180p0000to-180p0000E/CHIRPS_spi_2007-01-01_2007-12-31_vs_1981-2006_-50p0000to50p0000N_180p0000to-180p0000E.precipitation_edit.tif\n",
      "/Users/nathansuberi/Desktop/RW_Data/CHIRPS/CHIRPS_spi_2008-01-01_2008-12-31_vs_1981-2006_-50p0000to50p0000N_180p0000to-180p0000E/CHIRPS_spi_2008-01-01_2008-12-31_vs_1981-2006_-50p0000to50p0000N_180p0000to-180p0000E.precipitation_edit.tif\n",
      "/Users/nathansuberi/Desktop/RW_Data/CHIRPS/CHIRPS_spi_2009-01-01_2009-12-31_vs_1981-2006_-50p0000to50p0000N_180p0000to-180p0000E/CHIRPS_spi_2009-01-01_2009-12-31_vs_1981-2006_-50p0000to50p0000N_180p0000to-180p0000E.precipitation_edit.tif\n",
      "/Users/nathansuberi/Desktop/RW_Data/CHIRPS/CHIRPS_spi_2010-01-01_2010-12-31_vs_1981-2006_-50p0000to50p0000N_180p0000to-180p0000E/CHIRPS_spi_2010-01-01_2010-12-31_vs_1981-2006_-50p0000to50p0000N_180p0000to-180p0000E.precipitation_edit.tif\n",
      "/Users/nathansuberi/Desktop/RW_Data/CHIRPS/CHIRPS_spi_2011-01-01_2011-12-31_vs_1981-2006_-50p0000to50p0000N_180p0000to-180p0000E/CHIRPS_spi_2011-01-01_2011-12-31_vs_1981-2006_-50p0000to50p0000N_180p0000to-180p0000E.precipitation_edit.tif\n",
      "/Users/nathansuberi/Desktop/RW_Data/CHIRPS/CHIRPS_spi_2012-01-01_2012-12-31_vs_1981-2006_-50p0000to50p0000N_180p0000to-180p0000E/CHIRPS_spi_2012-01-01_2012-12-31_vs_1981-2006_-50p0000to50p0000N_180p0000to-180p0000E.precipitation_edit.tif\n",
      "/Users/nathansuberi/Desktop/RW_Data/CHIRPS/CHIRPS_spi_2013-01-01_2013-12-31_vs_1981-2006_-50p0000to50p0000N_180p0000to-180p0000E/CHIRPS_spi_2013-01-01_2013-12-31_vs_1981-2006_-50p0000to50p0000N_180p0000to-180p0000E.precipitation_edit.tif\n",
      "/Users/nathansuberi/Desktop/RW_Data/CHIRPS/CHIRPS_spi_2014-01-01_2014-12-31_vs_1981-2006_-50p0000to50p0000N_180p0000to-180p0000E/CHIRPS_spi_2014-01-01_2014-12-31_vs_1981-2006_-50p0000to50p0000N_180p0000to-180p0000E.precipitation_edit.tif\n",
      "/Users/nathansuberi/Desktop/RW_Data/CHIRPS/CHIRPS_spi_2015-01-01_2015-12-31_vs_1981-2006_-50p0000to50p0000N_180p0000to-180p0000E/CHIRPS_spi_2015-01-01_2015-12-31_vs_1981-2006_-50p0000to50p0000N_180p0000to-180p0000E.precipitation_edit.tif\n"
     ]
    }
   ],
   "source": [
    "profile_merge = profile.copy()\n",
    "profile.update(count=len(files), compress=\"lzw\", bands = band_names)\n",
    "\n",
    "with rio.open(merge_file, \"w\", **profile) as dst:\n",
    "    for ix, file in enumerate(file_edits):\n",
    "        print(file)\n",
    "        with rio.open(file, \"r\") as src:\n",
    "            src_data = src.read(indexes=1)\n",
    "            dst.write(src_data, indexes=ix+1)"
   ]
  },
  {
   "cell_type": "code",
   "execution_count": 29,
   "metadata": {
    "collapsed": false
   },
   "outputs": [
    {
     "name": "stdout",
     "output_type": "stream",
     "text": [
      "{'driver': 'GTiff', 'dtype': 'float64', 'nodata': None, 'width': 8350, 'height': 2320, 'count': 10, 'crs': CRS({'init': 'epsg:4326'}), 'transform': Affine(0.043119133637737034, 0.0, -180.02238293755212,\n",
      "       0.0, -0.043119133637737034, 50.01819501977496), 'bands': '[2006, 2007, 2008, 2009, 2010, 2011, 2012, 2013, 2014, 2015]', 'compress': 'lzw', 'interleave': 'band', 'tiled': False}\n"
     ]
    }
   ],
   "source": [
    "with rio.open(merge_file, \"r\") as src:\n",
    "    print(src.profile)"
   ]
  },
  {
   "cell_type": "code",
   "execution_count": 31,
   "metadata": {
    "collapsed": true
   },
   "outputs": [],
   "source": [
    "s3_upload = boto3.client(\"s3\")\n",
    "s3_download = boto3.resource(\"s3\")\n",
    "\n",
    "s3_bucket = \"wri-public-data\"\n",
    "s3_folder = \"resourcewatch/raster/cli_023_CHIRPS_SPI/\"\n",
    "\n",
    "s3_key_merge = s3_folder + \"cli_023_CHIRPS_SPI_2006_to_2015_annual_merge.tif\"\n",
    "\n",
    "class ProgressPercentage(object):\n",
    "        def __init__(self, filename):\n",
    "            self._filename = filename\n",
    "            self._size = float(os.path.getsize(filename))\n",
    "            self._seen_so_far = 0\n",
    "            self._lock = threading.Lock()\n",
    "\n",
    "        def __call__(self, bytes_amount):\n",
    "            # To simplify we'll assume this is hooked up\n",
    "            # to a single filename.\n",
    "            with self._lock:\n",
    "                self._seen_so_far += bytes_amount\n",
    "                percentage = (self._seen_so_far / self._size) * 100\n",
    "                sys.stdout.write(\"\\r%s  %s / %s  (%.2f%%)\"%(\n",
    "                        self._filename, self._seen_so_far, self._size,\n",
    "                        percentage))\n",
    "                sys.stdout.flush()"
   ]
  },
  {
   "cell_type": "code",
   "execution_count": 32,
   "metadata": {
    "collapsed": false
   },
   "outputs": [
    {
     "name": "stdout",
     "output_type": "stream",
     "text": [
      "/Users/nathansuberi/Desktop/RW_Data/CHIRPS/merged_SPI_data.tif  507365056 / 507365056.0  (100.00%)"
     ]
    }
   ],
   "source": [
    "# Edit\n",
    "s3_upload.upload_file(merge_file, s3_bucket, s3_key_merge,\n",
    "                         Callback=ProgressPercentage(merge_file))"
   ]
  },
  {
   "cell_type": "code",
   "execution_count": 33,
   "metadata": {
    "collapsed": false
   },
   "outputs": [
    {
     "name": "stdout",
     "output_type": "stream",
     "text": [
      "Non-MD5 etag (\"1dab5c7e0e0344ffe98bdfde63656e20-61\") present for key <Key: wri-public-data,resourcewatch/raster/cli_023_CHIRPS_SPI/cli_023_CHIRPS_SPI_2006_to_2015_annual_merge.tif>, data integrity checks are not possible.\n",
      "Copying s3://wri-public-data/resourcewatch/raster/cli_023_CHIRPS_SPI/cli_023_CHIRPS_SPI_2006_to_2015_annual_merge.tif [Content-Type=binary/octet-stream]...\n",
      "WARNING: Found no hashes to validate object downloaded from s3://wri-public-data/resourcewatch/raster/cli_023_CHIRPS_SPI/cli_023_CHIRPS_SPI_2006_to_2015_annual_merge.tif and uploaded to gs://resource-watch-public/resourcewatch/raster/cli_023_CHIRPS_SPI/cli_023_CHIRPS_SPI_2006_to_2015_annual_merge.tif. Integrity cannot be assured without hashes.\n",
      "| [1 files][483.9 MiB/483.9 MiB]   10.9 MiB/s                                   \n",
      "Operation completed over 1 objects/483.9 MiB.                                    \n"
     ]
    }
   ],
   "source": [
    "os.environ[\"s3_key\"] = \"s3://\" + s3_bucket + \"/\" + s3_key_merge\n",
    "os.environ[\"gs_key\"] = \"gs://resource-watch-public/\" + s3_key_merge\n",
    "os.environ[\"asset_id\"] = \"users/resourcewatch/cli_023_CHIRPS_2006_to_2015_annual_SPI\"\n",
    "\n",
    "!gsutil cp $s3_key $gs_key"
   ]
  },
  {
   "cell_type": "code",
   "execution_count": 34,
   "metadata": {
    "collapsed": false
   },
   "outputs": [
    {
     "name": "stdout",
     "output_type": "stream",
     "text": [
      "Started upload task with ID: BNRLA2TNA2PIBO7GLRBQFYWD\r\n"
     ]
    }
   ],
   "source": [
    "!earthengine upload image --asset_id=$asset_id $gs_key"
   ]
  },
  {
   "cell_type": "code",
   "execution_count": 37,
   "metadata": {
    "collapsed": false
   },
   "outputs": [
    {
     "name": "stdout",
     "output_type": "stream",
     "text": [
      "BNRLA2TNA2PIBO7GLRBQFYWD:\r\n",
      "  State: COMPLETED\r\n",
      "  Type: Upload\r\n",
      "  Description: Asset ingestion: users/resourcewatch/cli_023_CHIRPS_2006_to_2015_annual_SPI\r\n",
      "  Created: 2017-10-05 09:51:02.627000\r\n",
      "  Started: 2017-10-05 09:51:05.831000\r\n",
      "  Updated: 2017-10-05 10:02:54.841000\r\n"
     ]
    }
   ],
   "source": [
    "!earthengine task info BNRLA2TNA2PIBO7GLRBQFYWD"
   ]
  },
  {
   "cell_type": "code",
   "execution_count": 36,
   "metadata": {
    "collapsed": true
   },
   "outputs": [],
   "source": [
    "os.environ[\"bandnames\"] = str(band_names)\n",
    "!earthengine asset set -p \"(string)bandname=$bandnames\" users/resourcewatch/cli_023_CHIRPS_2006_to_2015_annual_SPI"
   ]
  }
 ],
 "metadata": {
  "kernelspec": {
   "display_name": "Python 3",
   "language": "python",
   "name": "python3"
  },
  "language_info": {
   "codemirror_mode": {
    "name": "ipython",
    "version": 3
   },
   "file_extension": ".py",
   "mimetype": "text/x-python",
   "name": "python",
   "nbconvert_exporter": "python",
   "pygments_lexer": "ipython3",
   "version": "3.6.0"
  }
 },
 "nbformat": 4,
 "nbformat_minor": 2
}
