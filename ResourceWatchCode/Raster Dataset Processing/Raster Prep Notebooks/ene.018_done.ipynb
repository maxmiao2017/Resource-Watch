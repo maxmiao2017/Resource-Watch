{
 "cells": [
  {
   "cell_type": "markdown",
   "metadata": {},
   "source": [
    "Global Wind Speed at 80 Meters\tene.018\thttp://www.vaisala.com/en/energy/Renewable-Energy-Consulting-Services/Wind-Energy-Assessment-Services/Pages/Wind-Maps-and-GIS-Layers.aspx"
   ]
  },
  {
   "cell_type": "markdown",
   "metadata": {},
   "source": [
    "Import libraries"
   ]
  },
  {
   "cell_type": "code",
   "execution_count": null,
   "metadata": {
    "collapsed": true
   },
   "outputs": [],
   "source": [
    "# Libraries for downloading data from remote server (may be ftp)\n",
    "import requests\n",
    "from urllib.request import urlopen\n",
    "from contextlib import closing\n",
    "import shutil\n",
    "\n",
    "# Library for uploading/downloading data to/from S3\n",
    "import boto3\n",
    "\n",
    "# Libraries for handling data\n",
    "import rasterio as rio\n",
    "import numpy as np\n",
    "# from netCDF4 import Dataset\n",
    "# import pandas as pd\n",
    "# import scipy\n",
    "\n",
    "# Libraries for various helper functions\n",
    "# from datetime import datetime\n",
    "import os\n",
    "import threading\n",
    "import sys\n",
    "from glob import glob"
   ]
  },
  {
   "cell_type": "markdown",
   "metadata": {},
   "source": [
    "s3 tools"
   ]
  },
  {
   "cell_type": "code",
   "execution_count": null,
   "metadata": {
    "collapsed": false
   },
   "outputs": [],
   "source": [
    "s3_upload = boto3.client(\"s3\")\n",
    "s3_download = boto3.resource(\"s3\")\n",
    "\n",
    "s3_bucket = \"wri-public-data\"\n",
    "s3_folder = \"resourcewatch/raster/ene_018_wind_energy_potential/\"\n",
    "\n",
    "s3_file = \"ene_018_wind_energy_potential.tif\"\n",
    "\n",
    "s3_key_orig = s3_folder + s3_file\n",
    "s3_key_edit = s3_key_orig[0:-4] + \"_edit.tif\"\n",
    "\n",
    "\n",
    "class ProgressPercentage(object):\n",
    "        def __init__(self, filename):\n",
    "            self._filename = filename\n",
    "            self._size = float(os.path.getsize(filename))\n",
    "            self._seen_so_far = 0\n",
    "            self._lock = threading.Lock()\n",
    "\n",
    "        def __call__(self, bytes_amount):\n",
    "            # To simplify we'll assume this is hooked up\n",
    "            # to a single filename.\n",
    "            with self._lock:\n",
    "                self._seen_so_far += bytes_amount\n",
    "                percentage = (self._seen_so_far / self._size) * 100\n",
    "                sys.stdout.write(\"\\r%s  %s / %s  (%.2f%%)\"%(\n",
    "                        self._filename, self._seen_so_far, self._size,\n",
    "                        percentage))\n",
    "                sys.stdout.flush()"
   ]
  },
  {
   "cell_type": "markdown",
   "metadata": {},
   "source": [
    "Define local file locations"
   ]
  },
  {
   "cell_type": "code",
   "execution_count": null,
   "metadata": {
    "collapsed": false
   },
   "outputs": [],
   "source": [
    "local_orig = \"./temp.tif\"\n",
    "\n",
    "s3_download.meta.client.download_file(s3_bucket, s3_key_orig, local_orig)\n",
    "\n",
    "local_edit = \"./temp_edit.tif\""
   ]
  },
  {
   "cell_type": "code",
   "execution_count": null,
   "metadata": {
    "collapsed": false
   },
   "outputs": [],
   "source": [
    "with rio.open(local_orig) as src:\n",
    "    print(src.profile)"
   ]
  },
  {
   "cell_type": "markdown",
   "metadata": {},
   "source": [
    "Use rasterio to reproject and compress"
   ]
  },
  {
   "cell_type": "code",
   "execution_count": null,
   "metadata": {
    "collapsed": false
   },
   "outputs": [],
   "source": [
    "# Note - this is the core of Vizz's netcdf2tif function\n",
    "\n",
    "with rio.open(local_orig, 'r') as src:\n",
    "    # This assumes data is readable by rasterio\n",
    "    # May need to open instead with netcdf4.Dataset, for example\n",
    "   \n",
    "    data = src.read()[0]\n",
    "    \n",
    "    rows = data.shape[0]\n",
    "    columns = data.shape[1]\n",
    "    \n",
    "    print(rows)\n",
    "    print(columns)\n",
    "    \n",
    "    # Latitude bounds\n",
    "    south_lat = -90\n",
    "    north_lat = 90\n",
    "\n",
    "    # Longitude bounds\n",
    "    west_lon = -180\n",
    "    east_lon = 180\n",
    "    \n",
    "    transform = rio.transform.from_bounds(west_lon, south_lat, east_lon, north_lat, columns, rows)\n",
    "    \n",
    "    # Profile\n",
    "    \n",
    "    no_data_val = -9999\n",
    "    target_projection = 'EPSG:4326'\n",
    "    target_data_type = np.float32\n",
    "    \n",
    "    profile = {\n",
    "        'driver':'GTiff', \n",
    "        'height':rows, \n",
    "        'width':columns, \n",
    "        'count':1, \n",
    "        'dtype':target_data_type, \n",
    "        'crs':target_projection, \n",
    "        'transform':transform, \n",
    "        'compress':'lzw', \n",
    "        'nodata': no_data_val\n",
    "    }\n",
    "    \n",
    "    with rio.open(local_edit, \"w\", **profile) as dst:\n",
    "        dst.write(data.astype(profile[\"dtype\"]), 1)"
   ]
  },
  {
   "cell_type": "markdown",
   "metadata": {},
   "source": [
    "Upload orig and edit files to s3"
   ]
  },
  {
   "cell_type": "code",
   "execution_count": null,
   "metadata": {
    "collapsed": false
   },
   "outputs": [],
   "source": [
    "# Original\n",
    "# s3_upload.upload_file(local_orig, s3_bucket, s3_key_orig,\n",
    "#                          Callback=ProgressPercentage(local_orig))\n",
    "\n",
    "# Edit\n",
    "s3_upload.upload_file(local_edit, s3_bucket, s3_key_edit,\n",
    "                         Callback=ProgressPercentage(local_edit))"
   ]
  },
  {
   "cell_type": "code",
   "execution_count": null,
   "metadata": {
    "collapsed": true
   },
   "outputs": [],
   "source": [
    "os.remove(local_orig)\n",
    "os.remove(local_edit)"
   ]
  }
 ],
 "metadata": {
  "kernelspec": {
   "display_name": "Python 3",
   "language": "python",
   "name": "python3"
  },
  "language_info": {
   "codemirror_mode": {
    "name": "ipython",
    "version": 3
   },
   "file_extension": ".py",
   "mimetype": "text/x-python",
   "name": "python",
   "nbconvert_exporter": "python",
   "pygments_lexer": "ipython3",
   "version": "3.6.0"
  }
 },
 "nbformat": 4,
 "nbformat_minor": 2
}
