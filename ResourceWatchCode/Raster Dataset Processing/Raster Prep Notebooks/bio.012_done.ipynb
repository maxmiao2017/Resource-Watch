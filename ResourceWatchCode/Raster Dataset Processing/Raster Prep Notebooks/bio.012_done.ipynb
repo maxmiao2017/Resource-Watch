{
 "cells": [
  {
   "cell_type": "markdown",
   "metadata": {},
   "source": [
    "Amphibian and Mammal Habitats Under Threat, Merged\tbio.012"
   ]
  },
  {
   "cell_type": "code",
   "execution_count": 1,
   "metadata": {
    "collapsed": false
   },
   "outputs": [],
   "source": [
    "import boto3\n",
    "\n",
    "import rasterio as rio\n",
    "import numpy as np\n",
    "\n",
    "import os\n",
    "import sys\n",
    "import threading"
   ]
  },
  {
   "cell_type": "markdown",
   "metadata": {},
   "source": [
    "Establish local and s3 file locations"
   ]
  },
  {
   "cell_type": "code",
   "execution_count": 5,
   "metadata": {
    "collapsed": false
   },
   "outputs": [],
   "source": [
    "# Local storage\n",
    "local_tmp_folder = \"/Users/nathansuberi/Desktop/RW_Data/\"\n",
    "\n",
    "tmp1 = local_tmp_folder + \"all_amphibians.tif\"\n",
    "tmp2 = local_tmp_folder + \"all_mammals.tif\"\n",
    "merge_files = [tmp1, tmp2]\n",
    "\n",
    "tmp_merge = local_tmp_folder + \"bio_012_merge.tif\"\n",
    "\n",
    "# S3 storage\n",
    "s3_bucket = \"wri-public-data\"\n",
    "s3_folder = \"resourcewatch/raster/bio_012_amphibian_mammalian_species_under_threat_merge/\"\n",
    "\n",
    "s3_file1 = \"resourcewatch/raster/bio_012_1_amphibian_species_under_threat/bio_012_1_amphibian_species_under_threat_edit.tif\"\n",
    "s3_file2 = \"resourcewatch/raster/bio_012_2_mammalian_species_under_threat/bio_012_2_mammalian_species_under_threat_edit.tif\"\n",
    "\n",
    "# Make sure these match the order of the merge_files above\n",
    "s3_files_to_merge = [s3_file1, s3_file2]\n",
    "band_names = [\"amphibian species under threat\", \"mammalian species under threat\"]\n",
    "\n",
    "s3_key_merge = s3_folder + \"bio_012_amphibian_mammalian_species_under_threat_merge.tif\"\n",
    "\n",
    "# S3 services\n",
    "s3_download = boto3.resource(\"s3\")\n",
    "s3_upload = boto3.client(\"s3\")\n",
    "\n",
    "# Helper function to view upload progress\n",
    "class ProgressPercentage(object):\n",
    "        def __init__(self, filename):\n",
    "            self._filename = filename\n",
    "            self._size = float(os.path.getsize(filename))\n",
    "            self._seen_so_far = 0\n",
    "            self._lock = threading.Lock()\n",
    "\n",
    "        def __call__(self, bytes_amount):\n",
    "            # To simplify we'll assume this is hooked up\n",
    "            # to a single filename.\n",
    "            with self._lock:\n",
    "                self._seen_so_far += bytes_amount\n",
    "                percentage = (self._seen_so_far / self._size) * 100\n",
    "                sys.stdout.write(\n",
    "                    \"\\r%s  %s / %s  (%.2f%%)\" % (\n",
    "                        self._filename, self._seen_so_far, self._size,\n",
    "                        percentage))\n",
    "                sys.stdout.flush()"
   ]
  },
  {
   "cell_type": "code",
   "execution_count": 4,
   "metadata": {
    "collapsed": false
   },
   "outputs": [],
   "source": [
    "#for ix, s3_file in enumerate(s3_files_to_merge):\n",
    "#    s3_download.meta.client.download_file(s3_bucket, s3_file, merge_files[ix])\n",
    "tmp_file = \"/Users/nathansuberi/Desktop/RW_Data/bio_012_merge.tif\"\n",
    "s3_download.meta.client.download_file(s3_bucket, s3_key_merge, tmp_file)"
   ]
  },
  {
   "cell_type": "code",
   "execution_count": 13,
   "metadata": {
    "collapsed": false
   },
   "outputs": [
    {
     "name": "stdout",
     "output_type": "stream",
     "text": [
      "Input file size is 43200, 21600\n",
      "0...10...20...30...40...50...60...70...80...90...100 - done.\n",
      "Input file size is 43200, 21600\n",
      "0...10...20...30...40...50...60...70...80...90...100 - done.\n",
      "{'driver': 'GTiff', 'dtype': 'int32', 'nodata': 0.0, 'width': 43200, 'height': 21600, 'count': 1, 'crs': CRS({'init': 'epsg:4326'}), 'transform': Affine(0.00833330000000387, 0.0, -180.0,\n",
      "       0.0, -0.00833330000000387, 89.99928000008359), 'tiled': False, 'compress': 'lzw', 'interleave': 'band'}\n",
      "{'driver': 'GTiff', 'dtype': 'int32', 'nodata': 0.0, 'width': 43200, 'height': 21600, 'count': 1, 'crs': CRS({'init': 'epsg:4326'}), 'transform': Affine(0.008333300000003874, 0.0, -180.0,\n",
      "       0.0, -0.008333300000003874, 89.99928000008367), 'tiled': False, 'compress': 'lzw', 'interleave': 'band'}\n",
      "{'driver': 'GTiff', 'dtype': 'int32', 'nodata': 0.0, 'width': 43200, 'height': 21600, 'count': 2, 'crs': CRS({'init': 'epsg:4326'}), 'transform': Affine(0.00833330000000387, 0.0, -180.0,\n",
      "       0.0, -0.00833330000000387, 89.99928000008359), 'band_names': \"['amphibian species under threat', 'mammalian species under threat']\", 'bigtiff': 'no', 'compress': 'lzw', 'interleave': 'band', 'old_nodata': '2147483647.0', 'tiled': False}\n"
     ]
    }
   ],
   "source": [
    "# Bring in new species richness grids\n",
    "# for file in merge_files:\n",
    "#     with rio.open(file, 'r') as src:\n",
    "#         print(src.profile)\n",
    "\n",
    "for file in merge_files:\n",
    "    os.environ[\"src\"] = file\n",
    "    os.environ[\"dst\"] = file[:-4] + \"_edit.tif\"\n",
    "    \n",
    "    !gdal_translate -co COMPRESS=LZW -ot int32 -a_nodata 0 $src $dst\n",
    "    \n",
    "for file in merge_files:\n",
    "    with rio.open(file[:-4] + \"_edit.tif\", 'r') as src:\n",
    "        print(src.profile)\n",
    "        \n",
    "with rio.open(tmp_file, 'r') as src:\n",
    "        print(src.profile)"
   ]
  },
  {
   "cell_type": "markdown",
   "metadata": {},
   "source": [
    "<b>Regardless of any needed edits, upload original file</b>\n",
    "\n",
    "<i>Upload tif to S3 folder</i>\n",
    "\n",
    "http://boto3.readthedocs.io/en/latest/guide/s3-example-creating-buckets.html\n",
    "\n",
    "<i>Monitor Progress of Upload</i>\n",
    "\n",
    "http://boto3.readthedocs.io/en/latest/_modules/boto3/s3/transfer.html\n",
    "https://boto3.readthedocs.io/en/latest/guide/s3.html#using-the-transfer-manager"
   ]
  },
  {
   "cell_type": "markdown",
   "metadata": {},
   "source": [
    "Create a merged tif with both amphibian and mammal threat data, upload to s3"
   ]
  },
  {
   "cell_type": "code",
   "execution_count": 7,
   "metadata": {
    "collapsed": false
   },
   "outputs": [
    {
     "name": "stdout",
     "output_type": "stream",
     "text": [
      "{'driver': 'GTiff', 'dtype': 'int32', 'nodata': 0.0, 'width': 43200, 'height': 21600, 'count': 1, 'crs': CRS({'init': 'epsg:4326'}), 'transform': (-180.0, 0.00833330000000387, 0.0, 89.99928000008359, 0.0, -0.00833330000000387), 'affine': Affine(0.00833330000000387, 0.0, -180.0,\n",
      "       0.0, -0.00833330000000387, 89.99928000008359), 'bigtiff': 'no', 'compress': 'lzw', 'interleave': 'band', 'old_nodata': '2147483647.0', 'tiled': False}\n"
     ]
    }
   ],
   "source": [
    "with rio.open(merge_files[0], 'r') as src:\n",
    "    print(src.profile)"
   ]
  },
  {
   "cell_type": "code",
   "execution_count": 15,
   "metadata": {
    "collapsed": false
   },
   "outputs": [],
   "source": [
    "band_names = [\"amphibian species under threat\", \"mammalian species under threat\", \n",
    "              \"number amphibian species\", \"number mammalian species\"]\n",
    "\n",
    "with rio.open(tmp_file, 'r') as src:\n",
    "    src_profile = src.profile\n",
    "    src_profile.update(band_names = band_names,\n",
    "                      count = 4)\n",
    "    \n",
    "tmp_merge = local_tmp_folder + \"bio_012_merge2.tif\"\n",
    "\n",
    "with rio.open(tmp_merge, 'w', **src_profile) as dst:\n",
    "    with rio.open(tmp_file, \"r\") as src:\n",
    "        windows = src.block_windows()\n",
    "        for win_id, window in windows:\n",
    "            src_data1 = src.read(1, window=window)\n",
    "            src_data2 = src.read(2, window=window)\n",
    "            dst.write_band(1, src_data1, window=window)\n",
    "            dst.write_band(2, src_data2, window=window)\n",
    "    with rio.open(tmp1[:-4]+\"_edit.tif\") as src:\n",
    "        windows = src.block_windows()\n",
    "        for win_id, window in windows:\n",
    "            src_data = src.read(1, window=window)\n",
    "            dst.write_band(3, src_data, window=window)\n",
    "    with rio.open(tmp2[:-4]+\"_edit.tif\") as src:\n",
    "        windows = src.block_windows()\n",
    "        for win_id, window in windows:\n",
    "            src_data = src.read(1, window=window)\n",
    "            dst.write_band(4, src_data, window=window)\n",
    "\n",
    "            "
   ]
  },
  {
   "cell_type": "code",
   "execution_count": 16,
   "metadata": {
    "collapsed": false
   },
   "outputs": [
    {
     "name": "stdout",
     "output_type": "stream",
     "text": [
      "{'driver': 'GTiff', 'dtype': 'int32', 'nodata': 0.0, 'width': 43200, 'height': 21600, 'count': 4, 'crs': CRS({'init': 'epsg:4326'}), 'transform': Affine(0.00833330000000387, 0.0, -180.0,\n",
      "       0.0, -0.00833330000000387, 89.99928000008359), 'band_names': \"['amphibian species under threat', 'mammalian species under threat', 'number amphibian species', 'number mammalian species']\", 'bigtiff': 'no', 'compress': 'lzw', 'interleave': 'band', 'old_nodata': '2147483647.0', 'tiled': False}\n"
     ]
    }
   ],
   "source": [
    "with rio.open(tmp_merge, 'r') as src:\n",
    "    print(src.profile)"
   ]
  },
  {
   "cell_type": "markdown",
   "metadata": {},
   "source": [
    "Upload edited file to s3"
   ]
  },
  {
   "cell_type": "code",
   "execution_count": 17,
   "metadata": {
    "collapsed": false
   },
   "outputs": [
    {
     "name": "stdout",
     "output_type": "stream",
     "text": [
      "/Users/nathansuberi/Desktop/RW_Data/bio_012_merge2.tif  416278195 / 416278195.0  (100.00%)"
     ]
    }
   ],
   "source": [
    "s3_upload.upload_file(tmp_merge, s3_bucket, s3_key_merge,\n",
    "           Callback=ProgressPercentage(tmp_merge))"
   ]
  },
  {
   "cell_type": "code",
   "execution_count": 18,
   "metadata": {
    "collapsed": false
   },
   "outputs": [
    {
     "name": "stdout",
     "output_type": "stream",
     "text": [
      "\n",
      "\n",
      "Updates are available for some Cloud SDK components.  To install them,\n",
      "please run:\n",
      "  $ gcloud components update\n",
      "\n",
      "Non-MD5 etag (\"909690879cab9497a717144b97152621-50\") present for key <Key: wri-public-data,resourcewatch/raster/bio_012_amphibian_mammalian_species_under_threat_merge/bio_012_amphibian_mammalian_species_under_threat_merge.tif>, data integrity checks are not possible.\n",
      "Copying s3://wri-public-data/resourcewatch/raster/bio_012_amphibian_mammalian_species_under_threat_merge/bio_012_amphibian_mammalian_species_under_threat_merge.tif [Content-Type=binary/octet-stream]...\n",
      "WARNING: Found no hashes to validate object downloaded from s3://wri-public-data/resourcewatch/raster/bio_012_amphibian_mammalian_species_under_threat_merge/bio_012_amphibian_mammalian_species_under_threat_merge.tif and uploaded to gs://resource-watch-public/resourcewatch/raster/bio_012_amphibian_mammalian_species_under_threat_merge/bio_012_amphibian_mammalian_species_under_threat_merge.tif. Integrity cannot be assured without hashes.\n",
      "\\ [1 files][397.0 MiB/397.0 MiB]   10.9 MiB/s                                   \n",
      "Operation completed over 1 objects/397.0 MiB.                                    \n"
     ]
    }
   ],
   "source": [
    "os.environ[\"s3_key\"] = \"s3://wri-public-data/\" + s3_key_merge\n",
    "os.environ[\"gs_key\"] = \"gs://resource-watch-public/\" + s3_key_merge\n",
    "\n",
    "!gsutil cp $s3_key $gs_key"
   ]
  },
  {
   "cell_type": "code",
   "execution_count": 19,
   "metadata": {
    "collapsed": false
   },
   "outputs": [
    {
     "name": "stdout",
     "output_type": "stream",
     "text": [
      "Started upload task with ID: YAHLI5DAQH7CHVLF65NJVZVG\r\n"
     ]
    }
   ],
   "source": [
    "os.environ[\"asset_id\"] = \"users/resourcewatch/bio_012_species_richness_grids_merged\"\n",
    "\n",
    "!earthengine upload image --asset_id=$asset_id $gs_key"
   ]
  },
  {
   "cell_type": "code",
   "execution_count": 28,
   "metadata": {
    "collapsed": false
   },
   "outputs": [
    {
     "name": "stdout",
     "output_type": "stream",
     "text": [
      "YAHLI5DAQH7CHVLF65NJVZVG:\r\n",
      "  State: RUNNING\r\n",
      "  Type: Upload\r\n",
      "  Description: Asset ingestion: users/resourcewatch/bio_012_species_richness_grids_merged\r\n",
      "  Created: 2017-10-11 15:18:17.593000\r\n",
      "  Started: 2017-10-11 15:31:00.672000\r\n",
      "  Updated: 2017-10-11 15:41:00.789000\r\n"
     ]
    }
   ],
   "source": [
    "!earthengine task info YAHLI5DAQH7CHVLF65NJVZVG"
   ]
  },
  {
   "cell_type": "code",
   "execution_count": 29,
   "metadata": {
    "collapsed": false
   },
   "outputs": [],
   "source": [
    "!earthengine acl set public $asset_id"
   ]
  },
  {
   "cell_type": "code",
   "execution_count": 30,
   "metadata": {
    "collapsed": false
   },
   "outputs": [],
   "source": [
    "os.environ[\"band_names\"] = str(band_names)\n",
    "\n",
    "!earthengine asset set -p '(string)band_names='\"$band_names\" $asset_id"
   ]
  }
 ],
 "metadata": {
  "kernelspec": {
   "display_name": "Python 3",
   "language": "python",
   "name": "python3"
  },
  "language_info": {
   "codemirror_mode": {
    "name": "ipython",
    "version": 3
   },
   "file_extension": ".py",
   "mimetype": "text/x-python",
   "name": "python",
   "nbconvert_exporter": "python",
   "pygments_lexer": "ipython3",
   "version": "3.6.0"
  }
 },
 "nbformat": 4,
 "nbformat_minor": 2
}
