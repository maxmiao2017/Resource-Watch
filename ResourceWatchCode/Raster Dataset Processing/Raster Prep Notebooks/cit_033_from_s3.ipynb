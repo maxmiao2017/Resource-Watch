{
 "cells": [
  {
   "cell_type": "code",
   "execution_count": 3,
   "metadata": {
    "collapsed": true
   },
   "outputs": [],
   "source": [
    "import os"
   ]
  },
  {
   "cell_type": "code",
   "execution_count": 1,
   "metadata": {
    "collapsed": true
   },
   "outputs": [],
   "source": [
    "file1 = \"resourcewatch/raster/cit_033_urban_built_up_areas/cit_033_urban_built_up_areas_merge_nodata_set_to_zero.tif\"\n",
    "file2 = \"resourcewatch/raster/cit_033_urban_built_up_areas/cit_033_urban_built_up_areas_merge.tif\""
   ]
  },
  {
   "cell_type": "code",
   "execution_count": null,
   "metadata": {
    "collapsed": true
   },
   "outputs": [],
   "source": [
    "os.environ[\"s3_key1\"] = \"s3://wri-public-data/\" + file1\n",
    "os.environ[\"gs_key1\"] = \"gs://resource-watch-public/\" + file1\n",
    "\n",
    "os.environ[\"s3_key2\"] = \"s3://wri-public-data/\" + file2\n",
    "os.environ[\"gs_key2\"] = \"gs://resource-watch-public/\" + file2\n",
    "\n",
    "!gsutil cp $s3_key1 $gs_key1\n",
    "!gsutil cp $s3_key2 $gs_key2"
   ]
  },
  {
   "cell_type": "code",
   "execution_count": 4,
   "metadata": {
    "collapsed": false
   },
   "outputs": [],
   "source": [
    "os.environ[\"asset_id1\"] = \"users/resourcewatch/cit_033_urban_built_up_areas_nodata_set_to_zero\"\n",
    "os.environ[\"asset_id2\"] = \"users/resourcewatch/cit_033_urban_built_up_areas\"\n",
    "\n",
    "\n",
    "#!earthengine upload image --asset_id=$asset_id1 $gs_key1\n",
    "#!earthengine upload image --asset_id=$asset_id2 $gs_key2"
   ]
  },
  {
   "cell_type": "code",
   "execution_count": null,
   "metadata": {
    "collapsed": true
   },
   "outputs": [],
   "source": [
    "!earthengine task info U2N6A7RQW3IQWF4CT2XKBNQK\n",
    "!earthengine task info 475IUHTNNW5LL4MC7HC4GUVR"
   ]
  },
  {
   "cell_type": "code",
   "execution_count": null,
   "metadata": {
    "collapsed": true
   },
   "outputs": [],
   "source": [
    "!earthengine acl set public $asset_id1\n",
    "!earthengine acl set public $asset_id2"
   ]
  },
  {
   "cell_type": "code",
   "execution_count": 5,
   "metadata": {
    "collapsed": true
   },
   "outputs": [],
   "source": [
    "os.environ[\"band_names\"] = str([1975, 1990, 2000, 2014])\n",
    "\n",
    "!earthengine asset set -p '(string)band_names='\"$band_names\" $asset_id1\n",
    "!earthengine asset set -p '(string)band_names='\"$band_names\" $asset_id2"
   ]
  }
 ],
 "metadata": {
  "kernelspec": {
   "display_name": "Python 3",
   "language": "python",
   "name": "python3"
  },
  "language_info": {
   "codemirror_mode": {
    "name": "ipython",
    "version": 3
   },
   "file_extension": ".py",
   "mimetype": "text/x-python",
   "name": "python",
   "nbconvert_exporter": "python",
   "pygments_lexer": "ipython3",
   "version": "3.6.0"
  }
 },
 "nbformat": 4,
 "nbformat_minor": 2
}
