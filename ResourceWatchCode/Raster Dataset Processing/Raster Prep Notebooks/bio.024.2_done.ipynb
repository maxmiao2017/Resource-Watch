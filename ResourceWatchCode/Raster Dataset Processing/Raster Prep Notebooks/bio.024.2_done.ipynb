{
 "cells": [
  {
   "cell_type": "markdown",
   "metadata": {},
   "source": [
    "Threat to Coral Reefs from Marine-Based Pollution\tbio.024.2\thttp://www.wri.org/publication/reefs-risk-revisited"
   ]
  },
  {
   "cell_type": "code",
   "execution_count": 1,
   "metadata": {
    "collapsed": true
   },
   "outputs": [],
   "source": [
    "import numpy as np\n",
    "import pandas as pd\n",
    "import rasterio\n",
    "\n",
    "import boto3\n",
    "import requests as req\n",
    "\n",
    "from matplotlib import pyplot as plt\n",
    "%matplotlib inline\n",
    "import os\n",
    "import sys\n",
    "import threading"
   ]
  },
  {
   "cell_type": "markdown",
   "metadata": {},
   "source": [
    "Establish s3 location"
   ]
  },
  {
   "cell_type": "code",
   "execution_count": 2,
   "metadata": {
    "collapsed": false
   },
   "outputs": [],
   "source": [
    "s3_bucket = \"wri-public-data\"\n",
    "s3_folder = \"resourcewatch/bio_025_coral_reef_threat_from_marine_pollution\"\n",
    "#s3_file_hdf = \"bio_025_coral_reef_threat_from_marine_pollution.adf\"\n",
    "s3_file = \"/bio_025_coral_reef_threat_from_marine_pollution.tif\"\n",
    "\n",
    "s3_key_orig = s3_folder + s3_file\n",
    "s3_key_edit = s3_key_orig[0:-4] + \"_edit.tif\""
   ]
  },
  {
   "cell_type": "markdown",
   "metadata": {},
   "source": [
    "Create local staging folder for holding data"
   ]
  },
  {
   "cell_type": "code",
   "execution_count": 3,
   "metadata": {
    "collapsed": false
   },
   "outputs": [],
   "source": [
    "#!mkdir staging\n",
    "#os.chdir(\"staging\")\n",
    "staging_folder = os.getcwd()\n",
    "os.environ[\"Z_STAGING_FOLDER\"] = staging_folder"
   ]
  },
  {
   "cell_type": "markdown",
   "metadata": {},
   "source": [
    "If data already on s3, create a staging key and download to staging folder"
   ]
  },
  {
   "cell_type": "code",
   "execution_count": null,
   "metadata": {
    "collapsed": false
   },
   "outputs": [],
   "source": [
    "staging_file = \"/<staging_tif_name>.tif\"\n",
    "staging_key_orig = staging_folder + staging_file\n",
    "staging_key_edit = staging_key_orig[0:-4] + \"_edit.tif\"\n",
    "\n",
    "s3 = boto3.resource(\"s3\")\n",
    "s3.meta.client.download_file(s3_bucket, s3_key_orig, staging_key_orig)\n",
    "s3.meta.client.download_file(s3_bucket, s3_key_edit, staging_key_edit)"
   ]
  },
  {
   "cell_type": "markdown",
   "metadata": {},
   "source": [
    "If data in local storage, move to staging folder"
   ]
  },
  {
   "cell_type": "code",
   "execution_count": 9,
   "metadata": {
    "collapsed": false
   },
   "outputs": [],
   "source": [
    "local_folder = \"/Users/nathansuberi/Desktop/WRI_Programming/RW_Data\"\n",
    "rw_data_type = \"/Biodiversity\"\n",
    "# Topics include: [Society, Food, Forests, Water, Energy, Climate, Cities, Biodiversity, Commerce, Disasters]\n",
    "local_file = \"/rf_mar1.tif\"\n",
    "local_key = local_folder + rw_data_type + local_file\n",
    "\n",
    "staging_key_orig = staging_folder + local_file\n",
    "staging_key_edit = staging_key_orig[0:-4] + \"_edit.tif\"\n",
    "\n",
    "#os.rename(staging_key_orig, local_key)"
   ]
  },
  {
   "cell_type": "markdown",
   "metadata": {},
   "source": [
    "<b>Regardless of any needed edits, upload original file</b>\n",
    "\n",
    "<i>Upload tif to S3 folder</i>\n",
    "\n",
    "http://boto3.readthedocs.io/en/latest/guide/s3-example-creating-buckets.html\n",
    "\n",
    "<i>Monitor Progress of Upload</i>\n",
    "\n",
    "http://boto3.readthedocs.io/en/latest/_modules/boto3/s3/transfer.html\n",
    "https://boto3.readthedocs.io/en/latest/guide/s3.html#using-the-transfer-manager"
   ]
  },
  {
   "cell_type": "code",
   "execution_count": 6,
   "metadata": {
    "collapsed": true
   },
   "outputs": [],
   "source": [
    "s3 = boto3.client(\"s3\")\n",
    "\n",
    "class ProgressPercentage(object):\n",
    "        def __init__(self, filename):\n",
    "            self._filename = filename\n",
    "            self._size = float(os.path.getsize(filename))\n",
    "            self._seen_so_far = 0\n",
    "            self._lock = threading.Lock()\n",
    "\n",
    "        def __call__(self, bytes_amount):\n",
    "            # To simplify we'll assume this is hooked up\n",
    "            # to a single filename.\n",
    "            with self._lock:\n",
    "                self._seen_so_far += bytes_amount\n",
    "                percentage = (self._seen_so_far / self._size) * 100\n",
    "                sys.stdout.write(\n",
    "                    \"\\r%s  %s / %s  (%.2f%%)\" % (\n",
    "                        self._filename, self._seen_so_far, self._size,\n",
    "                        percentage))\n",
    "                sys.stdout.flush()"
   ]
  },
  {
   "cell_type": "code",
   "execution_count": 7,
   "metadata": {
    "collapsed": false
   },
   "outputs": [
    {
     "data": {
      "text/plain": [
       "'/Users/nathansuberi/Desktop/WRI_Programming/Py_Scripts/Metadata_Management/Raster_Dataset_Getters/rf_mar1.tif'"
      ]
     },
     "execution_count": 7,
     "metadata": {},
     "output_type": "execute_result"
    }
   ],
   "source": [
    "staging_key_orig"
   ]
  },
  {
   "cell_type": "code",
   "execution_count": 22,
   "metadata": {
    "collapsed": false
   },
   "outputs": [
    {
     "name": "stdout",
     "output_type": "stream",
     "text": [
      "/Users/nathansuberi/Desktop/WRI_Programming/RW_Data/Biodiversity/rf_mar1.tif  55593751 / 55593751.0  (100.00%)"
     ]
    }
   ],
   "source": [
    "# Defined above:\n",
    "# s3_bucket\n",
    "# s3_key_orig\n",
    "# s3_key_edit\n",
    "# staging_key_orig\n",
    "# staging_key_edit\n",
    "\n",
    "s3.upload_file(local_key, s3_bucket, s3_key_orig,\n",
    "                         Callback=ProgressPercentage(local_key))"
   ]
  },
  {
   "cell_type": "markdown",
   "metadata": {},
   "source": [
    "Check for compression, projection\n",
    "\n",
    "Create edit file if necessary"
   ]
  },
  {
   "cell_type": "code",
   "execution_count": 13,
   "metadata": {
    "collapsed": false,
    "scrolled": true
   },
   "outputs": [
    {
     "name": "stdout",
     "output_type": "stream",
     "text": [
      "{'driver': 'GTiff', 'dtype': 'int16', 'nodata': -32768.0, 'width': 80150, 'height': 25456, 'count': 1, 'crs': CRS({'proj': 'cea', 'lon_0': -160, 'lat_ts': 0, 'x_0': 0, 'y_0': 0, 'datum': 'WGS84', 'units': 'm', 'no_defs': True}), 'transform': (-20037508.342787746, 500.0, 0.0, 6364114.668074458, 0.0, -500.0), 'affine': Affine(500.0, 0.0, -20037508.342787746,\n",
      "       0.0, -500.0, 6364114.668074458), 'blockxsize': 128, 'blockysize': 128, 'tiled': True, 'compress': 'lzw', 'interleave': 'band'}\n"
     ]
    }
   ],
   "source": [
    "with rasterio.open(local_key) as src:\n",
    "    print(src.profile)\n",
    "    data = src.read(1)"
   ]
  },
  {
   "cell_type": "code",
   "execution_count": 14,
   "metadata": {
    "collapsed": false
   },
   "outputs": [
    {
     "data": {
      "text/plain": [
       "(array([-32768,      0,    100,   1000], dtype=int16),\n",
       " array([2039299547,     915731,      71461,      11661]))"
      ]
     },
     "execution_count": 14,
     "metadata": {},
     "output_type": "execute_result"
    }
   ],
   "source": [
    "np.unique(data, return_counts=True)"
   ]
  },
  {
   "cell_type": "code",
   "execution_count": 15,
   "metadata": {
    "collapsed": false
   },
   "outputs": [
    {
     "data": {
      "text/plain": [
       "'/Users/nathansuberi/Desktop/WRI_Programming/Py_Scripts/Metadata_Management/Raster_Dataset_Getters/rf_mar1_edit.tif'"
      ]
     },
     "execution_count": 15,
     "metadata": {},
     "output_type": "execute_result"
    }
   ],
   "source": [
    "staging_key_edit"
   ]
  },
  {
   "cell_type": "code",
   "execution_count": 16,
   "metadata": {
    "collapsed": false
   },
   "outputs": [
    {
     "name": "stdout",
     "output_type": "stream",
     "text": [
      "{'driver': 'GTiff', 'dtype': 'int16', 'nodata': -32768.0, 'width': 80150, 'height': 25456, 'count': 1, 'crs': CRS({'proj': 'cea', 'lon_0': -160, 'lat_ts': 0, 'x_0': 0, 'y_0': 0, 'datum': 'WGS84', 'units': 'm', 'no_defs': True}), 'transform': (-20037508.342787746, 500.0, 0.0, 6364114.668074458, 0.0, -500.0), 'affine': Affine(500.0, 0.0, -20037508.342787746,\n",
      "       0.0, -500.0, 6364114.668074458), 'blockxsize': 128, 'blockysize': 128, 'tiled': True, 'compress': 'lzw', 'interleave': 'band'}\n"
     ]
    }
   ],
   "source": [
    "outFile = staging_key_edit\n",
    "\n",
    "with rasterio.open(local_key) as src:\n",
    "    profile = src.profile\n",
    "    print(profile)\n",
    "    #data = src.read(1)\n",
    "    \n",
    "    # Return lat info\n",
    "    south_lat = -90\n",
    "    north_lat = 90\n",
    "\n",
    "    # Return lon info\n",
    "    west_lon = -180\n",
    "    east_lon = 180\n",
    "    # Transformation function\n",
    "    transform = rasterio.transform.from_bounds(west_lon, south_lat, east_lon, north_lat, data.shape[1], data.shape[0])\n",
    "    # Profile\n",
    "    profile = {\n",
    "        'driver':'GTiff', \n",
    "        'height':data.shape[0], \n",
    "        'width':data.shape[1], \n",
    "        'count':1, \n",
    "        'dtype':'int16', \n",
    "        'transform':transform,\n",
    "        'crs':'EPSG:4326', \n",
    "        'compress':'lzw', \n",
    "        'nodata': -9999\n",
    "    }\n",
    "    \n",
    "    np.putmask(data, data==-32768, -9999)\n",
    "    with rasterio.open(outFile, 'w', **profile) as dst:\n",
    "        dst.write(data.astype(profile['dtype']), 1)"
   ]
  },
  {
   "cell_type": "code",
   "execution_count": 17,
   "metadata": {
    "collapsed": false
   },
   "outputs": [
    {
     "name": "stdout",
     "output_type": "stream",
     "text": [
      "{'driver': 'GTiff', 'dtype': 'int16', 'nodata': -9999.0, 'width': 80150, 'height': 25456, 'count': 1, 'crs': CRS({'init': 'epsg:4326'}), 'transform': (-180.0, 0.004491578290704928, 0.0, 90.0, 0.0, -0.007071024512884978), 'affine': Affine(0.004491578290704928, 0.0, -180.0,\n",
      "       0.0, -0.007071024512884978, 90.0), 'compress': 'lzw', 'tiled': False, 'interleave': 'band'}\n"
     ]
    }
   ],
   "source": [
    "with rasterio.open(staging_key_edit) as src:\n",
    "    print(src.profile)"
   ]
  },
  {
   "cell_type": "markdown",
   "metadata": {},
   "source": [
    "Examine data\n"
   ]
  },
  {
   "cell_type": "code",
   "execution_count": null,
   "metadata": {
    "collapsed": false
   },
   "outputs": [],
   "source": [
    "# with rasterio.open(staging_key_orig) as src:\n",
    "with rasterio.open(staging_key_edit) as src:\n",
    "    profile = src.profile\n",
    "    print(profile)\n",
    "    data = src.read(1)"
   ]
  },
  {
   "cell_type": "code",
   "execution_count": null,
   "metadata": {
    "collapsed": false
   },
   "outputs": [],
   "source": [
    "data"
   ]
  },
  {
   "cell_type": "code",
   "execution_count": null,
   "metadata": {
    "collapsed": true
   },
   "outputs": [],
   "source": [
    "# This works if all the raster values are positive whole numbers\n",
    "counts = {}\n",
    "for row in range(data[:,0].shape[0]):\n",
    "    cts = np.bincount(data[row,:])\n",
    "    for val, ct in enumerate(cts):\n",
    "        try:\n",
    "            counts[val] += ct\n",
    "        except:\n",
    "            counts[val] = ct"
   ]
  },
  {
   "cell_type": "code",
   "execution_count": null,
   "metadata": {
    "collapsed": false
   },
   "outputs": [],
   "source": [
    "counts"
   ]
  },
  {
   "cell_type": "markdown",
   "metadata": {},
   "source": [
    "Upload edited files to S3"
   ]
  },
  {
   "cell_type": "code",
   "execution_count": 20,
   "metadata": {
    "collapsed": false
   },
   "outputs": [
    {
     "name": "stdout",
     "output_type": "stream",
     "text": [
      "/Users/nathansuberi/Desktop/WRI_Programming/Py_Scripts/Metadata_Management/Raster_Dataset_Getters/rf_mar1_edit.tif  26301596 / 26301596.0  (100.00%)"
     ]
    }
   ],
   "source": [
    "# Defined above:\n",
    "# s3_bucket\n",
    "# s3_key_orig\n",
    "# s3_key_edit\n",
    "# staging_key_orig\n",
    "# staging_key_edit\n",
    "\n",
    "s3.upload_file(staging_key_edit, s3_bucket, s3_key_edit,\n",
    "                         Callback=ProgressPercentage(staging_key_edit))"
   ]
  },
  {
   "cell_type": "markdown",
   "metadata": {},
   "source": [
    "Layer definition\n",
    "\n",
    "https://github.com/resource-watch/notebooks/blob/master/ResourceWatch/Api_definition/layer_definition.ipynb"
   ]
  },
  {
   "cell_type": "code",
   "execution_count": null,
   "metadata": {
    "collapsed": true
   },
   "outputs": [],
   "source": []
  },
  {
   "cell_type": "markdown",
   "metadata": {},
   "source": [
    "Upload to server destination"
   ]
  },
  {
   "cell_type": "code",
   "execution_count": null,
   "metadata": {
    "collapsed": true
   },
   "outputs": [],
   "source": [
    "# Too big for ArcGIS Online to upload using their web interface... 1 GB limit"
   ]
  },
  {
   "cell_type": "markdown",
   "metadata": {},
   "source": [
    "Remove data from computer / instance"
   ]
  },
  {
   "cell_type": "code",
   "execution_count": null,
   "metadata": {
    "collapsed": true
   },
   "outputs": [],
   "source": [
    "os.chdir(\"..\")\n",
    "!rm -r $Z_STAGING_FOLDER"
   ]
  }
 ],
 "metadata": {
  "kernelspec": {
   "display_name": "Python 3",
   "language": "python",
   "name": "python3"
  },
  "language_info": {
   "codemirror_mode": {
    "name": "ipython",
    "version": 3
   },
   "file_extension": ".py",
   "mimetype": "text/x-python",
   "name": "python",
   "nbconvert_exporter": "python",
   "pygments_lexer": "ipython3",
   "version": "3.6.0"
  }
 },
 "nbformat": 4,
 "nbformat_minor": 2
}
