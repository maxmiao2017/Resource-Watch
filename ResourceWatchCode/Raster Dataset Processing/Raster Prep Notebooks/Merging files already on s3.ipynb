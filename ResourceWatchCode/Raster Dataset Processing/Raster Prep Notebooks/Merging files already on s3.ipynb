{
 "cells": [
  {
   "cell_type": "code",
   "execution_count": 10,
   "metadata": {
    "collapsed": true
   },
   "outputs": [],
   "source": [
    "import boto3\n",
    "\n",
    "import rasterio as rio\n",
    "import numpy as np\n",
    "\n",
    "import os\n",
    "import sys\n",
    "import threading"
   ]
  },
  {
   "cell_type": "code",
   "execution_count": null,
   "metadata": {
    "collapsed": true
   },
   "outputs": [],
   "source": [
    "# Aquastat foo.028"
   ]
  },
  {
   "cell_type": "code",
   "execution_count": 12,
   "metadata": {
    "collapsed": true
   },
   "outputs": [],
   "source": [
    "# local storage\n",
    "\n",
    "merge_file_fao = \"/Users/nathansuberi/Desktop/RW_Data/merging_aquastat.tif\"\n",
    "\n",
    "# S3 storage\n",
    "s3_bucket_remote_read = \"s3://wri-public-data/\"\n",
    "s3_bucket = \"wri-public-data\"\n",
    "s3_folder = \"resourcewatch/raster/foo_028_aquastat_irrigated_areas/\"\n",
    "\n",
    "s3_file1 = \"foo_028_aquastat_irrigated_areas_area_equipped_irrigation_edit.tif\"\n",
    "s3_file2 = \"foo_028_aquastat_irrigated_areas_aai_pct_aei_edit.tif\"\n",
    "s3_file3 = \"foo_028_aquastat_irrigated_areas_aeigw_pct_aei_edit.tif\"\n",
    "s3_file4 = \"foo_028_aquastat_irrigated_areas_aeisw_pct_aei_edit.tif\"\n",
    "s3_file5 = \"foo_028_aquastat_irrigated_areas_aeinc_pct_aei_edit.tif\"\n",
    "\n",
    "merge_files = [s3_bucket_remote_read + s3_folder + s3_file1, \n",
    "               s3_bucket_remote_read + s3_folder + s3_file2, \n",
    "               s3_bucket_remote_read + s3_folder + s3_file3, \n",
    "               s3_bucket_remote_read + s3_folder + s3_file4, \n",
    "               s3_bucket_remote_read + s3_folder + s3_file5]\n",
    "band_names = [\"area equipped with irrigation\", \n",
    "              \"area actually irrigated\",\n",
    "              \"percent of irrigation equipped area using groundwater\",\n",
    "              \"percent of irrigation equipped area using surface water\",\n",
    "              \"percent of irrigation equipped area using nonconventional water sources\",\n",
    "             ]\n",
    "\n",
    "s3_key_merge = s3_folder + \"foo_028_aquastat_irrigated_areas_merged.tif\"\n",
    "\n",
    "# S3 services\n",
    "s3_download = boto3.resource(\"s3\")\n",
    "s3_upload = boto3.client(\"s3\")\n",
    "\n",
    "# Helper function to view upload progress\n",
    "class ProgressPercentage(object):\n",
    "        def __init__(self, filename):\n",
    "            self._filename = filename\n",
    "            self._size = float(os.path.getsize(filename))\n",
    "            self._seen_so_far = 0\n",
    "            self._lock = threading.Lock()\n",
    "\n",
    "        def __call__(self, bytes_amount):\n",
    "            # To simplify we'll assume this is hooked up\n",
    "            # to a single filename.\n",
    "            with self._lock:\n",
    "                self._seen_so_far += bytes_amount\n",
    "                percentage = (self._seen_so_far / self._size) * 100\n",
    "                sys.stdout.write(\n",
    "                    \"\\r%s  %s / %s  (%.2f%%)\" % (\n",
    "                        self._filename, self._seen_so_far, self._size,\n",
    "                        percentage))\n",
    "                sys.stdout.flush()"
   ]
  },
  {
   "cell_type": "code",
   "execution_count": 8,
   "metadata": {
    "collapsed": false
   },
   "outputs": [],
   "source": [
    "# for file in merge_files: \n",
    "#     with rio.open(file, 'r') as src:\n",
    "#         print(src.profile)\n",
    "        \n",
    "with rio.open(merge_files[0], 'r') as src:\n",
    "    profile = src.profile\n",
    "    \n",
    "profile.update(count=len(merge_files), band_names=band_names)"
   ]
  },
  {
   "cell_type": "code",
   "execution_count": 9,
   "metadata": {
    "collapsed": true
   },
   "outputs": [],
   "source": [
    "with rio.open(merge_file_fao, \"w\", **profile) as dst:\n",
    "    for ix, file in enumerate(merge_files):\n",
    "        with rio.open(file,'r') as src:\n",
    "            src_data = src.read(indexes=1)\n",
    "            dst_band = ix+1\n",
    "            dst.write(src_data, indexes=dst_band)`"
   ]
  },
  {
   "cell_type": "code",
   "execution_count": 13,
   "metadata": {
    "collapsed": false
   },
   "outputs": [
    {
     "name": "stdout",
     "output_type": "stream",
     "text": [
      "/Users/nathansuberi/Desktop/RW_Data/merging_aquastat.tif  11591196 / 11591196.0  (100.00%)"
     ]
    }
   ],
   "source": [
    "s3_upload.upload_file(merge_file_fao, s3_bucket, s3_key_merge,\n",
    "           Callback=ProgressPercentage(merge_file_fao))"
   ]
  },
  {
   "cell_type": "code",
   "execution_count": 14,
   "metadata": {
    "collapsed": false
   },
   "outputs": [
    {
     "name": "stdout",
     "output_type": "stream",
     "text": [
      "Non-MD5 etag (\"7d605e38dd21b804e599fb863c662260-2\") present for key <Key: wri-public-data,resourcewatch/raster/foo_028_aquastat_irrigated_areas/foo_028_aquastat_irrigated_areas_merged.tif>, data integrity checks are not possible.\n",
      "Copying s3://wri-public-data/resourcewatch/raster/foo_028_aquastat_irrigated_areas/foo_028_aquastat_irrigated_areas_merged.tif [Content-Type=binary/octet-stream]...\n",
      "WARNING: Found no hashes to validate object downloaded from s3://wri-public-data/resourcewatch/raster/foo_028_aquastat_irrigated_areas/foo_028_aquastat_irrigated_areas_merged.tif and uploaded to gs://resource-watch-public/resourcewatch/raster/foo_028_aquastat_irrigated_areas/foo_028_aquastat_irrigated_areas_merged.tif. Integrity cannot be assured without hashes.\n",
      "- [1 files][ 11.1 MiB/ 11.1 MiB]                                                \n",
      "Operation completed over 1 objects/11.1 MiB.                                     \n"
     ]
    }
   ],
   "source": [
    "os.environ[\"s3_key\"] = \"s3://wri-public-data/\" + s3_key_merge\n",
    "os.environ[\"gs_key\"] = \"gs://resource-watch-public/\" + s3_key_merge\n",
    "\n",
    "!gsutil cp $s3_key $gs_key"
   ]
  },
  {
   "cell_type": "code",
   "execution_count": 23,
   "metadata": {
    "collapsed": false
   },
   "outputs": [
    {
     "name": "stdout",
     "output_type": "stream",
     "text": [
      "Started upload task with ID: 5K3A2FL7YLPLWRLZWNDO5OEB\r\n"
     ]
    }
   ],
   "source": [
    "os.environ[\"asset_id\"] = \"users/resourcewatch/foo_028_aquastat_irrigated_areas\"\n",
    "\n",
    "!earthengine upload image --asset_id=$asset_id $gs_key"
   ]
  },
  {
   "cell_type": "code",
   "execution_count": 16,
   "metadata": {
    "collapsed": true
   },
   "outputs": [],
   "source": [
    "!earthengine acl set public $asset_id\n",
    "os.environ[\"band_names\"] = str(band_names)\n",
    "!earthengine asset set -p '(string)band_names='\"$band_names\" $asset_id"
   ]
  },
  {
   "cell_type": "code",
   "execution_count": null,
   "metadata": {
    "collapsed": true
   },
   "outputs": [],
   "source": []
  },
  {
   "cell_type": "code",
   "execution_count": null,
   "metadata": {
    "collapsed": true
   },
   "outputs": [],
   "source": [
    "# Soc.030"
   ]
  },
  {
   "cell_type": "code",
   "execution_count": 18,
   "metadata": {
    "collapsed": true
   },
   "outputs": [],
   "source": [
    "# local storage\n",
    "\n",
    "merge_file_fao = \"/Users/nathansuberi/Desktop/RW_Data/merging_aquastat.tif\"\n",
    "\n",
    "# S3 storage\n",
    "s3_bucket_remote_read = \"s3://wri-public-data/\"\n",
    "s3_bucket = \"wri-public-data\"\n",
    "s3_folder = \"resourcewatch/raster/soc_030_gross_domestic_product/\"\n",
    "\n",
    "band_names = ['mer_1990', 'mer_1995', 'mer_2000', 'mer_2005', 'ppp_1990', 'ppp_1995', 'ppp_2000', 'ppp_2005']\n",
    "s3_key_merge = s3_folder + \"soc_030_gross_domestic_product.tif\""
   ]
  },
  {
   "cell_type": "code",
   "execution_count": 19,
   "metadata": {
    "collapsed": false
   },
   "outputs": [
    {
     "name": "stdout",
     "output_type": "stream",
     "text": [
      "{'driver': 'GTiff', 'dtype': 'float64', 'nodata': -9999.0, 'width': 360, 'height': 140, 'count': 8, 'crs': CRS({'init': 'epsg:4326'}), 'transform': Affine(1.0, 0.0, -180.0,\n",
      "       0.0, -1.2857142857142858, 90.0), 'compress': 'lzw', 'interleave': 'band', 'tiled': False}\n"
     ]
    }
   ],
   "source": [
    "with rio.open(s3_bucket_remote_read + s3_key_merge, 'r') as src:\n",
    "    print(src.profile)"
   ]
  },
  {
   "cell_type": "code",
   "execution_count": 20,
   "metadata": {
    "collapsed": false
   },
   "outputs": [
    {
     "name": "stdout",
     "output_type": "stream",
     "text": [
      "Copying s3://wri-public-data/resourcewatch/raster/soc_030_gross_domestic_product/soc_030_gross_domestic_product.tif [Content-Type=binary/octet-stream]...\n",
      "- [1 files][882.4 KiB/882.4 KiB]                                                \n",
      "Operation completed over 1 objects/882.4 KiB.                                    \n"
     ]
    }
   ],
   "source": [
    "os.environ[\"s3_key\"] = \"s3://wri-public-data/\" + s3_key_merge\n",
    "os.environ[\"gs_key\"] = \"gs://resource-watch-public/\" + s3_key_merge\n",
    "\n",
    "!gsutil cp $s3_key $gs_key"
   ]
  },
  {
   "cell_type": "code",
   "execution_count": 21,
   "metadata": {
    "collapsed": false
   },
   "outputs": [
    {
     "name": "stdout",
     "output_type": "stream",
     "text": [
      "Started upload task with ID: UAP6UN3A4CSWMTSKOM3XQNZZ\r\n"
     ]
    }
   ],
   "source": [
    "os.environ[\"asset_id\"] = \"users/resourcewatch/soc_030_gross_domestic_product\"\n",
    "\n",
    "!earthengine upload image --asset_id=$asset_id $gs_key"
   ]
  },
  {
   "cell_type": "code",
   "execution_count": 22,
   "metadata": {
    "collapsed": true
   },
   "outputs": [],
   "source": [
    "!earthengine acl set public $asset_id\n",
    "os.environ[\"band_names\"] = str(band_names)\n",
    "!earthengine asset set -p '(string)band_names='\"$band_names\" $asset_id"
   ]
  }
 ],
 "metadata": {
  "kernelspec": {
   "display_name": "Python 3",
   "language": "python",
   "name": "python3"
  },
  "language_info": {
   "codemirror_mode": {
    "name": "ipython",
    "version": 3
   },
   "file_extension": ".py",
   "mimetype": "text/x-python",
   "name": "python",
   "nbconvert_exporter": "python",
   "pygments_lexer": "ipython3",
   "version": "3.6.0"
  }
 },
 "nbformat": 4,
 "nbformat_minor": 2
}
