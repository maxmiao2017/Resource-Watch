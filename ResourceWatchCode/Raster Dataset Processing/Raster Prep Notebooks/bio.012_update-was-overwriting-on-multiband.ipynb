{
 "cells": [
  {
   "cell_type": "markdown",
   "metadata": {},
   "source": [
    "Amphibian and Mammal Habitats Under Threat, Merged\tbio.012"
   ]
  },
  {
   "cell_type": "code",
   "execution_count": 6,
   "metadata": {
    "collapsed": false
   },
   "outputs": [],
   "source": [
    "import boto3\n",
    "\n",
    "import rasterio as rio\n",
    "import numpy as np\n",
    "\n",
    "import os\n",
    "import sys\n",
    "import threading"
   ]
  },
  {
   "cell_type": "markdown",
   "metadata": {},
   "source": [
    "Establish local and s3 file locations"
   ]
  },
  {
   "cell_type": "code",
   "execution_count": 8,
   "metadata": {
    "collapsed": false
   },
   "outputs": [],
   "source": [
    "# Local storage\n",
    "local_tmp_folder = \"/Users/nathansuberi/Desktop/RW_Data/\"\n",
    "\n",
    "tmp1 = local_tmp_folder + \"bio_012_1_amphib.tif\"\n",
    "tmp2 = local_tmp_folder + \"bio_012_2_mammal.tif\"\n",
    "merge_files = [tmp1, tmp2]\n",
    "\n",
    "tmp_merge = local_tmp_folder + \"bio_012_merge.tif\"\n",
    "\n",
    "# S3 storage\n",
    "s3_bucket = \"wri-public-data\"\n",
    "s3_folder = \"resourcewatch/raster/bio_012_amphibian_mammalian_species_under_threat_merge/\"\n",
    "\n",
    "s3_file1 = \"resourcewatch/raster/bio_012_1_amphibian_species_under_threat/bio_012_1_amphibian_species_under_threat_edit.tif\"\n",
    "s3_file2 = \"resourcewatch/raster/bio_012_2_mammalian_species_under_threat/bio_012_2_mammalian_species_under_threat_edit.tif\"\n",
    "\n",
    "# Make sure these match the order of the merge_files above\n",
    "s3_files_to_merge = [s3_file1, s3_file2]\n",
    "band_names = [\"amphibian species under threat\", \"mammalian species under threat\"]\n",
    "\n",
    "s3_key_merge = s3_folder + \"bio_012_amphibian_mammalian_species_under_threat_merge.tif\"\n",
    "\n",
    "# S3 services\n",
    "s3_download = boto3.resource(\"s3\")\n",
    "s3_upload = boto3.client(\"s3\")\n",
    "\n",
    "# Helper function to view upload progress\n",
    "class ProgressPercentage(object):\n",
    "        def __init__(self, filename):\n",
    "            self._filename = filename\n",
    "            self._size = float(os.path.getsize(filename))\n",
    "            self._seen_so_far = 0\n",
    "            self._lock = threading.Lock()\n",
    "\n",
    "        def __call__(self, bytes_amount):\n",
    "            # To simplify we'll assume this is hooked up\n",
    "            # to a single filename.\n",
    "            with self._lock:\n",
    "                self._seen_so_far += bytes_amount\n",
    "                percentage = (self._seen_so_far / self._size) * 100\n",
    "                sys.stdout.write(\n",
    "                    \"\\r%s  %s / %s  (%.2f%%)\" % (\n",
    "                        self._filename, self._seen_so_far, self._size,\n",
    "                        percentage))\n",
    "                sys.stdout.flush()"
   ]
  },
  {
   "cell_type": "code",
   "execution_count": 3,
   "metadata": {
    "collapsed": false
   },
   "outputs": [],
   "source": [
    "for s3_file in s3_files_to_merge:\n",
    "    s3_download.meta.client.download_file(s3_bucket, s3_file, merge_files[ix])"
   ]
  },
  {
   "cell_type": "markdown",
   "metadata": {},
   "source": [
    "<b>Regardless of any needed edits, upload original file</b>\n",
    "\n",
    "<i>Upload tif to S3 folder</i>\n",
    "\n",
    "http://boto3.readthedocs.io/en/latest/guide/s3-example-creating-buckets.html\n",
    "\n",
    "<i>Monitor Progress of Upload</i>\n",
    "\n",
    "http://boto3.readthedocs.io/en/latest/_modules/boto3/s3/transfer.html\n",
    "https://boto3.readthedocs.io/en/latest/guide/s3.html#using-the-transfer-manager"
   ]
  },
  {
   "cell_type": "markdown",
   "metadata": {},
   "source": [
    "Create a merged tif with both amphibian and mammal threat data, upload to s3"
   ]
  },
  {
   "cell_type": "code",
   "execution_count": 7,
   "metadata": {
    "collapsed": false
   },
   "outputs": [
    {
     "name": "stdout",
     "output_type": "stream",
     "text": [
      "{'driver': 'GTiff', 'dtype': 'int32', 'nodata': 0.0, 'width': 43200, 'height': 21600, 'count': 1, 'crs': CRS({'init': 'epsg:4326'}), 'transform': (-180.0, 0.00833330000000387, 0.0, 89.99928000008359, 0.0, -0.00833330000000387), 'affine': Affine(0.00833330000000387, 0.0, -180.0,\n",
      "       0.0, -0.00833330000000387, 89.99928000008359), 'bigtiff': 'no', 'compress': 'lzw', 'interleave': 'band', 'old_nodata': '2147483647.0', 'tiled': False}\n"
     ]
    }
   ],
   "source": [
    "with rio.open(merge_files[0], 'r') as src:\n",
    "    print(src.profile)"
   ]
  },
  {
   "cell_type": "code",
   "execution_count": 10,
   "metadata": {
    "collapsed": false
   },
   "outputs": [
    {
     "name": "stderr",
     "output_type": "stream",
     "text": [
      "/Users/nathansuberi/.pyenv/versions/3.6.0/lib/python3.6/site-packages/rasterio/__init__.py:160: FutureWarning: GDAL-style transforms are deprecated and will not be supported in Rasterio 1.0.\n",
      "  transform = guard_transform(transform)\n"
     ]
    },
    {
     "name": "stdout",
     "output_type": "stream",
     "text": [
      "0\n",
      "1\n"
     ]
    }
   ],
   "source": [
    "with rio.open(merge_files[0], 'r') as src:\n",
    "    src_profile = src.profile\n",
    "    src_profile.update(band_names = band_names,\n",
    "                      count = len(merge_files))\n",
    "    \n",
    "with rasterio.open(tmp_merge, 'w', **src_profile) as dst:\n",
    "    for idx, file in enumerate(merge_files):\n",
    "        print(idx)\n",
    "        with rio.open(file) as src:\n",
    "            band = idx+1\n",
    "            windows = src.block_windows()\n",
    "            for win_id, window in windows:\n",
    "                src_data = src.read(1, window=window)\n",
    "                dst.write_band(band, src_data, window=window)"
   ]
  },
  {
   "cell_type": "code",
   "execution_count": 11,
   "metadata": {
    "collapsed": false
   },
   "outputs": [
    {
     "name": "stdout",
     "output_type": "stream",
     "text": [
      "{'driver': 'GTiff', 'dtype': 'int32', 'nodata': 0.0, 'width': 43200, 'height': 21600, 'count': 2, 'crs': CRS({'init': 'epsg:4326'}), 'transform': (-180.0, 0.00833330000000387, 0.0, 89.99928000008359, 0.0, -0.00833330000000387), 'affine': Affine(0.00833330000000387, 0.0, -180.0,\n",
      "       0.0, -0.00833330000000387, 89.99928000008359), 'band_names': \"['amphibian species under threat', 'mammalian species under threat']\", 'bigtiff': 'no', 'compress': 'lzw', 'interleave': 'band', 'old_nodata': '2147483647.0', 'tiled': False}\n"
     ]
    }
   ],
   "source": [
    "with rio.open(tmp_merge, 'r') as src:\n",
    "    print(src.profile)"
   ]
  },
  {
   "cell_type": "markdown",
   "metadata": {},
   "source": [
    "Upload edited file to s3"
   ]
  },
  {
   "cell_type": "code",
   "execution_count": 13,
   "metadata": {
    "collapsed": false
   },
   "outputs": [
    {
     "name": "stdout",
     "output_type": "stream",
     "text": [
      "/Users/nathansuberi/Desktop/RW_Data/bio_012_merge.tif  107597933 / 107597933.0  (100.00%)"
     ]
    }
   ],
   "source": [
    "s3_upload.upload_file(tmp_merge, s3_bucket, s3_key_merge,\n",
    "           Callback=ProgressPercentage(tmp_merge))"
   ]
  },
  {
   "cell_type": "code",
   "execution_count": 15,
   "metadata": {
    "collapsed": false
   },
   "outputs": [
    {
     "name": "stdout",
     "output_type": "stream",
     "text": [
      "\n",
      "\n",
      "Updates are available for some Cloud SDK components.  To install them,\n",
      "please run:\n",
      "  $ gcloud components update\n",
      "\n",
      "Non-MD5 etag (\"01b3e46c48b3d65cc70c47b22da80a19-13\") present for key <Key: wri-public-data,resourcewatch/raster/bio_012_amphibian_mammalian_species_under_threat_merge/bio_012_amphibian_mammalian_species_under_threat_merge.tif>, data integrity checks are not possible.\n",
      "Copying s3://wri-public-data/resourcewatch/raster/bio_012_amphibian_mammalian_species_under_threat_merge/bio_012_amphibian_mammalian_species_under_threat_merge.tif [Content-Type=binary/octet-stream]...\n",
      "WARNING: Found no hashes to validate object downloaded from s3://wri-public-data/resourcewatch/raster/bio_012_amphibian_mammalian_species_under_threat_merge/bio_012_amphibian_mammalian_species_under_threat_merge.tif and uploaded to gs://resource-watch-public/resourcewatch/raster/bio_012_amphibian_mammalian_species_under_threat_merge/bio_012_amphibian_mammalian_species_under_threat_merge.tif. Integrity cannot be assured without hashes.\n",
      "| [1 files][102.6 MiB/102.6 MiB]    7.7 MiB/s                                   \n",
      "Operation completed over 1 objects/102.6 MiB.                                    \n"
     ]
    }
   ],
   "source": [
    "os.environ[\"s3_key\"] = \"s3://wri-public-data/\" + s3_key_merge\n",
    "os.environ[\"gs_key\"] = \"gs://resource-watch-public/\" + s3_key_merge\n",
    "\n",
    "!gsutil cp $s3_key $gs_key"
   ]
  },
  {
   "cell_type": "code",
   "execution_count": 19,
   "metadata": {
    "collapsed": false
   },
   "outputs": [
    {
     "name": "stdout",
     "output_type": "stream",
     "text": [
      "Started upload task with ID: QPABLHRBKOHG2DNRLF43RNVS\r\n"
     ]
    }
   ],
   "source": [
    "os.environ[\"asset_id\"] = \"users/resourcewatch/bio_012_species_richness_grids_merged\"\n",
    "\n",
    "!earthengine upload image --asset_id=$asset_id $gs_key"
   ]
  },
  {
   "cell_type": "code",
   "execution_count": 21,
   "metadata": {
    "collapsed": false
   },
   "outputs": [],
   "source": [
    "!earthengine acl set public $asset_id"
   ]
  },
  {
   "cell_type": "code",
   "execution_count": 28,
   "metadata": {
    "collapsed": false
   },
   "outputs": [],
   "source": [
    "os.environ[\"band_names\"] = str(band_names)\n",
    "\n",
    "!earthengine asset set -p '(string)band_names='\"$band_names\" $asset_id"
   ]
  }
 ],
 "metadata": {
  "kernelspec": {
   "display_name": "Python 3",
   "language": "python",
   "name": "python3"
  },
  "language_info": {
   "codemirror_mode": {
    "name": "ipython",
    "version": 3
   },
   "file_extension": ".py",
   "mimetype": "text/x-python",
   "name": "python",
   "nbconvert_exporter": "python",
   "pygments_lexer": "ipython3",
   "version": "3.6.0"
  }
 },
 "nbformat": 4,
 "nbformat_minor": 2
}
