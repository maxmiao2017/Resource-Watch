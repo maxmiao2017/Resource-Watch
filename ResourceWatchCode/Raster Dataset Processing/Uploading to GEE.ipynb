{
 "cells": [
  {
   "cell_type": "code",
   "execution_count": 2,
   "metadata": {
    "collapsed": false
   },
   "outputs": [],
   "source": [
    "import boto3\n",
    "import os\n",
    "\n",
    "#import boto\n",
    "\n",
    "import pandas as pd"
   ]
  },
  {
   "cell_type": "code",
   "execution_count": null,
   "metadata": {
    "collapsed": false
   },
   "outputs": [],
   "source": [
    "s3 = boto3.resource('s3')\n",
    "my_bucket = s3.Bucket('wri-public-data')\n",
    "rasters = my_bucket.objects.filter(Prefix=\"resourcewatch/raster/\")"
   ]
  },
  {
   "cell_type": "code",
   "execution_count": null,
   "metadata": {
    "collapsed": false
   },
   "outputs": [],
   "source": [
    "upload_keys = [raster.key for raster in rasters if (raster.key.endswith(\"_edit.tif\") & (\"cit_014\" in raster.key))]"
   ]
  },
  {
   "cell_type": "code",
   "execution_count": null,
   "metadata": {
    "collapsed": false
   },
   "outputs": [],
   "source": [
    "upload_keys"
   ]
  },
  {
   "cell_type": "code",
   "execution_count": null,
   "metadata": {
    "collapsed": false
   },
   "outputs": [],
   "source": [
    "for key in upload_keys:\n",
    "    os.environ[\"s3_key\"] = \"s3://wri-public-data/\" + key\n",
    "    os.environ[\"gs_key\"] = \"gs://resource-watch-public/resourcewatch/raster/\" + key.split(\"/\")[-2] + \"/\" + key.split(\"/\")[-1]\n",
    "    !gsutil cp $s3_key $gs_key"
   ]
  },
  {
   "cell_type": "code",
   "execution_count": 8,
   "metadata": {
    "collapsed": false
   },
   "outputs": [
    {
     "name": "stdout",
     "output_type": "stream",
     "text": [
      "Non-MD5 etag (\"d5f979fa0c1f9fb31b2021a057752f46-6\") present for key <Key: wri-public-data,resourcewatch/raster/ene_015_solar_energy_potential/ene_015_solar_energy_potential_edit.tif>, data integrity checks are not possible.\n",
      "Copying s3://wri-public-data/resourcewatch/raster/ene_015_solar_energy_potential/ene_015_solar_energy_potential_edit.tif [Content-Type=binary/octet-stream]...\n",
      "WARNING: Found no hashes to validate object downloaded from s3://wri-public-data/resourcewatch/raster/ene_015_solar_energy_potential/ene_015_solar_energy_potential_edit.tif and uploaded to gs://resource-watch-public/resourcewatch/raster/ene_015_solar_energy_potential/ene_015_solar_energy_potential_edit.tif. Integrity cannot be assured without hashes.\n",
      "| [1 files][ 45.3 MiB/ 45.3 MiB]                                                \n",
      "Operation completed over 1 objects/45.3 MiB.                                     \n",
      "Started upload task with ID: XKQA72THCWNTK6RHDJIMOPLI\n"
     ]
    }
   ],
   "source": [
    "os.environ[\"s3_key\"] = \"s3://wri-public-data/resourcewatch/raster/ene_015_solar_energy_potential/ene_015_solar_energy_potential_edit.tif\"\n",
    "gs_key = \"gs://resource-watch-public/resourcewatch/raster/ene_015_solar_energy_potential/ene_015_solar_energy_potential_edit.tif\"\n",
    "os.environ[\"gs_key\"] = gs_key\n",
    "!gsutil cp $s3_key $gs_key\n",
    "\n",
    "\n",
    "os.environ[\"gs_key\"] = gs_key\n",
    "os.environ[\"asset_id\"] = \"users/resourcewatch/ene_015_solar_energy_potential\"\n",
    "!earthengine upload image --asset_id=$asset_id $gs_key"
   ]
  },
  {
   "cell_type": "code",
   "execution_count": 7,
   "metadata": {
    "collapsed": false
   },
   "outputs": [
    {
     "name": "stdout",
     "output_type": "stream",
     "text": [
      "Non-MD5 etag (\"e41b98238cc17e450dea737471df29f1-8\") present for key <Key: wri-public-data,resourcewatch/raster/ene_018_wind_energy_potential/ene_018_wind_energy_potential_edit.tif>, data integrity checks are not possible.\n",
      "Copying s3://wri-public-data/resourcewatch/raster/ene_018_wind_energy_potential/ene_018_wind_energy_potential_edit.tif [Content-Type=binary/octet-stream]...\n",
      "WARNING: Found no hashes to validate object downloaded from s3://wri-public-data/resourcewatch/raster/ene_018_wind_energy_potential/ene_018_wind_energy_potential_edit.tif and uploaded to gs://resource-watch-public/resourcewatch/raster/ene_018_wind_energy_potential/ene_018_wind_energy_potential_edit.tif. Integrity cannot be assured without hashes.\n",
      "\\ [1 files][ 58.3 MiB/ 58.3 MiB]                                                \n",
      "Operation completed over 1 objects/58.3 MiB.                                     \n",
      "Started upload task with ID: ETE65IDA4KIZT5ZER7KNSMF4\n"
     ]
    }
   ],
   "source": [
    "os.environ[\"s3_key\"] = \"s3://wri-public-data/resourcewatch/raster/ene_018_wind_energy_potential/ene_018_wind_energy_potential_edit.tif\"\n",
    "gs_key = \"gs://resource-watch-public/resourcewatch/raster/ene_018_wind_energy_potential/ene_018_wind_energy_potential_edit.tif\"\n",
    "os.environ[\"gs_key\"] = gs_key\n",
    "!gsutil cp $s3_key $gs_key\n",
    "\n",
    "\n",
    "os.environ[\"gs_key\"] = gs_key\n",
    "os.environ[\"asset_id\"] = \"users/resourcewatch/ene_018_wind_energy_potential\"\n",
    "!earthengine upload image --asset_id=$asset_id $gs_key"
   ]
  },
  {
   "cell_type": "code",
   "execution_count": null,
   "metadata": {
    "collapsed": false
   },
   "outputs": [],
   "source": [
    "# from google.cloud import storage\n",
    "\n",
    "# client = storage.Client()\n",
    "# bucket = client.get_bucket('resource-watch-public')\n",
    "\n",
    "# Doesn't authenticate... need some default credentials."
   ]
  },
  {
   "cell_type": "code",
   "execution_count": null,
   "metadata": {
    "collapsed": false
   },
   "outputs": [],
   "source": [
    "# Loop over items on google storage\n",
    "gs_keys = []\n",
    "for key in upload_keys:\n",
    "    gs_keys.append(\"gs://resource-watch-public/resourcewatch/raster/\" + key.split(\"/\")[-2] + \"/\" + key.split(\"/\")[-1])\n",
    "gs_keys = pd.DataFrame({\"gs_key\": gs_keys})\n",
    "    \n",
    "gs_keys[\"bucket\"]=gs_keys.apply(lambda key: key[\"gs_key\"].split(\"/\")[-2], axis=1)\n",
    "\n",
    "grouped_keys = gs_keys.groupby(\"bucket\")"
   ]
  },
  {
   "cell_type": "code",
   "execution_count": null,
   "metadata": {
    "collapsed": false
   },
   "outputs": [],
   "source": [
    "upload_instructions = []\n",
    "\n",
    "for key, group in grouped_keys:\n",
    "\n",
    "    num_assets = group.shape[0]\n",
    "    if num_assets > 1:\n",
    "        upload_instructions.append(key)\n",
    "        for ix, tif in enumerate(group.iterrows()):\n",
    "            asset = {\n",
    "                \"asset_id\":\"users/resourcewatch/\"+key+\"/\"+str(ix),\n",
    "                \"gs_key\":tif[1][\"gs_key\"]\n",
    "            }\n",
    "            upload_instructions.append(asset)\n",
    "    else:\n",
    "        asset = {\n",
    "                \"asset_id\":\"users/resourcewatch/\"+key,\n",
    "                \"gs_key\":group.iloc[0][\"gs_key\"]\n",
    "            }\n",
    "        upload_instructions.append(asset)\n",
    "        "
   ]
  },
  {
   "cell_type": "code",
   "execution_count": null,
   "metadata": {
    "collapsed": false
   },
   "outputs": [],
   "source": [
    "upload_instructions\n",
    "\n",
    "# Copy and paste into a text editor, update the asset ids"
   ]
  },
  {
   "cell_type": "code",
   "execution_count": null,
   "metadata": {
    "collapsed": true
   },
   "outputs": [],
   "source": [
    "[{'asset_id': 'users/resourcewatch/bio_012_1_amphibian_species_under_threat',\n",
    "  'gs_key': 'gs://resource-watch-public/resourcewatch/raster/bio_012_1_amphibian_species_under_threat/bio_012_1_amphibian_species_under_threat_edit.tif'},\n",
    " {'asset_id': 'users/resourcewatch/bio_012_2_mammalian_species_under_threat',\n",
    "  'gs_key': 'gs://resource-watch-public/resourcewatch/raster/bio_012_2_mammalian_species_under_threat/bio_012_2_mammalian_species_under_threat_edit.tif'},\n",
    " {'asset_id': 'users/resourcewatch/bio_014_biodiversity_remaining_in_areas',\n",
    "  'gs_key': 'gs://resource-watch-public/resourcewatch/raster/bio_014_biodiversity_remaining_in_areas/bio_014_biodiversity_remaining_in_areas_edit.tif'},\n",
    " {'asset_id': 'users/resourcewatch/bio_015_human_footprint_impact_on_biodiversity',\n",
    "  'gs_key': 'gs://resource-watch-public/resourcewatch/raster/bio_015_human_footprint_impact_on_biodiversity/bio_015_human_footprint_impact_on_biodiversity_edit.tif'},\n",
    " {'asset_id': 'users/resourcewatch/bio_024_1_coral_reef_threat_from_coastal_development',\n",
    "  'gs_key': 'gs://resource-watch-public/resourcewatch/raster/bio_024_1_coral_reef_threat_from_coastal_development/bio_024_1_coral_reef_threat_from_coastal_development_edit.tif'},\n",
    " {'asset_id': 'users/resourcewatch/bio_024_2_coral_reef_threat_from_marine_pollution',\n",
    "  'gs_key': 'gs://resource-watch-public/resourcewatch/raster/bio_024_2_coral_reef_threat_from_marine_pollution/bio_024_2_coral_reef_threat_from_marine_pollution_edit.tif'},\n",
    " {'asset_id': 'users/resourcewatch/bio_024_3_coral_reef_threat_from_watershed_pollution',\n",
    "  'gs_key': 'gs://resource-watch-public/resourcewatch/raster/bio_024_3_coral_reef_threat_from_watershed_pollution/bio_024_3_coral_reef_threat_from_watershed_pollution_edit.tif'},\n",
    " {'asset_id': 'users/resourcewatch/bio_024_4_coral_reef_threat_from_fishing_practices',\n",
    "  'gs_key': 'gs://resource-watch-public/resourcewatch/raster/bio_024_4_coral_reef_threat_from_fishing_practices/bio_024_4_coral_reef_threat_from_fishing_practices_edit.tif'},\n",
    " {'asset_id': 'users/resourcewatch/bio_024_5_coral_reef_integrated_local_threats',\n",
    "  'gs_key': 'gs://resource-watch-public/resourcewatch/raster/bio_024_5_coral_reef_integrated_local_threats/bio_024_5_coral_reef_integrated_local_threats_edit.tif'},\n",
    " {'asset_id': 'users/resourcewatch/bio_026_coral_reef_threat_from_watershed_pollution',\n",
    "  'gs_key': 'gs://resource-watch-public/resourcewatch/raster/bio_026_coral_reef_threat_from_watershed_pollution/bio_026_coral_reef_threat_from_watershed_pollution_edit.tif'},\n",
    " 'cit_014_areas_of_urban_development',\n",
    " {'asset_id': 'users/resourcewatch/cit_014_areas_of_urban_development/0',\n",
    "  'gs_key': 'gs://resource-watch-public/resourcewatch/raster/cit_014_areas_of_urban_development/cit_014_areas_of_urban_development_1975_edit.tif'},\n",
    " {'asset_id': 'users/resourcewatch/cit_014_areas_of_urban_development/1',\n",
    "  'gs_key': 'gs://resource-watch-public/resourcewatch/raster/cit_014_areas_of_urban_development/cit_014_areas_of_urban_development_1990_edit.tif'},\n",
    " {'asset_id': 'users/resourcewatch/cit_014_areas_of_urban_development/2',\n",
    "  'gs_key': 'gs://resource-watch-public/resourcewatch/raster/cit_014_areas_of_urban_development/cit_014_areas_of_urban_development_2000_edit.tif'},\n",
    " {'asset_id': 'users/resourcewatch/cit_014_areas_of_urban_development/3',\n",
    "  'gs_key': 'gs://resource-watch-public/resourcewatch/raster/cit_014_areas_of_urban_development/cit_014_areas_of_urban_development_2015_HDC_edit.tif'},\n",
    " {'asset_id': 'users/resourcewatch/cit_014_areas_of_urban_development/4',\n",
    "  'gs_key': 'gs://resource-watch-public/resourcewatch/raster/cit_014_areas_of_urban_development/cit_014_areas_of_urban_development_2015_LDC_edit.tif'},\n",
    " {'asset_id': 'users/resourcewatch/cit_014_areas_of_urban_development/5',\n",
    "  'gs_key': 'gs://resource-watch-public/resourcewatch/raster/cit_014_areas_of_urban_development/cit_014_areas_of_urban_development_2015_edit.tif'},\n",
    " {'asset_id': 'users/resourcewatch/cit_018_monthly_no2_concentrations_in_atmosphere',\n",
    "  'gs_key': 'gs://resource-watch-public/resourcewatch/raster/cit_018_monthly_no2_concentrations_in_atmosphere/cit_018_monthly_no2_concentrations_in_atmosphere_201701_edit.tif'},\n",
    " {'asset_id': 'users/resourcewatch/cli_005_antarctic_sea_ice_extent',\n",
    "  'gs_key': 'gs://resource-watch-public/resourcewatch/raster/cli_005_antarctic_sea_ice_extent/cli_005_antarctic_sea_ice_extent_edit.tif'},\n",
    " {'asset_id': 'users/resourcewatch/cli_006_arctic_sea_ice_extent',\n",
    "  'gs_key': 'gs://resource-watch-public/resourcewatch/raster/cli_006_arctic_sea_ice_extent/cli_006_arctic_sea_ice_extent_edit.tif'},\n",
    " {'asset_id': 'users/resourcewatch/dis_004_vulnerability_to_earthquakes',\n",
    "  'gs_key': 'gs://resource-watch-public/resourcewatch/raster/dis_004_vulnerability_to_earthquakes/dis_004_vulnerability_to_earthquakes_edit.tif'},\n",
    " {'asset_id': 'users/resourcewatch/dis_007_landslide_susceptibility_map',\n",
    "  'gs_key': 'gs://resource-watch-public/resourcewatch/raster/dis_007_landslide_susceptibility_map/dis_007_landslide_susceptibility_map_edit.tif'},\n",
    " {'asset_id': 'users/resourcewatch/dis_008_vulnerability_to_volcanic_eruptions',\n",
    "  'gs_key': 'gs://resource-watch-public/resourcewatch/raster/dis_008_vulnerability_to_volcanic_eruptions/dis_008_vulnerability_to_volcanic_eruptions_edit.tif'},\n",
    " 'foo_028_aquastat_irrigated_areas',\n",
    " {'asset_id': 'users/resourcewatch/foo_028_aquastat_irrigated_areas/0',\n",
    "  'gs_key': 'gs://resource-watch-public/resourcewatch/raster/foo_028_aquastat_irrigated_areas/foo_028_aquastat_irrigated_areas_aai_pct_aei_edit.tif'},\n",
    " {'asset_id': 'users/resourcewatch/foo_028_aquastat_irrigated_areas/1',\n",
    "  'gs_key': 'gs://resource-watch-public/resourcewatch/raster/foo_028_aquastat_irrigated_areas/foo_028_aquastat_irrigated_areas_aeigw_pct_aei_edit.tif'},\n",
    " {'asset_id': 'users/resourcewatch/foo_028_aquastat_irrigated_areas/2',\n",
    "  'gs_key': 'gs://resource-watch-public/resourcewatch/raster/foo_028_aquastat_irrigated_areas/foo_028_aquastat_irrigated_areas_aeinc_pct_aei_edit.tif'},\n",
    " {'asset_id': 'users/resourcewatch/foo_028_aquastat_irrigated_areas/3',\n",
    "  'gs_key': 'gs://resource-watch-public/resourcewatch/raster/foo_028_aquastat_irrigated_areas/foo_028_aquastat_irrigated_areas_aeisw_pct_aei_edit.tif'},\n",
    " {'asset_id': 'users/resourcewatch/foo_028_aquastat_irrigated_areas/4',\n",
    "  'gs_key': 'gs://resource-watch-public/resourcewatch/raster/foo_028_aquastat_irrigated_areas/foo_028_aquastat_irrigated_areas_area_equipped_irrigation_edit.tif'},\n",
    " 'soc_030_gross_domestic_product',\n",
    " {'asset_id': 'users/resourcewatch/soc_030_gross_domestic_product/0',\n",
    "  'gs_key': 'gs://resource-watch-public/resourcewatch/raster/soc_030_gross_domestic_product/soc_030_mer_1990_sum_edit.tif'},\n",
    " {'asset_id': 'users/resourcewatch/soc_030_gross_domestic_product/1',\n",
    "  'gs_key': 'gs://resource-watch-public/resourcewatch/raster/soc_030_gross_domestic_product/soc_030_mer_1995_sum_edit.tif'},\n",
    " {'asset_id': 'users/resourcewatch/soc_030_gross_domestic_product/2',\n",
    "  'gs_key': 'gs://resource-watch-public/resourcewatch/raster/soc_030_gross_domestic_product/soc_030_mer_2000_sum_edit.tif'},\n",
    " {'asset_id': 'users/resourcewatch/soc_030_gross_domestic_product/3',\n",
    "  'gs_key': 'gs://resource-watch-public/resourcewatch/raster/soc_030_gross_domestic_product/soc_030_mer_2005_sum_edit.tif'},\n",
    " {'asset_id': 'users/resourcewatch/soc_030_gross_domestic_product/4',\n",
    "  'gs_key': 'gs://resource-watch-public/resourcewatch/raster/soc_030_gross_domestic_product/soc_030_ppp_1990_sum_edit.tif'},\n",
    " {'asset_id': 'users/resourcewatch/soc_030_gross_domestic_product/5',\n",
    "  'gs_key': 'gs://resource-watch-public/resourcewatch/raster/soc_030_gross_domestic_product/soc_030_ppp_1995_sum_edit.tif'},\n",
    " {'asset_id': 'users/resourcewatch/soc_030_gross_domestic_product/6',\n",
    "  'gs_key': 'gs://resource-watch-public/resourcewatch/raster/soc_030_gross_domestic_product/soc_030_ppp_2000_sum_edit.tif'},\n",
    " {'asset_id': 'users/resourcewatch/soc_030_gross_domestic_product/7',\n",
    "  'gs_key': 'gs://resource-watch-public/resourcewatch/raster/soc_030_gross_domestic_product/soc_030_ppp_2005_sum_edit.tif'},\n",
    " 'soc_031_population_grid',\n",
    " {'asset_id': 'users/resourcewatch/soc_031_population_grid/0',\n",
    "  'gs_key': 'gs://resource-watch-public/resourcewatch/raster/soc_031_population_grid/soc_031_population_grid_2000_edit.tif'},\n",
    " {'asset_id': 'users/resourcewatch/soc_031_population_grid/1',\n",
    "  'gs_key': 'gs://resource-watch-public/resourcewatch/raster/soc_031_population_grid/soc_031_population_grid_2005_edit.tif'},\n",
    " {'asset_id': 'users/resourcewatch/soc_031_population_grid/2',\n",
    "  'gs_key': 'gs://resource-watch-public/resourcewatch/raster/soc_031_population_grid/soc_031_population_grid_2010_edit.tif'},\n",
    " {'asset_id': 'users/resourcewatch/soc_031_population_grid/3',\n",
    "  'gs_key': 'gs://resource-watch-public/resourcewatch/raster/soc_031_population_grid/soc_031_population_grid_2020_edit.tif'}]"
   ]
  },
  {
   "cell_type": "code",
   "execution_count": null,
   "metadata": {
    "collapsed": false
   },
   "outputs": [],
   "source": [
    "upload_instructions = [\n",
    "'bio_012_species_richness_grids',\n",
    "{\"asset_id\": \"users/resourcewatch/bio_012_species_richness_grids/bio_012_1_amphibian_species_under_threat\",\n",
    "  \"gs_key\": \"gs://resource-watch-public/resourcewatch/raster/bio_012_1_amphibian_species_under_threat/bio_012_1_amphibian_species_under_threat_edit.tif\"},\n",
    " {\"asset_id\": \"users/resourcewatch/bio_012_species_richness_grids/bio_012_2_mammalian_species_under_threat\",\n",
    "  \"gs_key\": \"gs://resource-watch-public/resourcewatch/raster/bio_012_2_mammalian_species_under_threat/bio_012_2_mammalian_species_under_threat_edit.tif\"},\n",
    "\n",
    "{\"asset_id\": \"users/resourcewatch/bio_014_biodiversity_remaining_in_areas\",\n",
    "  \"gs_key\": \"gs://resource-watch-public/resourcewatch/raster/bio_014_biodiversity_remaining_in_areas/bio_014_biodiversity_remaining_in_areas_edit.tif\"},\n",
    " {\"asset_id\": \"users/resourcewatch/bio_015_human_footprint_impact_on_biodiversity\",\n",
    "  \"gs_key\": \"gs://resource-watch-public/resourcewatch/raster/bio_015_human_footprint_impact_on_biodiversity/bio_015_human_footprint_impact_on_biodiversity_edit.tif\"},\n",
    " \n",
    "'bio_024_local_coral_reef_threats',                       \n",
    "{\"asset_id\": \"users/resourcewatch/bio_024_local_coral_reef_threats/bio_024_1_coral_reef_threat_from_coastal_development\",\n",
    "  \"gs_key\": \"gs://resource-watch-public/resourcewatch/raster/bio_024_1_coral_reef_threat_from_coastal_development/bio_024_1_coral_reef_threat_from_coastal_development_edit.tif\"},\n",
    " {\"asset_id\": \"users/resourcewatch/bio_024_local_coral_reef_threats/bio_024_2_coral_reef_threat_from_marine_pollution\",\n",
    "  \"gs_key\": \"gs://resource-watch-public/resourcewatch/raster/bio_024_2_coral_reef_threat_from_marine_pollution/bio_024_2_coral_reef_threat_from_marine_pollution_edit.tif\"},\n",
    " {\"asset_id\": \"users/resourcewatch/bio_024_local_coral_reef_threats/bio_024_3_coral_reef_threat_from_watershed_pollution\",\n",
    "  \"gs_key\": \"gs://resource-watch-public/resourcewatch/raster/bio_024_3_coral_reef_threat_from_watershed_pollution/bio_024_3_coral_reef_threat_from_watershed_pollution_edit.tif\"},\n",
    " {\"asset_id\": \"users/resourcewatch/bio_024_local_coral_reef_threats/bio_024_4_coral_reef_threat_from_fishing_practices\",\n",
    "  \"gs_key\": \"gs://resource-watch-public/resourcewatch/raster/bio_024_4_coral_reef_threat_from_fishing_practices/bio_024_4_coral_reef_threat_from_fishing_practices_edit.tif\"},\n",
    " {\"asset_id\": \"users/resourcewatch/bio_024_local_coral_reef_threats/bio_024_5_coral_reef_integrated_local_threats\",\n",
    "  \"gs_key\": \"gs://resource-watch-public/resourcewatch/raster/bio_024_5_coral_reef_integrated_local_threats/bio_024_5_coral_reef_integrated_local_threats_edit.tif\"},\n",
    "\n",
    "'cit_014_areas_of_urban_development', \n",
    "{\"asset_id\": \"users/resourcewatch/cit_014_areas_of_urban_development/1975\",\n",
    "  \"gs_key\": \"gs://resource-watch-public/resourcewatch/raster/cit_014_areas_of_urban_development/cit_014_areas_of_urban_development_1975_edit.tif\"},\n",
    " {\"asset_id\": \"users/resourcewatch/cit_014_areas_of_urban_development/1990\",\n",
    "  \"gs_key\": \"gs://resource-watch-public/resourcewatch/raster/cit_014_areas_of_urban_development/cit_014_areas_of_urban_development_1990_edit.tif\"},\n",
    " {\"asset_id\": \"users/resourcewatch/cit_014_areas_of_urban_development/2000\",\n",
    "  \"gs_key\": \"gs://resource-watch-public/resourcewatch/raster/cit_014_areas_of_urban_development/cit_014_areas_of_urban_development_2000_edit.tif\"},\n",
    " {\"asset_id\": \"users/resourcewatch/cit_014_areas_of_urban_development/2015_High_Density_Clusters\",\n",
    "  \"gs_key\": \"gs://resource-watch-public/resourcewatch/raster/cit_014_areas_of_urban_development/cit_014_areas_of_urban_development_2015_HDC_edit.tif\"},\n",
    " {\"asset_id\": \"users/resourcewatch/cit_014_areas_of_urban_development/2015_Low_Density_Clusters\",\n",
    "  \"gs_key\": \"gs://resource-watch-public/resourcewatch/raster/cit_014_areas_of_urban_development/cit_014_areas_of_urban_development_2015_LDC_edit.tif\"},\n",
    " {\"asset_id\": \"users/resourcewatch/cit_014_areas_of_urban_development/2015\",\n",
    "  \"gs_key\": \"gs://resource-watch-public/resourcewatch/raster/cit_014_areas_of_urban_development/cit_014_areas_of_urban_development_2015_edit.tif\"},\n",
    " \n",
    "{\"asset_id\": \"users/resourcewatch/cit_018_monthly_no2_concentrations_in_atmosphere\",\n",
    "  \"gs_key\": \"gs://resource-watch-public/resourcewatch/raster/cit_018_monthly_no2_concentrations_in_atmosphere/cit_018_monthly_no2_concentrations_in_atmosphere_201701_edit.tif\"},\n",
    "\n",
    "'cli_005_sea_ice_extents',\n",
    "{\"asset_id\": \"users/resourcewatch/cli_005_sea_ice_extents/cli_005_1_antarctic_sea_ice_extent\",\n",
    "  \"gs_key\": \"gs://resource-watch-public/resourcewatch/raster/cli_005_antarctic_sea_ice_extent/cli_005_antarctic_sea_ice_extent_edit.tif\"},\n",
    " {\"asset_id\": \"users/resourcewatch/cli_005_sea_ice_extents/cli_005_2_arctic_sea_ice_extent\",\n",
    "  \"gs_key\": \"gs://resource-watch-public/resourcewatch/raster/cli_006_arctic_sea_ice_extent/cli_006_arctic_sea_ice_extent_edit.tif\"},\n",
    "\n",
    "{\"asset_id\": \"users/resourcewatch/dis_004_vulnerability_to_earthquakes\",\n",
    "  \"gs_key\": \"gs://resource-watch-public/resourcewatch/raster/dis_004_vulnerability_to_earthquakes/dis_004_vulnerability_to_earthquakes_edit.tif\"},\n",
    " {\"asset_id\": \"users/resourcewatch/dis_007_landslide_susceptibility_map\",\n",
    "  \"gs_key\": \"gs://resource-watch-public/resourcewatch/raster/dis_007_landslide_susceptibility_map/dis_007_landslide_susceptibility_map_edit.tif\"},\n",
    " {\"asset_id\": \"users/resourcewatch/dis_008_vulnerability_to_volcanic_eruptions\",\n",
    "  \"gs_key\": \"gs://resource-watch-public/resourcewatch/raster/dis_008_vulnerability_to_volcanic_eruptions/dis_008_vulnerability_to_volcanic_eruptions_edit.tif\"},\n",
    " \n",
    "'foo_028_aquastat_irrigated_areas', \n",
    "{\"asset_id\": \"users/resourcewatch/foo_028_aquastat_irrigated_areas/Area_Actually_Irrigated_as_Pct_of_AEI\",\n",
    "  \"gs_key\": \"gs://resource-watch-public/resourcewatch/raster/foo_028_aquastat_irrigated_areas/foo_028_aquastat_irrigated_areas_aai_pct_aei_edit.tif\"},\n",
    " {\"asset_id\": \"users/resourcewatch/foo_028_aquastat_irrigated_areas/Area_Irrigated_with_Groundwater_as_Pct_of_AEI\",\n",
    "  \"gs_key\": \"gs://resource-watch-public/resourcewatch/raster/foo_028_aquastat_irrigated_areas/foo_028_aquastat_irrigated_areas_aeigw_pct_aei_edit.tif\"},\n",
    " {\"asset_id\": \"users/resourcewatch/foo_028_aquastat_irrigated_areas/Area_Irrigated_with_Non_Conventional_Sources_as_Pct_of_AEI\",\n",
    "  \"gs_key\": \"gs://resource-watch-public/resourcewatch/raster/foo_028_aquastat_irrigated_areas/foo_028_aquastat_irrigated_areas_aeinc_pct_aei_edit.tif\"},\n",
    " {\"asset_id\": \"users/resourcewatch/foo_028_aquastat_irrigated_areas/Area_Irrigated_with_Surface_Water_as_Pct_of_AEI\",\n",
    "  \"gs_key\": \"gs://resource-watch-public/resourcewatch/raster/foo_028_aquastat_irrigated_areas/foo_028_aquastat_irrigated_areas_aeisw_pct_aei_edit.tif\"},\n",
    " {\"asset_id\": \"users/resourcewatch/foo_028_aquastat_irrigated_areas/Area_Equipped_for_Irrigation_AEI\",\n",
    "  \"gs_key\": \"gs://resource-watch-public/resourcewatch/raster/foo_028_aquastat_irrigated_areas/foo_028_aquastat_irrigated_areas_area_equipped_irrigation_edit.tif\"},\n",
    " \n",
    "'soc_030_gross_domestic_product', \n",
    "{\"asset_id\": \"users/resourcewatch/soc_030_gross_domestic_product/MER_1990\",\n",
    "  \"gs_key\": \"gs://resource-watch-public/resourcewatch/raster/soc_030_gross_domestic_product/soc_030_mer_1990_sum_edit.tif\"},\n",
    " {\"asset_id\": \"users/resourcewatch/soc_030_gross_domestic_product/MER_1995\",\n",
    "  \"gs_key\": \"gs://resource-watch-public/resourcewatch/raster/soc_030_gross_domestic_product/soc_030_mer_1995_sum_edit.tif\"},\n",
    " {\"asset_id\": \"users/resourcewatch/soc_030_gross_domestic_product/MER_2000\",\n",
    "  \"gs_key\": \"gs://resource-watch-public/resourcewatch/raster/soc_030_gross_domestic_product/soc_030_mer_2000_sum_edit.tif\"},\n",
    " {\"asset_id\": \"users/resourcewatch/soc_030_gross_domestic_product/MER_2005\",\n",
    "  \"gs_key\": \"gs://resource-watch-public/resourcewatch/raster/soc_030_gross_domestic_product/soc_030_mer_2005_sum_edit.tif\"},\n",
    " {\"asset_id\": \"users/resourcewatch/soc_030_gross_domestic_product/PPP_1990\",\n",
    "  \"gs_key\": \"gs://resource-watch-public/resourcewatch/raster/soc_030_gross_domestic_product/soc_030_ppp_1990_sum_edit.tif\"},\n",
    " {\"asset_id\": \"users/resourcewatch/soc_030_gross_domestic_product/PPP_1995\",\n",
    "  \"gs_key\": \"gs://resource-watch-public/resourcewatch/raster/soc_030_gross_domestic_product/soc_030_ppp_1995_sum_edit.tif\"},\n",
    " {\"asset_id\": \"users/resourcewatch/soc_030_gross_domestic_product/PPP_2000\",\n",
    "  \"gs_key\": \"gs://resource-watch-public/resourcewatch/raster/soc_030_gross_domestic_product/soc_030_ppp_2000_sum_edit.tif\"},\n",
    " {\"asset_id\": \"users/resourcewatch/soc_030_gross_domestic_product/PPP_2005\",\n",
    "  \"gs_key\": \"gs://resource-watch-public/resourcewatch/raster/soc_030_gross_domestic_product/soc_030_ppp_2005_sum_edit.tif\"},\n",
    "\n",
    "'soc_031_population_grid',\n",
    " {'asset_id': 'users/resourcewatch/soc_031_population_grid/2000',\n",
    "  'gs_key': 'gs://resource-watch-public/resourcewatch/raster/soc_031_population_grid/soc_031_population_grid_2000_edit.tif'},\n",
    " {'asset_id': 'users/resourcewatch/soc_031_population_grid/2005',\n",
    "  'gs_key': 'gs://resource-watch-public/resourcewatch/raster/soc_031_population_grid/soc_031_population_grid_2005_edit.tif'},\n",
    " {'asset_id': 'users/resourcewatch/soc_031_population_grid/2010',\n",
    "  'gs_key': 'gs://resource-watch-public/resourcewatch/raster/soc_031_population_grid/soc_031_population_grid_2010_edit.tif'},\n",
    " {'asset_id': 'users/resourcewatch/soc_031_population_grid/2020',\n",
    "  'gs_key': 'gs://resource-watch-public/resourcewatch/raster/soc_031_population_grid/soc_031_population_grid_2020_edit.tif'}\n",
    "]\n"
   ]
  },
  {
   "cell_type": "code",
   "execution_count": null,
   "metadata": {
    "collapsed": true
   },
   "outputs": [],
   "source": [
    "upload_instructions = [\n",
    "    \n",
    "    'cit_014_areas_of_urban_development', \n",
    "{\"asset_id\": \"users/resourcewatch/cit_014_areas_of_urban_development/1975\",\n",
    "  \"gs_key\": \"gs://resource-watch-public/resourcewatch/raster/cit_014_areas_of_urban_development/cit_014_areas_of_urban_development_1975_edit.tif\"},\n",
    " {\"asset_id\": \"users/resourcewatch/cit_014_areas_of_urban_development/1990\",\n",
    "  \"gs_key\": \"gs://resource-watch-public/resourcewatch/raster/cit_014_areas_of_urban_development/cit_014_areas_of_urban_development_1990_edit.tif\"},\n",
    " {\"asset_id\": \"users/resourcewatch/cit_014_areas_of_urban_development/2000\",\n",
    "  \"gs_key\": \"gs://resource-watch-public/resourcewatch/raster/cit_014_areas_of_urban_development/cit_014_areas_of_urban_development_2000_edit.tif\"},\n",
    " {\"asset_id\": \"users/resourcewatch/cit_014_areas_of_urban_development/2015_High_Density_Clusters\",\n",
    "  \"gs_key\": \"gs://resource-watch-public/resourcewatch/raster/cit_014_areas_of_urban_development/cit_014_areas_of_urban_development_2015_HDC_edit.tif\"},\n",
    " {\"asset_id\": \"users/resourcewatch/cit_014_areas_of_urban_development/2015_Low_Density_Clusters\",\n",
    "  \"gs_key\": \"gs://resource-watch-public/resourcewatch/raster/cit_014_areas_of_urban_development/cit_014_areas_of_urban_development_2015_LDC_edit.tif\"},\n",
    " {\"asset_id\": \"users/resourcewatch/cit_014_areas_of_urban_development/2015\",\n",
    "  \"gs_key\": \"gs://resource-watch-public/resourcewatch/raster/cit_014_areas_of_urban_development/cit_014_areas_of_urban_development_2015_edit.tif\"},\n",
    " \n",
    "    \n",
    "]"
   ]
  },
  {
   "cell_type": "code",
   "execution_count": null,
   "metadata": {
    "collapsed": false
   },
   "outputs": [],
   "source": [
    "# !gsutil ls gs://resource-watch-public/resourcewatch/raster/*\n",
    "# !gsutil help ls\n",
    "\n",
    "# Add images as assets to GEE\n",
    "for instruction in upload_instructions:\n",
    "    \n",
    "    if(type(instruction)==dict):\n",
    "        os.environ[\"gs_key\"] = instruction[\"gs_key\"]\n",
    "        os.environ[\"asset_id\"] = instruction[\"asset_id\"]\n",
    "        !earthengine upload image --asset_id=$asset_id $gs_key\n",
    "    elif(type(instruction)==str):\n",
    "        os.environ[\"collection_id\"] = instruction\n",
    "        !earthengine create collection users/resourcewatch/$collection_id"
   ]
  },
  {
   "cell_type": "code",
   "execution_count": null,
   "metadata": {
    "collapsed": true
   },
   "outputs": [],
   "source": []
  }
 ],
 "metadata": {
  "kernelspec": {
   "display_name": "Python 3",
   "language": "python",
   "name": "python3"
  },
  "language_info": {
   "codemirror_mode": {
    "name": "ipython",
    "version": 3
   },
   "file_extension": ".py",
   "mimetype": "text/x-python",
   "name": "python",
   "nbconvert_exporter": "python",
   "pygments_lexer": "ipython3",
   "version": "3.6.0"
  }
 },
 "nbformat": 4,
 "nbformat_minor": 2
}
