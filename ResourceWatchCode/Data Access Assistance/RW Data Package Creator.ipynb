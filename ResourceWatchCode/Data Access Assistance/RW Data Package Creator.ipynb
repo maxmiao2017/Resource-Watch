{
 "cells": [
  {
   "cell_type": "code",
   "execution_count": null,
   "metadata": {
    "collapsed": true
   },
   "outputs": [],
   "source": [
    "# Dataframes for general (pd) and geospatial data (gpd)\n",
    "import pandas as pd\n",
    "import geopandas as gpd\n",
    "\n",
    "# Handling vector data\n",
    "import fiona\n",
    "# Handling raster data\n",
    "import rasterio"
   ]
  },
  {
   "cell_type": "code",
   "execution_count": null,
   "metadata": {
    "collapsed": true
   },
   "outputs": [],
   "source": [
    "# To do: \n",
    "# Download MapSpam tif\n",
    "# Download gridded GDP\n",
    "# Download WorldPop SouthAsia\n",
    "# Download groads\n",
    "# Download hydrosheds watersheds tif\n",
    "# Download WHYMAP groundwater vulnerability\n",
    "\n",
    "# Upload each to S3\n",
    "\n",
    "# Demo ogr commands for subsetting"
   ]
  },
  {
   "cell_type": "code",
   "execution_count": null,
   "metadata": {
    "collapsed": true
   },
   "outputs": [],
   "source": [
    "# List the RW API names of datasets desired\n",
    "names_of_desired_datasets = [\"MapSPAM.tif\", \"HydroShedsWatersheds.shp\", \"OSMRailways.shp\"]\n",
    "\n",
    "s3 = boto3.client('s3')\n",
    "\n",
    "# S3 calls to download that data\n",
    "for dataset in names_of_desired_datasets:\n",
    "    s3.download_file(\"wri-projects\", \"resourcewatch/\" + dataset, dataset)\n",
    "\n",
    "\n",
    "# Create window of raster data, \n",
    "# including if there are sub-variables\n",
    "\n",
    "# Format: [xmin ymin xmax ymax]\n",
    "study_area_boundary = [0, 0, 180, 180]\n",
    "\n",
    "with rasterio.open('mapspam.tif', 'r') as raster:\n",
    "\n",
    "    ul = raster.index(*study_area_boundary[0:2])\n",
    "    lr = raster.index(*study_area_boundary[2:4])\n",
    "\n",
    "    window = ((lr[0], ul[0]+1), (ul[1], lr[1]+1))\n",
    "    clipped_data = raster.read_band(1, window=window)\n",
    "    \n",
    "    # Specify which variable is wanted\n",
    "    var_id = \"However Rice is represented in MapSpam\"\n",
    "    \n",
    "    clipped_filtered_data = clipped_data[clipped_data==var_id]\n",
    "    \n",
    "\n",
    "# Create window of vector data\n",
    "# Decide whether to clip vectors at edges or include overspill bits\n",
    "\n",
    "# https://gis.stackexchange.com/questions/57964/get-vector-features-inside-a-specific-extent\n",
    "\n",
    "# with Fiona, doesnt clip polys\n",
    "\n",
    "from shapely.geometry import mapping, shape\n",
    "import fiona\n",
    "# Read the original Shapefile\n",
    "input = fiona.open('data.shp', 'r')\n",
    "# bounds of the original shapefile\n",
    "input.bounds\n",
    "(258018.9133083854, 158162.863836, 268763.670357, 162621.686305)\n",
    "# clip the shapefile with the raster bounds \n",
    "clipped = input.filter(bbox=((262236.3101588468, 159973.80344954136, 263491.7250217228, 160827.485556297)))\n",
    "# create the clipped shapefile with the same schema\n",
    "clipped_schema = input.schema.copy()\n",
    "with fiona.collection('clipped.shp', 'w', 'ESRI Shapefile', clipped_schema) as output:\n",
    "    for elem in clipped:\n",
    "           output.write({'properties': elem['properties'],'geometry': mapping(shape(elem['geometry']))})\n",
    "\n",
    "\n",
    "# With GeoPandas, does clip polys\n",
    "import geopandas as gp\n",
    "from shapely.geometry import Polygon\n",
    "\n",
    "# Point to the folder containing the unzipped shapefile\n",
    "basemap = gp.read_file('ne_10m_admin_0_countries')\n",
    "\n",
    "# Set the bounds of the crop box\n",
    "xmin, xmax, ymin, ymax = 6, 18, 36, 50 \n",
    "bounds = Polygon( [(xmin,ymin), (xmin, ymax), (xmax, ymax), (xmax,ymin)] )\n",
    "\n",
    "# Crop all polygons and take the part inside the bounding box\n",
    "basemap['geometry'] = basemap['geometry'].intersection(bounds)\n",
    "\n",
    "# Export non-empty geometries to shp\n",
    "basemap[basemap.geometry.area>0].to_file(\"countries_CROPPED.shp\", driver='ESRI Shapefile')\n",
    "\n",
    "\n",
    "\n",
    "# with ogr2ogr\n",
    "# -spat xmin ymin xmax ymax and -clipsrc [xmin ymin xmax ymax]\n",
    "# http://www.gdal.org/ogr2ogr.html\n",
    "# https://gis.stackexchange.com/questions/59526/ogr2ogr-extract-shp-file-by-extent-with-bash-script\n",
    "# https://anitagraser.com/2012/05/09/batch-shapefile-clipping/\n",
    "\n",
    "### Q: how does this handle zipped files?\n",
    "# Yes: https://github.com/dwtkns/gdal-cheat-sheet\n",
    "# Read from a zip file\n",
    "# This assumes that archive.zip is in the current directory. \n",
    "# This example just extracts the file, but any ogr2ogr operation should work. \n",
    "# It's also possible to write to existing zip files.\n",
    "# ogr2ogr -f 'GeoJSON' dest.geojson /vsizip/archive.zip/zipped_dir/in.geojson\n",
    "\n",
    "# Set env variable\n",
    "os.environ[\"xmin\"] = bdy[0]\n",
    "os.environ[\"ymin\"] = bdy[1]\n",
    "os.environ[\"xmax\"] = bdy[2]\n",
    "os.environ[\"ymax\"] = bdy[3]\n",
    "\n",
    "# Equivalent to fiona approach\n",
    "!ogr2ogr -spat $xmin $ymin $xmax $ymax output.shp /vsizip/$inputzip/zipped_dir/input.shp\n",
    "\n",
    "# Equivalent to geopandas approach\n",
    "!ogr2ogr -clipsrc [$xmin $ymin $xmax $ymax ] output.shp /vsizip/$inputzip/zipped_dir/input.shp\n",
    "\n"
   ]
  },
  {
   "cell_type": "code",
   "execution_count": null,
   "metadata": {
    "collapsed": false
   },
   "outputs": [],
   "source": [
    "bdy = [1,2,3,4]\n",
    "print(*bdy[0:2])"
   ]
  }
 ],
 "metadata": {
  "kernelspec": {
   "display_name": "Python 3",
   "language": "python",
   "name": "python3"
  },
  "language_info": {
   "codemirror_mode": {
    "name": "ipython",
    "version": 3
   },
   "file_extension": ".py",
   "mimetype": "text/x-python",
   "name": "python",
   "nbconvert_exporter": "python",
   "pygments_lexer": "ipython3",
   "version": "3.6.0"
  }
 },
 "nbformat": 4,
 "nbformat_minor": 2
}
