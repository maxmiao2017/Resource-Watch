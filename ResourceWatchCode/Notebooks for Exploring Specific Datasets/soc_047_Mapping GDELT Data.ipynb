{
 "cells": [
  {
   "cell_type": "code",
   "execution_count": null,
   "metadata": {
    "collapsed": false
   },
   "outputs": [],
   "source": [
    "import pandas as pd\n",
    "import numpy as np\n",
    "import fiona\n",
    "import shapely\n",
    "import folium\n",
    "import os\n",
    "import json\n",
    "\n",
    "from shapely.geometry import Point\n",
    "from geopandas import GeoDataFrame, read_file\n",
    "from geopandas.tools import overlay, sjoin"
   ]
  },
  {
   "cell_type": "code",
   "execution_count": null,
   "metadata": {
    "collapsed": true
   },
   "outputs": [],
   "source": [
    "# Brazil States\n",
    "root = os.getcwd()\n",
    "brazil_shp = read_file(root+'/BRA_adm_shp/BRA_adm1.shp')\n",
    "\n",
    "# Generate some points\n",
    "#b = [int(x) for x in polydf.total_bounds]\n",
    "#N = 8\n",
    "#pointdf = GeoDataFrame([\n",
    "#    {'geometry' : Point(x, y), 'value1': x + y, 'value2': x - y}\n",
    "#    for x, y in zip(range(b[0], b[2], int((b[2]-b[0])/N)),\n",
    "#                    range(b[1], b[3], int((b[3]-b[1])/N)))])\n",
    "\n",
    "# Upload Brazil Gdelt points\n",
    "\n",
    "brazil_shp"
   ]
  },
  {
   "cell_type": "code",
   "execution_count": null,
   "metadata": {
    "collapsed": false
   },
   "outputs": [],
   "source": [
    "gdelt_stories = pd.read_csv(root+\"/2016Banks.csv\", header=None, names=[\"lat\", \"lon\"])\n",
    "# Remember to make points as lon, lat\n",
    "gdelt_stories['geometry'] = gdelt_stories.apply(lambda row: Point(row.lon, row.lat), axis=1)\n",
    "gdelt_stories = GeoDataFrame(gdelt_stories).drop([\"lon\", \"lat\"], axis=1)\n",
    "gdelt_stories[\"tags\"] = [\"todo\" for i in range(gdelt_stories.shape[0])]\n",
    "gdelt_stories"
   ]
  },
  {
   "cell_type": "code",
   "execution_count": null,
   "metadata": {
    "collapsed": false
   },
   "outputs": [],
   "source": [
    "join_left_df = sjoin(brazil_shp, gdelt_stories, how=\"left\")\n",
    "# https://github.com/geopandas/geopandas/issues/325\n",
    "# This will fail with an \"empty to concatenate\" message if \n",
    "join_left_df"
   ]
  },
  {
   "cell_type": "code",
   "execution_count": null,
   "metadata": {
    "collapsed": false
   },
   "outputs": [],
   "source": [
    "join_left_df.shape"
   ]
  },
  {
   "cell_type": "code",
   "execution_count": null,
   "metadata": {
    "collapsed": false
   },
   "outputs": [],
   "source": [
    "# Sum up the number of articles by brazil feature\n",
    "# Use the geopandas dataframe to make the geo_json\n",
    "\n",
    "# Use groupby?\n",
    "# shortcut, need to do significant work to get this to count by tags when that info is here\n",
    "region_counts = brazil_with_gdelt_stories.groupby([\"ID_1\"]).count()[\"tags\"]\n",
    "# Set region_counts to 0 because the center of the country\n",
    "# gets so many hits from the stories tagged just \"Brazil\"\n",
    "# Can work around this by filtering out the points from the CSV above that correspond to only Brazil\n",
    "## Because this way, we don't see any articles that were coded at a detailed level that happened\n",
    "## To also fall in the shape shared by the center of the country\n",
    "region_counts[12]=0\n",
    "region_counts\n"
   ]
  },
  {
   "cell_type": "code",
   "execution_count": null,
   "metadata": {
    "collapsed": false
   },
   "outputs": [],
   "source": [
    "root = os.getcwd() + \"/\"\n",
    "GADM_Brazil_dest = root + \"BRA_adm_shp/BRA_adm1.shp\"\n",
    "\n",
    "Brazil_features = []\n",
    "ids = []\n",
    "with fiona.collection(GADM_Brazil_dest, \"r\") as source:\n",
    "    for feature in source:\n",
    "        # Update properties to include GDELT data\n",
    "        idx = int(feature[\"id\"])\n",
    "        feature[\"id\"] = idx\n",
    "        ids.append(idx)\n",
    "        Brazil_features.append(feature)\n",
    "    #crs = \" \".join(\"+%s=%s\" % (k,v) for k,v in source.crs.items())\n",
    "\n",
    "my_layer = {\n",
    "    \"type\": \"FeatureCollection\",\n",
    "    \"features\": Brazil_features,\n",
    "    \"crs\": {\n",
    "        \"type\": \"link\", \n",
    "        \"properties\": {\"href\": \"my_layer.crs\", \"type\": \"proj4\"} }}\n",
    "\n",
    "with open(\"Brazil_GADM.json\", \"w\") as f:\n",
    "    f.write(json.dumps(my_layer))\n",
    "\n",
    "    \n",
    "#print(Brazil_polys)"
   ]
  },
  {
   "cell_type": "code",
   "execution_count": null,
   "metadata": {
    "collapsed": false
   },
   "outputs": [],
   "source": [
    "ids = sorted(ids)\n",
    "rng = list(range(0,len(ids)))\n",
    "print(rng == ids)\n",
    "print(len(ids))"
   ]
  },
  {
   "cell_type": "code",
   "execution_count": null,
   "metadata": {
    "collapsed": false
   },
   "outputs": [],
   "source": [
    "data_df = pd.DataFrame({\"id\":ids,\n",
    "                       \"num_stories\":region_counts})"
   ]
  },
  {
   "cell_type": "code",
   "execution_count": null,
   "metadata": {
    "collapsed": true
   },
   "outputs": [],
   "source": [
    "data_df.head()"
   ]
  },
  {
   "cell_type": "code",
   "execution_count": null,
   "metadata": {
    "collapsed": false
   },
   "outputs": [],
   "source": [
    "geo_json = r'Brazil_GADM.json'\n",
    "\n",
    "map_osm = folium.Map(location=[-22.9068, -40.1729], zoom_start=3)\n",
    "\n",
    "map_osm.choropleth(geo_path=geo_json, data = data_df,\n",
    "                   columns=['id', 'num_stories'],\n",
    "                   key_on='feature.id',\n",
    "                   fill_color='YlOrRd', \n",
    "                 fill_opacity=0.7, line_opacity=0.3,\n",
    "                legend_name=\"Number of Stories\")\n",
    "\n",
    "## Notice that most stories are around Rio\n",
    "# Filtering for different tags you may see interesting stories\n",
    "\n",
    "map_osm\n",
    "\n"
   ]
  }
 ],
 "metadata": {
  "kernelspec": {
   "display_name": "Python 3",
   "language": "python",
   "name": "python3"
  },
  "language_info": {
   "codemirror_mode": {
    "name": "ipython",
    "version": 3
   },
   "file_extension": ".py",
   "mimetype": "text/x-python",
   "name": "python",
   "nbconvert_exporter": "python",
   "pygments_lexer": "ipython3",
   "version": "3.6.0"
  }
 },
 "nbformat": 4,
 "nbformat_minor": 2
}
