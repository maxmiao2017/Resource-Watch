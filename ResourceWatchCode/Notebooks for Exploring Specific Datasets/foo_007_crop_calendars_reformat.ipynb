{
 "cells": [
  {
   "cell_type": "code",
   "execution_count": null,
   "metadata": {
    "collapsed": false
   },
   "outputs": [],
   "source": [
    "import pandas as pd\n",
    "import math\n",
    "\n",
    "pd.set_option(\"max.columns\", 1000)\n",
    "pd.set_option(\"max.rows\", 2000)"
   ]
  },
  {
   "cell_type": "markdown",
   "metadata": {},
   "source": [
    "# Crop Calendars"
   ]
  },
  {
   "cell_type": "code",
   "execution_count": null,
   "metadata": {
    "collapsed": false
   },
   "outputs": [],
   "source": [
    "crop_calendars_xls = pd.ExcelFile(\"Aquastat_crop_calendars_eng.xlsx\")"
   ]
  },
  {
   "cell_type": "code",
   "execution_count": null,
   "metadata": {
    "collapsed": false
   },
   "outputs": [],
   "source": [
    "# Create a dictionary of crop cals\n",
    "\n",
    "crop_cals = {}\n",
    "for ctry in crop_calendars_xls.sheet_names:\n",
    "    crop_cals[ctry] = crop_calendars_xls.parse(ctry)\n"
   ]
  },
  {
   "cell_type": "code",
   "execution_count": null,
   "metadata": {
    "collapsed": false
   },
   "outputs": [],
   "source": [
    "crop_cals_comp = pd.DataFrame(columns=[\"Country\",\"Country_ISO3\", \"Year\",\"Crop\",\"Crop_Area\",\n",
    "                                      \"Jan\", \"Feb\", \"Mar\", \"Apr\", \"May\", \"Jun\",\n",
    "                                      \"Jul\", \"Aug\", \"Sep\", \"Oct\", \"Nov\", \"Dec\"])\n",
    "\n",
    "crop_cals_comp"
   ]
  },
  {
   "cell_type": "code",
   "execution_count": null,
   "metadata": {
    "collapsed": false
   },
   "outputs": [],
   "source": [
    "#### Country ISO3 for USA, India, China will be wrong... \n",
    "#### they each have regional crop calendars\n",
    "\n",
    "# https://stackoverflow.com/questions/16597265/appending-to-an-empty-data-frame-in-pandas\n",
    "\n",
    "for ctry in crop_calendars_xls.sheet_names:\n",
    "\n",
    "    print(ctry)\n",
    "    \n",
    "    if not isinstance(crop_cals[ctry][crop_cals[ctry].columns[0]].iloc[0], str):\n",
    "        # drop the empty column\n",
    "        crop_cals[ctry].drop([crop_cals[ctry].columns[0]], inplace=True, axis = 1) \n",
    "        # create the col_names dictionary\n",
    "        col_names = {\n",
    "            \"YearArea\": \"Unnamed: 2\",\n",
    "            \"Jan\": \"Unnamed: 3\",\n",
    "            \"Feb\": \"Unnamed: 4\",\n",
    "            \"Mar\": \"Unnamed: 5\",\n",
    "            \"Apr\": \"Unnamed: 6\",\n",
    "            \"May\": \"Unnamed: 7\",\n",
    "            \"Jun\": \"Unnamed: 8\",\n",
    "            \"Jul\": \"Unnamed: 9\",\n",
    "            \"Aug\": \"Unnamed: 10\",\n",
    "            \"Sep\": \"Unnamed: 11\",\n",
    "            \"Oct\": \"Unnamed: 12\",\n",
    "            \"Nov\": \"Unnamed: 13\",\n",
    "            \"Dec\": \"Unnamed: 14\"\n",
    "            }\n",
    "    else:\n",
    "        col_names = {\n",
    "            \"YearArea\": \"Unnamed: 1\",\n",
    "            \"Jan\": \"Unnamed: 2\",\n",
    "            \"Feb\": \"Unnamed: 3\",\n",
    "            \"Mar\": \"Unnamed: 4\",\n",
    "            \"Apr\": \"Unnamed: 5\",\n",
    "            \"May\": \"Unnamed: 6\",\n",
    "            \"Jun\": \"Unnamed: 7\",\n",
    "            \"Jul\": \"Unnamed: 8\",\n",
    "            \"Aug\": \"Unnamed: 9\",\n",
    "            \"Sep\": \"Unnamed: 10\",\n",
    "            \"Oct\": \"Unnamed: 11\",\n",
    "            \"Nov\": \"Unnamed: 12\",\n",
    "            \"Dec\": \"Unnamed: 13\"\n",
    "            }\n",
    "\n",
    "    col = crop_cals[ctry][crop_cals[ctry].columns[0]]\n",
    "    \n",
    "    if col.iloc[1] in \"Irrigated crops\":\n",
    "        crop_idx = 3\n",
    "        year_idx = 0\n",
    "    else:\n",
    "        crop_idx = 4\n",
    "        year_idx = 1\n",
    "\n",
    "    while col.iloc[crop_idx][0:9] not in \"Harvested\":\n",
    "\n",
    "        new_line = {\n",
    "            \"Country\":  crop_cals[ctry].columns[0],\n",
    "            \"Country_ISO3\": ctry[0:3],\n",
    "            \"Year\": crop_cals[ctry][col_names[\"YearArea\"]].iloc[year_idx],\n",
    "            # will have to loop over columns, starting @ 4, going until\n",
    "            # first 9 letters are \"Harvested\"\n",
    "            \"Crop\": crop_cals[ctry][crop_cals[ctry].columns[0]].iloc[crop_idx],\n",
    "            \"Crop_Area\": crop_cals[ctry][col_names[\"YearArea\"]].iloc[crop_idx],\n",
    "            \"Jan\": round(crop_cals[ctry][col_names[\"Jan\"]].iloc[crop_idx], 0),\n",
    "            \"Feb\": round(crop_cals[ctry][col_names[\"Feb\"]].iloc[crop_idx], 0),\n",
    "            \"Mar\": round(crop_cals[ctry][col_names[\"Mar\"]].iloc[crop_idx], 0),\n",
    "            \"Apr\": round(crop_cals[ctry][col_names[\"Apr\"]].iloc[crop_idx], 0),\n",
    "            \"May\": round(crop_cals[ctry][col_names[\"May\"]].iloc[crop_idx], 0),\n",
    "            \"Jun\": round(crop_cals[ctry][col_names[\"Jun\"]].iloc[crop_idx], 0),\n",
    "            \"Jul\": round(crop_cals[ctry][col_names[\"Jul\"]].iloc[crop_idx], 0),\n",
    "            \"Aug\": round(crop_cals[ctry][col_names[\"Aug\"]].iloc[crop_idx], 0),\n",
    "            \"Sep\": round(crop_cals[ctry][col_names[\"Sep\"]].iloc[crop_idx], 0),\n",
    "            \"Oct\": round(crop_cals[ctry][col_names[\"Oct\"]].iloc[crop_idx], 0),\n",
    "            \"Nov\": round(crop_cals[ctry][col_names[\"Nov\"]].iloc[crop_idx], 0),\n",
    "            \"Dec\": round(crop_cals[ctry][col_names[\"Dec\"]].iloc[crop_idx], 0) \n",
    "        }\n",
    "        crop_idx = crop_idx + 1\n",
    "        crop_cals_comp = crop_cals_comp.append(new_line, ignore_index=True)\n"
   ]
  },
  {
   "cell_type": "code",
   "execution_count": null,
   "metadata": {
    "collapsed": true
   },
   "outputs": [],
   "source": [
    "crop_cals_comp"
   ]
  },
  {
   "cell_type": "code",
   "execution_count": null,
   "metadata": {
    "collapsed": true
   },
   "outputs": [],
   "source": [
    "# Re-initialize dictionary of crop cals so that Oman will be assigned\n",
    "# to first dictionary of col_names\n",
    "\n",
    "crop_cals = {}\n",
    "for ctry in crop_calendars_xls.sheet_names:\n",
    "    crop_cals[ctry] = crop_calendars_xls.parse(ctry)\n"
   ]
  },
  {
   "cell_type": "code",
   "execution_count": null,
   "metadata": {
    "collapsed": false
   },
   "outputs": [],
   "source": [
    "country_info = pd.DataFrame(columns=[\"Country\",\"Country_ISO3\", \"Year\", \"Country_narrative\", \"AHI_full\", \"AAI_full_total\",\n",
    "                                    \"Crop_intensity\", \"AEI_full\", \"Per_full_irrigated\", \"AEI_total\",\n",
    "                                    \"Jan_AAI_full\", \"Feb_AAI_full\", \"Mar_AAI_full\", \n",
    "                                    \"Apr_AAI_full\", \"May_AAI_full\", \"Jun_AAI_full\",\n",
    "                                    \"Jul_AAI_full\", \"Aug_AAI_full\", \"Sep_AAI_full\", \n",
    "                                    \"Oct_AAI_full\", \"Nov_AAI_full\", \"Dec_AAI_full\"])\n",
    "\n",
    "country_info"
   ]
  },
  {
   "cell_type": "code",
   "execution_count": null,
   "metadata": {
    "collapsed": true
   },
   "outputs": [],
   "source": [
    "for ctry in crop_calendars_xls.sheet_names:\n",
    "    print(ctry)\n",
    "    # If initializes with empty column, drop it\n",
    "    # name other columns\n",
    "    if not isinstance(crop_cals[ctry][crop_cals[ctry].columns[0]].iloc[0], str):\n",
    "        # drop the empty column\n",
    "        crop_cals[ctry].drop([crop_cals[ctry].columns[0]], inplace=True, axis = 1) \n",
    "        # create the col_names dictionary\n",
    "        col_names = {\n",
    "            \"MainContent\": \"Unnamed: 2\",\n",
    "            \"Jan_AAI_full\": \"Unnamed: 3\",\n",
    "            \"Feb_AAI_full\": \"Unnamed: 4\",\n",
    "            \"Mar_AAI_full\": \"Unnamed: 5\",\n",
    "            \"Apr_AAI_full\": \"Unnamed: 6\",\n",
    "            \"May_AAI_full\": \"Unnamed: 7\",\n",
    "            \"Jun_AAI_full\": \"Unnamed: 8\",\n",
    "            \"Jul_AAI_full\": \"Unnamed: 9\",\n",
    "            \"Aug_AAI_full\": \"Unnamed: 10\",\n",
    "            \"Sep_AAI_full\": \"Unnamed: 11\",\n",
    "            \"Oct_AAI_full\": \"Unnamed: 12\",\n",
    "            \"Nov_AAI_full\": \"Unnamed: 13\",\n",
    "            \"Dec_AAI_full\": \"Unnamed: 14\"\n",
    "            }\n",
    "    else:\n",
    "        col_names = {\n",
    "            \"MainContent\": \"Unnamed: 1\",\n",
    "            \"Jan_AAI_full\": \"Unnamed: 2\",\n",
    "            \"Feb_AAI_full\": \"Unnamed: 3\",\n",
    "            \"Mar_AAI_full\": \"Unnamed: 4\",\n",
    "            \"Apr_AAI_full\": \"Unnamed: 5\",\n",
    "            \"May_AAI_full\": \"Unnamed: 6\",\n",
    "            \"Jun_AAI_full\": \"Unnamed: 7\",\n",
    "            \"Jul_AAI_full\": \"Unnamed: 8\",\n",
    "            \"Aug_AAI_full\": \"Unnamed: 9\",\n",
    "            \"Sep_AAI_full\": \"Unnamed: 10\",\n",
    "            \"Oct_AAI_full\": \"Unnamed: 11\",\n",
    "            \"Nov_AAI_full\": \"Unnamed: 12\",\n",
    "            \"Dec_AAI_full\": \"Unnamed: 13\"\n",
    "            }\n",
    "                \n",
    "    col = crop_cals[ctry][crop_cals[ctry].columns[0]]   \n",
    "    \n",
    "    if col.iloc[1] in \"Irrigated crops\":\n",
    "        year_idx = 0\n",
    "    else:\n",
    "        year_idx = 1\n",
    "    \n",
    "    # find reference points for harvest and narrative\n",
    "    ref = [str(s) for s in col]\n",
    "    harvest = [i for i,har in enumerate(ref) if har[0:9] in \"Harvested\"]\n",
    "    harvest_idx = harvest[0]    \n",
    "    \n",
    "    narrative = [i for i,nar in enumerate(ref) if nar[0:9] in \"Narrative\"]\n",
    "    narrative_idx = narrative[0]+1\n",
    "    \n",
    "    main_content = crop_cals[ctry][col_names[\"MainContent\"]]\n",
    "\n",
    "    new_line = {\n",
    "        \"Country\":  crop_cals[ctry].columns[0],\n",
    "        \"Country_ISO3\": ctry[0:3],\n",
    "        \"Year\": main_content.iloc[year_idx],\n",
    "        \"Country_narrative\": col.iloc[narrative_idx],\n",
    "\n",
    "        \"AHI_full\": main_content.iloc[harvest_idx],\n",
    "        \"Crop_intensity\": main_content.iloc[harvest_idx + 2], \n",
    "        \"AEI_full\": main_content.iloc[harvest_idx + 3], \n",
    "        \"Per_full_irrigated\": main_content.iloc[harvest_idx + 4], \n",
    "        \"AEI_total\": main_content.iloc[harvest_idx + 5],\n",
    "\n",
    "        \"AAI_full_total\": main_content.iloc[harvest_idx + 1],\n",
    "        \"Jan_AAI_full\": round(crop_cals[ctry][col_names[\"Jan_AAI_full\"]].iloc[harvest_idx + 1], 0),\n",
    "        \"Feb_AAI_full\": round(crop_cals[ctry][col_names[\"Feb_AAI_full\"]].iloc[harvest_idx + 1], 0),\n",
    "        \"Mar_AAI_full\": round(crop_cals[ctry][col_names[\"Mar_AAI_full\"]].iloc[harvest_idx + 1], 0),\n",
    "        \"Apr_AAI_full\": round(crop_cals[ctry][col_names[\"Apr_AAI_full\"]].iloc[harvest_idx + 1], 0),\n",
    "        \"May_AAI_full\": round(crop_cals[ctry][col_names[\"May_AAI_full\"]].iloc[harvest_idx + 1], 0),\n",
    "        \"Jun_AAI_full\": round(crop_cals[ctry][col_names[\"Jun_AAI_full\"]].iloc[harvest_idx + 1], 0),\n",
    "        \"Jul_AAI_full\": round(crop_cals[ctry][col_names[\"Jul_AAI_full\"]].iloc[harvest_idx + 1], 0),\n",
    "        \"Aug_AAI_full\": round(crop_cals[ctry][col_names[\"Aug_AAI_full\"]].iloc[harvest_idx + 1], 0),\n",
    "        \"Sep_AAI_full\": round(crop_cals[ctry][col_names[\"Sep_AAI_full\"]].iloc[harvest_idx + 1], 0),\n",
    "        \"Oct_AAI_full\": round(crop_cals[ctry][col_names[\"Oct_AAI_full\"]].iloc[harvest_idx + 1], 0),\n",
    "        \"Nov_AAI_full\": round(crop_cals[ctry][col_names[\"Nov_AAI_full\"]].iloc[harvest_idx + 1], 0),\n",
    "        \"Dec_AAI_full\": round(crop_cals[ctry][col_names[\"Dec_AAI_full\"]].iloc[harvest_idx + 1], 0) \n",
    "    }\n",
    "        \n",
    "    country_info = country_info.append(new_line, ignore_index=True)"
   ]
  },
  {
   "cell_type": "code",
   "execution_count": null,
   "metadata": {
    "collapsed": true
   },
   "outputs": [],
   "source": [
    "country_info"
   ]
  },
  {
   "cell_type": "code",
   "execution_count": null,
   "metadata": {
    "collapsed": false
   },
   "outputs": [],
   "source": [
    "# Write out\n",
    "crop_cals_comp.to_csv(\"crop_cals_comp.csv\")\n",
    "country_info.to_csv(\"country_info.csv\")"
   ]
  },
  {
   "cell_type": "markdown",
   "metadata": {},
   "source": [
    "# Water Withdrawal Statistics"
   ]
  },
  {
   "cell_type": "code",
   "execution_count": null,
   "metadata": {
    "collapsed": false
   },
   "outputs": [],
   "source": [
    "# Has a multi-index\n",
    "water_withdrawal = pd.read_excel(\"aquastat-withdrawals.xlsx\")\n",
    "water_withdrawal.reset_index(inplace=True)"
   ]
  },
  {
   "cell_type": "code",
   "execution_count": null,
   "metadata": {
    "collapsed": false
   },
   "outputs": [],
   "source": [
    "# This was proposed to drop from a multi-index... better to just reset index\n",
    "#water_withdrawal.drop(('NaN', 'NaN'), inplace=True, axis=0)"
   ]
  },
  {
   "cell_type": "code",
   "execution_count": null,
   "metadata": {
    "collapsed": false
   },
   "outputs": [],
   "source": [
    "keep = []\n",
    "for i in water_withdrawal[\"level_0\"]:\n",
    "    if isinstance(i, str):\n",
    "        keep.append(True)\n",
    "    else:\n",
    "        keep.append(False)\n",
    "\n",
    "water_withdrawal = water_withdrawal[ keep ]"
   ]
  },
  {
   "cell_type": "code",
   "execution_count": null,
   "metadata": {
    "collapsed": true
   },
   "outputs": [],
   "source": [
    "# Drop all rows past 3399, columns that are Unnamed\n",
    "keep2 = [idx for idx in water_withdrawal.index if idx in range(0,3400)]\n",
    "water_withdrawal = water_withdrawal.loc[keep2]\n",
    "water_withdrawal.index = range(0, len(water_withdrawal.index))\n",
    "\n",
    "drop_cols = [x for x in list(water_withdrawal.columns) if \"Unnamed\" in str(x)]\n",
    "water_withdrawal.drop(drop_cols, inplace=True, axis=1)\n"
   ]
  },
  {
   "cell_type": "code",
   "execution_count": null,
   "metadata": {
    "collapsed": true
   },
   "outputs": [],
   "source": [
    "# Match country name with country code\n",
    "country_codes = pd.read_csv(\"./country_codes.csv\", sep='\\t', header=None)\n",
    "country_codes[\"Country_ISO3\"] = country_codes.apply(lambda row: row[0][0:4], axis=1)\n",
    "country_codes.index = country_codes.apply(lambda row: row[0][4:].lower(), axis=1)\n",
    "country_codes.drop([0], inplace=True, axis=1)\n",
    "country_codes"
   ]
  },
  {
   "cell_type": "code",
   "execution_count": null,
   "metadata": {
    "collapsed": true
   },
   "outputs": [],
   "source": [
    "def tryiso(default, row):\n",
    "    try:\n",
    "        return country_codes.loc[row[\"level_0\"].lower()]\n",
    "    except:\n",
    "        print(\"couldn't find it...\")\n",
    "   \n",
    "    return default\n",
    "\n",
    "water_withdrawal[\"Country_ISO3\"] = water_withdrawal.apply(lambda row: tryiso(None, row), axis=1)\n"
   ]
  },
  {
   "cell_type": "code",
   "execution_count": null,
   "metadata": {
    "collapsed": true
   },
   "outputs": [],
   "source": [
    "man_nam_ix = [water_withdrawal[\"level_0\"].iloc[i] for i,nam in enumerate(water_withdrawal[\"Country_ISO3\"]) if nam == None ]\n",
    "\n",
    "# leaves only unique elements\n",
    "man_nam = set(man_nam_ix)\n",
    "man_nam = list(man_nam)\n",
    "man_nam\n",
    "\n",
    "# src: https://unstats.un.org/unsd/tradekb/Knowledgebase/Country-Code\n",
    "\n",
    "leftover_dict = {}\n",
    "for nam in man_nam:\n",
    "    print(nam)\n",
    "    leftover_dict[nam] = input()\n",
    "    \n",
    "# Problematic?\n",
    "# West Bank, Ethiopia, Serbia and Montenegro, Sudan (pre-2011), Yugoslav SFR\n",
    "# Czechoslovakia, Cabo Verde, Gaza Strip, Occupied Palestinian Territory\n",
    "# USSR, Belgium-Luxembourg, Czechia, Unspecified, South Sudan, Channel Islands\n",
    "\n",
    "\"\"\"\n",
    "West Bank\n",
    "PSE\n",
    "Micronesia (Federated States of)\n",
    "FSM\n",
    "United Republic of Tanzania\n",
    "TZA\n",
    "Ethiopia PDR\n",
    "ETH\n",
    "Serbia and Montenegro\n",
    "SRB-MNE\n",
    "Pitcairn Islands\n",
    "PCN\n",
    "United States Virgin Islands\n",
    "VIR\n",
    "United States of America\n",
    "USA\n",
    "Sudan (pre-2011)\n",
    "SDN\n",
    "Yugoslav SFR\n",
    "MKD\n",
    "The former Yugoslav Republic of Macedonia\n",
    "MKD\n",
    "Czechoslovakia\n",
    "CZE-SVK\n",
    "Iran (Islamic Republic of)\n",
    "IRN\n",
    "Saint Helena\n",
    "SHN\n",
    "Cabo Verde\n",
    "CPV\n",
    "Wallis and Futuna Islands\n",
    "WLF\n",
    "British Virgin Islands\n",
    "VGB\n",
    "Gaza Strip\n",
    "PSE\n",
    "Occupied Palestinian Territory\n",
    "PSE\n",
    "Republic of Moldova\n",
    "MDA\n",
    "Libya\n",
    "LBY\n",
    "Venezuela (Bolivarian Republic of)\n",
    "VEN\n",
    "USSR\n",
    "RUS\n",
    "Belgium-Luxembourg\n",
    "BEL-LUX\n",
    "Czechia\n",
    "CZE\n",
    "Svalbard and Jan Mayen Islands\n",
    "SJM\n",
    "Democratic People's Republic of Korea\n",
    "PRK\n",
    "Holy See\n",
    "VAT\n",
    "Unspecified\n",
    "-\n",
    "South Sudan\n",
    "SDN\n",
    "Reunion\n",
    "REU\n",
    "Democratic Republic of the Congo\n",
    "COD\n",
    "Aland Islands\n",
    "ALA\n",
    "Republic of Korea\n",
    "KOR\n",
    "Channel Islands\n",
    "-\n",
    "Bolivia (Plurinational State of)\n",
    "BOL\n",
    "\"\"\""
   ]
  },
  {
   "cell_type": "code",
   "execution_count": null,
   "metadata": {
    "collapsed": false
   },
   "outputs": [],
   "source": [
    "def fill_iso(row):\n",
    "    if(row[\"Country_ISO3\"] == None):\n",
    "        return leftover_dict[row[\"level_0\"]]\n",
    "    else:\n",
    "        return row[\"Country_ISO3\"]\n",
    "\n",
    "water_withdrawal[\"Country_ISO3\"] = water_withdrawal.apply(lambda row: fill_iso(row), axis=1)\n",
    "\n",
    "#leftover_dict"
   ]
  },
  {
   "cell_type": "code",
   "execution_count": null,
   "metadata": {
    "collapsed": false
   },
   "outputs": [],
   "source": [
    "water_withdrawal"
   ]
  },
  {
   "cell_type": "code",
   "execution_count": null,
   "metadata": {
    "collapsed": true
   },
   "outputs": [],
   "source": [
    "# Aggregation years\n",
    "ag = [list(range(1958, 1960)), list(range(1960, 1965)), list(range(1965, 1970)),\n",
    "     list(range(1970, 1975)), list(range(1975, 1980)), list(range(1980, 1985)),\n",
    "     list(range(1985, 1990)), list(range(1990, 1995)), list(range(1995, 2000)),\n",
    "      list(range(2000, 2005)), list(range(2005, 2010)), list(range(2010, 2015)), list(range(2015, 2018))]"
   ]
  },
  {
   "cell_type": "code",
   "execution_count": null,
   "metadata": {
    "collapsed": false
   },
   "outputs": [],
   "source": [
    "water_withdraw_agg = pd.DataFrame(columns = [\"Country\", \"Country_ISO3\", \"Statistic\", \"1958-1959\",\n",
    "                                            \"1960-1964\", \"1965-1969\", \"1970-1974\",\n",
    "                                            \"1975-1979\", \"1980-1984\", \"1985-1989\",\n",
    "                                            \"1990-1994\", \"1995-1999\", \"2000-2004\",\n",
    "                                            \"2005-2009\",\"2010-2014\",\"2015-2017\"],\n",
    "                                 index = water_withdrawal.index)\n",
    "\n",
    "water_withdraw_agg[\"Country\"] = water_withdrawal[\"level_0\"]\n",
    "water_withdraw_agg[\"Statistic\"] = water_withdrawal[\"level_1\"]\n",
    "water_withdraw_agg[\"Country_ISO3\"] = water_withdrawal[\"Country_ISO3\"]\n",
    "\n",
    "for agg in ag:\n",
    "    col_name = str(agg[0])+\"-\"+str(agg[-1])\n",
    "    tmp_df = pd.DataFrame(columns=agg)\n",
    "    for yr in agg:\n",
    "        tmp_df[yr] = water_withdrawal[yr]\n",
    "    #print(tmp_df)\n",
    "    avg = tmp_df.mean(axis=1, skipna=True, numeric_only=True)\n",
    "    water_withdraw_agg[col_name] = avg\n",
    "\n"
   ]
  },
  {
   "cell_type": "code",
   "execution_count": null,
   "metadata": {
    "collapsed": true
   },
   "outputs": [],
   "source": [
    "water_withdraw_agg"
   ]
  },
  {
   "cell_type": "code",
   "execution_count": null,
   "metadata": {
    "collapsed": true
   },
   "outputs": [],
   "source": [
    "# Write out results\n",
    "water_withdraw_agg.to_csv(\"aggregated_water_stats.csv\")"
   ]
  },
  {
   "cell_type": "code",
   "execution_count": null,
   "metadata": {
    "collapsed": false
   },
   "outputs": [],
   "source": [
    "# small experiment\n",
    "# any([cy in \"USA-N\" for cy in [\"USA\", \"IND\", \"CHN\"]])"
   ]
  }
 ],
 "metadata": {
  "kernelspec": {
   "display_name": "Python 3",
   "language": "python",
   "name": "python3"
  },
  "language_info": {
   "codemirror_mode": {
    "name": "ipython",
    "version": 3
   },
   "file_extension": ".py",
   "mimetype": "text/x-python",
   "name": "python",
   "nbconvert_exporter": "python",
   "pygments_lexer": "ipython3",
   "version": "3.6.0"
  }
 },
 "nbformat": 4,
 "nbformat_minor": 2
}
