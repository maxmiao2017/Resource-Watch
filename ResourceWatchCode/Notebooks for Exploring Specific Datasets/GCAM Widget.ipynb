{
 "cells": [
  {
   "cell_type": "code",
   "execution_count": null,
   "metadata": {
    "collapsed": false
   },
   "outputs": [],
   "source": [
    "import os\n",
    "\n",
    "import pandas as pd\n",
    "import numpy as np\n",
    "pd.options.display.max_rows = 500\n",
    "pd.options.display.max_columns = 500\n",
    "\n",
    "from matplotlib import pyplot as plt\n",
    "%matplotlib inline\n",
    "\n",
    "# Vega lite spec builders\n",
    "import vincent\n",
    "import altair\n",
    "import vega"
   ]
  },
  {
   "cell_type": "code",
   "execution_count": null,
   "metadata": {
    "collapsed": true
   },
   "outputs": [],
   "source": [
    "help(vega)"
   ]
  },
  {
   "cell_type": "code",
   "execution_count": null,
   "metadata": {
    "collapsed": true
   },
   "outputs": [],
   "source": [
    "def replace_misspelled(region_name, misspelled, replace):\n",
    "    if region_name == misspelled:\n",
    "        return(replace)\n",
    "    else:\n",
    "        return(region_name)"
   ]
  },
  {
   "cell_type": "code",
   "execution_count": null,
   "metadata": {
    "collapsed": false
   },
   "outputs": [],
   "source": [
    "root = \"/Users/nathansuberi/Downloads/\"\n",
    "gcam_results = pd.read_csv(root + \"GCAM_Time_Series.csv\")\n",
    "gcam_results[\"Region\"] = gcam_results.apply(lambda row: replace_misspelled(row[\"Region\"],\"Australis/New Zealand\",\"Australia/New Zealand\"), axis=1)\n",
    "scenarios = np.unique(gcam_results[\"Scenario\"])\n",
    "regions = np.unique(gcam_results[\"Region\"])\n",
    "esp_indicator = np.unique(gcam_results[\"ESP Indicator Name\"])\n",
    "units = np.unique(gcam_results[\"Unit of Entry\"])"
   ]
  },
  {
   "cell_type": "code",
   "execution_count": null,
   "metadata": {
    "collapsed": true
   },
   "outputs": [],
   "source": [
    "regions"
   ]
  },
  {
   "cell_type": "code",
   "execution_count": null,
   "metadata": {
    "collapsed": true
   },
   "outputs": [],
   "source": [
    "res_and_comm_indicators = [elem for elem in np.unique(gcam_results[\"ESP Indicator Name\"]) if \"Energy|Residential\" in elem]\n",
    "res_and_comm_total = [\"Final Energy|Residential and Commercial\"]"
   ]
  },
  {
   "cell_type": "code",
   "execution_count": null,
   "metadata": {
    "collapsed": false
   },
   "outputs": [],
   "source": [
    "paris_res_and_comm_results = gcam_results.loc[\n",
    "    gcam_results[\"ESP Indicator Name\"].isin(res_and_comm_total)\n",
    "    & gcam_results[\"Scenario\"].isin([\"Paris\"])]\n",
    "\n",
    "paris_plus_res_and_comm_results = gcam_results.loc[\n",
    "    gcam_results[\"ESP Indicator Name\"].isin(res_and_comm_total)\n",
    "    & gcam_results[\"Scenario\"].isin([\"Paris_plus\"])]"
   ]
  },
  {
   "cell_type": "code",
   "execution_count": null,
   "metadata": {
    "collapsed": false
   },
   "outputs": [],
   "source": [
    "res_and_comm_results = gcam_results.loc[\n",
    "    gcam_results[\"ESP Indicator Name\"].isin(res_and_comm_total)].sort_values(by=[\"Region\", \"Scenario\"])\n",
    "tuples = list(zip(*[res_and_comm_results[\"Region\"], res_and_comm_results[\"Scenario\"]]))\n",
    "index = pd.MultiIndex.from_tuples(tuples, names=['Region', 'Scenario'])\n",
    "res_and_comm_results = res_and_comm_results.drop([\"Scenario\", \"Region\", \"Model\", \"ESP Indicator Name\", \"Unit of Entry\"], axis=1)\n",
    "res_and_comm_results.index = index"
   ]
  },
  {
   "cell_type": "code",
   "execution_count": null,
   "metadata": {
    "collapsed": true
   },
   "outputs": [],
   "source": [
    "res_and_comm_results"
   ]
  },
  {
   "cell_type": "code",
   "execution_count": null,
   "metadata": {
    "collapsed": true
   },
   "outputs": [],
   "source": [
    "# Now use this to create charts comparing these scenarios\n",
    "\n",
    "\n",
    "\n"
   ]
  },
  {
   "cell_type": "code",
   "execution_count": null,
   "metadata": {
    "collapsed": true
   },
   "outputs": [],
   "source": [
    "### Experimentation below"
   ]
  },
  {
   "cell_type": "code",
   "execution_count": null,
   "metadata": {
    "collapsed": true
   },
   "outputs": [],
   "source": []
  },
  {
   "cell_type": "code",
   "execution_count": null,
   "metadata": {
    "collapsed": false
   },
   "outputs": [],
   "source": [
    "paris_plus_res_and_comm_results = paris_plus_res_and_comm_results.set_index(\"Region\").transpose().drop([\"Model\", \"Scenario\", \"ESP Indicator Name\", \"Unit of Entry\"])\n",
    "paris_res_and_comm_results = paris_res_and_comm_results.set_index(\"Region\").transpose().drop([\"Model\", \"Scenario\", \"ESP Indicator Name\", \"Unit of Entry\"])\n"
   ]
  },
  {
   "cell_type": "code",
   "execution_count": null,
   "metadata": {
    "collapsed": true
   },
   "outputs": [],
   "source": [
    "paris_res_and_comm_results"
   ]
  },
  {
   "cell_type": "code",
   "execution_count": null,
   "metadata": {
    "collapsed": true
   },
   "outputs": [],
   "source": [
    "# Join the two tables, use the scenario as a subscript to column names\n",
    "joined_results = paris_plus_res_and_comm_results.join(paris_res_and_comm_results, lsuffix='_paris_plus', rsuffix='_paris')\n",
    "joined_results\n",
    "\n",
    "# Want as a multi-index"
   ]
  },
  {
   "cell_type": "code",
   "execution_count": null,
   "metadata": {
    "collapsed": true
   },
   "outputs": [],
   "source": [
    "joined_results = joined_results.drop([\"Model_paris_plus\", \"Model_paris\",\n",
    "                                     \"ESP Indicator Name_paris_plus\", \"ESP Indicator Name_paris\",\n",
    "                                     \"Scenario_paris_plus\", \"Scenario_paris\",\n",
    "                    \"Unit of Entry_paris_plus\", \"Unit of Entry_paris\"], axis=1)\n",
    "joined_results = joined_results.transpose()\n",
    "joined_results"
   ]
  },
  {
   "cell_type": "code",
   "execution_count": null,
   "metadata": {
    "collapsed": false
   },
   "outputs": [],
   "source": [
    "arrays = [    ['sun', 'sun', 'sun', 'moon', 'moon', 'moon', 'moon', 'moon'],\n",
    "              ['summer', 'winter', 'winter', 'summer', 'summer', 'summer', 'winter', 'winter'],\n",
    "              ['one', 'one', 'two', 'one', 'two', 'three', 'one', 'two']]\n",
    "tuples = list(zip(*arrays))\n",
    "index = pd.MultiIndex.from_tuples(tuples, names=['Body', 'Season','Item'])\n",
    "df1 = pd.DataFrame(np.random.randn(8,2), index=index,columns=['A','B'])\n",
    "df1\n",
    "df1.reset_index().set_index(df1.index.names)"
   ]
  }
 ],
 "metadata": {
  "kernelspec": {
   "display_name": "Python 3",
   "language": "python",
   "name": "python3"
  },
  "language_info": {
   "codemirror_mode": {
    "name": "ipython",
    "version": 3
   },
   "file_extension": ".py",
   "mimetype": "text/x-python",
   "name": "python",
   "nbconvert_exporter": "python",
   "pygments_lexer": "ipython3",
   "version": "3.6.0"
  }
 },
 "nbformat": 4,
 "nbformat_minor": 2
}
