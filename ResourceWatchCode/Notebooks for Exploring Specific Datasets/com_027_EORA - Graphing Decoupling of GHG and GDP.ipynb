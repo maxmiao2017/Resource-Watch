{
 "cells": [
  {
   "cell_type": "code",
   "execution_count": null,
   "metadata": {
    "collapsed": true
   },
   "outputs": [],
   "source": [
    "# Pandas is for formatting the data into matrices, making it easier to query\n",
    "# Pickle is for storing python objects in memory for easy access later\n",
    "\n",
    "import pandas as pd\n",
    "import pickle\n",
    "import sys\n",
    "import os\n",
    "import json\n",
    "\n",
    "# Set options to see more of the data tables at a time\n",
    "\n",
    "pd.options.display.max_columns = 100\n",
    "pd.options.display.max_rows = 500\n",
    "\n",
    "root = os.getcwd() + \"/\"\n",
    "eora_file_folder = root + \"EORA_files/\""
   ]
  },
  {
   "cell_type": "code",
   "execution_count": null,
   "metadata": {
    "collapsed": true
   },
   "outputs": [],
   "source": [
    "\n",
    "# Re-create the EORA data in dictionary form\n"
   ]
  },
  {
   "cell_type": "code",
   "execution_count": null,
   "metadata": {
    "collapsed": true
   },
   "outputs": [],
   "source": [
    "years = [\"1990\", \"1991\", \"1992\", \"1993\", \"1994\", \"1995\", \"1996\", \"1997\", \"1998\", \"1999\",\n",
    "        \"2000\", \"2001\", \"2002\", \"2003\", \"2004\", \"2005\", \"2006\", \"2007\", \"2008\", \"2009\",\n",
    "        \"2010\", \"2011\", \"2012\", \"2013\"]\n",
    "\n",
    "xacts = {\"years\":years}\n",
    "mpcts = {\"years\":years}\n",
    "\n",
    "for yr in years:\n",
    "    xact_file_dest = eora_file_folder + \"eora_xact_\" + yr + \".pkl\"\n",
    "    print(\"loading: \" + xact_file_dest)\n",
    "    xacts[yr] = pickle.load(open(xact_file_dest, 'rb'))\n",
    "\n",
    "    mpct_file_dest = eora_file_folder + \"eora_impact_\" + yr + \".pkl\"\n",
    "    print(\"loading: \" + mpct_file_dest)\n",
    "    mpcts[yr] = pickle.load(open(mpct_file_dest, 'rb'))\n"
   ]
  },
  {
   "cell_type": "code",
   "execution_count": null,
   "metadata": {
    "collapsed": true
   },
   "outputs": [],
   "source": [
    "# Retrieve industry types\n",
    "transaction_labels = list(xacts[\"2013\"].index.levels[1])\n",
    "transaction_labels"
   ]
  },
  {
   "cell_type": "code",
   "execution_count": null,
   "metadata": {
    "collapsed": true
   },
   "outputs": [],
   "source": [
    "# Retrieve impact types\n",
    "impacts_labels = list(mpcts[\"2013\"].index.levels[0])\n",
    "impacts_labels"
   ]
  },
  {
   "cell_type": "markdown",
   "metadata": {},
   "source": [
    "## This section below is for exploring trade stories between particular country, industry pairs"
   ]
  },
  {
   "cell_type": "code",
   "execution_count": null,
   "metadata": {
    "collapsed": false
   },
   "outputs": [],
   "source": [
    "# Explore country-industry stories for specific countries, industries\n",
    "\n",
    "trade_stories = {}\n",
    "\n",
    "# Specify countries by ISO3 code\n",
    "src_countries = [\"CHN\"]\n",
    "# Specify industries by those included in the \"transaction_labels\" list\n",
    "src_industries = [\"Wood and Paper\", \"Transport Equipment\", \"Electrical and Machinery\", \"Construction\"]\n",
    "\n",
    "dst_countries = [\"AGO\", \"DZA\"]\n",
    "dst_industries = [\"Transport\", \"Transport Equipment\"]\n",
    "\n",
    "for src_c in src_countries:\n",
    "    for dst_c in dst_countries:\n",
    "        for src_i in src_industries:\n",
    "            for dst_i in dst_industries:\n",
    "                trade_name = src_c+\"_\"+src_i+\"_to_\"+dst_c+\"_\"+dst_i\n",
    "                print(trade_name)\n",
    "                trade_stories[trade_name] = {}\n",
    "                for yr in xacts[\"years\"]:\n",
    "                    data = xacts[yr][dst_c][dst_i][src_c][src_i]\n",
    "                    trade_stories[trade_name][yr] = data"
   ]
  },
  {
   "cell_type": "code",
   "execution_count": null,
   "metadata": {
    "collapsed": false,
    "scrolled": false
   },
   "outputs": [],
   "source": [
    "# Visualize trade stories\n",
    "\n",
    "import matplotlib.pyplot as plt\n",
    "\n",
    "for ts in trade_stories:\n",
    "        \n",
    "        plt.plot(pd.Series(trade_stories[ts]))\n",
    "        plt.ylabel(\"Trade in 000's of USD\")\n",
    "        plt.xlabel(ts)\n",
    "        \n",
    "        plt.show()\n",
    "        \n"
   ]
  },
  {
   "cell_type": "markdown",
   "metadata": {},
   "source": [
    "## This section is to analyze changes in trade between particular country, industry pairs"
   ]
  },
  {
   "cell_type": "code",
   "execution_count": null,
   "metadata": {
    "collapsed": false
   },
   "outputs": [],
   "source": [
    "# Search for stories that meet certain criteria\n",
    "\n",
    "## First, compare percentage changes between 1990, 2000, 2013\n",
    "\n",
    "# For trade in all industries originating in China, \n",
    "# and going to six African countries:\n",
    "\n",
    "## NATE: Learning Extension\n",
    "#  change code to see trade from select_african_countries to CHN\n",
    "\n",
    "src_countries = [\"CHN\"]\n",
    "src_industries = transaction_labels\n",
    "\n",
    "select_african_countries = [\"AGO\", \"DZA\", \"BEN\", \"BWA\", \"BFA\", \"BDI\"]               \n",
    "\"\"\" Other african countries:\n",
    "                \"CMR\", \"CPV\", \"CAF\", \"TCD\", \"COG\"\n",
    "                \"DJI\", \"EGY\", \"GNQ\", \"ERI\", \"ETH\", \"GAB\",\n",
    "                \"GMB\", \"GHA\", \"GNB\", \"GIN\", \"CIV\", \"KEN\",\n",
    "                \"LSO\", \"LBR\", \"LBY\", \"MDG\", \"MWI\", \"MLI\",\n",
    "                \"MRT\", \"MUS\", \"MAR\", \"MOZ\", \"NAM\", \"NER\",\n",
    "                \"NGA\", \"RWA\", \"STP\", \"SEN\", \"SYC\", \"SLE\",\n",
    "                \"SOM\", \"ZAF\", \"SDN\", \"SWZ\", \"TZA\", \"TGO\",\n",
    "                \"TUN\", \"UGA\", \"COD\", \"ZMB\", \"ZWE\", \"SSD\",\n",
    "                \"COD\"]\n",
    "                \n",
    "\"\"\"\n",
    "\n",
    "dst_countries = select_african_countries\n",
    "dst_industries = transaction_labels\n",
    "\n",
    "trade_changes = {}\n",
    "\n",
    "# Helper function to calculate the percentage change\n",
    "def reconstruct_trade_val_from_perc_change_list(ls):\n",
    "    recon_val = ls[0]\n",
    "    for ix in range(1,len(ls)):\n",
    "        recon_val = recon_val + recon_val*(ls[ix]-1)\n",
    "    return(recon_val)\n",
    "\n",
    "for src_c in src_countries:\n",
    "    for dst_c in dst_countries:\n",
    "        for src_i in src_industries:\n",
    "            for dst_i in dst_industries:\n",
    "                \n",
    "                ## **** Haven't yet removed Total from EORA labels, should do that in \n",
    "                # Table construction\n",
    "                if (src_i != \"Total\") & (dst_i != \"Total\"):\n",
    "                    trade_name = src_c+\"_\"+src_i+\"_to_\"+dst_c+\"_\"+dst_i\n",
    "                    print(trade_name)\n",
    "                    trade_changes[trade_name] = []\n",
    "                    for yr in [\"1990\", \"2000\", \"2010\"]:\n",
    "                        if yr == \"1990\":\n",
    "                            data = xacts[yr][dst_c][dst_i][src_c][src_i]\n",
    "                            trade_changes[trade_name].append(data)\n",
    "                        else:\n",
    "                            data = xacts[yr][dst_c][dst_i][src_c][src_i]\n",
    "                            pst_data = reconstruct_trade_val_from_perc_change_list(trade_changes[trade_name])\n",
    "                            new_data = data / float(pst_data)                            \n",
    "                            trade_changes[trade_name].append(new_data)"
   ]
  },
  {
   "cell_type": "code",
   "execution_count": null,
   "metadata": {
    "collapsed": false
   },
   "outputs": [],
   "source": [
    "# Return the trades that grew by a certain threshold from 2000 to 2010\n",
    "\n",
    "# Growth thresholds measured in %\n",
    "growth_threshold = 10\n",
    "# Starting values measured in thousands of USD\n",
    "starting_val_threshold = 500\n",
    "\n",
    "trades_of_interest = {}\n",
    "for chng in trade_changes:\n",
    "    trd_chg = trade_changes[chng]\n",
    "    if (trd_chg[-1] > growth_threshold) & (trd_chg[0] > starting_val_threshold):\n",
    "        trades_of_interest[chng] = trd_chg\n",
    "        print(chng)"
   ]
  },
  {
   "cell_type": "code",
   "execution_count": null,
   "metadata": {
    "collapsed": false
   },
   "outputs": [],
   "source": [
    "trades_of_interest"
   ]
  },
  {
   "cell_type": "markdown",
   "metadata": {},
   "source": [
    "## Observe relationship between value of trade in an industry and specific emissions factors"
   ]
  },
  {
   "cell_type": "code",
   "execution_count": null,
   "metadata": {
    "collapsed": true
   },
   "outputs": [],
   "source": [
    "### THIS CODE TAKES A LONG TIME\n",
    "# To help you out with the initial exploration, I've saved the results \n",
    "# From the call below to \"./EORA_files/textiles_value_and_CO2.pkl\"\n",
    "# For first look, skip 3 blocks to where you see ### QUICKSTART FROM HERE\n",
    "\n",
    "\n",
    "# Create time series of total textiles and wearing apparel trade & CO2 emission by country\n",
    "# Example call: xacts[\"2008\"].loc[\"ZWE\"].loc[\"Textiles and Wearing Apparel\"].sum()\n",
    "\n",
    "trade_stories = {}\n",
    "\n",
    "# All countries\n",
    "src_countries = list(xacts[\"2013\"].index.levels[0])\n",
    "# list(xacts[\"2013\"].index.levels[0])\n",
    "# No data for some countries\n",
    "src_industries = [\"Textiles and Wearing Apparel\"]\n",
    "\n",
    "CO2_categories = ['Biomass Burning (Gg CO2)', 'CO2 (Gg)', 'CO2 (exlc. LULUCF)',\n",
    "       'CO2 (including biomass burning) from Agricultural Burning',\n",
    "       'CO2 (including biomass burning) from Cement/Minerals',\n",
    "       'CO2 (including biomass burning) from Energy Production',\n",
    "       'CO2 (including biomass burning) from Forest Fires and Other Sources',\n",
    "       'CO2 (including biomass burning) from Natural Decay',\n",
    "       'CO2 (including biomass burning) from Solvents',\n",
    "       'CO2 (including biomass burning) from Waste',\n",
    "       'CO2 From Agricultural Burning', 'CO2 From Cement/Minerals',\n",
    "       'CO2 From Energy Production', 'CO2 From Forest Fires and Other Sources',\n",
    "       'CO2 From Natural Decay', 'CO2 From Solvents', 'CO2 From Waste']\n",
    "\n",
    "def select_emissions_rows(matrix, categories):\n",
    "    return(matrix.index.get_level_values(\"Category\").isin(categories))\n",
    "\n",
    "#CHN_CO2_from_prod_by_year = {\n",
    "#    \"1990\":eora_impact_1990[\"CHN\"][select_emissions_rows(eora_impact_1990[\"CHN\"], CO2_categories)],\n",
    "#    \"2000\":eora_impact_2000[\"CHN\"][select_emissions_rows(eora_impact_2000[\"CHN\"], CO2_categories)],\n",
    "#    \"2013\":eora_impact_2013[\"CHN\"][select_emissions_rows(eora_impact_2013[\"CHN\"], CO2_categories)]\n",
    "#}\n",
    "\n",
    "#dst_countries = [\"AGO\"]\n",
    "#dst_industries = [\"Wood and Paper\"]\n",
    "\n",
    "for src_c in src_countries:\n",
    "    print(src_c)\n",
    "    #for dst_c in dst_countries:\n",
    "    if (src_c != \"ROW\"):\n",
    "        for src_i in src_industries:\n",
    "            #for dst_i in dst_industries:\n",
    "\n",
    "            # Store trade value\n",
    "            trade_name = src_c+\"_\"+src_i+\"_trade_value\"\n",
    "            #trade_name_list = src_c+\"_\"+src_i+\"trade_value_list\"\n",
    "\n",
    "            trade_stories[trade_name] = {}\n",
    "            #trade_stories[trade_name_list] = []\n",
    "\n",
    "            # Store impacts value\n",
    "            impact_name = src_c+\"_\"+src_i+\"_CO2_emissions\"\n",
    "            #impact_name_list = src_c+\"_\"+src_i+\"_CO2_emissions_list\"\n",
    "\n",
    "            trade_stories[impact_name] = {}\n",
    "            #trade_stories[impact_name_list] = []\n",
    "\n",
    "            for yr in xacts[\"years\"]:\n",
    "                trade_value_data = xacts[yr].loc[src_c].loc[src_i].sum()\n",
    "                trade_stories[trade_name][yr] = trade_value_data\n",
    "                #trade_stories[trade_name_list].append(trade_value_data)\n",
    "\n",
    "                matrix = mpcts[yr][src_c]\n",
    "                CO2_emission_data = matrix[select_emissions_rows(matrix, CO2_categories)][src_i].sum()\n",
    "                trade_stories[impact_name][yr] = CO2_emission_data\n",
    "                #trade_stories[impact_name_list].append(CO2_emission_data)"
   ]
  },
  {
   "cell_type": "code",
   "execution_count": null,
   "metadata": {
    "collapsed": false
   },
   "outputs": [],
   "source": [
    "# Number of stories... if only looking at one trade, \n",
    "# this will be # of countries\n",
    "len(pd.Series([c[0:3] for c in list(trade_stories.keys())]).unique())"
   ]
  },
  {
   "cell_type": "code",
   "execution_count": null,
   "metadata": {
    "collapsed": false
   },
   "outputs": [],
   "source": [
    "# Dump trade_stories for Textiles and Wearing Apparel Industry\n",
    "twa_info_dest = eora_file_folder + \"textiles_value_and_CO2.pkl\"\n",
    "pickle.dump(trade_stories, open(twa_info_dest, 'wb'))"
   ]
  },
  {
   "cell_type": "code",
   "execution_count": null,
   "metadata": {
    "collapsed": false
   },
   "outputs": [],
   "source": [
    "### QUICKSTART FROM HERE\n",
    "\n",
    "# Load trade_stories for Textiles and Wearing Apparel Industry\n",
    "twa_info_dest = eora_file_folder + \"textiles_value_and_CO2.pkl\"\n",
    "twa_trade_stories = pickle.load(open(twa_info_dest, 'rb'))"
   ]
  },
  {
   "cell_type": "code",
   "execution_count": null,
   "metadata": {
    "collapsed": false
   },
   "outputs": [],
   "source": [
    "# Inspect which industry this reflects data for\n",
    "list(twa_trade_stories.keys())[0].split(\"_\")[1]"
   ]
  },
  {
   "cell_type": "code",
   "execution_count": null,
   "metadata": {
    "collapsed": false
   },
   "outputs": [],
   "source": [
    "## This block will create the colored graphs we discussed previously\n",
    "# This pdf will be saved to a the EORA_files folder \n",
    "# I've included the first version for you, at \n",
    "# \"./EORA_files/global_textile_GDP_CO2_coupling_progressions.pdf\"\n",
    "\n",
    "\n",
    "# Show GDP and CO2 decoupling\n",
    "# Saves output to a pdf, doesn't show inline\n",
    "# If you want to show inline, uncomment plt.show() near the bottom of this block\n",
    "# as well as the %matplotlib inline command\n",
    "\n",
    "import matplotlib.pyplot as plt\n",
    "from matplotlib.backends.backend_pdf import PdfPages\n",
    "#%matplotlib inline\n",
    "\n",
    "# List all countries\n",
    "src_countries = list(pd.Series([c[0:3] for c in list(twa_trade_stories.keys())]).unique())\n",
    "#src_industries = [\"Textiles and Wearing Apparel\"]\n",
    "# This assumes that each trade story only has one trade type in it\n",
    "src_industries = [list(twa_trade_stories.keys())[0].split(\"_\")[1]]\n",
    "\n",
    "pp = PdfPages(eora_file_folder+\"global_textile_GDP_CO2_coupling_progressions.pdf\")\n",
    "\n",
    "# Plot trade by emissions\n",
    "for src_c in src_countries:\n",
    "    if src_c != \"ROW\":\n",
    "        for src_i in src_industries:\n",
    "            \n",
    "            trade_name = src_c+\"_\"+src_i+\"_trade_value\"\n",
    "            impact_name = src_c+\"_\"+src_i+\"_CO2_emissions\"\n",
    "                \n",
    "            \"\"\"\n",
    "            fig, ax = plt.subplots(nrows=1, ncols=1)\n",
    "            ax.plot(trade_stories[ts])\n",
    "            ax.set_title(ts)\n",
    "            ax.set_xlabel(\"Trade Value\")\n",
    "            ax.set_ylabel(\"CO2 Emissions\")\n",
    "            \"\"\"\n",
    "\n",
    "            trade_value = list(twa_trade_stories[trade_name].values())\n",
    "            CO2_emissions = list(twa_trade_stories[impact_name].values())\n",
    "            time = range(0,len(trade_value))\n",
    "            \n",
    "            fig, ax = plt.subplots(nrows=1, ncols=1)\n",
    "            \n",
    "            ax.scatter(trade_value, CO2_emissions, c = time)\n",
    "\n",
    "            fig.suptitle(src_i+\" Industry in \"+src_c)\n",
    "            \n",
    "            ax.set_xlabel(\"Production Value in 000's of USD\")\n",
    "            ax.set_ylabel(\"CO2 emissions in Gigagrams\")\n",
    "            \n",
    "            plt.show()\n",
    "            pp.savefig(fig)\n",
    "            plt.close(fig)\n",
    "            \n",
    "pp.close()\n"
   ]
  },
  {
   "cell_type": "code",
   "execution_count": null,
   "metadata": {
    "collapsed": false
   },
   "outputs": [],
   "source": [
    "# Loop over trade data - create vectors with the first value,\n",
    "# And then percent changes.\n",
    "\n",
    "len(twa_trade_stories)\n",
    "\n",
    "# Classify each time step as:\n",
    "# > = increase, < = decrease\n",
    "# 1) Production >, CO2 >\n",
    "# 2) Production <, CO2 >\n",
    "# 3) Production >, CO2 <\n",
    "# 4) Production <, CO2 <\n",
    "\n",
    "twa_trade_changes = {}\n",
    "\n",
    "# In this case, all countries\n",
    "src_countries = list(pd.Series([c[0:3] for c in list(twa_trade_stories.keys())]).unique())\n",
    "# In this case, Textiles and Wearing Apparel\n",
    "src_industries = [list(twa_trade_stories.keys())[0].split(\"_\")[1]]\n",
    "\n",
    "for src_c in src_countries:\n",
    "    for src_i in src_industries:\n",
    "\n",
    "        ## **** Haven't yet removed Total from EORA labels, should do that in \n",
    "        # Table construction\n",
    "        if (src_i != \"Total\"):\n",
    "            \n",
    "            # Same names as in trade_stories\n",
    "            production_values_deltas = src_c+\"_\"+src_i+\"_trade_value\"\n",
    "            CO2_emissions_deltas = src_c+\"_\"+src_i+\"_CO2_emissions\"\n",
    "            industry_alerts = src_c+\"_\"+src_i+\"_alerts\"\n",
    "            \n",
    "            twa_trade_changes[production_values_deltas] = []\n",
    "            twa_trade_changes[CO2_emissions_deltas] = []\n",
    "            twa_trade_changes[industry_alerts] = {}\n",
    "            \n",
    "            prod_data = twa_trade_stories[production_values_deltas]\n",
    "            CO2_data = twa_trade_stories[CO2_emissions_deltas]\n",
    "            \n",
    "            for yr in list(prod_data.keys()):\n",
    "                \n",
    "                #print(\"Year = \", yr)\n",
    "                if yr == \"1990\":\n",
    "                    p_data = prod_data[yr]\n",
    "                    c_data = CO2_data[yr]\n",
    "                    \n",
    "                    twa_trade_changes[production_values_deltas].append(p_data)\n",
    "                    twa_trade_changes[CO2_emissions_deltas].append(c_data)\n",
    "                    twa_trade_changes[industry_alerts][yr] = [\"start record\", 1]\n",
    "                    \n",
    "                else:\n",
    "                    \n",
    "                    p_data = prod_data[yr]\n",
    "                    c_data = CO2_data[yr]\n",
    "                    \n",
    "                    pst_p_data = prod_data[str(int(yr)-1)]\n",
    "                    pst_c_data = CO2_data[str(int(yr)-1)]\n",
    "                    \n",
    "                    # Subtract one to get percentage change\n",
    "                    p_perc_change = (p_data / float(pst_p_data))-1\n",
    "                    c_perc_change = (c_data / float(pst_c_data))-1\n",
    "                    \n",
    "                    twa_trade_changes[production_values_deltas].append(p_perc_change)\n",
    "                    twa_trade_changes[CO2_emissions_deltas].append(c_perc_change)\n",
    "                    \n",
    "                    # Classify event\n",
    "                    \n",
    "                    if (p_perc_change > 0) and (c_perc_change > 0):\n",
    "                        this_year_alert = [\"Production up, emissions up\"]\n",
    "                    elif (p_perc_change < 0) and (c_perc_change > 0):\n",
    "                        this_year_alert = [\"Production down, emissions up\"]\n",
    "                    elif (p_perc_change > 0) and (c_perc_change < 0):\n",
    "                        this_year_alert = [\"Production up, emissions down\"]\n",
    "                    elif (p_perc_change < 0) and (c_perc_change < 0):\n",
    "                        this_year_alert = [\"Production down, emissions down\"]\n",
    "                    else:\n",
    "                        this_year_alert = [\"Rare case: world stable\"]\n",
    "                    \n",
    "                    # See if this is the same as the last event\n",
    "                    \n",
    "                    last_yr = str(int(yr)-1)\n",
    "                    #print(last_yr)\n",
    "                    \n",
    "                    last_year_alert = twa_trade_changes[industry_alerts][last_yr]\n",
    "                    \n",
    "                    #print(this_year_alert)\n",
    "                    #print(last_year_alert)\n",
    "                    #print(twa_trade_changes[industry_alerts])\n",
    "                    \n",
    "                    # Careful - append doesn't return anything\n",
    "                    if this_year_alert[0] == last_year_alert[0]:\n",
    "                        len_trend = last_year_alert[1]\n",
    "                        this_year_alert.append(len_trend + 1)\n",
    "                        twa_trade_changes[industry_alerts][yr] = this_year_alert\n",
    "                    else:\n",
    "                        this_year_alert.append(1)\n",
    "                        twa_trade_changes[industry_alerts][yr] = this_year_alert\n",
    "\n",
    "\n",
    "# Contains percent changes in production value and CO2 emissions\n",
    "# As well as some sample alerts, and trend notifications\n",
    "pickle.dump(twa_trade_changes, open(eora_file_folder+\"twa_trade_changes.pkl\", \"wb\"))\n",
    "\n",
    "## Extension - create a metric to store information \n",
    "# about the magnitude of change, and when it is \"significant\"\n",
    "\n",
    "\n",
    "\n",
    "## Investigate - are changes like observed in the United States' \n",
    "## decrease in emissions compensated by increased imports with embodied CO2?\n",
    "# For countries that have streaks of decreasing emissions,\n",
    "# investigate whether their imports are increasing, and if so, from where\n",
    "# Tie this to the trends in the exporting countries - \n",
    "# tied to increased emissions?"
   ]
  },
  {
   "cell_type": "code",
   "execution_count": null,
   "metadata": {
    "collapsed": false
   },
   "outputs": [],
   "source": [
    "### View the \"alerts\" for production and emission trends for the USA\n",
    "###\n",
    "\n",
    "USA_alerts = twa_trade_changes[\"USA_Textiles and Wearing Apparel_alerts\"]\n",
    "\n",
    "print(json.dumps(USA_alerts, indent=1, sort_keys=True))\n",
    "\n",
    "from collections import Counter\n",
    "Counter(elem for elem in list(zip(*(list(USA_alerts.values()))))[0])"
   ]
  }
 ],
 "metadata": {
  "kernelspec": {
   "display_name": "Python 3",
   "language": "python",
   "name": "python3"
  },
  "language_info": {
   "codemirror_mode": {
    "name": "ipython",
    "version": 3
   },
   "file_extension": ".py",
   "mimetype": "text/x-python",
   "name": "python",
   "nbconvert_exporter": "python",
   "pygments_lexer": "ipython3",
   "version": "3.6.0"
  }
 },
 "nbformat": 4,
 "nbformat_minor": 2
}
