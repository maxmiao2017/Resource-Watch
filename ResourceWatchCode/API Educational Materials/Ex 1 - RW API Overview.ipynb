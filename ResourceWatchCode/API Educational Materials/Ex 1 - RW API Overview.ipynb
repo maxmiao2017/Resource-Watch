{
 "cells": [
  {
   "cell_type": "code",
   "execution_count": null,
   "metadata": {
    "collapsed": true
   },
   "outputs": [],
   "source": [
    "# Data fetching library\n",
    "import requests as req\n",
    "# used below: 'res' stands for 'response'\n",
    "\n",
    "# Data manipulation library\n",
    "import pandas as pd"
   ]
  },
  {
   "cell_type": "code",
   "execution_count": null,
   "metadata": {
    "collapsed": false
   },
   "outputs": [],
   "source": [
    "# Use a pandas dataframe to store data you want to query with\n",
    "# Later, we'll show how to upload a CSV to a DataFrame, \n",
    "# and then export the results back to a CSV with the additional data\n",
    "locations = pd.DataFrame({\"latitude\":[0.3515602939922709],\n",
    "                          \"longitude\": [23.5546875]}, \n",
    "                          index = [\"Congo\"])\n",
    "\n",
    "locations"
   ]
  },
  {
   "cell_type": "code",
   "execution_count": null,
   "metadata": {
    "collapsed": false
   },
   "outputs": [],
   "source": [
    "# Pick a dataset name, table_name, and rw_id\n",
    "dataset = 'Percentage of Urban Population with Access to Electricity'\n",
    "table_name = 'soc_042_percentage_urban_population_access_electricity'\n",
    "rw_id = '2e8b2cc0-bac3-4d01-b714-8943ff99347d'\n",
    "\n",
    "# Construct a query and send it to RW API\n",
    "## Build SQL for query\n",
    "congo = locations.loc[\"Congo\"]\n",
    "congo_geom = \"ST_GeomFromText('POINT({} {})', 4326)\".format(congo.longitude, congo.latitude)\n",
    "\n",
    "sql = \"\".join([\"SELECT * FROM {} WHERE \",\n",
    "\"ST_Intersects({}, \",\n",
    "\"{}.the_geom)\"])\n",
    "\n",
    "query_sql_congo = sql.format(table_name, congo_geom, table_name)\n",
    "\n",
    "## Construct Query\n",
    "# This query_base is the key to accessing data from RW\n",
    "# It requires a dataset's rw_id and an SQL query\n",
    "query_base = \"https://api.resourcewatch.org/v1/query/{}?sql={}\"\n",
    "query_congo = query_base.format(rw_id, query_sql_congo)\n",
    "\n",
    "## Get results\n",
    "res_congo = req.get(query_congo)\n",
    "\n",
    "congo_data =  res_congo.json()[\"data\"][0][\"yr_2014\"]\n",
    "\n",
    "locations.loc[\"Congo\", \"% Urban Areas with Electricity Access\"] = congo_data\n",
    "\n",
    "locations"
   ]
  }
 ],
 "metadata": {
  "kernelspec": {
   "display_name": "Python 3",
   "language": "python",
   "name": "python3"
  },
  "language_info": {
   "codemirror_mode": {
    "name": "ipython",
    "version": 3
   },
   "file_extension": ".py",
   "mimetype": "text/x-python",
   "name": "python",
   "nbconvert_exporter": "python",
   "pygments_lexer": "ipython3",
   "version": "3.6.0"
  }
 },
 "nbformat": 4,
 "nbformat_minor": 2
}
