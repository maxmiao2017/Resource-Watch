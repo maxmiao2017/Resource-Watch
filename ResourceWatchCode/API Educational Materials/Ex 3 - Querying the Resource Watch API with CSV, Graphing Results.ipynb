{
 "cells": [
  {
   "cell_type": "code",
   "execution_count": null,
   "metadata": {
    "collapsed": false
   },
   "outputs": [],
   "source": [
    "# Data fetching library\n",
    "import requests as req\n",
    "# used below: 'res' stands for 'response'\n",
    "\n",
    "# File management library\n",
    "import os\n",
    "\n",
    "# Data manipulation libraries\n",
    "import pandas as pd\n",
    "pd.options.display.max_rows = 1000\n",
    "pd.options.display.max_columns = 1000\n",
    "\n",
    "# Data visualization library\n",
    "## Uses Vega-Lite, which can be easily put in websites\n",
    "from altair import *"
   ]
  },
  {
   "cell_type": "markdown",
   "metadata": {},
   "source": [
    "# Find information about all data on the Resource Watch API, format as DataFrame"
   ]
  },
  {
   "cell_type": "code",
   "execution_count": null,
   "metadata": {
    "collapsed": false
   },
   "outputs": [],
   "source": [
    "# Base URL for getting dataset metadata from RW API\n",
    "# Metadata = Data that describes Data \n",
    "url = \"https://api.resourcewatch.org/v1/dataset?sort=slug,-provider,userId&status=saved&includes=metadata,vocabulary,widget,layer\"\n",
    "\n",
    "# page[size] tells the API the maximum number of results to send back\n",
    "# There are currently between 200 and 300 datasets on the RW API\n",
    "payload = { \"application\":\"rw\", \"page[size]\": 1000}\n",
    "\n",
    "# Request all datasets, and extract the data from the response\n",
    "res = req.get(url, params=payload)\n",
    "data = res.json()[\"data\"]\n",
    "\n",
    "#############################################################\n",
    "\n",
    "### Convert the json object returned by the API into a pandas DataFrame\n",
    "# Another option: https://pandas.pydata.org/pandas-docs/stable/generated/pandas.io.json.json_normalize.html\n",
    "datasets_on_api = {}\n",
    "for ix, dset in enumerate(data):\n",
    "    atts = dset[\"attributes\"]\n",
    "    metadata = atts[\"metadata\"]\n",
    "    layers = atts[\"layer\"]\n",
    "    widgets = atts[\"widget\"]\n",
    "    tags = atts[\"vocabulary\"]\n",
    "    datasets_on_api[atts[\"name\"]] = {\n",
    "        \"rw_id\":dset[\"id\"],\n",
    "        \"table_name\":atts[\"tableName\"],\n",
    "        \"provider\":atts[\"provider\"],\n",
    "        \"date_updated\":atts[\"updatedAt\"],\n",
    "        \"num_metadata\":len(metadata),\n",
    "        \"metadata\": metadata,\n",
    "        \"num_layers\":len(layers),\n",
    "        \"layers\": layers,\n",
    "        \"num_widgets\":len(widgets),\n",
    "        \"widgets\": widgets,\n",
    "        \"num_tags\":len(tags),\n",
    "        \"tags\":tags\n",
    "    }\n",
    "\n",
    "# Create the DataFrame, name the index, and sort by date_updated\n",
    "# More recently updated datasets at the top\n",
    "current_datasets_on_api = pd.DataFrame.from_dict(datasets_on_api, orient='index')\n",
    "current_datasets_on_api.index.rename(\"Dataset\", inplace=True)\n",
    "current_datasets_on_api.sort_values(by=[\"date_updated\"], inplace=True, ascending = False)"
   ]
  },
  {
   "cell_type": "code",
   "execution_count": null,
   "metadata": {
    "collapsed": false
   },
   "outputs": [],
   "source": [
    "# View datasets on the Resource Watch API\n",
    "current_datasets_on_api.head()"
   ]
  },
  {
   "cell_type": "code",
   "execution_count": null,
   "metadata": {
    "collapsed": false
   },
   "outputs": [],
   "source": [
    "# View all providers of RW data\n",
    "current_datasets_on_api[\"provider\"].unique()"
   ]
  },
  {
   "cell_type": "code",
   "execution_count": null,
   "metadata": {
    "collapsed": false
   },
   "outputs": [],
   "source": [
    "# Choose only datasets stored on:\n",
    "## cartodb, csv, gee, featureservice, bigquery, wms, json, rasdaman\n",
    "provider = \"cartodb\"\n",
    "carto_ids = (current_datasets_on_api[\"provider\"]==provider)\n",
    "carto_data = current_datasets_on_api.loc[carto_ids]\n",
    "\n",
    "print(\"Number of Carto datasets: \", carto_data.shape[0])"
   ]
  },
  {
   "cell_type": "code",
   "execution_count": null,
   "metadata": {
    "collapsed": false
   },
   "outputs": [],
   "source": [
    "carto_data.head()"
   ]
  },
  {
   "cell_type": "markdown",
   "metadata": {},
   "source": [
    "# Import CSV with lat, lon points. These can be used to get information out of the Resource Watch API"
   ]
  },
  {
   "cell_type": "code",
   "execution_count": null,
   "metadata": {
    "collapsed": false
   },
   "outputs": [],
   "source": [
    "# Store your data in a \"data\" folder in the same location\n",
    "# As this notebook\n",
    "DATA_FOLDER = os.getcwd() + \"/data/\"\n",
    "\n",
    "# src: https://developers.google.com/public-data/docs/canonical/countries_csv\n",
    "country_points = pd.read_csv(DATA_FOLDER + \"country_points.tsv\", sep=\"\\t\")\n",
    "\n",
    "country_points.head()"
   ]
  },
  {
   "cell_type": "markdown",
   "metadata": {},
   "source": [
    "# Create queries to retrieve specific information from the Resource Watch API"
   ]
  },
  {
   "cell_type": "code",
   "execution_count": null,
   "metadata": {
    "collapsed": true
   },
   "outputs": [],
   "source": [
    "# Template query string used to query RW datasets\n",
    "query_base = \"https://api.resourcewatch.org/v1/query/{}?sql={}\"\n",
    "\n",
    "# Template SQL string used in RW query\n",
    "sql = \"\".join([\"SELECT * FROM {} WHERE \",\n",
    "\"ST_Intersects({}, \",\n",
    "\"{}.the_geom)\"])"
   ]
  },
  {
   "cell_type": "code",
   "execution_count": null,
   "metadata": {
    "collapsed": false,
    "scrolled": true
   },
   "outputs": [],
   "source": [
    "# Pick a dataset from carto_data\n",
    "dataset = 'Percentage of Urban Population with Access to Electricity'\n",
    "\n",
    "# Select the Carto table name, and Resource Watch ID (rw_id)\n",
    "# The rw_id is needed to query the RW API\n",
    "table_name = carto_data.loc[dataset, \"table_name\"]\n",
    "rw_id = carto_data.loc[dataset, \"rw_id\"]\n",
    "\n",
    "def query_api(row):\n",
    "    # Construct a Well-Known-Text (WKT) Point string\n",
    "    # WKT formats points: 'POINT(Latitude Longitude)'\n",
    "    # https://www.drupal.org/node/511370\n",
    "    point = \"ST_GeomFromText('POINT({} {})', 4326)\".format(row.longitude, row.latitude)\n",
    "    \n",
    "    # Use the templates defined above to create/send a query to RW API\n",
    "    query_sql = sql.format(table_name, point, table_name)\n",
    "    query = query_base.format(rw_id, query_sql)    \n",
    "    res = req.get(query)\n",
    "\n",
    "    # Try, except: useful in python to catch errors,\n",
    "    # and provide an alternative action if an error occurs\n",
    "    try:\n",
    "        data = res.json()[\"data\"]\n",
    "        return(data[0][\"yr_2014\"])\n",
    "    except:\n",
    "        return(\"No matching data found\")\n",
    "\n",
    "country_points[\"% Urban Population with Electricity Access\"] = pd.Series(query_api(row) for row in country_points.itertuples())"
   ]
  },
  {
   "cell_type": "code",
   "execution_count": null,
   "metadata": {
    "collapsed": false
   },
   "outputs": [],
   "source": [
    "country_points.head()"
   ]
  },
  {
   "cell_type": "code",
   "execution_count": null,
   "metadata": {
    "collapsed": false
   },
   "outputs": [],
   "source": [
    "# Add a plot to show something about it\n",
    "\n",
    "Chart(country_points).mark_bar().encode(\n",
    "x=X(\"% Urban Population with Electricity Access\", bin=Bin()),\n",
    "y=\"count(*):Q\")"
   ]
  }
 ],
 "metadata": {
  "kernelspec": {
   "display_name": "Python 3",
   "language": "python",
   "name": "python3"
  },
  "language_info": {
   "codemirror_mode": {
    "name": "ipython",
    "version": 3
   },
   "file_extension": ".py",
   "mimetype": "text/x-python",
   "name": "python",
   "nbconvert_exporter": "python",
   "pygments_lexer": "ipython3",
   "version": "3.6.0"
  }
 },
 "nbformat": 4,
 "nbformat_minor": 2
}
