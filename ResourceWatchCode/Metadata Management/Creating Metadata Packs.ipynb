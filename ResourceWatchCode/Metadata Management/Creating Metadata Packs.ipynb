{
 "cells": [
  {
   "cell_type": "code",
   "execution_count": null,
   "metadata": {
    "collapsed": true
   },
   "outputs": [],
   "source": [
    "# Libraries\n",
    "import pandas as pd\n",
    "import numpy as np\n",
    "import os\n",
    "import sys"
   ]
  },
  {
   "cell_type": "code",
   "execution_count": null,
   "metadata": {
    "collapsed": true
   },
   "outputs": [],
   "source": [
    "#### Download Google Spreadsheets ####\n",
    "\n",
    "# Make a temporary directory, and move into it\n",
    "!mkdir temp\n",
    "os.chdir(\"temp\")\n",
    "dest = os.getcwd()\n",
    "\n",
    "# July Data Upload\n",
    "!curl \"https://docs.google.com/spreadsheets/d/1viPOGYIk6RGu7YMoM3BHNVbkWaCZ0JFBOMSNncWvHYk/export?format=tsv\" > july_data_upload.tsv\n",
    "july_data_upload = pd.read_csv(dest+\"/july_data_upload.tsv\", sep=\"\\t\", index_col=[0])\n",
    "\n",
    "# Metadata for upload\n",
    "!curl \"https://docs.google.com/spreadsheets/d/1UkABgMlBIinJjITa6WepFAL-8VBkulS0LCbKojRXjVY/export?format=tsv\" > metadata_for_upload.tsv\n",
    "metadata_for_upload =  pd.read_csv(dest+\"/metadata_for_upload.tsv\", sep=\"\\t\", index_col=[0])\n",
    "metadata_for_upload = metadata_for_upload.transpose()\n",
    "metadata_for_upload = metadata_for_upload.set_index([\"Unique ID\"])\n",
    "\n",
    "# Delete temporary files\n",
    "os.chdir(\"..\")\n",
    "!rm -r temp"
   ]
  },
  {
   "cell_type": "code",
   "execution_count": null,
   "metadata": {
    "collapsed": true
   },
   "outputs": [],
   "source": [
    "# Must cast as a np.array to work\n",
    "topics_of_data = np.array([ix[0:3] for ix in july_data_upload.index])\n",
    "\n",
    "# Pick a topic\n",
    "pack_topic = \"ene\"\n",
    "energy_datasets = np.where(topics_of_data == pack_topic)\n",
    "energy_dataset_uniq_ids = [july_data_upload.index[ix] for ix in energy_datasets][0]\n",
    "\n",
    "# Issue = if metadata isn't written for some, this may throw an error\n",
    "already_written_energy_metadata = metadata_for_upload.loc[energy_dataset_uniq_ids]\n",
    "total_energy_datasets_identified = july_data_upload.loc[energy_dataset_uniq_ids]"
   ]
  },
  {
   "cell_type": "code",
   "execution_count": null,
   "metadata": {
    "collapsed": true
   },
   "outputs": [],
   "source": [
    "already_written_energy_metadata.to_csv(\"./written_energy_metadata.csv\")"
   ]
  }
 ],
 "metadata": {
  "kernelspec": {
   "display_name": "Python 3",
   "language": "python",
   "name": "python3"
  },
  "language_info": {
   "codemirror_mode": {
    "name": "ipython",
    "version": 3
   },
   "file_extension": ".py",
   "mimetype": "text/x-python",
   "name": "python",
   "nbconvert_exporter": "python",
   "pygments_lexer": "ipython3",
   "version": "3.6.0"
  }
 },
 "nbformat": 4,
 "nbformat_minor": 2
}
