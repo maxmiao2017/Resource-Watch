{
 "cells": [
  {
   "cell_type": "markdown",
   "metadata": {},
   "source": [
    "    dis.007"
   ]
  },
  {
   "cell_type": "markdown",
   "metadata": {},
   "source": [
    "Import libraries"
   ]
  },
  {
   "cell_type": "code",
   "execution_count": 5,
   "metadata": {},
   "outputs": [],
   "source": [
    "# Libraries for downloading data from remote server (may be ftp)\n",
    "import requests\n",
    "from urllib.request import urlopen\n",
    "from contextlib import closing\n",
    "import shutil\n",
    "\n",
    "# Library for uploading/downloading data to/from S3\n",
    "import boto3\n",
    "\n",
    "# Libraries for handling data\n",
    "import rasterio as rio\n",
    "import numpy as np\n",
    "# from netCDF4 import Dataset\n",
    "# import pandas as pd\n",
    "# import scipy\n",
    "\n",
    "# Libraries for various helper functions\n",
    "# from datetime import datetime\n",
    "import os\n",
    "import threading\n",
    "import sys\n",
    "from glob import glob\n",
    "from matplotlib import pyplot\n",
    "%matplotlib inline"
   ]
  },
  {
   "cell_type": "markdown",
   "metadata": {},
   "source": [
    "s3 tools"
   ]
  },
  {
   "cell_type": "code",
   "execution_count": 6,
   "metadata": {},
   "outputs": [],
   "source": [
    "s3_upload = boto3.client(\"s3\")\n",
    "s3_download = boto3.resource(\"s3\")\n",
    "\n",
    "s3_bucket = \"wri-public-data\"\n",
    "s3_folder = \"resourcewatch/raster/dis_007_landslide_susceptibility_map/\"\n",
    "\n",
    "s3_file = \"dis_007_landslide_susceptibility_map.tif\"\n",
    "\n",
    "s3_key_orig = s3_folder + s3_file\n",
    "s3_key_edit = s3_key_orig[0:-4] + \"_edit.tif\"\n",
    "\n",
    "class ProgressPercentage(object):\n",
    "        def __init__(self, filename):\n",
    "            self._filename = filename\n",
    "            self._size = float(os.path.getsize(filename))\n",
    "            self._seen_so_far = 0\n",
    "            self._lock = threading.Lock()\n",
    "\n",
    "        def __call__(self, bytes_amount):\n",
    "            # To simplify we'll assume this is hooked up\n",
    "            # to a single filename.\n",
    "            with self._lock:\n",
    "                self._seen_so_far += bytes_amount\n",
    "                percentage = (self._seen_so_far / self._size) * 100\n",
    "                sys.stdout.write(\"\\r%s  %s / %s  (%.2f%%)\"%(\n",
    "                        self._filename, self._seen_so_far, self._size,\n",
    "                        percentage))\n",
    "                sys.stdout.flush()"
   ]
  },
  {
   "cell_type": "markdown",
   "metadata": {},
   "source": [
    "Define local file locations"
   ]
  },
  {
   "cell_type": "code",
   "execution_count": 34,
   "metadata": {},
   "outputs": [],
   "source": [
    "local_folder = \"C:/Users/Max81007/Desktop/Python/Resource_Watch/Raster/dis.007/\"\n",
    "file_name = \"dis_007_landslide_susceptibility_map.tif\"\n",
    "\n",
    "local_orig = local_folder + file_name\n",
    "\n",
    "orig_extension_length = 4 #4 for each char in .tif\n",
    "local_edit = local_orig[:-orig_extension_length] + \"_edit.tif\" \n",
    "local_edit2 = local_orig[:-orig_extension_length] + \"_edit2.tif\"\n",
    "local_edit3 = local_orig[:-orig_extension_length] + \"_edit3.tif\"\n",
    "local_edit4 = local_orig[:-orig_extension_length] + \"_edit4.tif\""
   ]
  },
  {
   "cell_type": "code",
   "execution_count": 35,
   "metadata": {},
   "outputs": [
    {
     "name": "stdout",
     "output_type": "stream",
     "text": [
      "{'driver': 'GTiff', 'dtype': 'uint8', 'nodata': 127.0, 'width': 43200, 'height': 15841, 'count': 1, 'crs': CRS({'init': 'epsg:4326'}), 'transform': Affine(0.00833333333333333, 0.0, -180.0,\n",
      "       0.0, -0.00833333333333333, 72.00006000333326), 'blockxsize': 128, 'blockysize': 128, 'tiled': True, 'interleave': 'band'}\n",
      "{'driver': 'GTiff', 'dtype': 'uint8', 'nodata': None, 'width': 43200, 'height': 15841, 'count': 1, 'crs': CRS({'init': 'epsg:4326'}), 'transform': Affine(0.00833333333333333, 0.0, -180.0,\n",
      "       0.0, -0.00833333333333333, 72.00006000333326), 'tiled': False, 'compress': 'lzw', 'interleave': 'band'}\n"
     ]
    }
   ],
   "source": [
    "files = [local_orig,local_edit]\n",
    "for file in files:\n",
    "    with rio.open(file, 'r') as src:\n",
    "        profile = src.profile\n",
    "        print(profile)"
   ]
  },
  {
   "cell_type": "markdown",
   "metadata": {},
   "source": [
    "Use rasterio to reproject and compress"
   ]
  },
  {
   "cell_type": "code",
   "execution_count": 40,
   "metadata": {},
   "outputs": [],
   "source": [
    "os.getcwd()\n",
    "os.chdir(local_folder)\n",
    "os.environ[\"local_orig\"] =local_orig\n",
    "os.environ[\"local_edit\"] =local_edit\n",
    "os.environ[\"local_edit2\"] =local_edit2\n",
    "os.environ[\"local_edit3\"] =local_edit3\n",
    "os.environ[\"local_edit4\"] =local_edit4"
   ]
  },
  {
   "cell_type": "code",
   "execution_count": 28,
   "metadata": {},
   "outputs": [
    {
     "name": "stdout",
     "output_type": "stream",
     "text": [
      "(1, 10000, 2000)\n"
     ]
    },
    {
     "data": {
      "text/plain": [
       "(array([ 0,  1,  2,  3,  4,  5, 25], dtype=uint8),\n",
       " array([ 1311718,   286809,   190276,   140504,    17298,     2195, 18051200]))"
      ]
     },
     "execution_count": 28,
     "metadata": {},
     "output_type": "execute_result"
    }
   ],
   "source": [
    "with rio.open(local_edit3) as src:\n",
    "    window=((0,10000),(0,2000))\n",
    "    data = src.read(window=window)\n",
    "    print(data.shape)\n",
    "import numpy as np\n",
    "counts = np.unique(data, return_counts=True)\n",
    "counts"
   ]
  },
  {
   "cell_type": "code",
   "execution_count": 31,
   "metadata": {},
   "outputs": [
    {
     "name": "stdout",
     "output_type": "stream",
     "text": [
      "(1, 10000, 2000)\n"
     ]
    },
    {
     "data": {
      "text/plain": [
       "(array([  0,   1,   2,   3,   4,   5, 127], dtype=uint8),\n",
       " array([ 1311718,   286809,   190276,   140504,    17298,     2195, 18051200]))"
      ]
     },
     "execution_count": 31,
     "metadata": {},
     "output_type": "execute_result"
    }
   ],
   "source": [
    "with rio.open(local_orig) as src:\n",
    "    window=((0,10000),(0,2000))\n",
    "    data = src.read(window=window)\n",
    "    print(data.shape)\n",
    "import numpy as np\n",
    "counts = np.unique(data, return_counts=True)\n",
    "counts"
   ]
  },
  {
   "cell_type": "code",
   "execution_count": 30,
   "metadata": {},
   "outputs": [
    {
     "name": "stdout",
     "output_type": "stream",
     "text": [
      "(1, 10000, 2000)\n"
     ]
    },
    {
     "data": {
      "text/plain": [
       "(array([0, 1, 2, 3, 4, 5], dtype=uint8),\n",
       " array([19362918,   286809,   190276,   140504,    17298,     2195]))"
      ]
     },
     "execution_count": 30,
     "metadata": {},
     "output_type": "execute_result"
    }
   ],
   "source": [
    "with rio.open(local_edit3) as src:\n",
    "    window=((0,10000),(0,2000))\n",
    "    data = src.read(window=window)\n",
    "    print(data.shape)\n",
    "import numpy as np\n",
    "counts = np.unique(data, return_counts=True)\n",
    "counts"
   ]
  },
  {
   "cell_type": "code",
   "execution_count": 43,
   "metadata": {},
   "outputs": [
    {
     "name": "stdout",
     "output_type": "stream",
     "text": [
      "0...10...20...30...40...50...60...70...80...90...100 - done.\n"
     ]
    }
   ],
   "source": [
    "!gdalwarp -overwrite -t_srs epsg:4326 -srcnodata 127 -dstnodata None -co compress=lzw %local_orig% %local_edit4%"
   ]
  },
  {
   "cell_type": "code",
   "execution_count": 44,
   "metadata": {},
   "outputs": [
    {
     "name": "stdout",
     "output_type": "stream",
     "text": [
      "(1, 10000, 2000)\n"
     ]
    },
    {
     "data": {
      "text/plain": [
       "(array([0, 1, 2, 3, 4, 5], dtype=uint8),\n",
       " array([19362918,   286809,   190276,   140504,    17298,     2195]))"
      ]
     },
     "execution_count": 44,
     "metadata": {},
     "output_type": "execute_result"
    }
   ],
   "source": [
    "with rio.open(local_edit4) as src:\n",
    "    window=((0,10000),(0,2000))\n",
    "    data = src.read(window=window)\n",
    "    print(data.shape)\n",
    "import numpy as np\n",
    "counts = np.unique(data, return_counts=True)\n",
    "counts"
   ]
  },
  {
   "cell_type": "code",
   "execution_count": 11,
   "metadata": {},
   "outputs": [
    {
     "name": "stdout",
     "output_type": "stream",
     "text": [
      "{'driver': 'GTiff', 'dtype': 'uint8', 'nodata': 127.0, 'width': 43200, 'height': 15841, 'count': 1, 'crs': CRS({'init': 'epsg:4326'}), 'transform': Affine(0.00833333333333333, 0.0, -180.0,\n",
      "       0.0, -0.00833333333333333, 72.00006000333326), 'blockxsize': 128, 'blockysize': 128, 'tiled': True, 'interleave': 'band'}\n",
      "{'driver': 'GTiff', 'dtype': 'uint8', 'nodata': None, 'width': 43200, 'height': 15841, 'count': 1, 'crs': CRS({'init': 'epsg:4326'}), 'transform': Affine(0.00833333333333333, 0.0, -180.0,\n",
      "       0.0, -0.00833333333333333, 72.00006000333326), 'tiled': False, 'compress': 'lzw', 'interleave': 'band'}\n"
     ]
    }
   ],
   "source": [
    "files = [local_orig, local_edit2]\n",
    "for file in files:\n",
    "    with rio.open(file, 'r') as src:\n",
    "        profile = src.profile\n",
    "        print(profile)"
   ]
  },
  {
   "cell_type": "code",
   "execution_count": null,
   "metadata": {},
   "outputs": [],
   "source": []
  },
  {
   "cell_type": "markdown",
   "metadata": {},
   "source": [
    "Upload orig and edit files to s3"
   ]
  },
  {
   "cell_type": "code",
   "execution_count": 8,
   "metadata": {},
   "outputs": [
    {
     "name": "stdout",
     "output_type": "stream",
     "text": [
      "C:/Users/Max81007/Desktop/Python/Resource_Watch/Raster/dis.007/dis_007_landslide_susceptibility_map_edit.tif  186278348 / 186278348.0  (100.00%)"
     ]
    }
   ],
   "source": [
    "# Original\n",
    "s3_upload.upload_file(local_orig, s3_bucket, s3_key_orig,\n",
    "                         Callback=ProgressPercentage(local_orig))\n",
    "\n",
    "# Edit\n",
    "s3_upload.upload_file(local_edit, s3_bucket, s3_key_edit,\n",
    "                         Callback=ProgressPercentage(local_edit))"
   ]
  },
  {
   "cell_type": "code",
   "execution_count": 7,
   "metadata": {},
   "outputs": [],
   "source": [
    "os.environ[\"Zgs_key\"] = \"gs://resource-watch-public/\" + s3_key_edit\n",
    "os.environ[\"Zs3_key\"] = \"s3://wri-public-data/\" + s3_key_edit"
   ]
  },
  {
   "cell_type": "code",
   "execution_count": 8,
   "metadata": {},
   "outputs": [
    {
     "name": "stdout",
     "output_type": "stream",
     "text": [
      "s3://wri-public-data/resourcewatch/raster/dis_007_landslide_susceptibility_map/dis_007_landslide_susceptibility_map_edit.tif\n",
      "gs://resource-watch-public/resourcewatch/raster/dis_007_landslide_susceptibility_map/dis_007_landslide_susceptibility_map_edit.tif\n"
     ]
    }
   ],
   "source": [
    "!echo %Zs3_key%\n",
    "!echo %Zgs_key%"
   ]
  },
  {
   "cell_type": "code",
   "execution_count": null,
   "metadata": {},
   "outputs": [],
   "source": [
    "!gsutil cp %Zs3_key% %Zgs_key%"
   ]
  },
  {
   "cell_type": "code",
   "execution_count": null,
   "metadata": {},
   "outputs": [],
   "source": [
    "gsutil cp s3://wri-public-data/resourcewatch/raster/dis_007_landslide_susceptibility_map/dis_007_landslide_susceptibility_map_edit.tif gs://resource-watch-public/resourcewatch/raster/dis_007_landslide_susceptibility_map/dis_007_landslide_susceptibility_map_edit.tif"
   ]
  },
  {
   "cell_type": "code",
   "execution_count": null,
   "metadata": {},
   "outputs": [],
   "source": [
    "# # with rio.open(local_orig) as src:\n",
    "#     data = src.read(indexes=1)\n",
    "#     pyplot.imshow(data)"
   ]
  },
  {
   "cell_type": "code",
   "execution_count": null,
   "metadata": {},
   "outputs": [],
   "source": [
    "# with rio.open(local_edit) as src:\n",
    "#     data = src.read(indexes=1)\n",
    "#     pyplot.imshow(data)"
   ]
  },
  {
   "cell_type": "code",
   "execution_count": 11,
   "metadata": {},
   "outputs": [
    {
     "name": "stdout",
     "output_type": "stream",
     "text": [
      "Started upload task with ID: 3QFYIBV2XBJCHZK4ZQJQECAR\n"
     ]
    }
   ],
   "source": [
    "os.environ[\"asset_id\"] = \"users/resourcewatch/dis_007_landslide_susceptibility_map\"\n",
    "!earthengine upload image --asset_id=%asset_id% %Zgs_key%"
   ]
  },
  {
   "cell_type": "code",
   "execution_count": 14,
   "metadata": {},
   "outputs": [
    {
     "name": "stdout",
     "output_type": "stream",
     "text": [
      "3QFYIBV2XBJCHZK4ZQJQECAR:\n",
      "  State: FAILED\n",
      "  Type: Upload\n",
      "  Description: Asset ingestion: users/resourcewatch/dis_007_landslide_susceptibility_map\n",
      "  Created: 2017-10-06 15:19:45.257000\n",
      "  Started: 2017-10-06 15:19:46.971000\n",
      "  Updated: 2017-10-06 15:19:47.625000\n",
      "  Error: Cannot overwrite asset 'users/resourcewatch/dis_007_landslide_susceptibility_map'.\n"
     ]
    }
   ],
   "source": [
    "!earthengine task info 3QFYIBV2XBJCHZK4ZQJQECAR"
   ]
  },
  {
   "cell_type": "code",
   "execution_count": 9,
   "metadata": {},
   "outputs": [
    {
     "ename": "SyntaxError",
     "evalue": "invalid syntax (<ipython-input-9-5945829e0c5d>, line 1)",
     "output_type": "error",
     "traceback": [
      "\u001b[1;36m  File \u001b[1;32m\"<ipython-input-9-5945829e0c5d>\"\u001b[1;36m, line \u001b[1;32m1\u001b[0m\n\u001b[1;33m    earthengine acl set public users/username/asset_id\u001b[0m\n\u001b[1;37m                  ^\u001b[0m\n\u001b[1;31mSyntaxError\u001b[0m\u001b[1;31m:\u001b[0m invalid syntax\n"
     ]
    }
   ],
   "source": [
    "earthengine acl set public users/username/asset_id"
   ]
  },
  {
   "cell_type": "code",
   "execution_count": 15,
   "metadata": {},
   "outputs": [
    {
     "name": "stdout",
     "output_type": "stream",
     "text": [
      "users/resourcewatch/dis_007_landslide_susceptibility_map\n"
     ]
    }
   ],
   "source": [
    "!echo %asset_id%"
   ]
  },
  {
   "cell_type": "code",
   "execution_count": 21,
   "metadata": {},
   "outputs": [
    {
     "name": "stderr",
     "output_type": "stream",
     "text": [
      "usage: earthengine acl set [-h] file_or_acl_name asset_id\n",
      "earthengine acl set: error: the following arguments are required: asset_id\n"
     ]
    }
   ],
   "source": [
    "!earthengine acl set public users/resourcewatch/dis_007_landslide_susceptibility_map"
   ]
  }
 ],
 "metadata": {
  "kernelspec": {
   "display_name": "Python 3",
   "language": "python",
   "name": "python3"
  },
  "language_info": {
   "codemirror_mode": {
    "name": "ipython",
    "version": 3
   },
   "file_extension": ".py",
   "mimetype": "text/x-python",
   "name": "python",
   "nbconvert_exporter": "python",
   "pygments_lexer": "ipython3",
   "version": "3.6.2"
  }
 },
 "nbformat": 4,
 "nbformat_minor": 2
}
