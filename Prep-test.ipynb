{
 "cells": [
  {
   "cell_type": "code",
   "execution_count": 41,
   "metadata": {},
   "outputs": [],
   "source": [
    "import numpy as np\n",
    "import xarray as xr\n",
    "import matplotlib.pyplot as plot\n",
    "from contextlib import closing\n",
    "from matplotlib.pyplot import cm\n",
    "import matplotlib.image as mpimg\n",
    "import rasterio\n",
    "import os\n",
    "import shutil\n",
    "import netCDF4\n",
    "%matplotlib inline"
   ]
  },
  {
   "cell_type": "code",
   "execution_count": 42,
   "metadata": {},
   "outputs": [],
   "source": [
    "prcp_2015 = \"/Users/Max81007/Desktop/Python/Prep/NA_prep/daymet_v3_prcp_2015_na.nc4\""
   ]
  },
  {
   "cell_type": "code",
   "execution_count": 43,
   "metadata": {},
   "outputs": [
    {
     "name": "stdout",
     "output_type": "stream",
     "text": [
      "xarray.Dataset {\n",
      "dimensions:\n",
      "\tnv = 2 ;\n",
      "\ttime = 365 ;\n",
      "\tx = 7814 ;\n",
      "\ty = 8075 ;\n",
      "\n",
      "variables:\n",
      "\tfloat32 x(x) ;\n",
      "\t\tx:units = m ;\n",
      "\t\tx:long_name = x coordinate of projection ;\n",
      "\t\tx:standard_name = projection_x_coordinate ;\n",
      "\tfloat32 y(y) ;\n",
      "\t\ty:units = m ;\n",
      "\t\ty:long_name = y coordinate of projection ;\n",
      "\t\ty:standard_name = projection_y_coordinate ;\n",
      "\tfloat32 lat(y, x) ;\n",
      "\t\tlat:units = degrees_north ;\n",
      "\t\tlat:long_name = latitude coordinate ;\n",
      "\t\tlat:standard_name = latitude ;\n",
      "\tfloat32 lon(y, x) ;\n",
      "\t\tlon:units = degrees_east ;\n",
      "\t\tlon:long_name = longitude coordinate ;\n",
      "\t\tlon:standard_name = longitude ;\n",
      "\tdatetime64[ns] time(time) ;\n",
      "\t\ttime:long_name = time ;\n",
      "\t\ttime:bounds = time_bnds ;\n",
      "\tint16 yearday(time) ;\n",
      "\t\tyearday:long_name = yearday ;\n",
      "\tfloat32 time_bnds(time, nv) ;\n",
      "\tint16 lambert_conformal_conic() ;\n",
      "\t\tlambert_conformal_conic:grid_mapping_name = lambert_conformal_conic ;\n",
      "\t\tlambert_conformal_conic:longitude_of_central_meridian = -100.0 ;\n",
      "\t\tlambert_conformal_conic:latitude_of_projection_origin = 42.5 ;\n",
      "\t\tlambert_conformal_conic:false_easting = 0.0 ;\n",
      "\t\tlambert_conformal_conic:false_northing = 0.0 ;\n",
      "\t\tlambert_conformal_conic:standard_parallel = [ 25.  60.] ;\n",
      "\t\tlambert_conformal_conic:semi_major_axis = 6378137.0 ;\n",
      "\t\tlambert_conformal_conic:inverse_flattening = 298.257223563 ;\n",
      "\tfloat64 prcp(time, y, x) ;\n",
      "\t\tprcp:long_name = daily total precipitation ;\n",
      "\t\tprcp:units = mm/day ;\n",
      "\t\tprcp:grid_mapping = lambert_conformal_conic ;\n",
      "\t\tprcp:cell_methods = area: mean time: sum ;\n",
      "\n",
      "// global attributes:\n",
      "\t:start_year = 2015 ;\n",
      "\t:source = Daymet Software Version 3.0 ;\n",
      "\t:Version_software = Daymet Software Version 3.0 ;\n",
      "\t:Version_data = Daymet Data Version 3.0 ;\n",
      "\t:Conventions = CF-1.6 ;\n",
      "\t:citation = Please see http://daymet.ornl.gov/ for current Daymet data citation information ;\n",
      "\t:references = Please see http://daymet.ornl.gov/ for current information on Daymet references ;\n",
      "}"
     ]
    }
   ],
   "source": [
    "ncfile = xr.open_dataset(prcp_2015)\n",
    "ncfile.info()"
   ]
  },
  {
   "cell_type": "code",
   "execution_count": 20,
   "metadata": {},
   "outputs": [
    {
     "name": "stdout",
     "output_type": "stream",
     "text": [
      "variables\n",
      "x\n",
      "y\n",
      "lat\n",
      "lon\n",
      "time\n",
      "yearday\n",
      "time_bnds\n",
      "lambert_conformal_conic\n",
      "prcp\n"
     ]
    }
   ],
   "source": [
    "print('variables')\n",
    "for v in ncfile.variables:\n",
    "    print(v)"
   ]
  },
  {
   "cell_type": "code",
   "execution_count": 44,
   "metadata": {},
   "outputs": [
    {
     "data": {
      "text/plain": [
       "<xarray.Variable (time: 365, y: 8075, x: 7814)>\n",
       "[1555951770 values with dtype=float64]\n",
       "Attributes:\n",
       "    long_name:     daily total precipitation\n",
       "    units:         mm/day\n",
       "    grid_mapping:  lambert_conformal_conic\n",
       "    cell_methods:  area: mean time: sum"
      ]
     },
     "execution_count": 44,
     "metadata": {},
     "output_type": "execute_result"
    }
   ],
   "source": [
    "ncfile.variables['prcp'][:]"
   ]
  },
  {
   "cell_type": "code",
   "execution_count": 64,
   "metadata": {},
   "outputs": [
    {
     "name": "stdout",
     "output_type": "stream",
     "text": [
      "<class 'netCDF4._netCDF4.Dataset'>\n",
      "root group (NETCDF4_CLASSIC data model, file format HDF5):\n",
      "    start_year: 2015\n",
      "    source: Daymet Software Version 3.0\n",
      "    Version_software: Daymet Software Version 3.0\n",
      "    Version_data: Daymet Data Version 3.0\n",
      "    Conventions: CF-1.6\n",
      "    citation: Please see http://daymet.ornl.gov/ for current Daymet data citation information\n",
      "    references: Please see http://daymet.ornl.gov/ for current information on Daymet references\n",
      "    dimensions(sizes): x(7814), y(8075), time(365), nv(2)\n",
      "    variables(dimensions): float32 \u001b[4mx\u001b[0m(x), float32 \u001b[4my\u001b[0m(y), float32 \u001b[4mlat\u001b[0m(y,x), float32 \u001b[4mlon\u001b[0m(y,x), float32 \u001b[4mtime\u001b[0m(time), int16 \u001b[4myearday\u001b[0m(time), float32 \u001b[4mtime_bnds\u001b[0m(time,nv), int16 \u001b[4mlambert_conformal_conic\u001b[0m(), float32 \u001b[4mprcp\u001b[0m(time,y,x)\n",
      "    groups: \n",
      "\n"
     ]
    }
   ],
   "source": [
    "prcp_2015 = \"/Users/Max81007/Desktop/Python/Prep/NA_prep/daymet_v3_prcp_2015_na.nc4\"\n",
    "abc = netCDF4.Dataset(prcp_2015,\"r\",format='NETCDF4')\n",
    "print(abc)"
   ]
  },
  {
   "cell_type": "code",
   "execution_count": 67,
   "metadata": {},
   "outputs": [
    {
     "name": "stdout",
     "output_type": "stream",
     "text": [
      "odict_keys(['x', 'y', 'lat', 'lon', 'time', 'yearday', 'time_bnds', 'lambert_conformal_conic', 'prcp'])\n",
      "<class 'netCDF4._netCDF4.Variable'>\n",
      "float32 prcp(time, y, x)\n",
      "    _FillValue: -9999.0\n",
      "    long_name: daily total precipitation\n",
      "    units: mm/day\n",
      "    missing_value: -9999.0\n",
      "    coordinates: lat lon\n",
      "    grid_mapping: lambert_conformal_conic\n",
      "    cell_methods: area: mean time: sum\n",
      "unlimited dimensions: time\n",
      "current shape = (365, 8075, 7814)\n",
      "filling on\n"
     ]
    }
   ],
   "source": [
    "print (abc.variables.keys())\n",
    "print (abc.variables['prcp'])"
   ]
  },
  {
   "cell_type": "code",
   "execution_count": 63,
   "metadata": {},
   "outputs": [
    {
     "name": "stdout",
     "output_type": "stream",
     "text": [
      "odict_keys(['x', 'y', 'lat', 'lon', 'time', 'yearday', 'time_bnds', 'lambert_conformal_conic', 'prcp'])\n",
      "<class 'netCDF4._netCDF4.Variable'>\n",
      "float32 prcp(time, y, x)\n",
      "    _FillValue: -9999.0\n",
      "    long_name: daily total precipitation\n",
      "    units: mm/day\n",
      "    missing_value: -9999.0\n",
      "    coordinates: lat lon\n",
      "    grid_mapping: lambert_conformal_conic\n",
      "    cell_methods: area: mean time: sum\n",
      "unlimited dimensions: time\n",
      "current shape = (365, 8075, 7814)\n",
      "filling on\n"
     ]
    },
    {
     "data": {
      "text/plain": [
       "<matplotlib.image.AxesImage at 0xc74a850>"
      ]
     },
     "execution_count": 63,
     "metadata": {},
     "output_type": "execute_result"
    },
    {
     "data": {
      "image/png": "[encoded data removed]",
      "text/plain": [
       "<matplotlib.figure.Figure at 0x4430db0>"
      ]
     },
     "metadata": {},
     "output_type": "display_data"
    }
   ],
   "source": [
    "import numpy as np \n",
    "src = netCDF4.Dataset(prcp_2015,\"r\",format='NETCDF4')\n",
    "print (src.variables.keys())\n",
    "print (src.variables['prcp'])\n",
    "data = src.variables[\"prcp\"][-1,4000:7000,4000:7000]\n",
    "data.shape\n",
    "plot.imshow(data)"
   ]
  },
  {
   "cell_type": "code",
   "execution_count": null,
   "metadata": {},
   "outputs": [],
   "source": [
    "from mpl_toolkits.basemap import Basemap\n",
    "parallels = np.arange(10000,20000,1000.) \n",
    "meridians = np.arange(-20000,-30000,1000.) \n",
    "map = Basemap(projection='merc',llcrnrlon=-93.,llcrnrlat=35.,urcrnrlon=-73.,urcrnrlat=45.,resolution='i')\n",
    "map.drawparallels(parallels,labels=[1,0,0,0],fontsize=10)\n",
    "map.drawmeridians(meridians,labels=[0,0,0,1],fontsize=10)\n"
   ]
  },
  {
   "cell_type": "code",
   "execution_count": 38,
   "metadata": {},
   "outputs": [
    {
     "ename": "IndexError",
     "evalue": "too many indices",
     "output_type": "error",
     "traceback": [
      "\u001b[1;31m---------------------------------------------------------------------------\u001b[0m",
      "\u001b[1;31mIndexError\u001b[0m                                Traceback (most recent call last)",
      "\u001b[1;32m<ipython-input-38-f71f20fa7e98>\u001b[0m in \u001b[0;36m<module>\u001b[1;34m()\u001b[0m\n\u001b[1;32m----> 1\u001b[1;33m \u001b[0mncfile\u001b[0m\u001b[1;33m.\u001b[0m\u001b[0mlambert_conformal_conic\u001b[0m\u001b[1;33m.\u001b[0m\u001b[0mloc\u001b[0m\u001b[1;33m[\u001b[0m\u001b[1;36m1\u001b[0m\u001b[1;33m]\u001b[0m\u001b[1;33m.\u001b[0m\u001b[0mplot\u001b[0m\u001b[1;33m(\u001b[0m\u001b[1;33m)\u001b[0m\u001b[1;33m\u001b[0m\u001b[0m\n\u001b[0m",
      "\u001b[1;32mc:\\users\\max81007\\appdata\\local\\programs\\python\\python36-32\\lib\\site-packages\\xarray\\core\\dataarray.py\u001b[0m in \u001b[0;36m__getitem__\u001b[1;34m(self, key)\u001b[0m\n\u001b[0;32m    104\u001b[0m \u001b[1;33m\u001b[0m\u001b[0m\n\u001b[0;32m    105\u001b[0m     \u001b[1;32mdef\u001b[0m \u001b[0m__getitem__\u001b[0m\u001b[1;33m(\u001b[0m\u001b[0mself\u001b[0m\u001b[1;33m,\u001b[0m \u001b[0mkey\u001b[0m\u001b[1;33m)\u001b[0m\u001b[1;33m:\u001b[0m\u001b[1;33m\u001b[0m\u001b[0m\n\u001b[1;32m--> 106\u001b[1;33m         \u001b[0mpos_indexers\u001b[0m\u001b[1;33m,\u001b[0m \u001b[0mnew_indexes\u001b[0m \u001b[1;33m=\u001b[0m \u001b[0mself\u001b[0m\u001b[1;33m.\u001b[0m\u001b[0m_remap_key\u001b[0m\u001b[1;33m(\u001b[0m\u001b[0mkey\u001b[0m\u001b[1;33m)\u001b[0m\u001b[1;33m\u001b[0m\u001b[0m\n\u001b[0m\u001b[0;32m    107\u001b[0m         \u001b[1;32mreturn\u001b[0m \u001b[0mself\u001b[0m\u001b[1;33m.\u001b[0m\u001b[0mdata_array\u001b[0m\u001b[1;33m[\u001b[0m\u001b[0mpos_indexers\u001b[0m\u001b[1;33m]\u001b[0m\u001b[1;33m.\u001b[0m\u001b[0m_replace_indexes\u001b[0m\u001b[1;33m(\u001b[0m\u001b[0mnew_indexes\u001b[0m\u001b[1;33m)\u001b[0m\u001b[1;33m\u001b[0m\u001b[0m\n\u001b[0;32m    108\u001b[0m \u001b[1;33m\u001b[0m\u001b[0m\n",
      "\u001b[1;32mc:\\users\\max81007\\appdata\\local\\programs\\python\\python36-32\\lib\\site-packages\\xarray\\core\\dataarray.py\u001b[0m in \u001b[0;36m_remap_key\u001b[1;34m(self, key)\u001b[0m\n\u001b[0;32m     99\u001b[0m         \u001b[1;32mif\u001b[0m \u001b[1;32mnot\u001b[0m \u001b[0mutils\u001b[0m\u001b[1;33m.\u001b[0m\u001b[0mis_dict_like\u001b[0m\u001b[1;33m(\u001b[0m\u001b[0mkey\u001b[0m\u001b[1;33m)\u001b[0m\u001b[1;33m:\u001b[0m\u001b[1;33m\u001b[0m\u001b[0m\n\u001b[0;32m    100\u001b[0m             \u001b[1;31m# expand the indexer so we can handle Ellipsis\u001b[0m\u001b[1;33m\u001b[0m\u001b[1;33m\u001b[0m\u001b[0m\n\u001b[1;32m--> 101\u001b[1;33m             \u001b[0mlabels\u001b[0m \u001b[1;33m=\u001b[0m \u001b[0mindexing\u001b[0m\u001b[1;33m.\u001b[0m\u001b[0mexpanded_indexer\u001b[0m\u001b[1;33m(\u001b[0m\u001b[0mkey\u001b[0m\u001b[1;33m,\u001b[0m \u001b[0mself\u001b[0m\u001b[1;33m.\u001b[0m\u001b[0mdata_array\u001b[0m\u001b[1;33m.\u001b[0m\u001b[0mndim\u001b[0m\u001b[1;33m)\u001b[0m\u001b[1;33m\u001b[0m\u001b[0m\n\u001b[0m\u001b[0;32m    102\u001b[0m             \u001b[0mkey\u001b[0m \u001b[1;33m=\u001b[0m \u001b[0mdict\u001b[0m\u001b[1;33m(\u001b[0m\u001b[0mzip\u001b[0m\u001b[1;33m(\u001b[0m\u001b[0mself\u001b[0m\u001b[1;33m.\u001b[0m\u001b[0mdata_array\u001b[0m\u001b[1;33m.\u001b[0m\u001b[0mdims\u001b[0m\u001b[1;33m,\u001b[0m \u001b[0mlabels\u001b[0m\u001b[1;33m)\u001b[0m\u001b[1;33m)\u001b[0m\u001b[1;33m\u001b[0m\u001b[0m\n\u001b[0;32m    103\u001b[0m         \u001b[1;32mreturn\u001b[0m \u001b[0mindexing\u001b[0m\u001b[1;33m.\u001b[0m\u001b[0mremap_label_indexers\u001b[0m\u001b[1;33m(\u001b[0m\u001b[0mself\u001b[0m\u001b[1;33m.\u001b[0m\u001b[0mdata_array\u001b[0m\u001b[1;33m,\u001b[0m \u001b[0mkey\u001b[0m\u001b[1;33m)\u001b[0m\u001b[1;33m\u001b[0m\u001b[0m\n",
      "\u001b[1;32mc:\\users\\max81007\\appdata\\local\\programs\\python\\python36-32\\lib\\site-packages\\xarray\\core\\indexing.py\u001b[0m in \u001b[0;36mexpanded_indexer\u001b[1;34m(key, ndim)\u001b[0m\n\u001b[0;32m     38\u001b[0m             \u001b[0mnew_key\u001b[0m\u001b[1;33m.\u001b[0m\u001b[0mappend\u001b[0m\u001b[1;33m(\u001b[0m\u001b[0mk\u001b[0m\u001b[1;33m)\u001b[0m\u001b[1;33m\u001b[0m\u001b[0m\n\u001b[0;32m     39\u001b[0m     \u001b[1;32mif\u001b[0m \u001b[0mlen\u001b[0m\u001b[1;33m(\u001b[0m\u001b[0mnew_key\u001b[0m\u001b[1;33m)\u001b[0m \u001b[1;33m>\u001b[0m \u001b[0mndim\u001b[0m\u001b[1;33m:\u001b[0m\u001b[1;33m\u001b[0m\u001b[0m\n\u001b[1;32m---> 40\u001b[1;33m         \u001b[1;32mraise\u001b[0m \u001b[0mIndexError\u001b[0m\u001b[1;33m(\u001b[0m\u001b[1;34m'too many indices'\u001b[0m\u001b[1;33m)\u001b[0m\u001b[1;33m\u001b[0m\u001b[0m\n\u001b[0m\u001b[0;32m     41\u001b[0m     \u001b[0mnew_key\u001b[0m\u001b[1;33m.\u001b[0m\u001b[0mextend\u001b[0m\u001b[1;33m(\u001b[0m\u001b[1;33m(\u001b[0m\u001b[0mndim\u001b[0m \u001b[1;33m-\u001b[0m \u001b[0mlen\u001b[0m\u001b[1;33m(\u001b[0m\u001b[0mnew_key\u001b[0m\u001b[1;33m)\u001b[0m\u001b[1;33m)\u001b[0m \u001b[1;33m*\u001b[0m \u001b[1;33m[\u001b[0m\u001b[0mslice\u001b[0m\u001b[1;33m(\u001b[0m\u001b[1;32mNone\u001b[0m\u001b[1;33m)\u001b[0m\u001b[1;33m]\u001b[0m\u001b[1;33m)\u001b[0m\u001b[1;33m\u001b[0m\u001b[0m\n\u001b[0;32m     42\u001b[0m     \u001b[1;32mreturn\u001b[0m \u001b[0mtuple\u001b[0m\u001b[1;33m(\u001b[0m\u001b[0mnew_key\u001b[0m\u001b[1;33m)\u001b[0m\u001b[1;33m\u001b[0m\u001b[0m\n",
      "\u001b[1;31mIndexError\u001b[0m: too many indices"
     ]
    }
   ],
   "source": [
    "ncfile.lambert_conformal_conic.loc[1].plot()"
   ]
  },
  {
   "cell_type": "code",
   "execution_count": null,
   "metadata": {},
   "outputs": [],
   "source": [
    "ncfile.lambert_conformal_conic[].plot(cmap=cm.gist_gray)"
   ]
  },
  {
   "cell_type": "code",
   "execution_count": null,
   "metadata": {},
   "outputs": [],
   "source": [
    "gdalwarp -t_srs \"+proj=utm +zone=33 +ellps=WGS84 +datum=WGS84 +units=m +no_defs\" -of netCDF C:/Radar/precip_aeqd-1000.201408.nc C:/Radar/RadarPrecip_UTM33proj.nc"
   ]
  },
  {
   "cell_type": "code",
   "execution_count": 15,
   "metadata": {},
   "outputs": [],
   "source": [
    "prcp_2015 = \"/Users/Max81007/Desktop/Python/Prep/NA_prep/daymet_v3_prcp_2015_na.nc4\"\n",
    "prcp_2015_edit = \"/Users/Max81007/Desktop/Python/Prep/NA_prep/daymet_v3_prcp_2015_na_edit.vrt\""
   ]
  },
  {
   "cell_type": "code",
   "execution_count": 16,
   "metadata": {},
   "outputs": [],
   "source": [
    "import os\n",
    "os.environ[\"prcp_2015\"] = prcp_2015\n",
    "os.environ[\"prcp_2015_edit\"] = prcp_2015_edit"
   ]
  },
  {
   "cell_type": "code",
   "execution_count": 17,
   "metadata": {},
   "outputs": [
    {
     "name": "stdout",
     "output_type": "stream",
     "text": [
      "Driver: HDF5/Hierarchical Data Format Release 5\n",
      "Files: /Users/Max81007/Desktop/Python/Prep/NA_prep/daymet_v3_prcp_2015_na.nc4\n",
      "Size is 512, 512\n",
      "Coordinate System is `'\n",
      "Metadata:\n",
      "  citation=Please see http://daymet.ornl.gov/ for current Daymet data citation information\n",
      "  Conventions=CF-1.6\n",
      "  lambert_conformal_conic_false_easting=0 \n",
      "  lambert_conformal_conic_false_northing=0 \n",
      "  lambert_conformal_conic_grid_mapping_name=lambert_conformal_conic\n",
      "  lambert_conformal_conic_inverse_flattening=298.257223563 \n",
      "  lambert_conformal_conic_latitude_of_projection_origin=42.5 \n",
      "  lambert_conformal_conic_longitude_of_central_meridian=-100 \n",
      "  lambert_conformal_conic_semi_major_axis=6378137 \n",
      "  lambert_conformal_conic_standard_parallel=25 60 \n",
      "  lat_long_name=latitude coordinate\n",
      "  lat_standard_name=latitude\n",
      "  lat_units=degrees_north\n",
      "  lon_long_name=longitude coordinate\n",
      "  lon_standard_name=longitude\n",
      "  lon_units=degrees_east\n",
      "  nv_CLASS=DIMENSION_SCALE\n",
      "  nv_NAME=This is a netCDF dimension but not a netCDF variable.         2\n",
      "  nv_REFERENCE_LIST=\n",
      "  nv__Netcdf4Dimid=3 \n",
      "  prcp_cell_methods=area: mean time: sum\n",
      "  prcp_coordinates=lat lon\n",
      "  prcp_grid_mapping=lambert_conformal_conic\n",
      "  prcp_long_name=daily total precipitation\n",
      "  prcp_missing_value=-9999 \n",
      "  prcp_units=mm/day\n",
      "  prcp__FillValue=-9999 \n",
      "  references=Please see http://daymet.ornl.gov/ for current information on Daymet references\n",
      "  source=Daymet Software Version 3.0\n",
      "  start_year=2015 \n",
      "  time_bounds=time_bnds\n",
      "  time_calendar=standard\n",
      "  time_CLASS=DIMENSION_SCALE\n",
      "  time_long_name=time\n",
      "  time_NAME=time\n",
      "  time_REFERENCE_LIST=\n",
      "  time_units=days since 1980-01-01 00:00:00 UTC\n",
      "  time__Netcdf4Dimid=2 \n",
      "  Version_data=Daymet Data Version 3.0\n",
      "  Version_software=Daymet Software Version 3.0\n",
      "  yearday_long_name=yearday\n",
      "  _nc3_strict=1 \n",
      "Subdatasets:\n",
      "  SUBDATASET_1_NAME=HDF5:\"/Users/Max81007/Desktop/Python/Prep/NA_prep/daymet_v3_prcp_2015_na.nc4\"://lat\n",
      "  SUBDATASET_1_DESC=[8075x7814] //lat (32-bit floating-point)\n",
      "  SUBDATASET_2_NAME=HDF5:\"/Users/Max81007/Desktop/Python/Prep/NA_prep/daymet_v3_prcp_2015_na.nc4\"://lon\n",
      "  SUBDATASET_2_DESC=[8075x7814] //lon (32-bit floating-point)\n",
      "  SUBDATASET_3_NAME=HDF5:\"/Users/Max81007/Desktop/Python/Prep/NA_prep/daymet_v3_prcp_2015_na.nc4\"://prcp\n",
      "  SUBDATASET_3_DESC=[365x8075x7814] //prcp (32-bit floating-point)\n",
      "  SUBDATASET_4_NAME=HDF5:\"/Users/Max81007/Desktop/Python/Prep/NA_prep/daymet_v3_prcp_2015_na.nc4\"://time_bnds\n",
      "  SUBDATASET_4_DESC=[365x2] //time_bnds (32-bit floating-point)\n",
      "Corner Coordinates:\n",
      "Upper Left  (    0.0,    0.0)\n",
      "Lower Left  (    0.0,  512.0)\n",
      "Upper Right (  512.0,    0.0)\n",
      "Lower Right (  512.0,  512.0)\n",
      "Center      (  256.0,  256.0)\n"
     ]
    },
    {
     "name": "stderr",
     "output_type": "stream",
     "text": [
      "HDF5-DIAG: Error detected in HDF5 (1.8.14) thread 0:\n",
      "  #000: ..\\..\\src\\H5Ddeprec.c line 255 in H5Dopen1(): not found\n",
      "    major: Dataset\n",
      "    minor: Object not found\n",
      "  #001: ..\\..\\src\\H5Gloc.c line 430 in H5G_loc_find(): can't find object\n",
      "    major: Symbol table\n",
      "    minor: Object not found\n",
      "  #002: ..\\..\\src\\H5Gtraverse.c line 861 in H5G_traverse(): internal path traversal failed\n",
      "    major: Symbol table\n",
      "    minor: Object not found\n",
      "  #003: ..\\..\\src\\H5Gtraverse.c line 641 in H5G_traverse_real(): traversal operator failed\n",
      "    major: Symbol table\n",
      "    minor: Callback failed\n",
      "  #004: ..\\..\\src\\H5Gloc.c line 385 in H5G_loc_find_cb(): object 'xx' doesn't exist\n",
      "    major: Symbol table\n",
      "    minor: Object not found\n",
      "HDF5-DIAG: Error detected in HDF5 (1.8.14) thread 0:\n",
      "  #000: ..\\..\\src\\H5D.c line 415 in H5Dclose(): not a dataset\n",
      "    major: Invalid arguments to routine\n",
      "    minor: Inappropriate type\n",
      "HDF5-DIAG: Error detected in HDF5 (1.8.14) thread 0:\n",
      "  #000: ..\\..\\src\\H5Ddeprec.c line 255 in H5Dopen1(): not found\n",
      "    major: Dataset\n",
      "    minor: Object not found\n",
      "  #001: ..\\..\\src\\H5Gloc.c line 430 in H5G_loc_find(): can't find object\n",
      "    major: Symbol table\n",
      "    minor: Object not found\n",
      "  #002: ..\\..\\src\\H5Gtraverse.c line 861 in H5G_traverse(): internal path traversal failed\n",
      "    major: Symbol table\n",
      "    minor: Object not found\n",
      "  #003: ..\\..\\src\\H5Gtraverse.c line 641 in H5G_traverse_real(): traversal operator failed\n",
      "    major: Symbol table\n",
      "    minor: Callback failed\n",
      "  #004: ..\\..\\src\\H5Gloc.c line 385 in H5G_loc_find_cb(): object 'yy' doesn't exist\n",
      "    major: Symbol table\n",
      "    minor: Object not found\n",
      "HDF5-DIAG: Error detected in HDF5 (1.8.14) thread 0:\n",
      "  #000: ..\\..\\src\\H5D.c line 415 in H5Dclose(): not a dataset\n",
      "    major: Invalid arguments to routine\n",
      "    minor: Inappropriate type\n"
     ]
    }
   ],
   "source": [
    "!gdalinfo %prcp_2015%"
   ]
  },
  {
   "cell_type": "code",
   "execution_count": null,
   "metadata": {},
   "outputs": [],
   "source": [
    "gdalwarp -t_srs \"+proj=utm +zone=33 +ellps=WGS84 +datum=WGS84 +units=m +no_defs\" -of vrt "
   ]
  },
  {
   "cell_type": "code",
   "execution_count": null,
   "metadata": {},
   "outputs": [],
   "source": [
    "gdal_translate -of VRT -tr 0.00 -a_nodata -9999 HDF5:\"/Users/Max81007/Desktop/Python/Prep/NA_prep/daymet_v3_prcp_2015_na.nc4\"://prcp /Users/Max81007/Desktop/Python/Prep/NA_prep/daymet_v3_prcp_2015_na_edit.vrt  \n",
    "gdalwarp -of vrt -co COMPRESS=LZW -t_srs EPSG:4326 /Users/Max81007/Desktop/Python/Prep/NA_prep/daymet_v3_prcp_2015_na_edit.vrt /Users/Max81007/Desktop/Python/Prep/NA_prep/daymet_v3_prcp_2015_na_edit2.vrt"
   ]
  },
  {
   "cell_type": "code",
   "execution_count": null,
   "metadata": {},
   "outputs": [],
   "source": [
    "gdalwarp -of vrt -t_srs EPSG:4326 -to SRC_METHOD=NO_GEOTRANSFORM HDF5:\"/Users/Max81007/Desktop/Python/Prep/NA_prep/daymet_v3_prcp_2015_na.nc4\"://prcp /Users/Max81007/Desktop/Python/Prep/NA_prep/daymet_v3_prcp_2015_na_edit3.vrt "
   ]
  },
  {
   "cell_type": "code",
   "execution_count": null,
   "metadata": {},
   "outputs": [],
   "source": [
    "gdal_translate -of VRT HDF5:\"/Users/Max81007/Desktop/Python/Prep/NA_prep/daymet_v3_prcp_2015_na.nc4\"://prcp -sds /Users/Max81007/Desktop/Python/Prep/NA_prep/daymet_v3_prcp_2015_na_edit3.vrt\n",
    "    gdalwarp -of vrt -co COMPRESS=LZW -t_srs EPSG:4326 /Users/Max81007/Desktop/Python/Prep/NA_prep/daymet_v3_prcp_2015_na_edit.vrt /Users/Max81007/Desktop/Python/Prep/NA_prep/daymet_v3_prcp_2015_na_edit4.vrt"
   ]
  }
 ],
 "metadata": {
  "kernelspec": {
   "display_name": "Python 3",
   "language": "python",
   "name": "python3"
  },
  "language_info": {
   "codemirror_mode": {
    "name": "ipython",
    "version": 3
   },
   "file_extension": ".py",
   "mimetype": "text/x-python",
   "name": "python",
   "nbconvert_exporter": "python",
   "pygments_lexer": "ipython3",
   "version": "3.6.2"
  }
 },
 "nbformat": 4,
 "nbformat_minor": 2
}
