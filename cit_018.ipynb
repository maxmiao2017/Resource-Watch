{
 "cells": [
  {
   "cell_type": "markdown",
   "metadata": {},
   "source": [
    "Wind Energy Potential\tene.018\t"
   ]
  },
  {
   "cell_type": "markdown",
   "metadata": {},
   "source": [
    "Import libraries"
   ]
  },
  {
   "cell_type": "code",
   "execution_count": 1,
   "metadata": {},
   "outputs": [],
   "source": [
    "# Libraries for downloading data from remote server (may be ftp)\n",
    "import requests\n",
    "from urllib.request import urlopen\n",
    "from contextlib import closing\n",
    "import shutil\n",
    "\n",
    "# Library for uploading/downloading data to/from S3\n",
    "import boto3\n",
    "\n",
    "# Libraries for handling data\n",
    "import rasterio as rio\n",
    "import numpy as np\n",
    "# from netCDF4 import Dataset\n",
    "# import pandas as pd\n",
    "# import scipy\n",
    "\n",
    "# Libraries for various helper functions\n",
    "# from datetime import datetime\n",
    "import os\n",
    "import threading\n",
    "import sys\n",
    "from glob import glob\n",
    "from matplotlib import pyplot\n",
    "%matplotlib inline"
   ]
  },
  {
   "cell_type": "markdown",
   "metadata": {},
   "source": [
    "s3 tools"
   ]
  },
  {
   "cell_type": "code",
   "execution_count": 2,
   "metadata": {},
   "outputs": [],
   "source": [
    "s3_upload = boto3.client(\"s3\")\n",
    "s3_download = boto3.resource(\"s3\")\n",
    "\n",
    "s3_bucket = \"wri-public-data\"\n",
    "s3_folder = \"resourcewatch/raster/ene_018_cit_018_monthly_no2_concentrations_in_atmosphere/\"\n",
    "\n",
    "s3_file = \"cit_018_monthly_no2_concentrations_in_atmosphere_201701.tif\"\n",
    "\n",
    "s3_key_orig = s3_folder + s3_file\n",
    "s3_key_edit = s3_key_orig[0:-4] + \"_edit.tif\"\n",
    "\n",
    "os.environ[\"Zs3_key1\"] = \"s3://wri-public-data/\" + s3_key_orig\n",
    "os.environ[\"Zs3_key2\"] = \"s3://wri-public-data/\" + s3_key_edit\n",
    "\n",
    "class ProgressPercentage(object):\n",
    "        def __init__(self, filename):\n",
    "            self._filename = filename\n",
    "            self._size = float(os.path.getsize(filename))\n",
    "            self._seen_so_far = 0\n",
    "            self._lock = threading.Lock()\n",
    "\n",
    "        def __call__(self, bytes_amount):\n",
    "            # To simplify we'll assume this is hooked up\n",
    "            # to a single filename.\n",
    "            with self._lock:\n",
    "                self._seen_so_far += bytes_amount\n",
    "                percentage = (self._seen_so_far / self._size) * 100\n",
    "                sys.stdout.write(\"\\r%s  %s / %s  (%.2f%%)\"%(\n",
    "                        self._filename, self._seen_so_far, self._size,\n",
    "                        percentage))\n",
    "                sys.stdout.flush()"
   ]
  },
  {
   "cell_type": "markdown",
   "metadata": {},
   "source": [
    "Define local file locations"
   ]
  },
  {
   "cell_type": "code",
   "execution_count": 3,
   "metadata": {},
   "outputs": [],
   "source": [
    "local_folder = \"C:/Users/Max81007/Desktop/Python/Resource_Watch/Raster/ene_018/\"\n",
    "file_name = \"ene_018_wind_energy_potential.tif\"\n",
    "\n",
    "local_orig = local_folder + file_name\n",
    "\n",
    "orig_extension_length = 4 #4 for each char in .tif\n",
    "local_edit = local_orig[:-orig_extension_length] + \"_edit.tif\" "
   ]
  },
  {
   "cell_type": "code",
   "execution_count": 4,
   "metadata": {},
   "outputs": [
    {
     "name": "stdout",
     "output_type": "stream",
     "text": [
      "{'driver': 'GTiff', 'dtype': 'float32', 'nodata': -9999.0, 'width': 10800, 'height': 3931, 'count': 1, 'crs': CRS({'init': 'epsg:4326'}), 'transform': Affine(0.03333333333333333, 0.0, -180.0,\n",
      "       0.0, -0.03332987084294073, 75.0), 'tiled': False, 'interleave': 'band'}\n",
      "{'driver': 'GTiff', 'dtype': 'float32', 'nodata': -9999.0, 'width': 10800, 'height': 3931, 'count': 1, 'crs': CRS({'init': 'epsg:4326'}), 'transform': Affine(0.03333333333333333, 0.0, -180.0,\n",
      "       0.0, -0.04578987534978377, 90.0), 'compress': 'lzw', 'tiled': False, 'interleave': 'band'}\n"
     ]
    }
   ],
   "source": [
    "files = [local_orig, local_edit]\n",
    "for file in files:\n",
    "    with rio.open(file, 'r') as src:\n",
    "        profile = src.profile\n",
    "        print(profile)"
   ]
  },
  {
   "cell_type": "markdown",
   "metadata": {},
   "source": [
    "Use rasterio to reproject and compress"
   ]
  },
  {
   "cell_type": "code",
   "execution_count": 5,
   "metadata": {},
   "outputs": [],
   "source": [
    "os.getcwd()\n",
    "os.chdir(local_folder)\n",
    "os.environ[\"local_orig\"] =local_orig\n",
    "os.environ[\"local_edit\"] =local_edit"
   ]
  },
  {
   "cell_type": "code",
   "execution_count": 6,
   "metadata": {},
   "outputs": [
    {
     "name": "stdout",
     "output_type": "stream",
     "text": [
      "0...10...20...30...40...50...60...70...80...90...100 - done.\n"
     ]
    }
   ],
   "source": [
    "!gdalwarp -overwrite -t_srs epsg:4326 -srcnodata none -co compress=lzw %local_orig% %local_edit%"
   ]
  },
  {
   "cell_type": "code",
   "execution_count": 7,
   "metadata": {},
   "outputs": [
    {
     "name": "stdout",
     "output_type": "stream",
     "text": [
      "{'driver': 'GTiff', 'dtype': 'float32', 'nodata': -9999.0, 'width': 10800, 'height': 3931, 'count': 1, 'crs': CRS({'init': 'epsg:4326'}), 'transform': Affine(0.03333333333333333, 0.0, -180.0,\n",
      "       0.0, -0.03332987084294073, 75.0), 'tiled': False, 'interleave': 'band'}\n",
      "{'driver': 'GTiff', 'dtype': 'float32', 'nodata': None, 'width': 10800, 'height': 3931, 'count': 1, 'crs': CRS({'init': 'epsg:4326'}), 'transform': Affine(0.03333292829537179, 0.0, -180.0,\n",
      "       0.0, -0.03333292829537179, 75.0), 'tiled': False, 'compress': 'lzw', 'interleave': 'band'}\n"
     ]
    }
   ],
   "source": [
    "files = [local_orig, local_edit]\n",
    "for file in files:\n",
    "    with rio.open(file, 'r') as src:\n",
    "        profile = src.profile\n",
    "        print(profile)"
   ]
  },
  {
   "cell_type": "code",
   "execution_count": null,
   "metadata": {},
   "outputs": [],
   "source": []
  },
  {
   "cell_type": "markdown",
   "metadata": {},
   "source": [
    "Upload orig and edit files to s3"
   ]
  },
  {
   "cell_type": "code",
   "execution_count": 8,
   "metadata": {},
   "outputs": [
    {
     "name": "stdout",
     "output_type": "stream",
     "text": [
      "C:/Users/Max81007/Desktop/Python/Resource_Watch/Raster/ene_018/ene_018_wind_energy_potential_edit.tif  141130135 / 141130135.0  (100.00%)"
     ]
    }
   ],
   "source": [
    "# Original\n",
    "s3_upload.upload_file(local_orig, s3_bucket, s3_key_orig,\n",
    "                         Callback=ProgressPercentage(local_orig))\n",
    "\n",
    "# Edit\n",
    "s3_upload.upload_file(local_edit, s3_bucket, s3_key_edit,\n",
    "                         Callback=ProgressPercentage(local_edit))"
   ]
  },
  {
   "cell_type": "code",
   "execution_count": 10,
   "metadata": {},
   "outputs": [],
   "source": [
    "os.environ[\"Zgs_key\"] = \"gs://resource-watch-public/\" + s3_key_orig"
   ]
  },
  {
   "cell_type": "code",
   "execution_count": 11,
   "metadata": {},
   "outputs": [
    {
     "name": "stdout",
     "output_type": "stream",
     "text": [
      "s3://wri-public-data/resourcewatch/raster/ene_019_wind_energy_potential/ene_018_wind_energy_potential_edit.tif\n",
      "gs://resource-watch-public/resourcewatch/raster/ene_019_wind_energy_potential/ene_018_wind_energy_potential.tif\n"
     ]
    }
   ],
   "source": [
    "!echo %Zs3_key2%\n",
    "!echo %Zgs_key%"
   ]
  },
  {
   "cell_type": "code",
   "execution_count": 12,
   "metadata": {},
   "outputs": [
    {
     "name": "stderr",
     "output_type": "stream",
     "text": [
      "Non-MD5 etag (\"0ad5aeeefba42c8eafff6238d47b512f-17\") present for key <Key: wri-public-data,resourcewatch/raster/ene_019_wind_energy_potential/ene_018_wind_energy_potential_edit.tif>, data integrity checks are not possible.\n",
      "Copying s3://wri-public-data/resourcewatch/raster/ene_019_wind_energy_potential/ene_018_wind_energy_potential_edit.tif [Content-Type=binary/octet-stream]...\n",
      "/ [0 files][    0.0 B/134.6 MiB]                                                \n",
      "-\n",
      "- [0 files][  2.8 MiB/134.6 MiB]                                                \n",
      "\\\n",
      "|\n",
      "| [0 files][  5.9 MiB/134.6 MiB]                                                \n",
      "/\n",
      "/ [0 files][  9.8 MiB/134.6 MiB]                                                \n",
      "-\n",
      "\\\n",
      "\\ [0 files][ 13.4 MiB/134.6 MiB]                                                \n",
      "|\n",
      "/\n",
      "/ [0 files][ 17.8 MiB/134.6 MiB]                                                \n",
      "-\n",
      "- [0 files][ 22.4 MiB/134.6 MiB]                                                \n",
      "\\\n",
      "|\n",
      "| [0 files][ 26.8 MiB/134.6 MiB]                                                \n",
      "/\n",
      "/ [0 files][ 29.7 MiB/134.6 MiB]                                                \n",
      "-\n",
      "\\\n",
      "\\ [0 files][ 34.0 MiB/134.6 MiB]                                                \n",
      "|\n",
      "/\n",
      "/ [0 files][ 38.2 MiB/134.6 MiB]                                                \n",
      "-\n",
      "- [0 files][ 41.5 MiB/134.6 MiB]    3.7 MiB/s                                   \n",
      "\\\n",
      "|\n",
      "| [0 files][ 45.1 MiB/134.6 MiB]    3.6 MiB/s                                   \n",
      "/\n",
      "-\n",
      "- [0 files][ 48.7 MiB/134.6 MiB]    3.6 MiB/s                                   \n",
      "\\\n",
      "\\ [0 files][ 52.9 MiB/134.6 MiB]    3.5 MiB/s                                   \n",
      "|\n",
      "/\n",
      "/ [0 files][ 57.0 MiB/134.6 MiB]    3.6 MiB/s                                   \n",
      "-\n",
      "\\\n",
      "\\ [0 files][ 61.1 MiB/134.6 MiB]    3.8 MiB/s                                   \n",
      "|\n",
      "| [0 files][ 65.5 MiB/134.6 MiB]    4.0 MiB/s                                   \n",
      "/\n",
      "-\n",
      "- [0 files][ 70.4 MiB/134.6 MiB]    4.2 MiB/s                                   \n",
      "\\\n",
      "\\ [0 files][ 74.3 MiB/134.6 MiB]    4.2 MiB/s                                   \n",
      "|\n",
      "/\n",
      "/ [0 files][ 78.4 MiB/134.6 MiB]    4.1 MiB/s                                   \n",
      "-\n",
      "\\\n",
      "\\ [0 files][ 82.0 MiB/134.6 MiB]    4.1 MiB/s                                   \n",
      "|\n",
      "| [0 files][ 86.1 MiB/134.6 MiB]    4.0 MiB/s                                   \n",
      "/\n",
      "-\n",
      "- [0 files][ 89.5 MiB/134.6 MiB]    3.6 MiB/s                                   \n",
      "\\\n",
      "\\ [0 files][ 93.6 MiB/134.6 MiB]    3.7 MiB/s                                   \n",
      "|\n",
      "/\n",
      "/ [0 files][ 98.0 MiB/134.6 MiB]    3.9 MiB/s                                   \n",
      "-\n",
      "\\\n",
      "\\ [0 files][102.6 MiB/134.6 MiB]    4.0 MiB/s                                   \n",
      "|\n",
      "| [0 files][106.7 MiB/134.6 MiB]    3.9 MiB/s                                   \n",
      "/\n",
      "-\n",
      "- [0 files][111.9 MiB/134.6 MiB]    4.3 MiB/s                                   \n",
      "\\\n",
      "|\n",
      "| [0 files][116.0 MiB/134.6 MiB]    4.3 MiB/s                                   \n",
      "/\n",
      "/ [0 files][120.1 MiB/134.6 MiB]    4.2 MiB/s                                   \n",
      "-\n",
      "\\\n",
      "\\ [0 files][123.2 MiB/134.6 MiB]    4.0 MiB/s                                   \n",
      "|\n",
      "| [0 files][128.1 MiB/134.6 MiB]    4.2 MiB/s                                   \n",
      "/\n",
      "-\n",
      "- [0 files][133.0 MiB/134.6 MiB]    4.1 MiB/s                                   \n",
      "\\\n",
      "WARNING: Found no hashes to validate object downloaded from s3://wri-public-data/resourcewatch/raster/ene_019_wind_energy_potential/ene_018_wind_energy_potential_edit.tif and uploaded to gs://resource-watch-public/resourcewatch/raster/ene_019_wind_energy_potential/ene_018_wind_energy_potential.tif. Integrity cannot be assured without hashes.\n",
      "\\ [1 files][134.6 MiB/134.6 MiB]    3.6 MiB/s                                   \n",
      "|\n",
      "\n",
      "Operation completed over 1 objects/134.6 MiB.                                    \n"
     ]
    }
   ],
   "source": [
    "!gsutil cp %Zs3_key2% %Zgs_key%"
   ]
  },
  {
   "cell_type": "code",
   "execution_count": 13,
   "metadata": {},
   "outputs": [
    {
     "name": "stdout",
     "output_type": "stream",
     "text": [
      "Started upload task with ID: F7ZP3YOHXBMERJK2KRG4C5M2\n"
     ]
    }
   ],
   "source": [
    "os.environ[\"asset_id\"] = \"users/resourcewatch/ene_018_wind_energy_potential\"\n",
    "!earthengine upload image --asset_id=%asset_id% %Zgs_key%"
   ]
  },
  {
   "cell_type": "code",
   "execution_count": 14,
   "metadata": {},
   "outputs": [
    {
     "name": "stdout",
     "output_type": "stream",
     "text": [
      "F7ZP3YOHXBMERJK2KRG4C5M2:\n",
      "  State: RUNNING\n",
      "  Type: Upload\n",
      "  Description: Asset ingestion: users/resourcewatch/ene_018_wind_energy_potential\n",
      "  Created: 2017-10-05 16:37:23.361000\n",
      "  Started: 2017-10-05 16:37:26.531000\n",
      "  Updated: 2017-10-05 16:37:26.717000\n"
     ]
    }
   ],
   "source": [
    "!earthengine task info F7ZP3YOHXBMERJK2KRG4C5M2"
   ]
  }
 ],
 "metadata": {
  "kernelspec": {
   "display_name": "Python 3",
   "language": "python",
   "name": "python3"
  },
  "language_info": {
   "codemirror_mode": {
    "name": "ipython",
    "version": 3
   },
   "file_extension": ".py",
   "mimetype": "text/x-python",
   "name": "python",
   "nbconvert_exporter": "python",
   "pygments_lexer": "ipython3",
   "version": "3.6.2"
  }
 },
 "nbformat": 4,
 "nbformat_minor": 2
}
