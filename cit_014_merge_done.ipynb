{
 "cells": [
  {
   "cell_type": "markdown",
   "metadata": {},
   "source": [
    "High Density Areas of Urban Development\tcit.014\thttp://data.jrc.ec.europa.eu/dataset/jrc-ghsl-ghs_smod_pop_globe_r2016a"
   ]
  },
  {
   "cell_type": "code",
   "execution_count": 4,
   "metadata": {
    "collapsed": true
   },
   "outputs": [],
   "source": [
    "import numpy as np\n",
    "import pandas as pd\n",
    "import rasterio\n",
    "\n",
    "import boto3\n",
    "import requests as req\n",
    "\n",
    "from matplotlib import pyplot as plt\n",
    "%matplotlib inline\n",
    "import os\n",
    "import sys\n",
    "import threading"
   ]
  },
  {
   "cell_type": "markdown",
   "metadata": {},
   "source": [
    "Establish s3 location"
   ]
  },
  {
   "cell_type": "code",
   "execution_count": 5,
   "metadata": {},
   "outputs": [],
   "source": [
    "# Investigate what the data in these rasters means, and whether we can \n",
    "# Display high and low density clusters separately as is\n",
    "s3_bucket = \"wri-public-data\"\n",
    "s3_folder = \"resourcewatch/cit_014_areas_of_urban_development/\"\n",
    "\n",
    "s3_files = [\"cit_014_areas_of_urban_development_1975.tif\",\n",
    "            \"cit_014_areas_of_urban_development_1990.tif\",\n",
    "            \"cit_014_areas_of_urban_development_2000.tif\",\n",
    "            \"cit_014_areas_of_urban_development_2015.tif\",\n",
    "            \"cit_014_areas_of_urban_development_2015_HDC.tif\",\n",
    "            \"cit_014_areas_of_urban_development_2015_LDC.tif\"]\n",
    "s3_file_merge = \"cit_014_areas_of_urban_development_merge.tif\"\n",
    "\n",
    "s3_key_origs = []\n",
    "s3_key_edits = []\n",
    "\n",
    "for file in s3_files:\n",
    "    orig = s3_folder + file\n",
    "    s3_key_origs.append(orig)\n",
    "    s3_key_edits.append(orig[0:-4] + \"_edit.tif\")\n",
    "    \n",
    "s3_key_merge = s3_folder + s3_file_merge"
   ]
  },
  {
   "cell_type": "code",
   "execution_count": 3,
   "metadata": {},
   "outputs": [
    {
     "data": {
      "text/plain": [
       "['resourcewatch/cit_014_areas_of_urban_development/cit_014_areas_of_urban_development_1975_edit.tif',\n",
       " 'resourcewatch/cit_014_areas_of_urban_development/cit_014_areas_of_urban_development_1990_edit.tif',\n",
       " 'resourcewatch/cit_014_areas_of_urban_development/cit_014_areas_of_urban_development_2000_edit.tif',\n",
       " 'resourcewatch/cit_014_areas_of_urban_development/cit_014_areas_of_urban_development_2015_edit.tif']"
      ]
     },
     "execution_count": 3,
     "metadata": {},
     "output_type": "execute_result"
    }
   ],
   "source": [
    "s3_key_edits"
   ]
  },
  {
   "cell_type": "markdown",
   "metadata": {},
   "source": [
    "Create local staging folder for holding data"
   ]
  },
  {
   "cell_type": "code",
   "execution_count": null,
   "metadata": {},
   "outputs": [],
   "source": [
    "!mkdir staging\n",
    "os.chdir(\"staging\")\n",
    "staging_folder = os.getcwd()\n",
    "os.environ[\"Z_STAGING_FOLDER\"] = staging_folder"
   ]
  },
  {
   "cell_type": "markdown",
   "metadata": {},
   "source": [
    "Local files"
   ]
  },
  {
   "cell_type": "code",
   "execution_count": 12,
   "metadata": {},
   "outputs": [],
   "source": [
    "local_folder = \"/Users/nathansuberi/Desktop/WRI_Programming/RW_Data\"\n",
    "rw_data_type = \"/Cities/\"\n",
    "# Topics include: [Society, Food, Forests, Water, Energy, Climate, Cities, Biodiversity, Commerce, Disasters]\n",
    "\n",
    "local_files = [\n",
    "    \"GHS_SMOD_POP1975_GLOBE_R2016A_54009_1k_v1_0/GHS_SMOD_POP1975_GLOBE_R2016A_54009_1k_v1_0.tif\",\n",
    "    \"GHS_SMOD_POP1990_GLOBE_R2016A_54009_1k_v1_0/GHS_SMOD_POP1990_GLOBE_R2016A_54009_1k_v1_0.tif\",\n",
    "    \"GHS_SMOD_POP2000_GLOBE_R2016A_54009_1k_v1_0/GHS_SMOD_POP2000_GLOBE_R2016A_54009_1k_v1_0.tif\",\n",
    "    \"GHS_SMOD_POP2015_GLOBE_R2016A_54009_1k_v1_0/GHS_SMOD_POP2015_GLOBE_R2016A_54009_1k_v1_0.tif\",\n",
    "    \"GHS_SMOD_POP2015HDC_GLOBE_R2016A_54009_1k_v1_0/GHS_SMOD_POP2015HDC_GLOBE_R2016A_54009_1k_v1_0.tif\",\n",
    "    \"GHS_SMOD_POP2015LDC_GLOBE_R2016A_54009_1k_v1_0/GHS_SMOD_POP2015LDC_GLOBE_R2016A_54009_1k_v1_0.tif\"\n",
    "]\n",
    "\n",
    "local_orig_keys = []\n",
    "local_edit_keys = []\n",
    "for file in local_files:\n",
    "    local_orig_keys.append(local_folder + rw_data_type + file)\n",
    "    local_edit_keys.append(local_folder + rw_data_type + file[0:-4] + \"_edit.tif\")"
   ]
  },
  {
   "cell_type": "code",
   "execution_count": 24,
   "metadata": {},
   "outputs": [
    {
     "data": {
      "text/plain": [
       "['/Users/nathansuberi/Desktop/WRI_Programming/RW_Data/Cities/GHS_SMOD_POP1975_GLOBE_R2016A_54009_1k_v1_0/GHS_SMOD_POP1975_GLOBE_R2016A_54009_1k_v1_0.tif',\n",
       " '/Users/nathansuberi/Desktop/WRI_Programming/RW_Data/Cities/GHS_SMOD_POP1990_GLOBE_R2016A_54009_1k_v1_0/GHS_SMOD_POP1990_GLOBE_R2016A_54009_1k_v1_0.tif',\n",
       " '/Users/nathansuberi/Desktop/WRI_Programming/RW_Data/Cities/GHS_SMOD_POP2000_GLOBE_R2016A_54009_1k_v1_0/GHS_SMOD_POP2000_GLOBE_R2016A_54009_1k_v1_0.tif',\n",
       " '/Users/nathansuberi/Desktop/WRI_Programming/RW_Data/Cities/GHS_SMOD_POP2015_GLOBE_R2016A_54009_1k_v1_0/GHS_SMOD_POP2015_GLOBE_R2016A_54009_1k_v1_0.tif',\n",
       " '/Users/nathansuberi/Desktop/WRI_Programming/RW_Data/Cities/GHS_SMOD_POP2015HDC_GLOBE_R2016A_54009_1k_v1_0/GHS_SMOD_POP2015HDC_GLOBE_R2016A_54009_1k_v1_0.tif',\n",
       " '/Users/nathansuberi/Desktop/WRI_Programming/RW_Data/Cities/GHS_SMOD_POP2015LDC_GLOBE_R2016A_54009_1k_v1_0/GHS_SMOD_POP2015LDC_GLOBE_R2016A_54009_1k_v1_0.tif']"
      ]
     },
     "execution_count": 24,
     "metadata": {},
     "output_type": "execute_result"
    }
   ],
   "source": [
    "local_orig_keys"
   ]
  },
  {
   "cell_type": "markdown",
   "metadata": {},
   "source": [
    "<b>Regardless of any needed edits, upload original file</b>\n",
    "\n",
    "<i>Upload tif to S3 folder</i>\n",
    "\n",
    "http://boto3.readthedocs.io/en/latest/guide/s3-example-creating-buckets.html\n",
    "\n",
    "<i>Monitor Progress of Upload</i>\n",
    "\n",
    "http://boto3.readthedocs.io/en/latest/_modules/boto3/s3/transfer.html\n",
    "https://boto3.readthedocs.io/en/latest/guide/s3.html#using-the-transfer-manager"
   ]
  },
  {
   "cell_type": "code",
   "execution_count": 13,
   "metadata": {},
   "outputs": [],
   "source": [
    "s3 = boto3.client(\"s3\")\n",
    "\n",
    "class ProgressPercentage(object):\n",
    "        def __init__(self, filename):\n",
    "            self._filename = filename\n",
    "            self._size = float(os.path.getsize(filename))\n",
    "            self._seen_so_far = 0\n",
    "            self._lock = threading.Lock()\n",
    "\n",
    "        def __call__(self, bytes_amount):\n",
    "            # To simplify we'll assume this is hooked up\n",
    "            # to a single filename.\n",
    "            with self._lock:\n",
    "                self._seen_so_far += bytes_amount\n",
    "                percentage = (self._seen_so_far / self._size) * 100\n",
    "                sys.stdout.write(\n",
    "                    \"\\r%s  %s / %s  (%.2f%%)\" % (\n",
    "                        self._filename, self._seen_so_far, self._size,\n",
    "                        percentage))\n",
    "                sys.stdout.flush()"
   ]
  },
  {
   "cell_type": "code",
   "execution_count": 9,
   "metadata": {},
   "outputs": [
    {
     "name": "stdout",
     "output_type": "stream",
     "text": [
      "0\n",
      "/Users/nathansuberi/Desktop/WRI_Programming/RW_Data/Cities/GHS_SMOD_POP1975_GLOBE_R2016A_54009_1k_v1_0/GHS_SMOD_POP1975_GLOBE_R2016A_54009_1k_v1_0.tif  6849612 / 6849612.0  (100.00%)1\n",
      "/Users/nathansuberi/Desktop/WRI_Programming/RW_Data/Cities/GHS_SMOD_POP1990_GLOBE_R2016A_54009_1k_v1_0/GHS_SMOD_POP1990_GLOBE_R2016A_54009_1k_v1_0.tif  7551423 / 7551423.0  (100.00%)2\n",
      "/Users/nathansuberi/Desktop/WRI_Programming/RW_Data/Cities/GHS_SMOD_POP2000_GLOBE_R2016A_54009_1k_v1_0/GHS_SMOD_POP2000_GLOBE_R2016A_54009_1k_v1_0.tif  7986928 / 7986928.0  (100.00%)3\n",
      "/Users/nathansuberi/Desktop/WRI_Programming/RW_Data/Cities/GHS_SMOD_POP2015_GLOBE_R2016A_54009_1k_v1_0/GHS_SMOD_POP2015_GLOBE_R2016A_54009_1k_v1_0.tif  7980523 / 7980523.0  (100.00%)4\n",
      "/Users/nathansuberi/Desktop/WRI_Programming/RW_Data/Cities/GHS_SMOD_POP2015HDC_GLOBE_R2016A_54009_1k_v1_0/GHS_SMOD_POP2015HDC_GLOBE_R2016A_54009_1k_v1_0.tif  7666110 / 7666110.0  (100.00%)5\n",
      "/Users/nathansuberi/Desktop/WRI_Programming/RW_Data/Cities/GHS_SMOD_POP2015LDC_GLOBE_R2016A_54009_1k_v1_0/GHS_SMOD_POP2015LDC_GLOBE_R2016A_54009_1k_v1_0.tif  11226128 / 11226128.0  (100.00%)"
     ]
    }
   ],
   "source": [
    "# Defined above:\n",
    "# s3_bucket\n",
    "# s3_key_orig\n",
    "# s3_key_edit\n",
    "# staging_key_orig\n",
    "# staging_key_edit\n",
    "for i in range(0,6):\n",
    "    print(i)\n",
    "    s3.upload_file(local_orig_keys[i], s3_bucket, s3_key_origs[i],\n",
    "                   Callback=ProgressPercentage(local_orig_keys[i]))"
   ]
  },
  {
   "cell_type": "markdown",
   "metadata": {},
   "source": [
    "Check for compression, projection\n",
    "\n",
    "Create edit file if necessary"
   ]
  },
  {
   "cell_type": "code",
   "execution_count": 15,
   "metadata": {},
   "outputs": [],
   "source": [
    "# Check Compression, Projection\n",
    "with rasterio.open(local_orig_keys[0]) as src:\n",
    "    pro0 = src.profile\n",
    "    data0 = src.read(1)\n",
    "with rasterio.open(local_orig_keys[1]) as src:\n",
    "    pro1 = src.profile\n",
    "    data1 = src.read(1)\n",
    "with rasterio.open(local_orig_keys[2]) as src:\n",
    "    pro2 = src.profile\n",
    "    data2 = src.read(1)\n",
    "with rasterio.open(local_orig_keys[3]) as src:\n",
    "    pro3 = src.profile\n",
    "    data3 = src.read(1)\n",
    "with rasterio.open(local_orig_keys[4]) as src:\n",
    "    pro4 = src.profile\n",
    "    data4 = src.read(1)\n",
    "with rasterio.open(local_orig_keys[5]) as src:\n",
    "    pro5 = src.profile\n",
    "    data5 = src.read(1)\n",
    "\n",
    "# uniq0 = np.unique(data0, return_counts=True)\n",
    "# uniq1 = np.unique(data1, return_counts=True)\n",
    "# uniq2 = np.unique(data2, return_counts=True)\n",
    "# uniq3 = np.unique(data3, return_counts=True)\n",
    "# uniq4 = np.unique(data4, return_counts=True)\n",
    "# uniq5 = np.unique(data5, return_counts=True)"
   ]
  },
  {
   "cell_type": "code",
   "execution_count": 20,
   "metadata": {},
   "outputs": [
    {
     "data": {
      "text/plain": [
       "(array([  0.00000000e+00,   1.00000000e+00,   2.00000000e+00, ...,\n",
       "          1.38420000e+04,   1.38430000e+04,   1.38440000e+04]),\n",
       " array([540112205,        19,        47, ...,        19,        31,\n",
       "               60]))"
      ]
     },
     "execution_count": 20,
     "metadata": {},
     "output_type": "execute_result"
    }
   ],
   "source": [
    "uniq4"
   ]
  },
  {
   "cell_type": "code",
   "execution_count": 16,
   "metadata": {},
   "outputs": [
    {
     "name": "stdout",
     "output_type": "stream",
     "text": [
      "{'driver': 'GTiff', 'dtype': 'uint8', 'nodata': None, 'width': 35497, 'height': 15236, 'count': 1, 'crs': CRS({'proj': 'moll', 'lon_0': 0, 'x_0': 0, 'y_0': 0, 'ellps': 'WGS84', 'units': 'm', 'no_defs': True}), 'transform': (-17619594.54744353, 1000.0, 0.0, 8751029.46186849, 0.0, -1000.0), 'affine': Affine(1000.0, 0.0, -17619594.54744353,\n",
      "       0.0, -1000.0, 8751029.46186849), 'blockxsize': 512, 'blockysize': 512, 'tiled': True, 'compress': 'lzw', 'interleave': 'band'}\n",
      "{'driver': 'GTiff', 'dtype': 'uint8', 'nodata': None, 'width': 35497, 'height': 15236, 'count': 1, 'crs': CRS({'proj': 'moll', 'lon_0': 0, 'x_0': 0, 'y_0': 0, 'ellps': 'WGS84', 'units': 'm', 'no_defs': True}), 'transform': (-17619594.54744353, 1000.0, 0.0, 8751029.46186849, 0.0, -1000.0), 'affine': Affine(1000.0, 0.0, -17619594.54744353,\n",
      "       0.0, -1000.0, 8751029.46186849), 'blockxsize': 512, 'blockysize': 512, 'tiled': True, 'compress': 'lzw', 'interleave': 'band'}\n",
      "{'driver': 'GTiff', 'dtype': 'uint8', 'nodata': None, 'width': 35497, 'height': 15236, 'count': 1, 'crs': CRS({'proj': 'moll', 'lon_0': 0, 'x_0': 0, 'y_0': 0, 'ellps': 'WGS84', 'units': 'm', 'no_defs': True}), 'transform': (-17619594.54744353, 1000.0, 0.0, 8751029.46186849, 0.0, -1000.0), 'affine': Affine(1000.0, 0.0, -17619594.54744353,\n",
      "       0.0, -1000.0, 8751029.46186849), 'blockxsize': 512, 'blockysize': 512, 'tiled': True, 'compress': 'lzw', 'interleave': 'band'}\n",
      "{'driver': 'GTiff', 'dtype': 'uint8', 'nodata': None, 'width': 35497, 'height': 15236, 'count': 1, 'crs': CRS({'proj': 'moll', 'lon_0': 0, 'x_0': 0, 'y_0': 0, 'ellps': 'WGS84', 'units': 'm', 'no_defs': True}), 'transform': (-17619594.54744353, 1000.0, 0.0, 8751029.46186849, 0.0, -1000.0), 'affine': Affine(1000.0, 0.0, -17619594.54744353,\n",
      "       0.0, -1000.0, 8751029.46186849), 'blockxsize': 512, 'blockysize': 512, 'tiled': True, 'compress': 'lzw', 'interleave': 'band'}\n",
      "{'driver': 'GTiff', 'dtype': 'float64', 'nodata': None, 'width': 35497, 'height': 15236, 'count': 1, 'crs': CRS({'proj': 'moll', 'lon_0': 0, 'x_0': 0, 'y_0': 0, 'ellps': 'WGS84', 'units': 'm', 'no_defs': True}), 'transform': (-17619594.54744353, 1000.0, 0.0, 8751029.46186849, 0.0, -1000.0), 'affine': Affine(1000.0, 0.0, -17619594.54744353,\n",
      "       0.0, -1000.0, 8751029.46186849), 'blockxsize': 512, 'blockysize': 512, 'tiled': True, 'compress': 'lzw', 'interleave': 'band'}\n",
      "{'driver': 'GTiff', 'dtype': 'float64', 'nodata': None, 'width': 35497, 'height': 15236, 'count': 1, 'crs': CRS({'proj': 'moll', 'lon_0': 0, 'x_0': 0, 'y_0': 0, 'ellps': 'WGS84', 'units': 'm', 'no_defs': True}), 'transform': (-17619594.54744353, 1000.0, 0.0, 8751029.46186849, 0.0, -1000.0), 'affine': Affine(1000.0, 0.0, -17619594.54744353,\n",
      "       0.0, -1000.0, 8751029.46186849), 'blockxsize': 512, 'blockysize': 512, 'tiled': True, 'compress': 'lzw', 'interleave': 'band'}\n"
     ]
    }
   ],
   "source": [
    "# Examine each of the profiles - are they all the same data type?\n",
    "print(pro0)\n",
    "print(pro1)\n",
    "print(pro2)\n",
    "print(pro3)\n",
    "print(pro4)\n",
    "print(pro5)\n",
    "profiles = [pro0, pro1, pro2, pro3, pro4, pro5]"
   ]
  },
  {
   "cell_type": "markdown",
   "metadata": {},
   "source": [
    "Upload edited files to S3"
   ]
  },
  {
   "cell_type": "code",
   "execution_count": 17,
   "metadata": {},
   "outputs": [
    {
     "name": "stdout",
     "output_type": "stream",
     "text": [
      "{'driver': 'GTiff', 'dtype': 'uint8', 'nodata': None, 'width': 35497, 'height': 15236, 'count': 1, 'crs': CRS({'proj': 'moll', 'lon_0': 0, 'x_0': 0, 'y_0': 0, 'ellps': 'WGS84', 'units': 'm', 'no_defs': True}), 'transform': (-17619594.54744353, 1000.0, 0.0, 8751029.46186849, 0.0, -1000.0), 'affine': Affine(1000.0, 0.0, -17619594.54744353,\n",
      "       0.0, -1000.0, 8751029.46186849), 'blockxsize': 512, 'blockysize': 512, 'tiled': True, 'compress': 'lzw', 'interleave': 'band'}\n"
     ]
    },
    {
     "name": "stderr",
     "output_type": "stream",
     "text": [
      "/Users/nathansuberi/.pyenv/versions/3.6.0/lib/python3.6/site-packages/rasterio/__init__.py:160: FutureWarning: GDAL-style transforms are deprecated and will not be supported in Rasterio 1.0.\n",
      "  transform = guard_transform(transform)\n"
     ]
    },
    {
     "name": "stdout",
     "output_type": "stream",
     "text": [
      "/Users/nathansuberi/Desktop/WRI_Programming/RW_Data/Cities/GHS_SMOD_POP1975_GLOBE_R2016A_54009_1k_v1_0/GHS_SMOD_POP1975_GLOBE_R2016A_54009_1k_v1_0_edit.tif  11308739 / 11308739.0  (100.00%){'driver': 'GTiff', 'dtype': 'uint8', 'nodata': None, 'width': 35497, 'height': 15236, 'count': 1, 'crs': CRS({'proj': 'moll', 'lon_0': 0, 'x_0': 0, 'y_0': 0, 'ellps': 'WGS84', 'units': 'm', 'no_defs': True}), 'transform': (-17619594.54744353, 1000.0, 0.0, 8751029.46186849, 0.0, -1000.0), 'affine': Affine(1000.0, 0.0, -17619594.54744353,\n",
      "       0.0, -1000.0, 8751029.46186849), 'blockxsize': 512, 'blockysize': 512, 'tiled': True, 'compress': 'lzw', 'interleave': 'band'}\n",
      "/Users/nathansuberi/Desktop/WRI_Programming/RW_Data/Cities/GHS_SMOD_POP1990_GLOBE_R2016A_54009_1k_v1_0/GHS_SMOD_POP1990_GLOBE_R2016A_54009_1k_v1_0_edit.tif  12215596 / 12215596.0  (100.00%){'driver': 'GTiff', 'dtype': 'uint8', 'nodata': None, 'width': 35497, 'height': 15236, 'count': 1, 'crs': CRS({'proj': 'moll', 'lon_0': 0, 'x_0': 0, 'y_0': 0, 'ellps': 'WGS84', 'units': 'm', 'no_defs': True}), 'transform': (-17619594.54744353, 1000.0, 0.0, 8751029.46186849, 0.0, -1000.0), 'affine': Affine(1000.0, 0.0, -17619594.54744353,\n",
      "       0.0, -1000.0, 8751029.46186849), 'blockxsize': 512, 'blockysize': 512, 'tiled': True, 'compress': 'lzw', 'interleave': 'band'}\n",
      "/Users/nathansuberi/Desktop/WRI_Programming/RW_Data/Cities/GHS_SMOD_POP2000_GLOBE_R2016A_54009_1k_v1_0/GHS_SMOD_POP2000_GLOBE_R2016A_54009_1k_v1_0_edit.tif  12825220 / 12825220.0  (100.00%){'driver': 'GTiff', 'dtype': 'uint8', 'nodata': None, 'width': 35497, 'height': 15236, 'count': 1, 'crs': CRS({'proj': 'moll', 'lon_0': 0, 'x_0': 0, 'y_0': 0, 'ellps': 'WGS84', 'units': 'm', 'no_defs': True}), 'transform': (-17619594.54744353, 1000.0, 0.0, 8751029.46186849, 0.0, -1000.0), 'affine': Affine(1000.0, 0.0, -17619594.54744353,\n",
      "       0.0, -1000.0, 8751029.46186849), 'blockxsize': 512, 'blockysize': 512, 'tiled': True, 'compress': 'lzw', 'interleave': 'band'}\n",
      "/Users/nathansuberi/Desktop/WRI_Programming/RW_Data/Cities/GHS_SMOD_POP2015_GLOBE_R2016A_54009_1k_v1_0/GHS_SMOD_POP2015_GLOBE_R2016A_54009_1k_v1_0_edit.tif  13553886 / 13553886.0  (100.00%){'driver': 'GTiff', 'dtype': 'float64', 'nodata': None, 'width': 35497, 'height': 15236, 'count': 1, 'crs': CRS({'proj': 'moll', 'lon_0': 0, 'x_0': 0, 'y_0': 0, 'ellps': 'WGS84', 'units': 'm', 'no_defs': True}), 'transform': (-17619594.54744353, 1000.0, 0.0, 8751029.46186849, 0.0, -1000.0), 'affine': Affine(1000.0, 0.0, -17619594.54744353,\n",
      "       0.0, -1000.0, 8751029.46186849), 'blockxsize': 512, 'blockysize': 512, 'tiled': True, 'compress': 'lzw', 'interleave': 'band'}\n",
      "/Users/nathansuberi/Desktop/WRI_Programming/RW_Data/Cities/GHS_SMOD_POP2015HDC_GLOBE_R2016A_54009_1k_v1_0/GHS_SMOD_POP2015HDC_GLOBE_R2016A_54009_1k_v1_0_edit.tif  5139233 / 5139233.0  (100.00%){'driver': 'GTiff', 'dtype': 'float64', 'nodata': None, 'width': 35497, 'height': 15236, 'count': 1, 'crs': CRS({'proj': 'moll', 'lon_0': 0, 'x_0': 0, 'y_0': 0, 'ellps': 'WGS84', 'units': 'm', 'no_defs': True}), 'transform': (-17619594.54744353, 1000.0, 0.0, 8751029.46186849, 0.0, -1000.0), 'affine': Affine(1000.0, 0.0, -17619594.54744353,\n",
      "       0.0, -1000.0, 8751029.46186849), 'blockxsize': 512, 'blockysize': 512, 'tiled': True, 'compress': 'lzw', 'interleave': 'band'}\n",
      "/Users/nathansuberi/Desktop/WRI_Programming/RW_Data/Cities/GHS_SMOD_POP2015LDC_GLOBE_R2016A_54009_1k_v1_0/GHS_SMOD_POP2015LDC_GLOBE_R2016A_54009_1k_v1_0_edit.tif  7777010 / 7777010.0  (100.00%)"
     ]
    }
   ],
   "source": [
    "# Defined above:\n",
    "# s3_bucket\n",
    "# s3_key_orig\n",
    "# s3_key_edit\n",
    "# staging_key_orig\n",
    "# staging_key_edit\n",
    "\n",
    "for i in range(0,6):\n",
    "    orig_key = local_orig_keys[i]\n",
    "    edit_key = local_edit_keys[i]\n",
    "    # Use rasterio to reproject and store locally, then upload\n",
    "    with rasterio.open(orig_key) as src:\n",
    "        kwargs = profiles[i]\n",
    "        print(kwargs)\n",
    "        kwargs.update(\n",
    "            driver='GTiff',\n",
    "            dtype=rasterio.int32,  #rasterio.int16, rasterio.int32, rasterio.uint8,rasterio.uint16, rasterio.uint32, rasterio.float32, rasterio.float64\n",
    "            count=1,\n",
    "            compress='lzw',\n",
    "            nodata=0,\n",
    "            bigtiff='NO',\n",
    "            crs = 'EPSG:4326', \n",
    "        )\n",
    "        \n",
    "        windows = src.block_windows()\n",
    "        \n",
    "        with rasterio.open(edit_key, 'w', **kwargs) as dst:\n",
    "            for idx, window in windows:\n",
    "                src_data = src.read(1, window=window)\n",
    "                formatted_data = src_data.astype(\"int32\")\n",
    "                dst.write_band(1, formatted_data, window=window)\n",
    "    \n",
    "    s3.upload_file(edit_key, s3_bucket, s3_key_edits[i],\n",
    "               Callback=ProgressPercentage(edit_key))"
   ]
  },
  {
   "cell_type": "code",
   "execution_count": 18,
   "metadata": {},
   "outputs": [
    {
     "data": {
      "text/plain": [
       "'cit_014_areas_of_urban_development_merge.tif'"
      ]
     },
     "execution_count": 18,
     "metadata": {},
     "output_type": "execute_result"
    }
   ],
   "source": [
    "s3_file_merge"
   ]
  },
  {
   "cell_type": "markdown",
   "metadata": {},
   "source": [
    "Merge files and upload to s3"
   ]
  },
  {
   "cell_type": "code",
   "execution_count": 19,
   "metadata": {},
   "outputs": [
    {
     "name": "stdout",
     "output_type": "stream",
     "text": [
      "{'driver': 'GTiff', 'dtype': 'int32', 'nodata': 0, 'width': 35497, 'height': 15236, 'count': 1, 'crs': 'EPSG:4326', 'transform': (-17619594.54744353, 1000.0, 0.0, 8751029.46186849, 0.0, -1000.0), 'affine': Affine(1000.0, 0.0, -17619594.54744353,\n",
      "       0.0, -1000.0, 8751029.46186849), 'blockxsize': 512, 'blockysize': 512, 'tiled': True, 'compress': 'lzw', 'interleave': 'band', 'bigtiff': 'NO'}\n"
     ]
    },
    {
     "name": "stderr",
     "output_type": "stream",
     "text": [
      "/Users/nathansuberi/.pyenv/versions/3.6.0/lib/python3.6/site-packages/rasterio/__init__.py:160: FutureWarning: GDAL-style transforms are deprecated and will not be supported in Rasterio 1.0.\n",
      "  transform = guard_transform(transform)\n"
     ]
    },
    {
     "name": "stdout",
     "output_type": "stream",
     "text": [
      "./cit_014_areas_of_urban_development_merge.tif  62815620 / 62815620.0  (100.00%)"
     ]
    }
   ],
   "source": [
    "merge_key = './'+s3_file_merge\n",
    "\n",
    "kwargs = profiles[i]\n",
    "print(kwargs)\n",
    "kwargs.update(\n",
    "    driver='GTiff',\n",
    "    dtype=rasterio.int32,  #rasterio.int16, rasterio.int32, rasterio.uint8,rasterio.uint16, rasterio.uint32, rasterio.float32, rasterio.float64\n",
    "    count=len(profiles),\n",
    "    compress='lzw',\n",
    "    nodata=0,\n",
    "    bigtiff='NO',\n",
    "    crs = 'EPSG:4326', \n",
    ")\n",
    "\n",
    "with rasterio.open(merge_key, 'w', **kwargs) as dst:\n",
    "    for idx, file in enumerate(local_edit_keys):\n",
    "        print(idx)\n",
    "        with rasterio.open(file) as src:\n",
    "\n",
    "            band = idx+1\n",
    "            windows = src.block_windows()\n",
    "\n",
    "            for win_id, window in windows:\n",
    "                src_data = src.read(1, window=window)\n",
    "                dst.write_band(band, src_data, window=window)\n",
    "\n",
    "s3.upload_file(merge_key, s3_bucket, s3_key_merge,\n",
    "           Callback=ProgressPercentage(merge_key))"
   ]
  },
  {
   "cell_type": "markdown",
   "metadata": {},
   "source": [
    "Inspect the final product"
   ]
  },
  {
   "cell_type": "code",
   "execution_count": 20,
   "metadata": {},
   "outputs": [],
   "source": [
    "tmp = \"./temp\"\n",
    "s3 = boto3.resource(\"s3\")\n",
    "s3.meta.client.download_file(s3_bucket, s3_key_merge, tmp)"
   ]
  },
  {
   "cell_type": "code",
   "execution_count": 21,
   "metadata": {},
   "outputs": [
    {
     "name": "stdout",
     "output_type": "stream",
     "text": [
      "{'driver': 'GTiff', 'dtype': 'int32', 'nodata': 0.0, 'width': 35497, 'height': 15236, 'count': 6, 'crs': CRS({'init': 'epsg:4326'}), 'transform': (-17619594.54744353, 1000.0, 0.0, 8751029.46186849, 0.0, -1000.0), 'affine': Affine(1000.0, 0.0, -17619594.54744353,\n",
      "       0.0, -1000.0, 8751029.46186849), 'bigtiff': 'no', 'blockxsize': 512, 'blockysize': 512, 'compress': 'lzw', 'interleave': 'band', 'tiled': True}\n"
     ]
    }
   ],
   "source": [
    "with rasterio.open(tmp) as src:\n",
    "    print(src.profile)\n",
    "    data = src.read(4)"
   ]
  },
  {
   "cell_type": "code",
   "execution_count": 38,
   "metadata": {},
   "outputs": [
    {
     "data": {
      "text/plain": [
       "'/Users/nathansuberi/Desktop/WRI_Programming/Py_Scripts/Metadata_Management/Raster_Dataset_Getters'"
      ]
     },
     "execution_count": 38,
     "metadata": {},
     "output_type": "execute_result"
    }
   ],
   "source": [
    "os.getcwd()"
   ]
  },
  {
   "cell_type": "code",
   "execution_count": 22,
   "metadata": {},
   "outputs": [
    {
     "data": {
      "text/plain": [
       "(array([0, 1, 2, 3], dtype=int32),\n",
       " array([513007235,  25533521,   1571449,    720087]))"
      ]
     },
     "execution_count": 22,
     "metadata": {},
     "output_type": "execute_result"
    }
   ],
   "source": [
    "np.unique(data, return_counts=True)"
   ]
  },
  {
   "cell_type": "code",
   "execution_count": null,
   "metadata": {},
   "outputs": [
    {
     "data": {
      "text/plain": [
       "<matplotlib.image.AxesImage at 0x11e9ef9e8>"
      ]
     },
     "execution_count": 40,
     "metadata": {},
     "output_type": "execute_result"
    }
   ],
   "source": [
    "plt.imshow(data)"
   ]
  }
 ],
 "metadata": {
  "kernelspec": {
   "display_name": "Python 3",
   "language": "python",
   "name": "python3"
  },
  "language_info": {
   "codemirror_mode": {
    "name": "ipython",
    "version": 3
   },
   "file_extension": ".py",
   "mimetype": "text/x-python",
   "name": "python",
   "nbconvert_exporter": "python",
   "pygments_lexer": "ipython3",
   "version": "3.6.2"
  }
 },
 "nbformat": 4,
 "nbformat_minor": 2
}
