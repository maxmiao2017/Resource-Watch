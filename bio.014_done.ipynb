{
 "cells": [
  {
   "cell_type": "markdown",
   "metadata": {},
   "source": [
    "Biodiversity Remaining in Areas\tbio.014\thttp://data.nhm.ac.uk/dataset/global-map-of-the-biodiversity-intactness-index-from-newbold-et-al-2016-science"
   ]
  },
  {
   "cell_type": "markdown",
   "metadata": {},
   "source": [
    "Download from website, sends you in an email with a link to a zip"
   ]
  },
  {
   "cell_type": "code",
   "execution_count": 1,
   "metadata": {
    "collapsed": true
   },
   "outputs": [],
   "source": [
    "import boto3\n",
    "\n",
    "import rasterio\n",
    "import numpy as np\n",
    "\n",
    "import os\n",
    "import sys\n",
    "import threading"
   ]
  },
  {
   "cell_type": "code",
   "execution_count": 14,
   "metadata": {
    "collapsed": true
   },
   "outputs": [],
   "source": [
    "# Local storage\n",
    "local_folder = \"/Users/nathansuberi/Desktop/WRI_Programming/RW_Data/\"\n",
    "rw_data_type = local_folder + \"Biodiversity/\"\n",
    "\n",
    "local_asc = rw_data_type + \"lbii.asc\"\n",
    "local_orig = rw_data_type + \"biodiversity_remaining.tif\"\n",
    "local_edit = local_orig[:-4] + \"_edit.tif\"\n",
    "\n",
    "# S3 storage\n",
    "s3_bucket = \"wri-public-data\"\n",
    "s3_folder = \"resourcewatch/bio_014_biodiversity_remaining_in_areas/\"\n",
    "\n",
    "s3_key_orig = s3_folder + \"bio_014_biodiversity_remaining_in_areas.tif\"\n",
    "s3_key_edit = s3_key_orig[0:-4] + \"_edit.tif\"\n",
    "\n",
    "# S3 services\n",
    "s3_download = boto3.resource(\"s3\")\n",
    "s3_upload = boto3.client(\"s3\")\n",
    "\n",
    "# Helper function to view upload progress\n",
    "class ProgressPercentage(object):\n",
    "        def __init__(self, filename):\n",
    "            self._filename = filename\n",
    "            self._size = float(os.path.getsize(filename))\n",
    "            self._seen_so_far = 0\n",
    "            self._lock = threading.Lock()\n",
    "\n",
    "        def __call__(self, bytes_amount):\n",
    "            # To simplify we'll assume this is hooked up\n",
    "            # to a single filename.\n",
    "            with self._lock:\n",
    "                self._seen_so_far += bytes_amount\n",
    "                percentage = (self._seen_so_far / self._size) * 100\n",
    "                sys.stdout.write(\n",
    "                    \"\\r%s  %s / %s  (%.2f%%)\" % (\n",
    "                        self._filename, self._seen_so_far, self._size,\n",
    "                        percentage))\n",
    "                sys.stdout.flush()\n"
   ]
  },
  {
   "cell_type": "code",
   "execution_count": 18,
   "metadata": {
    "collapsed": false
   },
   "outputs": [
    {
     "name": "stderr",
     "output_type": "stream",
     "text": [
      "/Users/nathansuberi/.pyenv/versions/3.6.0/lib/python3.6/site-packages/rasterio/__init__.py:160: FutureWarning: GDAL-style transforms are deprecated and will not be supported in Rasterio 1.0.\n",
      "  transform = guard_transform(transform)\n"
     ]
    }
   ],
   "source": [
    "with rasterio.open(local_asc) as src:\n",
    "    kwargs = src.profile\n",
    "    kwargs.update(\n",
    "        driver='GTiff',\n",
    "        compress='lzw'\n",
    "    )\n",
    "    windows = src.block_windows()\n",
    "    with rasterio.open(local_orig, 'w', **kwargs) as dst:\n",
    "        for win_ix, window in windows:\n",
    "            src_data = src.read(1, window=window)\n",
    "            dst.write_band(1, src_data, window=window)"
   ]
  },
  {
   "cell_type": "code",
   "execution_count": 6,
   "metadata": {
    "collapsed": false
   },
   "outputs": [],
   "source": [
    "s3_download.meta.client.download_file(s3_bucket,s3_key_edit,local_orig)"
   ]
  },
  {
   "cell_type": "markdown",
   "metadata": {},
   "source": [
    "<b>Regardless of any needed edits, upload original file</b>\n",
    "\n",
    "<i>Upload tif to S3 folder</i>\n",
    "\n",
    "http://boto3.readthedocs.io/en/latest/guide/s3-example-creating-buckets.html\n",
    "\n",
    "<i>Monitor Progress of Upload</i>\n",
    "\n",
    "http://boto3.readthedocs.io/en/latest/_modules/boto3/s3/transfer.html\n",
    "https://boto3.readthedocs.io/en/latest/guide/s3.html#using-the-transfer-manager"
   ]
  },
  {
   "cell_type": "code",
   "execution_count": 19,
   "metadata": {
    "collapsed": false
   },
   "outputs": [
    {
     "name": "stdout",
     "output_type": "stream",
     "text": [
      "/Users/nathansuberi/Desktop/WRI_Programming/RW_Data/Biodiversity/biodiversity_remaining.tif  785433541 / 785433541.0  (100.00%)"
     ]
    }
   ],
   "source": [
    "s3_upload.upload_file(local_orig, s3_bucket, s3_key_orig,\n",
    "                         Callback=ProgressPercentage(local_orig))"
   ]
  },
  {
   "cell_type": "markdown",
   "metadata": {},
   "source": [
    "Create edit file"
   ]
  },
  {
   "cell_type": "code",
   "execution_count": 7,
   "metadata": {
    "collapsed": false
   },
   "outputs": [
    {
     "name": "stdout",
     "output_type": "stream",
     "text": [
      "{'driver': 'GTiff', 'dtype': 'float32', 'nodata': -9999.0, 'width': 36390, 'height': 15683, 'count': 1, 'crs': CRS({'init': 'epsg:4326'}), 'transform': (-179.9999999544725, 0.009892734568157884, 0.0, 89.89762321520959, 0.0, -0.009892734568157884), 'affine': Affine(0.009892734568157884, 0.0, -179.9999999544725,\n",
      "       0.0, -0.009892734568157884, 89.89762321520959), 'tiled': False, 'compress': 'lzw', 'interleave': 'band'}\n",
      "{'driver': 'GTiff', 'dtype': 'int32', 'nodata': 0, 'width': 36390, 'height': 15683, 'count': 1, 'crs': 'EPSG:4326', 'transform': (-179.9999999544725, 0.009892734568157884, 0.0, 89.89762321520959, 0.0, -0.009892734568157884), 'affine': Affine(0.009892734568157884, 0.0, -179.9999999544725,\n",
      "       0.0, -0.009892734568157884, 89.89762321520959), 'tiled': False, 'compress': 'lzw', 'interleave': 'band', 'old_nodata': -9999.0, 'bigtiff': 'NO'}\n"
     ]
    }
   ],
   "source": [
    "# Adjust kwargs\n",
    "\n",
    "with rasterio.open(local_orig) as src:\n",
    "    kwargs = src.profile\n",
    "\n",
    "print(kwargs)\n",
    "\n",
    "nodata_val = -1\n",
    "data_type = rasterio.int32\n",
    "t_crs = 'EPSG:4326'\n",
    "\n",
    "kwargs.update(\n",
    "    old_nodata = kwargs[\"nodata\"],\n",
    "    driver='GTiff',\n",
    "    dtype=data_type,  #rasterio.int16, rasterio.int32, rasterio.uint8,rasterio.uint16, rasterio.uint32, rasterio.float32, rasterio.float64\n",
    "    count=1,\n",
    "    compress='lzw',\n",
    "    nodata=nodata_val,\n",
    "    bigtiff='NO',\n",
    "    crs = t_crs,\n",
    "    tiled = False\n",
    ")\n",
    "\n",
    "kwargs.pop(\"blockxsize\", None)\n",
    "kwargs.pop(\"blockysize\", None)\n",
    "\n",
    "print(kwargs)"
   ]
  },
  {
   "cell_type": "code",
   "execution_count": 10,
   "metadata": {
    "collapsed": false
   },
   "outputs": [
    {
     "name": "stderr",
     "output_type": "stream",
     "text": [
      "/Users/nathansuberi/.pyenv/versions/3.6.0/lib/python3.6/site-packages/rasterio/__init__.py:160: FutureWarning: GDAL-style transforms are deprecated and will not be supported in Rasterio 1.0.\n",
      "  transform = guard_transform(transform)\n"
     ]
    }
   ],
   "source": [
    "with rasterio.open(local_orig) as src:\n",
    "    windows = src.block_windows()\n",
    "    with rasterio.open(local_edit, 'w', **kwargs) as dst:\n",
    "        for win_id, window in windows:\n",
    "            src_data = src.read(1, window=window).astype(kwargs[\"dtype\"])\n",
    "            np.putmask(src_data, src_data==kwargs[\"old_nodata\"], kwargs[\"nodata\"])\n",
    "            dst.write_band(1, src_data, window=window)"
   ]
  },
  {
   "cell_type": "code",
   "execution_count": 13,
   "metadata": {
    "collapsed": false
   },
   "outputs": [
    {
     "name": "stdout",
     "output_type": "stream",
     "text": [
      "/Users/nathansuberi/Desktop/WRI_Programming/RW_Data/Biodiversity/biodiversity_remaining_edit.tif  80649227 / 80649227.0  (100.00%)"
     ]
    }
   ],
   "source": [
    "s3_upload.upload_file(local_edit, s3_bucket, s3_key_edit,\n",
    "           Callback=ProgressPercentage(local_edit))"
   ]
  },
  {
   "cell_type": "code",
   "execution_count": null,
   "metadata": {
    "collapsed": true
   },
   "outputs": [],
   "source": []
  }
 ],
 "metadata": {
  "kernelspec": {
   "display_name": "Python 3",
   "language": "python",
   "name": "python3"
  },
  "language_info": {
   "codemirror_mode": {
    "name": "ipython",
    "version": 3
   },
   "file_extension": ".py",
   "mimetype": "text/x-python",
   "name": "python",
   "nbconvert_exporter": "python",
   "pygments_lexer": "ipython3",
   "version": "3.6.0"
  }
 },
 "nbformat": 4,
 "nbformat_minor": 2
}
